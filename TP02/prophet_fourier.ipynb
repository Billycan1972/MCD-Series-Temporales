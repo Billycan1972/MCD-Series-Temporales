{
 "cells": [
  {
   "cell_type": "code",
   "execution_count": 1,
   "metadata": {},
   "outputs": [],
   "source": [
    "# Python\n",
    "import itertools\n",
    "import numpy as np\n",
    "import pandas as pd\n",
    "import pandas as pd\n",
    "import numpy as np\n",
    "from prophet import Prophet\n",
    "from prophet.diagnostics import cross_validation\n",
    "from prophet.diagnostics import performance_metrics\n",
    "import matplotlib.pyplot as plt \n",
    "from prophet.plot import plot_cross_validation_metric\n",
    "from sklearn.metrics import mean_squared_error, mean_absolute_percentage_error, mean_absolute_error\n",
    "import funciones"
   ]
  },
  {
   "cell_type": "code",
   "execution_count": 2,
   "metadata": {},
   "outputs": [],
   "source": [
    "df_main = pd.read_excel(\"https://raw.githubusercontent.com/carrenogf/MCD-Series-Temporales/main/dataset/series_diarias.xlsx\")\n",
    "df_main = df_main.sort_values(\"FECHA\",ascending=True)\n",
    "df_main.set_index(\"FECHA\", inplace=True)\n",
    "df_copa = df_main[\"CHU_COPA_AJUST\"].dropna()\n",
    "df_recprop = df_main[\"CHU_REC_PROPIOS_AJUST\"].dropna()\n",
    "df_regal = df_main[\"CHU_REGALIAS_AJUST\"].dropna()\n",
    "dataframes = [df_copa, df_recprop, df_regal]\n",
    "for i in range(len(dataframes)):\n",
    "  dataframes[i] = dataframes[i].reindex(pd.date_range(start=dataframes[i].index.min(), end=dataframes[i].index.max(), freq='B'))\n",
    "  dataframes[i] = dataframes[i].fillna(0)\n",
    "    \n",
    "titulos = [\"CHU_COPA_AJUST\", \"CHU_REC_PROPIOS_AJUST\", \"CHU_REGALIAS_AJUST\"]"
   ]
  },
  {
   "cell_type": "code",
   "execution_count": 3,
   "metadata": {},
   "outputs": [
    {
     "name": "stdout",
     "output_type": "stream",
     "text": [
      "Coparticipacion: train((1584,)), test((176,))\n",
      "Recursos: train((1995,)), test((222,))\n",
      "Regalias: train((1985,)), test((221,))\n"
     ]
    }
   ],
   "source": [
    "# TRAIN TEST\n",
    "n_train = 0.9\n",
    "train_copa = dataframes[0].iloc[:round(len(dataframes[0])*n_train)]\n",
    "test_copa = dataframes[0].iloc[round(len(dataframes[0])*n_train):]\n",
    "print(f\"Coparticipacion: train({train_copa.shape}), test({test_copa.shape})\")\n",
    "\n",
    "train_recursos = dataframes[1].iloc[:round(len(dataframes[1])*n_train)]\n",
    "test_recursos = dataframes[1].iloc[round(len(dataframes[1])*n_train):]\n",
    "print(f\"Recursos: train({train_recursos.shape}), test({test_recursos.shape})\")\n",
    "\n",
    "train_regalias = dataframes[2].iloc[:round(len(dataframes[2])*n_train)]\n",
    "test_regalias = dataframes[2].iloc[round(len(dataframes[2])*n_train):]\n",
    "print(f\"Regalias: train({train_regalias.shape}), test({test_regalias.shape})\")\n",
    "\n",
    "dataframes_train = [ train_copa, train_recursos, train_regalias ]\n",
    "dataframes_test = [ test_copa, test_recursos, test_regalias ]"
   ]
  },
  {
   "cell_type": "code",
   "execution_count": null,
   "metadata": {},
   "outputs": [
    {
     "name": "stderr",
     "output_type": "stream",
     "text": [
      "15:36:05 - cmdstanpy - INFO - Chain [1] start processing\n",
      "15:36:05 - cmdstanpy - INFO - Chain [1] done processing\n"
     ]
    },
    {
     "data": {
      "application/vnd.jupyter.widget-view+json": {
       "model_id": "4ad99a03e80f47dcb7dc680ab11398c8",
       "version_major": 2,
       "version_minor": 0
      },
      "text/plain": [
       "  0%|          | 0/7 [00:00<?, ?it/s]"
      ]
     },
     "metadata": {},
     "output_type": "display_data"
    },
    {
     "name": "stderr",
     "output_type": "stream",
     "text": [
      "15:36:05 - cmdstanpy - INFO - Chain [1] start processing\n",
      "15:36:05 - cmdstanpy - INFO - Chain [1] done processing\n",
      "15:36:05 - cmdstanpy - INFO - Chain [1] start processing\n",
      "15:36:05 - cmdstanpy - INFO - Chain [1] done processing\n",
      "15:36:06 - cmdstanpy - INFO - Chain [1] start processing\n",
      "15:36:06 - cmdstanpy - INFO - Chain [1] done processing\n",
      "15:36:06 - cmdstanpy - INFO - Chain [1] start processing\n",
      "15:36:06 - cmdstanpy - INFO - Chain [1] done processing\n",
      "15:36:06 - cmdstanpy - INFO - Chain [1] start processing\n",
      "15:36:07 - cmdstanpy - INFO - Chain [1] done processing\n",
      "15:36:07 - cmdstanpy - INFO - Chain [1] start processing\n",
      "15:36:07 - cmdstanpy - INFO - Chain [1] done processing\n",
      "15:36:07 - cmdstanpy - INFO - Chain [1] start processing\n",
      "15:36:07 - cmdstanpy - INFO - Chain [1] done processing\n",
      "15:36:08 - cmdstanpy - INFO - Chain [1] start processing\n"
     ]
    },
    {
     "name": "stdout",
     "output_type": "stream",
     "text": [
      "Fourier Order: 3, mae: 1659037.2596119219\n"
     ]
    },
    {
     "name": "stderr",
     "output_type": "stream",
     "text": [
      "15:36:08 - cmdstanpy - INFO - Chain [1] done processing\n"
     ]
    },
    {
     "data": {
      "application/vnd.jupyter.widget-view+json": {
       "model_id": "372b977c55c841b48e33e32a64a42b49",
       "version_major": 2,
       "version_minor": 0
      },
      "text/plain": [
       "  0%|          | 0/7 [00:00<?, ?it/s]"
      ]
     },
     "metadata": {},
     "output_type": "display_data"
    },
    {
     "name": "stderr",
     "output_type": "stream",
     "text": [
      "15:36:08 - cmdstanpy - INFO - Chain [1] start processing\n",
      "15:36:08 - cmdstanpy - INFO - Chain [1] done processing\n",
      "15:36:08 - cmdstanpy - INFO - Chain [1] start processing\n",
      "15:36:08 - cmdstanpy - INFO - Chain [1] done processing\n",
      "15:36:09 - cmdstanpy - INFO - Chain [1] start processing\n",
      "15:36:09 - cmdstanpy - INFO - Chain [1] done processing\n",
      "15:36:09 - cmdstanpy - INFO - Chain [1] start processing\n",
      "15:36:09 - cmdstanpy - INFO - Chain [1] done processing\n",
      "15:36:10 - cmdstanpy - INFO - Chain [1] start processing\n",
      "15:36:10 - cmdstanpy - INFO - Chain [1] done processing\n",
      "15:36:10 - cmdstanpy - INFO - Chain [1] start processing\n",
      "15:36:10 - cmdstanpy - INFO - Chain [1] done processing\n",
      "15:36:10 - cmdstanpy - INFO - Chain [1] start processing\n",
      "15:36:10 - cmdstanpy - INFO - Chain [1] done processing\n",
      "15:36:11 - cmdstanpy - INFO - Chain [1] start processing\n"
     ]
    },
    {
     "name": "stdout",
     "output_type": "stream",
     "text": [
      "Fourier Order: 5, mae: 1659235.0676129262\n"
     ]
    },
    {
     "name": "stderr",
     "output_type": "stream",
     "text": [
      "15:36:11 - cmdstanpy - INFO - Chain [1] done processing\n"
     ]
    },
    {
     "data": {
      "application/vnd.jupyter.widget-view+json": {
       "model_id": "59313585be9940899814076987c7f7eb",
       "version_major": 2,
       "version_minor": 0
      },
      "text/plain": [
       "  0%|          | 0/7 [00:00<?, ?it/s]"
      ]
     },
     "metadata": {},
     "output_type": "display_data"
    },
    {
     "name": "stderr",
     "output_type": "stream",
     "text": [
      "15:36:11 - cmdstanpy - INFO - Chain [1] start processing\n",
      "15:36:11 - cmdstanpy - INFO - Chain [1] done processing\n",
      "15:36:11 - cmdstanpy - INFO - Chain [1] start processing\n",
      "15:36:12 - cmdstanpy - INFO - Chain [1] done processing\n",
      "15:36:12 - cmdstanpy - INFO - Chain [1] start processing\n",
      "15:36:12 - cmdstanpy - INFO - Chain [1] done processing\n",
      "15:36:12 - cmdstanpy - INFO - Chain [1] start processing\n",
      "15:36:12 - cmdstanpy - INFO - Chain [1] done processing\n",
      "15:36:12 - cmdstanpy - INFO - Chain [1] start processing\n",
      "15:36:13 - cmdstanpy - INFO - Chain [1] done processing\n",
      "15:36:13 - cmdstanpy - INFO - Chain [1] start processing\n",
      "15:36:13 - cmdstanpy - INFO - Chain [1] done processing\n",
      "15:36:13 - cmdstanpy - INFO - Chain [1] start processing\n",
      "15:36:13 - cmdstanpy - INFO - Chain [1] done processing\n"
     ]
    },
    {
     "name": "stdout",
     "output_type": "stream",
     "text": [
      "Fourier Order: 7, mae: 1662586.8170680471\n"
     ]
    },
    {
     "name": "stderr",
     "output_type": "stream",
     "text": [
      "15:36:14 - cmdstanpy - INFO - Chain [1] start processing\n",
      "15:36:14 - cmdstanpy - INFO - Chain [1] done processing\n"
     ]
    },
    {
     "data": {
      "application/vnd.jupyter.widget-view+json": {
       "model_id": "fd8388567d4443fdb115e6486c2f25cf",
       "version_major": 2,
       "version_minor": 0
      },
      "text/plain": [
       "  0%|          | 0/7 [00:00<?, ?it/s]"
      ]
     },
     "metadata": {},
     "output_type": "display_data"
    },
    {
     "name": "stderr",
     "output_type": "stream",
     "text": [
      "15:36:14 - cmdstanpy - INFO - Chain [1] start processing\n",
      "15:36:15 - cmdstanpy - INFO - Chain [1] done processing\n",
      "15:36:15 - cmdstanpy - INFO - Chain [1] start processing\n",
      "15:36:15 - cmdstanpy - INFO - Chain [1] done processing\n",
      "15:36:15 - cmdstanpy - INFO - Chain [1] start processing\n",
      "15:36:15 - cmdstanpy - INFO - Chain [1] done processing\n",
      "15:36:15 - cmdstanpy - INFO - Chain [1] start processing\n",
      "15:36:16 - cmdstanpy - INFO - Chain [1] done processing\n",
      "15:36:16 - cmdstanpy - INFO - Chain [1] start processing\n",
      "15:36:16 - cmdstanpy - INFO - Chain [1] done processing\n",
      "15:36:16 - cmdstanpy - INFO - Chain [1] start processing\n",
      "15:36:16 - cmdstanpy - INFO - Chain [1] done processing\n",
      "15:36:17 - cmdstanpy - INFO - Chain [1] start processing\n",
      "15:36:17 - cmdstanpy - INFO - Chain [1] done processing\n",
      "15:36:17 - cmdstanpy - INFO - Chain [1] start processing\n"
     ]
    },
    {
     "name": "stdout",
     "output_type": "stream",
     "text": [
      "Fourier Order: 10, mae: 1662410.637258092\n"
     ]
    },
    {
     "name": "stderr",
     "output_type": "stream",
     "text": [
      "15:36:17 - cmdstanpy - INFO - Chain [1] done processing\n"
     ]
    },
    {
     "data": {
      "application/vnd.jupyter.widget-view+json": {
       "model_id": "942e244e351b4faaad53b264d11c0d2d",
       "version_major": 2,
       "version_minor": 0
      },
      "text/plain": [
       "  0%|          | 0/10 [00:00<?, ?it/s]"
      ]
     },
     "metadata": {},
     "output_type": "display_data"
    },
    {
     "name": "stderr",
     "output_type": "stream",
     "text": [
      "15:36:18 - cmdstanpy - INFO - Chain [1] start processing\n",
      "15:36:18 - cmdstanpy - INFO - Chain [1] done processing\n",
      "15:36:18 - cmdstanpy - INFO - Chain [1] start processing\n",
      "15:36:18 - cmdstanpy - INFO - Chain [1] done processing\n",
      "15:36:18 - cmdstanpy - INFO - Chain [1] start processing\n",
      "15:36:18 - cmdstanpy - INFO - Chain [1] done processing\n",
      "15:36:19 - cmdstanpy - INFO - Chain [1] start processing\n",
      "15:36:19 - cmdstanpy - INFO - Chain [1] done processing\n",
      "15:36:19 - cmdstanpy - INFO - Chain [1] start processing\n",
      "15:36:19 - cmdstanpy - INFO - Chain [1] done processing\n",
      "15:36:19 - cmdstanpy - INFO - Chain [1] start processing\n",
      "15:36:19 - cmdstanpy - INFO - Chain [1] done processing\n",
      "15:36:20 - cmdstanpy - INFO - Chain [1] start processing\n",
      "15:36:20 - cmdstanpy - INFO - Chain [1] done processing\n",
      "15:36:20 - cmdstanpy - INFO - Chain [1] start processing\n",
      "15:36:20 - cmdstanpy - INFO - Chain [1] done processing\n",
      "15:36:20 - cmdstanpy - INFO - Chain [1] start processing\n",
      "15:36:20 - cmdstanpy - INFO - Chain [1] done processing\n",
      "15:36:21 - cmdstanpy - INFO - Chain [1] start processing\n",
      "15:36:21 - cmdstanpy - INFO - Chain [1] done processing\n"
     ]
    },
    {
     "name": "stdout",
     "output_type": "stream",
     "text": [
      "Fourier Order: 3, mae: 1007027.714381048\n"
     ]
    },
    {
     "name": "stderr",
     "output_type": "stream",
     "text": [
      "15:36:22 - cmdstanpy - INFO - Chain [1] start processing\n",
      "15:36:22 - cmdstanpy - INFO - Chain [1] done processing\n"
     ]
    },
    {
     "data": {
      "application/vnd.jupyter.widget-view+json": {
       "model_id": "1c5f99f8d21e453b83cbefcfb8819a84",
       "version_major": 2,
       "version_minor": 0
      },
      "text/plain": [
       "  0%|          | 0/10 [00:00<?, ?it/s]"
      ]
     },
     "metadata": {},
     "output_type": "display_data"
    },
    {
     "name": "stderr",
     "output_type": "stream",
     "text": [
      "15:36:22 - cmdstanpy - INFO - Chain [1] start processing\n",
      "15:36:22 - cmdstanpy - INFO - Chain [1] done processing\n",
      "15:36:22 - cmdstanpy - INFO - Chain [1] start processing\n",
      "15:36:23 - cmdstanpy - INFO - Chain [1] done processing\n",
      "15:36:23 - cmdstanpy - INFO - Chain [1] start processing\n",
      "15:36:23 - cmdstanpy - INFO - Chain [1] done processing\n",
      "15:36:23 - cmdstanpy - INFO - Chain [1] start processing\n",
      "15:36:23 - cmdstanpy - INFO - Chain [1] done processing\n",
      "15:36:24 - cmdstanpy - INFO - Chain [1] start processing\n",
      "15:36:24 - cmdstanpy - INFO - Chain [1] done processing\n",
      "15:36:24 - cmdstanpy - INFO - Chain [1] start processing\n",
      "15:36:24 - cmdstanpy - INFO - Chain [1] done processing\n",
      "15:36:24 - cmdstanpy - INFO - Chain [1] start processing\n",
      "15:36:25 - cmdstanpy - INFO - Chain [1] done processing\n",
      "15:36:25 - cmdstanpy - INFO - Chain [1] start processing\n",
      "15:36:25 - cmdstanpy - INFO - Chain [1] done processing\n",
      "15:36:25 - cmdstanpy - INFO - Chain [1] start processing\n",
      "15:36:25 - cmdstanpy - INFO - Chain [1] done processing\n",
      "15:36:26 - cmdstanpy - INFO - Chain [1] start processing\n",
      "15:36:26 - cmdstanpy - INFO - Chain [1] done processing\n"
     ]
    },
    {
     "name": "stdout",
     "output_type": "stream",
     "text": [
      "Fourier Order: 5, mae: 1006999.6034218913\n"
     ]
    },
    {
     "name": "stderr",
     "output_type": "stream",
     "text": [
      "15:36:26 - cmdstanpy - INFO - Chain [1] start processing\n",
      "15:36:27 - cmdstanpy - INFO - Chain [1] done processing\n"
     ]
    },
    {
     "data": {
      "application/vnd.jupyter.widget-view+json": {
       "model_id": "eacc5b057bc24999ab68b3bcf08d3111",
       "version_major": 2,
       "version_minor": 0
      },
      "text/plain": [
       "  0%|          | 0/10 [00:00<?, ?it/s]"
      ]
     },
     "metadata": {},
     "output_type": "display_data"
    },
    {
     "name": "stderr",
     "output_type": "stream",
     "text": [
      "15:36:27 - cmdstanpy - INFO - Chain [1] start processing\n",
      "15:36:27 - cmdstanpy - INFO - Chain [1] done processing\n",
      "15:36:27 - cmdstanpy - INFO - Chain [1] start processing\n",
      "15:36:27 - cmdstanpy - INFO - Chain [1] done processing\n",
      "15:36:27 - cmdstanpy - INFO - Chain [1] start processing\n",
      "15:36:28 - cmdstanpy - INFO - Chain [1] done processing\n",
      "15:36:28 - cmdstanpy - INFO - Chain [1] start processing\n",
      "15:36:28 - cmdstanpy - INFO - Chain [1] done processing\n",
      "15:36:28 - cmdstanpy - INFO - Chain [1] start processing\n",
      "15:36:28 - cmdstanpy - INFO - Chain [1] done processing\n",
      "15:36:28 - cmdstanpy - INFO - Chain [1] start processing\n",
      "15:36:29 - cmdstanpy - INFO - Chain [1] done processing\n",
      "15:36:29 - cmdstanpy - INFO - Chain [1] start processing\n",
      "15:36:29 - cmdstanpy - INFO - Chain [1] done processing\n",
      "15:36:29 - cmdstanpy - INFO - Chain [1] start processing\n",
      "15:36:29 - cmdstanpy - INFO - Chain [1] done processing\n",
      "15:36:30 - cmdstanpy - INFO - Chain [1] start processing\n",
      "15:36:30 - cmdstanpy - INFO - Chain [1] done processing\n",
      "15:36:30 - cmdstanpy - INFO - Chain [1] start processing\n",
      "15:36:30 - cmdstanpy - INFO - Chain [1] done processing\n"
     ]
    },
    {
     "name": "stdout",
     "output_type": "stream",
     "text": [
      "Fourier Order: 7, mae: 1005906.4720917289\n"
     ]
    },
    {
     "name": "stderr",
     "output_type": "stream",
     "text": [
      "15:36:31 - cmdstanpy - INFO - Chain [1] start processing\n",
      "15:36:31 - cmdstanpy - INFO - Chain [1] done processing\n"
     ]
    },
    {
     "data": {
      "application/vnd.jupyter.widget-view+json": {
       "model_id": "af92bb2eb1884874a36be5d816a4aeb8",
       "version_major": 2,
       "version_minor": 0
      },
      "text/plain": [
       "  0%|          | 0/10 [00:00<?, ?it/s]"
      ]
     },
     "metadata": {},
     "output_type": "display_data"
    },
    {
     "name": "stderr",
     "output_type": "stream",
     "text": [
      "15:36:31 - cmdstanpy - INFO - Chain [1] start processing\n",
      "15:36:31 - cmdstanpy - INFO - Chain [1] done processing\n",
      "15:36:32 - cmdstanpy - INFO - Chain [1] start processing\n",
      "15:36:32 - cmdstanpy - INFO - Chain [1] done processing\n",
      "15:36:32 - cmdstanpy - INFO - Chain [1] start processing\n",
      "15:36:32 - cmdstanpy - INFO - Chain [1] done processing\n",
      "15:36:32 - cmdstanpy - INFO - Chain [1] start processing\n",
      "15:36:32 - cmdstanpy - INFO - Chain [1] done processing\n",
      "15:36:33 - cmdstanpy - INFO - Chain [1] start processing\n",
      "15:36:33 - cmdstanpy - INFO - Chain [1] done processing\n",
      "15:36:33 - cmdstanpy - INFO - Chain [1] start processing\n",
      "15:36:33 - cmdstanpy - INFO - Chain [1] done processing\n",
      "15:36:33 - cmdstanpy - INFO - Chain [1] start processing\n",
      "15:36:34 - cmdstanpy - INFO - Chain [1] done processing\n",
      "15:36:34 - cmdstanpy - INFO - Chain [1] start processing\n",
      "15:36:34 - cmdstanpy - INFO - Chain [1] done processing\n",
      "15:36:34 - cmdstanpy - INFO - Chain [1] start processing\n",
      "15:36:34 - cmdstanpy - INFO - Chain [1] done processing\n",
      "15:36:35 - cmdstanpy - INFO - Chain [1] start processing\n",
      "15:36:35 - cmdstanpy - INFO - Chain [1] done processing\n",
      "15:36:35 - cmdstanpy - INFO - Chain [1] start processing\n"
     ]
    },
    {
     "name": "stdout",
     "output_type": "stream",
     "text": [
      "Fourier Order: 10, mae: 1004277.3603815039\n"
     ]
    },
    {
     "name": "stderr",
     "output_type": "stream",
     "text": [
      "15:36:35 - cmdstanpy - INFO - Chain [1] done processing\n"
     ]
    },
    {
     "data": {
      "application/vnd.jupyter.widget-view+json": {
       "model_id": "0000f76c58114d75a0f872815dc85cef",
       "version_major": 2,
       "version_minor": 0
      },
      "text/plain": [
       "  0%|          | 0/10 [00:00<?, ?it/s]"
      ]
     },
     "metadata": {},
     "output_type": "display_data"
    },
    {
     "name": "stderr",
     "output_type": "stream",
     "text": [
      "15:36:36 - cmdstanpy - INFO - Chain [1] start processing\n",
      "15:36:36 - cmdstanpy - INFO - Chain [1] done processing\n",
      "15:36:36 - cmdstanpy - INFO - Chain [1] start processing\n",
      "15:36:36 - cmdstanpy - INFO - Chain [1] done processing\n",
      "15:36:36 - cmdstanpy - INFO - Chain [1] start processing\n",
      "15:36:36 - cmdstanpy - INFO - Chain [1] done processing\n",
      "15:36:37 - cmdstanpy - INFO - Chain [1] start processing\n",
      "15:36:37 - cmdstanpy - INFO - Chain [1] done processing\n",
      "15:36:37 - cmdstanpy - INFO - Chain [1] start processing\n",
      "15:36:37 - cmdstanpy - INFO - Chain [1] done processing\n",
      "15:36:37 - cmdstanpy - INFO - Chain [1] start processing\n",
      "15:36:37 - cmdstanpy - INFO - Chain [1] done processing\n",
      "15:36:38 - cmdstanpy - INFO - Chain [1] start processing\n",
      "15:36:38 - cmdstanpy - INFO - Chain [1] done processing\n",
      "15:36:38 - cmdstanpy - INFO - Chain [1] start processing\n",
      "15:36:38 - cmdstanpy - INFO - Chain [1] done processing\n",
      "15:36:38 - cmdstanpy - INFO - Chain [1] start processing\n",
      "15:36:39 - cmdstanpy - INFO - Chain [1] done processing\n",
      "15:36:39 - cmdstanpy - INFO - Chain [1] start processing\n",
      "15:36:39 - cmdstanpy - INFO - Chain [1] done processing\n",
      "15:36:40 - cmdstanpy - INFO - Chain [1] start processing\n"
     ]
    },
    {
     "name": "stdout",
     "output_type": "stream",
     "text": [
      "Fourier Order: 3, mae: 2975730.2211287776\n"
     ]
    },
    {
     "name": "stderr",
     "output_type": "stream",
     "text": [
      "15:36:40 - cmdstanpy - INFO - Chain [1] done processing\n"
     ]
    },
    {
     "data": {
      "application/vnd.jupyter.widget-view+json": {
       "model_id": "82ff6c0cf5fb4a958e52fc5901ed48f9",
       "version_major": 2,
       "version_minor": 0
      },
      "text/plain": [
       "  0%|          | 0/10 [00:00<?, ?it/s]"
      ]
     },
     "metadata": {},
     "output_type": "display_data"
    },
    {
     "name": "stderr",
     "output_type": "stream",
     "text": [
      "15:36:40 - cmdstanpy - INFO - Chain [1] start processing\n",
      "15:36:40 - cmdstanpy - INFO - Chain [1] done processing\n",
      "15:36:40 - cmdstanpy - INFO - Chain [1] start processing\n",
      "15:36:40 - cmdstanpy - INFO - Chain [1] done processing\n",
      "15:36:41 - cmdstanpy - INFO - Chain [1] start processing\n",
      "15:36:41 - cmdstanpy - INFO - Chain [1] done processing\n",
      "15:36:41 - cmdstanpy - INFO - Chain [1] start processing\n",
      "15:36:41 - cmdstanpy - INFO - Chain [1] done processing\n",
      "15:36:41 - cmdstanpy - INFO - Chain [1] start processing\n",
      "15:36:41 - cmdstanpy - INFO - Chain [1] done processing\n",
      "15:36:42 - cmdstanpy - INFO - Chain [1] start processing\n",
      "15:36:42 - cmdstanpy - INFO - Chain [1] done processing\n",
      "15:36:42 - cmdstanpy - INFO - Chain [1] start processing\n",
      "15:36:42 - cmdstanpy - INFO - Chain [1] done processing\n",
      "15:36:42 - cmdstanpy - INFO - Chain [1] start processing\n",
      "15:36:42 - cmdstanpy - INFO - Chain [1] done processing\n",
      "15:36:43 - cmdstanpy - INFO - Chain [1] start processing\n",
      "15:36:43 - cmdstanpy - INFO - Chain [1] done processing\n",
      "15:36:43 - cmdstanpy - INFO - Chain [1] start processing\n",
      "15:36:43 - cmdstanpy - INFO - Chain [1] done processing\n"
     ]
    },
    {
     "name": "stdout",
     "output_type": "stream",
     "text": [
      "Fourier Order: 5, mae: 2981596.928909888\n"
     ]
    },
    {
     "name": "stderr",
     "output_type": "stream",
     "text": [
      "15:36:44 - cmdstanpy - INFO - Chain [1] start processing\n",
      "15:36:44 - cmdstanpy - INFO - Chain [1] done processing\n"
     ]
    },
    {
     "data": {
      "application/vnd.jupyter.widget-view+json": {
       "model_id": "48088b9f98194581ab7774b9fac3f15c",
       "version_major": 2,
       "version_minor": 0
      },
      "text/plain": [
       "  0%|          | 0/10 [00:00<?, ?it/s]"
      ]
     },
     "metadata": {},
     "output_type": "display_data"
    },
    {
     "name": "stderr",
     "output_type": "stream",
     "text": [
      "15:36:44 - cmdstanpy - INFO - Chain [1] start processing\n",
      "15:36:44 - cmdstanpy - INFO - Chain [1] done processing\n",
      "15:36:44 - cmdstanpy - INFO - Chain [1] start processing\n",
      "15:36:44 - cmdstanpy - INFO - Chain [1] done processing\n",
      "15:36:45 - cmdstanpy - INFO - Chain [1] start processing\n",
      "15:36:45 - cmdstanpy - INFO - Chain [1] done processing\n",
      "15:36:45 - cmdstanpy - INFO - Chain [1] start processing\n",
      "15:36:45 - cmdstanpy - INFO - Chain [1] done processing\n",
      "15:36:45 - cmdstanpy - INFO - Chain [1] start processing\n",
      "15:36:45 - cmdstanpy - INFO - Chain [1] done processing\n",
      "15:36:46 - cmdstanpy - INFO - Chain [1] start processing\n",
      "15:36:46 - cmdstanpy - INFO - Chain [1] done processing\n",
      "15:36:46 - cmdstanpy - INFO - Chain [1] start processing\n",
      "15:36:46 - cmdstanpy - INFO - Chain [1] done processing\n",
      "15:36:47 - cmdstanpy - INFO - Chain [1] start processing\n",
      "15:36:47 - cmdstanpy - INFO - Chain [1] done processing\n",
      "15:36:47 - cmdstanpy - INFO - Chain [1] start processing\n",
      "15:36:47 - cmdstanpy - INFO - Chain [1] done processing\n",
      "15:36:47 - cmdstanpy - INFO - Chain [1] start processing\n",
      "15:36:48 - cmdstanpy - INFO - Chain [1] done processing\n"
     ]
    },
    {
     "name": "stdout",
     "output_type": "stream",
     "text": [
      "Fourier Order: 7, mae: 2961931.76816949\n"
     ]
    },
    {
     "name": "stderr",
     "output_type": "stream",
     "text": [
      "15:36:48 - cmdstanpy - INFO - Chain [1] start processing\n",
      "15:36:48 - cmdstanpy - INFO - Chain [1] done processing\n"
     ]
    },
    {
     "data": {
      "application/vnd.jupyter.widget-view+json": {
       "model_id": "627204f72bba40668fb04c01db15aab5",
       "version_major": 2,
       "version_minor": 0
      },
      "text/plain": [
       "  0%|          | 0/10 [00:00<?, ?it/s]"
      ]
     },
     "metadata": {},
     "output_type": "display_data"
    },
    {
     "name": "stderr",
     "output_type": "stream",
     "text": [
      "15:36:48 - cmdstanpy - INFO - Chain [1] start processing\n",
      "15:36:48 - cmdstanpy - INFO - Chain [1] done processing\n",
      "15:36:49 - cmdstanpy - INFO - Chain [1] start processing\n",
      "15:36:49 - cmdstanpy - INFO - Chain [1] done processing\n",
      "15:36:49 - cmdstanpy - INFO - Chain [1] start processing\n",
      "15:36:49 - cmdstanpy - INFO - Chain [1] done processing\n",
      "15:36:49 - cmdstanpy - INFO - Chain [1] start processing\n",
      "15:36:50 - cmdstanpy - INFO - Chain [1] done processing\n",
      "15:36:50 - cmdstanpy - INFO - Chain [1] start processing\n",
      "15:36:50 - cmdstanpy - INFO - Chain [1] done processing\n",
      "15:36:50 - cmdstanpy - INFO - Chain [1] start processing\n",
      "15:36:50 - cmdstanpy - INFO - Chain [1] done processing\n",
      "15:36:51 - cmdstanpy - INFO - Chain [1] start processing\n",
      "15:36:51 - cmdstanpy - INFO - Chain [1] done processing\n",
      "15:36:51 - cmdstanpy - INFO - Chain [1] start processing\n",
      "15:36:51 - cmdstanpy - INFO - Chain [1] done processing\n",
      "15:36:51 - cmdstanpy - INFO - Chain [1] start processing\n",
      "15:36:51 - cmdstanpy - INFO - Chain [1] done processing\n",
      "15:36:52 - cmdstanpy - INFO - Chain [1] start processing\n",
      "15:36:52 - cmdstanpy - INFO - Chain [1] done processing\n"
     ]
    },
    {
     "name": "stdout",
     "output_type": "stream",
     "text": [
      "Fourier Order: 10, mae: 2970283.199243046\n"
     ]
    }
   ],
   "source": [
    "from prophet.diagnostics import cross_validation, performance_metrics\n",
    "\n",
    "fourier_y_list = []\n",
    "for df in dataframes_train:\n",
    "    name = df.name\n",
    "    df = df.to_frame()\n",
    "    df = df.reset_index()\n",
    "    df.columns = ['ds', 'y']\n",
    "    for fourier in [3, 5, 7, 10]:\n",
    "        model = Prophet(yearly_seasonality=False)\n",
    "        model.add_seasonality(name='yearly', period=365.25, fourier_order=fourier)\n",
    "        model.fit(df)\n",
    "        \n",
    "        df_cv = cross_validation(model, initial='730 days', period='180 days', horizon='365 days')\n",
    "        df_p = performance_metrics(df_cv)\n",
    "        print(f'Fourier Order: {fourier}, mae: {df_p[\"mae\"].mean()}')\n",
    "        fourier_y_list.append({\n",
    "            'name': name,\n",
    "            'fourier_order': fourier,\n",
    "            'mae': df_p[\"mae\"].mean(),\n",
    "            'mse': df_p[\"mse\"].mean(),\n",
    "            'rmse': df_p[\"rmse\"].mean(),\n",
    "            \n",
    "        })"
   ]
  },
  {
   "cell_type": "code",
   "execution_count": 23,
   "metadata": {},
   "outputs": [
    {
     "name": "stderr",
     "output_type": "stream",
     "text": [
      "15:36:52 - cmdstanpy - INFO - Chain [1] start processing\n",
      "15:36:53 - cmdstanpy - INFO - Chain [1] done processing\n"
     ]
    },
    {
     "data": {
      "application/vnd.jupyter.widget-view+json": {
       "model_id": "a05be0544b7b419aa5254254a92a0403",
       "version_major": 2,
       "version_minor": 0
      },
      "text/plain": [
       "  0%|          | 0/7 [00:00<?, ?it/s]"
      ]
     },
     "metadata": {},
     "output_type": "display_data"
    },
    {
     "name": "stderr",
     "output_type": "stream",
     "text": [
      "15:36:53 - cmdstanpy - INFO - Chain [1] start processing\n",
      "15:36:53 - cmdstanpy - INFO - Chain [1] done processing\n",
      "15:36:53 - cmdstanpy - INFO - Chain [1] start processing\n",
      "15:36:53 - cmdstanpy - INFO - Chain [1] done processing\n",
      "15:36:53 - cmdstanpy - INFO - Chain [1] start processing\n",
      "15:36:53 - cmdstanpy - INFO - Chain [1] done processing\n",
      "15:36:54 - cmdstanpy - INFO - Chain [1] start processing\n",
      "15:36:54 - cmdstanpy - INFO - Chain [1] done processing\n",
      "15:36:54 - cmdstanpy - INFO - Chain [1] start processing\n",
      "15:36:54 - cmdstanpy - INFO - Chain [1] done processing\n",
      "15:36:54 - cmdstanpy - INFO - Chain [1] start processing\n",
      "15:36:54 - cmdstanpy - INFO - Chain [1] done processing\n",
      "15:36:55 - cmdstanpy - INFO - Chain [1] start processing\n",
      "15:36:55 - cmdstanpy - INFO - Chain [1] done processing\n",
      "15:36:55 - cmdstanpy - INFO - Chain [1] start processing\n"
     ]
    },
    {
     "name": "stdout",
     "output_type": "stream",
     "text": [
      "Fourier Order: 3, mae: 1295550.578447357\n"
     ]
    },
    {
     "name": "stderr",
     "output_type": "stream",
     "text": [
      "15:36:55 - cmdstanpy - INFO - Chain [1] done processing\n"
     ]
    },
    {
     "data": {
      "application/vnd.jupyter.widget-view+json": {
       "model_id": "d67b34b4c49349b5986783c303d5732f",
       "version_major": 2,
       "version_minor": 0
      },
      "text/plain": [
       "  0%|          | 0/7 [00:00<?, ?it/s]"
      ]
     },
     "metadata": {},
     "output_type": "display_data"
    },
    {
     "name": "stderr",
     "output_type": "stream",
     "text": [
      "15:36:56 - cmdstanpy - INFO - Chain [1] start processing\n",
      "15:36:56 - cmdstanpy - INFO - Chain [1] done processing\n",
      "15:36:56 - cmdstanpy - INFO - Chain [1] start processing\n",
      "15:36:56 - cmdstanpy - INFO - Chain [1] done processing\n",
      "15:36:56 - cmdstanpy - INFO - Chain [1] start processing\n",
      "15:36:56 - cmdstanpy - INFO - Chain [1] done processing\n",
      "15:36:57 - cmdstanpy - INFO - Chain [1] start processing\n",
      "15:36:57 - cmdstanpy - INFO - Chain [1] done processing\n",
      "15:36:57 - cmdstanpy - INFO - Chain [1] start processing\n",
      "15:36:57 - cmdstanpy - INFO - Chain [1] done processing\n",
      "15:36:57 - cmdstanpy - INFO - Chain [1] start processing\n",
      "15:36:57 - cmdstanpy - INFO - Chain [1] done processing\n",
      "15:36:58 - cmdstanpy - INFO - Chain [1] start processing\n",
      "15:36:58 - cmdstanpy - INFO - Chain [1] done processing\n",
      "15:36:58 - cmdstanpy - INFO - Chain [1] start processing\n"
     ]
    },
    {
     "name": "stdout",
     "output_type": "stream",
     "text": [
      "Fourier Order: 5, mae: 1292136.7047768745\n"
     ]
    },
    {
     "name": "stderr",
     "output_type": "stream",
     "text": [
      "15:36:58 - cmdstanpy - INFO - Chain [1] done processing\n"
     ]
    },
    {
     "data": {
      "application/vnd.jupyter.widget-view+json": {
       "model_id": "7fe8b43617424f9789df5d1ae6272123",
       "version_major": 2,
       "version_minor": 0
      },
      "text/plain": [
       "  0%|          | 0/7 [00:00<?, ?it/s]"
      ]
     },
     "metadata": {},
     "output_type": "display_data"
    },
    {
     "name": "stderr",
     "output_type": "stream",
     "text": [
      "15:36:59 - cmdstanpy - INFO - Chain [1] start processing\n",
      "15:36:59 - cmdstanpy - INFO - Chain [1] done processing\n",
      "15:36:59 - cmdstanpy - INFO - Chain [1] start processing\n",
      "15:36:59 - cmdstanpy - INFO - Chain [1] done processing\n",
      "15:36:59 - cmdstanpy - INFO - Chain [1] start processing\n",
      "15:36:59 - cmdstanpy - INFO - Chain [1] done processing\n",
      "15:37:00 - cmdstanpy - INFO - Chain [1] start processing\n",
      "15:37:00 - cmdstanpy - INFO - Chain [1] done processing\n",
      "15:37:00 - cmdstanpy - INFO - Chain [1] start processing\n",
      "15:37:00 - cmdstanpy - INFO - Chain [1] done processing\n",
      "15:37:00 - cmdstanpy - INFO - Chain [1] start processing\n",
      "15:37:00 - cmdstanpy - INFO - Chain [1] done processing\n",
      "15:37:01 - cmdstanpy - INFO - Chain [1] start processing\n",
      "15:37:01 - cmdstanpy - INFO - Chain [1] done processing\n"
     ]
    },
    {
     "name": "stdout",
     "output_type": "stream",
     "text": [
      "Fourier Order: 7, mae: 1289267.7843405197\n"
     ]
    },
    {
     "name": "stderr",
     "output_type": "stream",
     "text": [
      "15:37:02 - cmdstanpy - INFO - Chain [1] start processing\n",
      "15:37:02 - cmdstanpy - INFO - Chain [1] done processing\n"
     ]
    },
    {
     "data": {
      "application/vnd.jupyter.widget-view+json": {
       "model_id": "63bb263a6dc2420e93f6d1ae0fa11b3c",
       "version_major": 2,
       "version_minor": 0
      },
      "text/plain": [
       "  0%|          | 0/7 [00:00<?, ?it/s]"
      ]
     },
     "metadata": {},
     "output_type": "display_data"
    },
    {
     "name": "stderr",
     "output_type": "stream",
     "text": [
      "15:37:02 - cmdstanpy - INFO - Chain [1] start processing\n",
      "15:37:02 - cmdstanpy - INFO - Chain [1] done processing\n",
      "15:37:02 - cmdstanpy - INFO - Chain [1] start processing\n",
      "15:37:02 - cmdstanpy - INFO - Chain [1] done processing\n",
      "15:37:03 - cmdstanpy - INFO - Chain [1] start processing\n",
      "15:37:03 - cmdstanpy - INFO - Chain [1] done processing\n",
      "15:37:03 - cmdstanpy - INFO - Chain [1] start processing\n",
      "15:37:03 - cmdstanpy - INFO - Chain [1] done processing\n",
      "15:37:03 - cmdstanpy - INFO - Chain [1] start processing\n",
      "15:37:03 - cmdstanpy - INFO - Chain [1] done processing\n",
      "15:37:04 - cmdstanpy - INFO - Chain [1] start processing\n",
      "15:37:04 - cmdstanpy - INFO - Chain [1] done processing\n",
      "15:37:04 - cmdstanpy - INFO - Chain [1] start processing\n",
      "15:37:04 - cmdstanpy - INFO - Chain [1] done processing\n",
      "15:37:05 - cmdstanpy - INFO - Chain [1] start processing\n"
     ]
    },
    {
     "name": "stdout",
     "output_type": "stream",
     "text": [
      "Fourier Order: 10, mae: 1292343.4480251614\n"
     ]
    },
    {
     "name": "stderr",
     "output_type": "stream",
     "text": [
      "15:37:05 - cmdstanpy - INFO - Chain [1] done processing\n"
     ]
    },
    {
     "data": {
      "application/vnd.jupyter.widget-view+json": {
       "model_id": "b92d3c9b6f0240e68318e65e688da7ea",
       "version_major": 2,
       "version_minor": 0
      },
      "text/plain": [
       "  0%|          | 0/10 [00:00<?, ?it/s]"
      ]
     },
     "metadata": {},
     "output_type": "display_data"
    },
    {
     "name": "stderr",
     "output_type": "stream",
     "text": [
      "15:37:05 - cmdstanpy - INFO - Chain [1] start processing\n",
      "15:37:05 - cmdstanpy - INFO - Chain [1] done processing\n",
      "15:37:05 - cmdstanpy - INFO - Chain [1] start processing\n",
      "15:37:06 - cmdstanpy - INFO - Chain [1] done processing\n",
      "15:37:06 - cmdstanpy - INFO - Chain [1] start processing\n",
      "15:37:06 - cmdstanpy - INFO - Chain [1] done processing\n",
      "15:37:06 - cmdstanpy - INFO - Chain [1] start processing\n",
      "15:37:06 - cmdstanpy - INFO - Chain [1] done processing\n",
      "15:37:07 - cmdstanpy - INFO - Chain [1] start processing\n",
      "15:37:07 - cmdstanpy - INFO - Chain [1] done processing\n",
      "15:37:07 - cmdstanpy - INFO - Chain [1] start processing\n",
      "15:37:07 - cmdstanpy - INFO - Chain [1] done processing\n",
      "15:37:07 - cmdstanpy - INFO - Chain [1] start processing\n",
      "15:37:07 - cmdstanpy - INFO - Chain [1] done processing\n",
      "15:37:08 - cmdstanpy - INFO - Chain [1] start processing\n",
      "15:37:08 - cmdstanpy - INFO - Chain [1] done processing\n",
      "15:37:08 - cmdstanpy - INFO - Chain [1] start processing\n",
      "15:37:08 - cmdstanpy - INFO - Chain [1] done processing\n",
      "15:37:09 - cmdstanpy - INFO - Chain [1] start processing\n",
      "15:37:09 - cmdstanpy - INFO - Chain [1] done processing\n",
      "15:37:09 - cmdstanpy - INFO - Chain [1] start processing\n"
     ]
    },
    {
     "name": "stdout",
     "output_type": "stream",
     "text": [
      "Fourier Order: 3, mae: 875832.5124140151\n"
     ]
    },
    {
     "name": "stderr",
     "output_type": "stream",
     "text": [
      "15:37:09 - cmdstanpy - INFO - Chain [1] done processing\n"
     ]
    },
    {
     "data": {
      "application/vnd.jupyter.widget-view+json": {
       "model_id": "220ef8e122754da3ac8831f213fbecfa",
       "version_major": 2,
       "version_minor": 0
      },
      "text/plain": [
       "  0%|          | 0/10 [00:00<?, ?it/s]"
      ]
     },
     "metadata": {},
     "output_type": "display_data"
    },
    {
     "name": "stderr",
     "output_type": "stream",
     "text": [
      "15:37:10 - cmdstanpy - INFO - Chain [1] start processing\n",
      "15:37:10 - cmdstanpy - INFO - Chain [1] done processing\n",
      "15:37:10 - cmdstanpy - INFO - Chain [1] start processing\n",
      "15:37:10 - cmdstanpy - INFO - Chain [1] done processing\n",
      "15:37:10 - cmdstanpy - INFO - Chain [1] start processing\n",
      "15:37:10 - cmdstanpy - INFO - Chain [1] done processing\n",
      "15:37:11 - cmdstanpy - INFO - Chain [1] start processing\n",
      "15:37:11 - cmdstanpy - INFO - Chain [1] done processing\n",
      "15:37:11 - cmdstanpy - INFO - Chain [1] start processing\n",
      "15:37:11 - cmdstanpy - INFO - Chain [1] done processing\n",
      "15:37:11 - cmdstanpy - INFO - Chain [1] start processing\n",
      "15:37:11 - cmdstanpy - INFO - Chain [1] done processing\n",
      "15:37:12 - cmdstanpy - INFO - Chain [1] start processing\n",
      "15:37:12 - cmdstanpy - INFO - Chain [1] done processing\n",
      "15:37:12 - cmdstanpy - INFO - Chain [1] start processing\n",
      "15:37:12 - cmdstanpy - INFO - Chain [1] done processing\n",
      "15:37:12 - cmdstanpy - INFO - Chain [1] start processing\n",
      "15:37:12 - cmdstanpy - INFO - Chain [1] done processing\n",
      "15:37:13 - cmdstanpy - INFO - Chain [1] start processing\n",
      "15:37:13 - cmdstanpy - INFO - Chain [1] done processing\n"
     ]
    },
    {
     "name": "stdout",
     "output_type": "stream",
     "text": [
      "Fourier Order: 5, mae: 876294.8216290093\n"
     ]
    },
    {
     "name": "stderr",
     "output_type": "stream",
     "text": [
      "15:37:13 - cmdstanpy - INFO - Chain [1] start processing\n",
      "15:37:14 - cmdstanpy - INFO - Chain [1] done processing\n"
     ]
    },
    {
     "data": {
      "application/vnd.jupyter.widget-view+json": {
       "model_id": "c0107915ff2d482ebb55f67e622adaa0",
       "version_major": 2,
       "version_minor": 0
      },
      "text/plain": [
       "  0%|          | 0/10 [00:00<?, ?it/s]"
      ]
     },
     "metadata": {},
     "output_type": "display_data"
    },
    {
     "name": "stderr",
     "output_type": "stream",
     "text": [
      "15:37:14 - cmdstanpy - INFO - Chain [1] start processing\n",
      "15:37:14 - cmdstanpy - INFO - Chain [1] done processing\n",
      "15:37:14 - cmdstanpy - INFO - Chain [1] start processing\n",
      "15:37:14 - cmdstanpy - INFO - Chain [1] done processing\n",
      "15:37:14 - cmdstanpy - INFO - Chain [1] start processing\n",
      "15:37:15 - cmdstanpy - INFO - Chain [1] done processing\n",
      "15:37:15 - cmdstanpy - INFO - Chain [1] start processing\n",
      "15:37:15 - cmdstanpy - INFO - Chain [1] done processing\n",
      "15:37:15 - cmdstanpy - INFO - Chain [1] start processing\n",
      "15:37:15 - cmdstanpy - INFO - Chain [1] done processing\n",
      "15:37:16 - cmdstanpy - INFO - Chain [1] start processing\n",
      "15:37:16 - cmdstanpy - INFO - Chain [1] done processing\n",
      "15:37:16 - cmdstanpy - INFO - Chain [1] start processing\n",
      "15:37:16 - cmdstanpy - INFO - Chain [1] done processing\n",
      "15:37:16 - cmdstanpy - INFO - Chain [1] start processing\n",
      "15:37:16 - cmdstanpy - INFO - Chain [1] done processing\n",
      "15:37:17 - cmdstanpy - INFO - Chain [1] start processing\n",
      "15:37:17 - cmdstanpy - INFO - Chain [1] done processing\n",
      "15:37:17 - cmdstanpy - INFO - Chain [1] start processing\n",
      "15:37:17 - cmdstanpy - INFO - Chain [1] done processing\n"
     ]
    },
    {
     "name": "stdout",
     "output_type": "stream",
     "text": [
      "Fourier Order: 7, mae: 884354.9111096256\n"
     ]
    },
    {
     "name": "stderr",
     "output_type": "stream",
     "text": [
      "15:37:18 - cmdstanpy - INFO - Chain [1] start processing\n",
      "15:37:18 - cmdstanpy - INFO - Chain [1] done processing\n"
     ]
    },
    {
     "data": {
      "application/vnd.jupyter.widget-view+json": {
       "model_id": "89a8509c16334907a32c95d0e3704f0b",
       "version_major": 2,
       "version_minor": 0
      },
      "text/plain": [
       "  0%|          | 0/10 [00:00<?, ?it/s]"
      ]
     },
     "metadata": {},
     "output_type": "display_data"
    },
    {
     "name": "stderr",
     "output_type": "stream",
     "text": [
      "15:37:18 - cmdstanpy - INFO - Chain [1] start processing\n",
      "15:37:18 - cmdstanpy - INFO - Chain [1] done processing\n",
      "15:37:19 - cmdstanpy - INFO - Chain [1] start processing\n",
      "15:37:19 - cmdstanpy - INFO - Chain [1] done processing\n",
      "15:37:19 - cmdstanpy - INFO - Chain [1] start processing\n",
      "15:37:19 - cmdstanpy - INFO - Chain [1] done processing\n",
      "15:37:19 - cmdstanpy - INFO - Chain [1] start processing\n",
      "15:37:19 - cmdstanpy - INFO - Chain [1] done processing\n",
      "15:37:20 - cmdstanpy - INFO - Chain [1] start processing\n",
      "15:37:20 - cmdstanpy - INFO - Chain [1] done processing\n",
      "15:37:20 - cmdstanpy - INFO - Chain [1] start processing\n",
      "15:37:20 - cmdstanpy - INFO - Chain [1] done processing\n",
      "15:37:20 - cmdstanpy - INFO - Chain [1] start processing\n",
      "15:37:21 - cmdstanpy - INFO - Chain [1] done processing\n",
      "15:37:21 - cmdstanpy - INFO - Chain [1] start processing\n",
      "15:37:21 - cmdstanpy - INFO - Chain [1] done processing\n",
      "15:37:21 - cmdstanpy - INFO - Chain [1] start processing\n",
      "15:37:21 - cmdstanpy - INFO - Chain [1] done processing\n",
      "15:37:22 - cmdstanpy - INFO - Chain [1] start processing\n",
      "15:37:22 - cmdstanpy - INFO - Chain [1] done processing\n",
      "15:37:22 - cmdstanpy - INFO - Chain [1] start processing\n"
     ]
    },
    {
     "name": "stdout",
     "output_type": "stream",
     "text": [
      "Fourier Order: 10, mae: 886719.390210091\n"
     ]
    },
    {
     "name": "stderr",
     "output_type": "stream",
     "text": [
      "15:37:22 - cmdstanpy - INFO - Chain [1] done processing\n"
     ]
    },
    {
     "data": {
      "application/vnd.jupyter.widget-view+json": {
       "model_id": "3960a9cd038046558bc6e935991bd2e4",
       "version_major": 2,
       "version_minor": 0
      },
      "text/plain": [
       "  0%|          | 0/10 [00:00<?, ?it/s]"
      ]
     },
     "metadata": {},
     "output_type": "display_data"
    },
    {
     "name": "stderr",
     "output_type": "stream",
     "text": [
      "15:37:23 - cmdstanpy - INFO - Chain [1] start processing\n",
      "15:37:23 - cmdstanpy - INFO - Chain [1] done processing\n",
      "15:37:23 - cmdstanpy - INFO - Chain [1] start processing\n",
      "15:37:23 - cmdstanpy - INFO - Chain [1] done processing\n",
      "15:37:23 - cmdstanpy - INFO - Chain [1] start processing\n",
      "15:37:23 - cmdstanpy - INFO - Chain [1] done processing\n",
      "15:37:24 - cmdstanpy - INFO - Chain [1] start processing\n",
      "15:37:24 - cmdstanpy - INFO - Chain [1] done processing\n",
      "15:37:24 - cmdstanpy - INFO - Chain [1] start processing\n",
      "15:37:24 - cmdstanpy - INFO - Chain [1] done processing\n",
      "15:37:24 - cmdstanpy - INFO - Chain [1] start processing\n",
      "15:37:24 - cmdstanpy - INFO - Chain [1] done processing\n",
      "15:37:25 - cmdstanpy - INFO - Chain [1] start processing\n",
      "15:37:25 - cmdstanpy - INFO - Chain [1] done processing\n",
      "15:37:25 - cmdstanpy - INFO - Chain [1] start processing\n",
      "15:37:25 - cmdstanpy - INFO - Chain [1] done processing\n",
      "15:37:25 - cmdstanpy - INFO - Chain [1] start processing\n",
      "15:37:25 - cmdstanpy - INFO - Chain [1] done processing\n",
      "15:37:26 - cmdstanpy - INFO - Chain [1] start processing\n",
      "15:37:26 - cmdstanpy - INFO - Chain [1] done processing\n",
      "15:37:26 - cmdstanpy - INFO - Chain [1] start processing\n"
     ]
    },
    {
     "name": "stdout",
     "output_type": "stream",
     "text": [
      "Fourier Order: 3, mae: 2981291.147787157\n"
     ]
    },
    {
     "name": "stderr",
     "output_type": "stream",
     "text": [
      "15:37:26 - cmdstanpy - INFO - Chain [1] done processing\n"
     ]
    },
    {
     "data": {
      "application/vnd.jupyter.widget-view+json": {
       "model_id": "763466142a2246e2af4702201464b256",
       "version_major": 2,
       "version_minor": 0
      },
      "text/plain": [
       "  0%|          | 0/10 [00:00<?, ?it/s]"
      ]
     },
     "metadata": {},
     "output_type": "display_data"
    },
    {
     "name": "stderr",
     "output_type": "stream",
     "text": [
      "15:37:27 - cmdstanpy - INFO - Chain [1] start processing\n",
      "15:37:27 - cmdstanpy - INFO - Chain [1] done processing\n",
      "15:37:27 - cmdstanpy - INFO - Chain [1] start processing\n",
      "15:37:27 - cmdstanpy - INFO - Chain [1] done processing\n",
      "15:37:27 - cmdstanpy - INFO - Chain [1] start processing\n",
      "15:37:27 - cmdstanpy - INFO - Chain [1] done processing\n",
      "15:37:28 - cmdstanpy - INFO - Chain [1] start processing\n",
      "15:37:28 - cmdstanpy - INFO - Chain [1] done processing\n",
      "15:37:28 - cmdstanpy - INFO - Chain [1] start processing\n",
      "15:37:28 - cmdstanpy - INFO - Chain [1] done processing\n",
      "15:37:28 - cmdstanpy - INFO - Chain [1] start processing\n",
      "15:37:29 - cmdstanpy - INFO - Chain [1] done processing\n",
      "15:37:29 - cmdstanpy - INFO - Chain [1] start processing\n",
      "15:37:29 - cmdstanpy - INFO - Chain [1] done processing\n",
      "15:37:29 - cmdstanpy - INFO - Chain [1] start processing\n",
      "15:37:29 - cmdstanpy - INFO - Chain [1] done processing\n",
      "15:37:30 - cmdstanpy - INFO - Chain [1] start processing\n",
      "15:37:30 - cmdstanpy - INFO - Chain [1] done processing\n",
      "15:37:30 - cmdstanpy - INFO - Chain [1] start processing\n",
      "15:37:30 - cmdstanpy - INFO - Chain [1] done processing\n"
     ]
    },
    {
     "name": "stdout",
     "output_type": "stream",
     "text": [
      "Fourier Order: 5, mae: 2881989.4205081603\n"
     ]
    },
    {
     "name": "stderr",
     "output_type": "stream",
     "text": [
      "15:37:31 - cmdstanpy - INFO - Chain [1] start processing\n",
      "15:37:31 - cmdstanpy - INFO - Chain [1] done processing\n"
     ]
    },
    {
     "data": {
      "application/vnd.jupyter.widget-view+json": {
       "model_id": "591b333d7a3d4cc38bf17f15df047c9a",
       "version_major": 2,
       "version_minor": 0
      },
      "text/plain": [
       "  0%|          | 0/10 [00:00<?, ?it/s]"
      ]
     },
     "metadata": {},
     "output_type": "display_data"
    },
    {
     "name": "stderr",
     "output_type": "stream",
     "text": [
      "15:37:31 - cmdstanpy - INFO - Chain [1] start processing\n",
      "15:37:31 - cmdstanpy - INFO - Chain [1] done processing\n",
      "15:37:31 - cmdstanpy - INFO - Chain [1] start processing\n",
      "15:37:31 - cmdstanpy - INFO - Chain [1] done processing\n",
      "15:37:31 - cmdstanpy - INFO - Chain [1] start processing\n",
      "15:37:32 - cmdstanpy - INFO - Chain [1] done processing\n",
      "15:37:32 - cmdstanpy - INFO - Chain [1] start processing\n",
      "15:37:32 - cmdstanpy - INFO - Chain [1] done processing\n",
      "15:37:32 - cmdstanpy - INFO - Chain [1] start processing\n",
      "15:37:32 - cmdstanpy - INFO - Chain [1] done processing\n",
      "15:37:33 - cmdstanpy - INFO - Chain [1] start processing\n",
      "15:37:33 - cmdstanpy - INFO - Chain [1] done processing\n",
      "15:37:33 - cmdstanpy - INFO - Chain [1] start processing\n",
      "15:37:33 - cmdstanpy - INFO - Chain [1] done processing\n",
      "15:37:33 - cmdstanpy - INFO - Chain [1] start processing\n",
      "15:37:33 - cmdstanpy - INFO - Chain [1] done processing\n",
      "15:37:34 - cmdstanpy - INFO - Chain [1] start processing\n",
      "15:37:34 - cmdstanpy - INFO - Chain [1] done processing\n",
      "15:37:34 - cmdstanpy - INFO - Chain [1] start processing\n",
      "15:37:34 - cmdstanpy - INFO - Chain [1] done processing\n"
     ]
    },
    {
     "name": "stdout",
     "output_type": "stream",
     "text": [
      "Fourier Order: 7, mae: 2887115.683020636\n"
     ]
    },
    {
     "name": "stderr",
     "output_type": "stream",
     "text": [
      "15:37:35 - cmdstanpy - INFO - Chain [1] start processing\n",
      "15:37:35 - cmdstanpy - INFO - Chain [1] done processing\n"
     ]
    },
    {
     "data": {
      "application/vnd.jupyter.widget-view+json": {
       "model_id": "ce5f408af0e449e28d94aa935fc6541d",
       "version_major": 2,
       "version_minor": 0
      },
      "text/plain": [
       "  0%|          | 0/10 [00:00<?, ?it/s]"
      ]
     },
     "metadata": {},
     "output_type": "display_data"
    },
    {
     "name": "stderr",
     "output_type": "stream",
     "text": [
      "15:37:35 - cmdstanpy - INFO - Chain [1] start processing\n",
      "15:37:35 - cmdstanpy - INFO - Chain [1] done processing\n",
      "15:37:35 - cmdstanpy - INFO - Chain [1] start processing\n",
      "15:37:36 - cmdstanpy - INFO - Chain [1] done processing\n",
      "15:37:36 - cmdstanpy - INFO - Chain [1] start processing\n",
      "15:37:36 - cmdstanpy - INFO - Chain [1] done processing\n",
      "15:37:36 - cmdstanpy - INFO - Chain [1] start processing\n",
      "15:37:36 - cmdstanpy - INFO - Chain [1] done processing\n",
      "15:37:37 - cmdstanpy - INFO - Chain [1] start processing\n",
      "15:37:37 - cmdstanpy - INFO - Chain [1] done processing\n",
      "15:37:37 - cmdstanpy - INFO - Chain [1] start processing\n",
      "15:37:37 - cmdstanpy - INFO - Chain [1] done processing\n",
      "15:37:37 - cmdstanpy - INFO - Chain [1] start processing\n",
      "15:37:37 - cmdstanpy - INFO - Chain [1] done processing\n",
      "15:37:38 - cmdstanpy - INFO - Chain [1] start processing\n",
      "15:37:38 - cmdstanpy - INFO - Chain [1] done processing\n",
      "15:37:38 - cmdstanpy - INFO - Chain [1] start processing\n",
      "15:37:38 - cmdstanpy - INFO - Chain [1] done processing\n",
      "15:37:39 - cmdstanpy - INFO - Chain [1] start processing\n",
      "15:37:39 - cmdstanpy - INFO - Chain [1] done processing\n"
     ]
    },
    {
     "name": "stdout",
     "output_type": "stream",
     "text": [
      "Fourier Order: 10, mae: 2896604.654840026\n"
     ]
    }
   ],
   "source": [
    "from prophet.diagnostics import cross_validation, performance_metrics\n",
    "fourier_m_list = []\n",
    "for df in dataframes_train:\n",
    "    name = df.name\n",
    "    df = df.to_frame()\n",
    "    df = df.reset_index()\n",
    "    df.columns = ['ds', 'y']\n",
    "    for fourier in [3, 5, 7, 10]:\n",
    "        model = Prophet(yearly_seasonality=False)\n",
    "        model.add_seasonality(name='monthly', period=30.5, fourier_order=fourier)\n",
    "        model.fit(df)\n",
    "        \n",
    "        df_cv = cross_validation(model, initial='730 days', period='180 days', horizon='365 days')\n",
    "        df_p = performance_metrics(df_cv)\n",
    "        print(f'Fourier Order: {fourier}, mae: {df_p[\"mae\"].mean()}')\n",
    "        fourier_m_list.append({\n",
    "            'name': name,\n",
    "            'fourier_order': fourier,\n",
    "            'mae': df_p[\"mae\"].mean(),\n",
    "            'mse': df_p[\"mse\"].mean(),\n",
    "            'rmse': df_p[\"rmse\"].mean(),\n",
    "            \n",
    "        })"
   ]
  },
  {
   "cell_type": "code",
   "execution_count": 24,
   "metadata": {},
   "outputs": [
    {
     "data": {
      "text/html": [
       "<div>\n",
       "<style scoped>\n",
       "    .dataframe tbody tr th:only-of-type {\n",
       "        vertical-align: middle;\n",
       "    }\n",
       "\n",
       "    .dataframe tbody tr th {\n",
       "        vertical-align: top;\n",
       "    }\n",
       "\n",
       "    .dataframe thead th {\n",
       "        text-align: right;\n",
       "    }\n",
       "</style>\n",
       "<table border=\"1\" class=\"dataframe\">\n",
       "  <thead>\n",
       "    <tr style=\"text-align: right;\">\n",
       "      <th></th>\n",
       "      <th>name</th>\n",
       "      <th>fourier_order</th>\n",
       "      <th>mae</th>\n",
       "      <th>mse</th>\n",
       "      <th>rmse</th>\n",
       "    </tr>\n",
       "  </thead>\n",
       "  <tbody>\n",
       "    <tr>\n",
       "      <th>0</th>\n",
       "      <td>CHU_COPA_AJUST</td>\n",
       "      <td>3</td>\n",
       "      <td>1,295,550.58</td>\n",
       "      <td>3,368,417,717,852.50</td>\n",
       "      <td>1,829,278.10</td>\n",
       "    </tr>\n",
       "    <tr>\n",
       "      <th>1</th>\n",
       "      <td>CHU_COPA_AJUST</td>\n",
       "      <td>5</td>\n",
       "      <td>1,292,136.70</td>\n",
       "      <td>3,382,102,160,158.99</td>\n",
       "      <td>1,833,572.25</td>\n",
       "    </tr>\n",
       "    <tr>\n",
       "      <th>2</th>\n",
       "      <td>CHU_COPA_AJUST</td>\n",
       "      <td>7</td>\n",
       "      <td>1,289,267.78</td>\n",
       "      <td>3,403,619,136,925.37</td>\n",
       "      <td>1,839,180.12</td>\n",
       "    </tr>\n",
       "    <tr>\n",
       "      <th>3</th>\n",
       "      <td>CHU_COPA_AJUST</td>\n",
       "      <td>10</td>\n",
       "      <td>1,292,343.45</td>\n",
       "      <td>3,435,217,624,484.17</td>\n",
       "      <td>1,847,424.23</td>\n",
       "    </tr>\n",
       "    <tr>\n",
       "      <th>4</th>\n",
       "      <td>CHU_REC_PROPIOS_AJUST</td>\n",
       "      <td>3</td>\n",
       "      <td>875,832.51</td>\n",
       "      <td>1,354,696,658,529.47</td>\n",
       "      <td>1,160,714.31</td>\n",
       "    </tr>\n",
       "    <tr>\n",
       "      <th>5</th>\n",
       "      <td>CHU_REC_PROPIOS_AJUST</td>\n",
       "      <td>5</td>\n",
       "      <td>876,294.82</td>\n",
       "      <td>1,360,751,514,817.23</td>\n",
       "      <td>1,163,577.88</td>\n",
       "    </tr>\n",
       "    <tr>\n",
       "      <th>6</th>\n",
       "      <td>CHU_REC_PROPIOS_AJUST</td>\n",
       "      <td>7</td>\n",
       "      <td>884,354.91</td>\n",
       "      <td>1,384,814,129,416.05</td>\n",
       "      <td>1,173,991.59</td>\n",
       "    </tr>\n",
       "    <tr>\n",
       "      <th>7</th>\n",
       "      <td>CHU_REC_PROPIOS_AJUST</td>\n",
       "      <td>10</td>\n",
       "      <td>886,719.39</td>\n",
       "      <td>1,389,622,924,478.05</td>\n",
       "      <td>1,175,983.40</td>\n",
       "    </tr>\n",
       "    <tr>\n",
       "      <th>8</th>\n",
       "      <td>CHU_REGALIAS_AJUST</td>\n",
       "      <td>3</td>\n",
       "      <td>2,981,291.15</td>\n",
       "      <td>33,617,382,219,021.43</td>\n",
       "      <td>5,786,977.89</td>\n",
       "    </tr>\n",
       "    <tr>\n",
       "      <th>9</th>\n",
       "      <td>CHU_REGALIAS_AJUST</td>\n",
       "      <td>5</td>\n",
       "      <td>2,881,989.42</td>\n",
       "      <td>34,018,833,939,631.12</td>\n",
       "      <td>5,820,355.50</td>\n",
       "    </tr>\n",
       "    <tr>\n",
       "      <th>10</th>\n",
       "      <td>CHU_REGALIAS_AJUST</td>\n",
       "      <td>7</td>\n",
       "      <td>2,887,115.68</td>\n",
       "      <td>34,332,503,235,722.89</td>\n",
       "      <td>5,847,218.09</td>\n",
       "    </tr>\n",
       "    <tr>\n",
       "      <th>11</th>\n",
       "      <td>CHU_REGALIAS_AJUST</td>\n",
       "      <td>10</td>\n",
       "      <td>2,896,604.65</td>\n",
       "      <td>34,623,962,264,283.60</td>\n",
       "      <td>5,872,018.87</td>\n",
       "    </tr>\n",
       "  </tbody>\n",
       "</table>\n",
       "</div>"
      ],
      "text/plain": [
       "                     name  fourier_order          mae                   mse  \\\n",
       "0          CHU_COPA_AJUST              3 1,295,550.58  3,368,417,717,852.50   \n",
       "1          CHU_COPA_AJUST              5 1,292,136.70  3,382,102,160,158.99   \n",
       "2          CHU_COPA_AJUST              7 1,289,267.78  3,403,619,136,925.37   \n",
       "3          CHU_COPA_AJUST             10 1,292,343.45  3,435,217,624,484.17   \n",
       "4   CHU_REC_PROPIOS_AJUST              3   875,832.51  1,354,696,658,529.47   \n",
       "5   CHU_REC_PROPIOS_AJUST              5   876,294.82  1,360,751,514,817.23   \n",
       "6   CHU_REC_PROPIOS_AJUST              7   884,354.91  1,384,814,129,416.05   \n",
       "7   CHU_REC_PROPIOS_AJUST             10   886,719.39  1,389,622,924,478.05   \n",
       "8      CHU_REGALIAS_AJUST              3 2,981,291.15 33,617,382,219,021.43   \n",
       "9      CHU_REGALIAS_AJUST              5 2,881,989.42 34,018,833,939,631.12   \n",
       "10     CHU_REGALIAS_AJUST              7 2,887,115.68 34,332,503,235,722.89   \n",
       "11     CHU_REGALIAS_AJUST             10 2,896,604.65 34,623,962,264,283.60   \n",
       "\n",
       "           rmse  \n",
       "0  1,829,278.10  \n",
       "1  1,833,572.25  \n",
       "2  1,839,180.12  \n",
       "3  1,847,424.23  \n",
       "4  1,160,714.31  \n",
       "5  1,163,577.88  \n",
       "6  1,173,991.59  \n",
       "7  1,175,983.40  \n",
       "8  5,786,977.89  \n",
       "9  5,820,355.50  \n",
       "10 5,847,218.09  \n",
       "11 5,872,018.87  "
      ]
     },
     "execution_count": 24,
     "metadata": {},
     "output_type": "execute_result"
    }
   ],
   "source": [
    "pd.DataFrame(fourier_m_list)"
   ]
  },
  {
   "cell_type": "code",
   "execution_count": 28,
   "metadata": {},
   "outputs": [
    {
     "data": {
      "text/html": [
       "<div>\n",
       "<style scoped>\n",
       "    .dataframe tbody tr th:only-of-type {\n",
       "        vertical-align: middle;\n",
       "    }\n",
       "\n",
       "    .dataframe tbody tr th {\n",
       "        vertical-align: top;\n",
       "    }\n",
       "\n",
       "    .dataframe thead th {\n",
       "        text-align: right;\n",
       "    }\n",
       "</style>\n",
       "<table border=\"1\" class=\"dataframe\">\n",
       "  <thead>\n",
       "    <tr style=\"text-align: right;\">\n",
       "      <th></th>\n",
       "      <th>name</th>\n",
       "      <th>fourier_order</th>\n",
       "      <th>mae</th>\n",
       "      <th>mse</th>\n",
       "      <th>rmse</th>\n",
       "    </tr>\n",
       "  </thead>\n",
       "  <tbody>\n",
       "    <tr>\n",
       "      <th>0</th>\n",
       "      <td>CHU_COPA_AJUST</td>\n",
       "      <td>3</td>\n",
       "      <td>1,659,037.26</td>\n",
       "      <td>4,493,518,123,189.03</td>\n",
       "      <td>2,114,628.07</td>\n",
       "    </tr>\n",
       "    <tr>\n",
       "      <th>1</th>\n",
       "      <td>CHU_COPA_AJUST</td>\n",
       "      <td>5</td>\n",
       "      <td>1,659,235.07</td>\n",
       "      <td>4,492,317,272,786.19</td>\n",
       "      <td>2,114,568.60</td>\n",
       "    </tr>\n",
       "    <tr>\n",
       "      <th>2</th>\n",
       "      <td>CHU_COPA_AJUST</td>\n",
       "      <td>7</td>\n",
       "      <td>1,662,586.82</td>\n",
       "      <td>4,503,776,502,703.05</td>\n",
       "      <td>2,117,144.88</td>\n",
       "    </tr>\n",
       "    <tr>\n",
       "      <th>3</th>\n",
       "      <td>CHU_COPA_AJUST</td>\n",
       "      <td>10</td>\n",
       "      <td>1,662,410.64</td>\n",
       "      <td>4,524,420,159,270.77</td>\n",
       "      <td>2,120,638.25</td>\n",
       "    </tr>\n",
       "    <tr>\n",
       "      <th>4</th>\n",
       "      <td>CHU_REC_PROPIOS_AJUST</td>\n",
       "      <td>3</td>\n",
       "      <td>1,007,027.71</td>\n",
       "      <td>1,554,772,294,789.62</td>\n",
       "      <td>1,244,465.88</td>\n",
       "    </tr>\n",
       "    <tr>\n",
       "      <th>5</th>\n",
       "      <td>CHU_REC_PROPIOS_AJUST</td>\n",
       "      <td>5</td>\n",
       "      <td>1,006,999.60</td>\n",
       "      <td>1,550,073,308,813.71</td>\n",
       "      <td>1,242,539.66</td>\n",
       "    </tr>\n",
       "    <tr>\n",
       "      <th>6</th>\n",
       "      <td>CHU_REC_PROPIOS_AJUST</td>\n",
       "      <td>7</td>\n",
       "      <td>1,005,906.47</td>\n",
       "      <td>1,551,414,785,218.95</td>\n",
       "      <td>1,242,870.31</td>\n",
       "    </tr>\n",
       "    <tr>\n",
       "      <th>7</th>\n",
       "      <td>CHU_REC_PROPIOS_AJUST</td>\n",
       "      <td>10</td>\n",
       "      <td>1,004,277.36</td>\n",
       "      <td>1,548,804,571,628.49</td>\n",
       "      <td>1,241,865.25</td>\n",
       "    </tr>\n",
       "    <tr>\n",
       "      <th>8</th>\n",
       "      <td>CHU_REGALIAS_AJUST</td>\n",
       "      <td>3</td>\n",
       "      <td>2,975,730.22</td>\n",
       "      <td>36,804,980,074,407.97</td>\n",
       "      <td>6,054,561.28</td>\n",
       "    </tr>\n",
       "    <tr>\n",
       "      <th>9</th>\n",
       "      <td>CHU_REGALIAS_AJUST</td>\n",
       "      <td>5</td>\n",
       "      <td>2,981,596.93</td>\n",
       "      <td>36,810,240,630,045.30</td>\n",
       "      <td>6,054,990.36</td>\n",
       "    </tr>\n",
       "    <tr>\n",
       "      <th>10</th>\n",
       "      <td>CHU_REGALIAS_AJUST</td>\n",
       "      <td>7</td>\n",
       "      <td>2,961,931.77</td>\n",
       "      <td>36,818,174,730,371.95</td>\n",
       "      <td>6,055,578.17</td>\n",
       "    </tr>\n",
       "    <tr>\n",
       "      <th>11</th>\n",
       "      <td>CHU_REGALIAS_AJUST</td>\n",
       "      <td>10</td>\n",
       "      <td>2,970,283.20</td>\n",
       "      <td>36,865,017,859,487.95</td>\n",
       "      <td>6,059,508.13</td>\n",
       "    </tr>\n",
       "  </tbody>\n",
       "</table>\n",
       "</div>"
      ],
      "text/plain": [
       "                     name  fourier_order          mae                   mse  \\\n",
       "0          CHU_COPA_AJUST              3 1,659,037.26  4,493,518,123,189.03   \n",
       "1          CHU_COPA_AJUST              5 1,659,235.07  4,492,317,272,786.19   \n",
       "2          CHU_COPA_AJUST              7 1,662,586.82  4,503,776,502,703.05   \n",
       "3          CHU_COPA_AJUST             10 1,662,410.64  4,524,420,159,270.77   \n",
       "4   CHU_REC_PROPIOS_AJUST              3 1,007,027.71  1,554,772,294,789.62   \n",
       "5   CHU_REC_PROPIOS_AJUST              5 1,006,999.60  1,550,073,308,813.71   \n",
       "6   CHU_REC_PROPIOS_AJUST              7 1,005,906.47  1,551,414,785,218.95   \n",
       "7   CHU_REC_PROPIOS_AJUST             10 1,004,277.36  1,548,804,571,628.49   \n",
       "8      CHU_REGALIAS_AJUST              3 2,975,730.22 36,804,980,074,407.97   \n",
       "9      CHU_REGALIAS_AJUST              5 2,981,596.93 36,810,240,630,045.30   \n",
       "10     CHU_REGALIAS_AJUST              7 2,961,931.77 36,818,174,730,371.95   \n",
       "11     CHU_REGALIAS_AJUST             10 2,970,283.20 36,865,017,859,487.95   \n",
       "\n",
       "           rmse  \n",
       "0  2,114,628.07  \n",
       "1  2,114,568.60  \n",
       "2  2,117,144.88  \n",
       "3  2,120,638.25  \n",
       "4  1,244,465.88  \n",
       "5  1,242,539.66  \n",
       "6  1,242,870.31  \n",
       "7  1,241,865.25  \n",
       "8  6,054,561.28  \n",
       "9  6,054,990.36  \n",
       "10 6,055,578.17  \n",
       "11 6,059,508.13  "
      ]
     },
     "execution_count": 28,
     "metadata": {},
     "output_type": "execute_result"
    }
   ],
   "source": [
    "pd.options.display.float_format = '{:,.2f}'.format\n",
    "pd.DataFrame(fourier_y_list)"
   ]
  },
  {
   "cell_type": "code",
   "execution_count": 35,
   "metadata": {},
   "outputs": [
    {
     "name": "stdout",
     "output_type": "stream",
     "text": [
      "Best Fourier Orders (Yearly): {'CHU_COPA_AJUST': {'fourier_order': 5, 'rmse': 2114568.5994672766}, 'CHU_REC_PROPIOS_AJUST': {'fourier_order': 10, 'rmse': 1241865.2497155124}, 'CHU_REGALIAS_AJUST': {'fourier_order': 3, 'rmse': 6054561.279307909}}\n",
      "Best Fourier Orders (Monthly): {'CHU_COPA_AJUST': {'fourier_order': 3, 'rmse': 1829278.0979960766}, 'CHU_REC_PROPIOS_AJUST': {'fourier_order': 3, 'rmse': 1160714.3127307887}, 'CHU_REGALIAS_AJUST': {'fourier_order': 3, 'rmse': 5786977.886510033}}\n"
     ]
    },
    {
     "data": {
      "text/html": [
       "<div>\n",
       "<style scoped>\n",
       "    .dataframe tbody tr th:only-of-type {\n",
       "        vertical-align: middle;\n",
       "    }\n",
       "\n",
       "    .dataframe tbody tr th {\n",
       "        vertical-align: top;\n",
       "    }\n",
       "\n",
       "    .dataframe thead th {\n",
       "        text-align: right;\n",
       "    }\n",
       "</style>\n",
       "<table border=\"1\" class=\"dataframe\">\n",
       "  <thead>\n",
       "    <tr style=\"text-align: right;\">\n",
       "      <th></th>\n",
       "      <th>Fourier_yearly</th>\n",
       "      <th>Fourier_monthly</th>\n",
       "    </tr>\n",
       "  </thead>\n",
       "  <tbody>\n",
       "    <tr>\n",
       "      <th>CHU_COPA_AJUST</th>\n",
       "      <td>{'fourier_order': 5, 'rmse': 2114568.5994672766}</td>\n",
       "      <td>{'fourier_order': 3, 'rmse': 1829278.0979960766}</td>\n",
       "    </tr>\n",
       "    <tr>\n",
       "      <th>CHU_REC_PROPIOS_AJUST</th>\n",
       "      <td>{'fourier_order': 10, 'rmse': 1241865.2497155124}</td>\n",
       "      <td>{'fourier_order': 3, 'rmse': 1160714.3127307887}</td>\n",
       "    </tr>\n",
       "    <tr>\n",
       "      <th>CHU_REGALIAS_AJUST</th>\n",
       "      <td>{'fourier_order': 3, 'rmse': 6054561.279307909}</td>\n",
       "      <td>{'fourier_order': 3, 'rmse': 5786977.886510033}</td>\n",
       "    </tr>\n",
       "  </tbody>\n",
       "</table>\n",
       "</div>"
      ],
      "text/plain": [
       "                                                          Fourier_yearly  \\\n",
       "CHU_COPA_AJUST          {'fourier_order': 5, 'rmse': 2114568.5994672766}   \n",
       "CHU_REC_PROPIOS_AJUST  {'fourier_order': 10, 'rmse': 1241865.2497155124}   \n",
       "CHU_REGALIAS_AJUST       {'fourier_order': 3, 'rmse': 6054561.279307909}   \n",
       "\n",
       "                                                        Fourier_monthly  \n",
       "CHU_COPA_AJUST         {'fourier_order': 3, 'rmse': 1829278.0979960766}  \n",
       "CHU_REC_PROPIOS_AJUST  {'fourier_order': 3, 'rmse': 1160714.3127307887}  \n",
       "CHU_REGALIAS_AJUST      {'fourier_order': 3, 'rmse': 5786977.886510033}  "
      ]
     },
     "execution_count": 35,
     "metadata": {},
     "output_type": "execute_result"
    }
   ],
   "source": [
    "def get_best_fourier_orders(fourier_list):\n",
    "  best_orders = {}\n",
    "  for item in fourier_list:\n",
    "    name = item['name']\n",
    "    if name not in best_orders or item['rmse'] < best_orders[name]['rmse']:\n",
    "      best_orders[name] = {\n",
    "        'fourier_order': item['fourier_order'],\n",
    "        'rmse': item['rmse']\n",
    "      }\n",
    "  return best_orders\n",
    "\n",
    "best_fourier_orders_y = get_best_fourier_orders(fourier_y_list)\n",
    "best_fourier_orders_m = get_best_fourier_orders(fourier_m_list)\n",
    "\n",
    "print(\"Best Fourier Orders (Yearly):\", best_fourier_orders_y)\n",
    "print(\"Best Fourier Orders (Monthly):\", best_fourier_orders_m)\n",
    "result = pd.DataFrame([best_fourier_orders_y, best_fourier_orders_m]).T\n",
    "result.columns = ['Fourier_yearly', 'Fourier_monthly']\n",
    "result"
   ]
  },
  {
   "cell_type": "code",
   "execution_count": 36,
   "metadata": {},
   "outputs": [],
   "source": [
    "result.to_csv(\"best_fourier_orders.csv\")"
   ]
  },
  {
   "cell_type": "code",
   "execution_count": null,
   "metadata": {},
   "outputs": [],
   "source": []
  }
 ],
 "metadata": {
  "kernelspec": {
   "display_name": "Python 3",
   "language": "python",
   "name": "python3"
  },
  "language_info": {
   "codemirror_mode": {
    "name": "ipython",
    "version": 3
   },
   "file_extension": ".py",
   "mimetype": "text/x-python",
   "name": "python",
   "nbconvert_exporter": "python",
   "pygments_lexer": "ipython3",
   "version": "3.12.6"
  }
 },
 "nbformat": 4,
 "nbformat_minor": 2
}
