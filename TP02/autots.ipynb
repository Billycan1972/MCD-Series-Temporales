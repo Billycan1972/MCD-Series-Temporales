{
 "cells": [
  {
   "cell_type": "code",
   "execution_count": 1,
   "metadata": {},
   "outputs": [],
   "source": [
    "# Python\n",
    "import itertools\n",
    "import numpy as np\n",
    "import pandas as pd\n",
    "import pandas as pd\n",
    "import numpy as np\n",
    "from autots import AutoTS\n",
    "import matplotlib.pyplot as plt \n",
    "import funciones\n",
    "from sklearn.metrics import mean_squared_error, mean_absolute_percentage_error, mean_absolute_error"
   ]
  },
  {
   "cell_type": "code",
   "execution_count": 2,
   "metadata": {},
   "outputs": [],
   "source": [
    "df_main = pd.read_excel(\"https://raw.githubusercontent.com/carrenogf/MCD-Series-Temporales/main/dataset/series_diarias.xlsx\")\n",
    "df_main = df_main.sort_values(\"FECHA\",ascending=True)\n",
    "df_main.set_index(\"FECHA\", inplace=True)\n",
    "df_copa = df_main[\"CHU_COPA_AJUST\"].dropna()\n",
    "df_recprop = df_main[\"CHU_REC_PROPIOS_AJUST\"].dropna()\n",
    "df_regal = df_main[\"CHU_REGALIAS_AJUST\"].dropna()\n",
    "dataframes = [df_copa, df_recprop, df_regal]\n",
    "for i in range(len(dataframes)):\n",
    "  dataframes[i] = dataframes[i].reindex(pd.date_range(start=dataframes[i].index.min(), end=dataframes[i].index.max(), freq='B'))\n",
    "  dataframes[i] = dataframes[i].fillna(0)\n",
    "    \n",
    "titulos = [\"CHU_COPA_AJUST\", \"CHU_REC_PROPIOS_AJUST\", \"CHU_REGALIAS_AJUST\"]"
   ]
  },
  {
   "cell_type": "code",
   "execution_count": 3,
   "metadata": {},
   "outputs": [
    {
     "name": "stdout",
     "output_type": "stream",
     "text": [
      "Coparticipacion: train((1584,)), test((176,))\n",
      "Recursos: train((1995,)), test((222,))\n",
      "Regalias: train((1985,)), test((221,))\n"
     ]
    }
   ],
   "source": [
    "# TRAIN TEST\n",
    "n_train = 0.9\n",
    "train_copa = dataframes[0].iloc[:round(len(dataframes[0])*n_train)]\n",
    "test_copa = dataframes[0].iloc[round(len(dataframes[0])*n_train):]\n",
    "print(f\"Coparticipacion: train({train_copa.shape}), test({test_copa.shape})\")\n",
    "\n",
    "train_recursos = dataframes[1].iloc[:round(len(dataframes[1])*n_train)]\n",
    "test_recursos = dataframes[1].iloc[round(len(dataframes[1])*n_train):]\n",
    "print(f\"Recursos: train({train_recursos.shape}), test({test_recursos.shape})\")\n",
    "\n",
    "train_regalias = dataframes[2].iloc[:round(len(dataframes[2])*n_train)]\n",
    "test_regalias = dataframes[2].iloc[round(len(dataframes[2])*n_train):]\n",
    "print(f\"Regalias: train({train_regalias.shape}), test({test_regalias.shape})\")\n",
    "\n",
    "dataframes_train = [ train_copa, train_recursos, train_regalias ]\n",
    "dataframes_test = [ test_copa, test_recursos, test_regalias ]"
   ]
  },
  {
   "cell_type": "code",
   "execution_count": 4,
   "metadata": {},
   "outputs": [
    {
     "name": "stdout",
     "output_type": "stream",
     "text": [
      "Using 3 cpus for n_jobs.\n",
      "Data frequency is: B, used frequency is: B\n",
      "Model Number: 1 with model AverageValueNaive in generation 0 of 10\n",
      "Model Number: 2 with model AverageValueNaive in generation 0 of 10\n",
      "Model Number: 3 with model AverageValueNaive in generation 0 of 10\n",
      "Model Number: 4 with model GLS in generation 0 of 10\n",
      "Model Number: 5 with model GLS in generation 0 of 10\n",
      "Model Number: 6 with model LastValueNaive in generation 0 of 10\n",
      "Model Number: 7 with model LastValueNaive in generation 0 of 10\n",
      "Model Number: 8 with model LastValueNaive in generation 0 of 10\n",
      "Model Number: 9 with model LastValueNaive in generation 0 of 10\n",
      "Model Number: 10 with model SeasonalNaive in generation 0 of 10\n",
      "Model Number: 11 with model SeasonalNaive in generation 0 of 10\n",
      "Model Number: 12 with model SeasonalNaive in generation 0 of 10\n",
      "Model Number: 13 with model ConstantNaive in generation 0 of 10\n",
      "Model Number: 14 with model SeasonalNaive in generation 0 of 10\n",
      "Model Number: 15 with model SectionalMotif in generation 0 of 10\n",
      "Model Number: 16 with model SectionalMotif in generation 0 of 10\n",
      "Model Number: 17 with model SeasonalNaive in generation 0 of 10\n",
      "Model Number: 18 with model SeasonalityMotif in generation 0 of 10\n",
      "Model Number: 19 with model SectionalMotif in generation 0 of 10\n",
      "Model Number: 20 with model ConstantNaive in generation 0 of 10\n",
      "Model Number: 21 with model LastValueNaive in generation 0 of 10\n",
      "Model Number: 22 with model AverageValueNaive in generation 0 of 10\n",
      "Model Number: 23 with model GLS in generation 0 of 10\n"
     ]
    },
    {
     "name": "stderr",
     "output_type": "stream",
     "text": [
      "c:\\Users\\carre\\AppData\\Local\\Programs\\Python\\Python312\\Lib\\site-packages\\autots\\tools\\transform.py:5608: FutureWarning: Downcasting object dtype arrays on .fillna, .ffill, .bfill is deprecated and will change in a future version. Call result.infer_objects(copy=False) instead. To opt-in to the future behavior, set `pd.set_option('future.no_silent_downcasting', True)`\n",
      "  df = df.fillna(0)\n",
      "c:\\Users\\carre\\AppData\\Local\\Programs\\Python\\Python312\\Lib\\site-packages\\autots\\tools\\transform.py:5608: FutureWarning: Downcasting object dtype arrays on .fillna, .ffill, .bfill is deprecated and will change in a future version. Call result.infer_objects(copy=False) instead. To opt-in to the future behavior, set `pd.set_option('future.no_silent_downcasting', True)`\n",
      "  df = df.fillna(0)\n"
     ]
    },
    {
     "name": "stdout",
     "output_type": "stream",
     "text": [
      "Model Number: 24 with model SeasonalNaive in generation 0 of 10\n",
      "Model Number: 25 with model SeasonalityMotif in generation 0 of 10\n",
      "Model Number: 26 with model SectionalMotif in generation 0 of 10\n",
      "Model Number: 27 with model LastValueNaive in generation 0 of 10\n",
      "Model Number: 28 with model SectionalMotif in generation 0 of 10\n",
      "Model Number: 29 with model SectionalMotif in generation 0 of 10\n"
     ]
    },
    {
     "name": "stderr",
     "output_type": "stream",
     "text": [
      "c:\\Users\\carre\\AppData\\Local\\Programs\\Python\\Python312\\Lib\\site-packages\\autots\\tools\\transform.py:5608: FutureWarning: Downcasting object dtype arrays on .fillna, .ffill, .bfill is deprecated and will change in a future version. Call result.infer_objects(copy=False) instead. To opt-in to the future behavior, set `pd.set_option('future.no_silent_downcasting', True)`\n",
      "  df = df.fillna(0)\n",
      "c:\\Users\\carre\\AppData\\Local\\Programs\\Python\\Python312\\Lib\\site-packages\\autots\\tools\\transform.py:5608: FutureWarning: Downcasting object dtype arrays on .fillna, .ffill, .bfill is deprecated and will change in a future version. Call result.infer_objects(copy=False) instead. To opt-in to the future behavior, set `pd.set_option('future.no_silent_downcasting', True)`\n",
      "  df = df.fillna(0)\n"
     ]
    },
    {
     "name": "stdout",
     "output_type": "stream",
     "text": [
      "Template Eval Error: Exception(\"Transformer SinTrend failed on fit from params fake_date {'0': {}, '1': {}, '2': {}, '3': {'lag_1': 12, 'method': 'LastValue'}, '4': {'sigma': 0.5, 'rolling_window': 90, 'run_order': 'season_first', 'regression_params': {'regression_model': {'model': 'DecisionTree', 'model_params': {'max_depth': None, 'min_samples_split': 1.0}}, 'datepart_method': 'simple', 'polynomial_degree': 2, 'transform_dict': None, 'holiday_countries_used': False, 'lags': None, 'forward_lags': None}, 'holiday_params': None, 'trend_method': 'rolling_mean'}}\") in model 29 in generation 0: SectionalMotif\n",
      "Model Number: 30 with model ConstantNaive in generation 0 of 10\n",
      "Model Number: 31 with model SeasonalityMotif in generation 0 of 10\n",
      "Model Number: 32 with model SectionalMotif in generation 0 of 10\n",
      "Model Number: 33 with model SeasonalityMotif in generation 0 of 10\n",
      "Model Number: 34 with model SeasonalityMotif in generation 0 of 10\n",
      "Model Number: 35 with model LastValueNaive in generation 0 of 10\n",
      "Model Number: 36 with model ConstantNaive in generation 0 of 10\n",
      "Model Number: 37 with model SeasonalNaive in generation 0 of 10\n",
      "Model Number: 38 with model SectionalMotif in generation 0 of 10\n",
      "Model Number: 39 with model SectionalMotif in generation 0 of 10\n",
      "Model Number: 40 with model ConstantNaive in generation 0 of 10\n",
      "Model Number: 41 with model AverageValueNaive in generation 0 of 10\n",
      "Model Number: 42 with model SectionalMotif in generation 0 of 10\n",
      "Template Eval Error: ValueError('zero-size array to reduction operation fmax which has no identity') in model 42 in generation 0: SectionalMotif\n",
      "Model Number: 43 with model SeasonalityMotif in generation 0 of 10\n",
      "Model Number: 44 with model SectionalMotif in generation 0 of 10\n",
      "Template Eval Error: ValueError(\"regression_type=='User' but no future_regressor supplied\") in model 44 in generation 0: SectionalMotif\n",
      "Model Number: 45 with model GLS in generation 0 of 10\n"
     ]
    },
    {
     "name": "stderr",
     "output_type": "stream",
     "text": [
      "c:\\Users\\carre\\AppData\\Local\\Programs\\Python\\Python312\\Lib\\site-packages\\numpy\\lib\\nanfunctions.py:1215: RuntimeWarning: Mean of empty slice\n",
      "  return np.nanmean(a, axis, out=out, keepdims=keepdims)\n"
     ]
    },
    {
     "name": "stdout",
     "output_type": "stream",
     "text": [
      "Model Number: 46 with model ConstantNaive in generation 0 of 10\n",
      "Model Number: 47 with model AverageValueNaive in generation 0 of 10\n",
      "Model Number: 48 with model SeasonalityMotif in generation 0 of 10\n",
      "Model Number: 49 with model GLS in generation 0 of 10\n",
      "Model Number: 50 with model AverageValueNaive in generation 0 of 10\n",
      "Model Number: 51 with model SectionalMotif in generation 0 of 10\n",
      "Model Number: 52 with model SectionalMotif in generation 0 of 10\n",
      "Template Eval Error: ValueError(\"regression_type=='User' but no future_regressor supplied\") in model 52 in generation 0: SectionalMotif\n",
      "Model Number: 53 with model ConstantNaive in generation 0 of 10\n",
      "Model Number: 54 with model SeasonalityMotif in generation 0 of 10\n",
      "New Generation: 1 of 10\n",
      "Model Number: 55 with model SeasonalityMotif in generation 1 of 10\n",
      "Model Number: 56 with model SectionalMotif in generation 1 of 10\n",
      "Model Number: 57 with model SectionalMotif in generation 1 of 10\n",
      "Template Eval Error: Exception(\"Transformer Detrend failed on fit from params rolling_mean {'0': {}, '1': {'method': 'remove', 'std_threshold': 3.5, 'fillna': 'rolling_mean_24'}, '2': {'method': 'remove', 'std_threshold': 4, 'fillna': 'rolling_mean_24'}, '3': {'decimals': 2, 'on_transform': False, 'on_inverse': True}, '4': {'low': 6, 'high': 32, 'K': 1, 'lanczos_factor': False, 'return_diff': True, 'on_transform': True, 'on_inverse': False}, '5': {'model': 'Tweedie', 'phi': 1, 'window': 10, 'transform_dict': {'fillna': None, 'transformations': {'0': 'EWMAFilter'}, 'transformation_params': {'0': {'span': 2}}}}}\") in model 57 in generation 1: SectionalMotif\n",
      "Model Number: 58 with model SectionalMotif in generation 1 of 10\n"
     ]
    },
    {
     "name": "stderr",
     "output_type": "stream",
     "text": [
      "c:\\Users\\carre\\AppData\\Local\\Programs\\Python\\Python312\\Lib\\site-packages\\sklearn\\linear_model\\_ridge.py:216: LinAlgWarning: Ill-conditioned matrix (rcond=7.79351e-26): result may not be accurate.\n",
      "  return linalg.solve(A, Xy, assume_a=\"pos\", overwrite_a=True).T\n"
     ]
    },
    {
     "name": "stdout",
     "output_type": "stream",
     "text": [
      "Model Number: 59 with model SeasonalNaive in generation 1 of 10\n",
      "Model Number: 60 with model AverageValueNaive in generation 1 of 10\n",
      "Model Number: 61 with model SectionalMotif in generation 1 of 10\n",
      "Model Number: 62 with model SectionalMotif in generation 1 of 10\n",
      "Model Number: 63 with model LastValueNaive in generation 1 of 10\n",
      "Model Number: 64 with model SeasonalNaive in generation 1 of 10\n",
      "Model Number: 65 with model GLS in generation 1 of 10\n",
      "Model Number: 66 with model SeasonalityMotif in generation 1 of 10\n",
      "Model Number: 67 with model SectionalMotif in generation 1 of 10\n",
      "Model Number: 68 with model SeasonalNaive in generation 1 of 10\n",
      "Model Number: 69 with model GLS in generation 1 of 10\n",
      "Model Number: 70 with model LastValueNaive in generation 1 of 10\n",
      "Model Number: 71 with model SeasonalityMotif in generation 1 of 10\n",
      "Model Number: 72 with model SectionalMotif in generation 1 of 10\n",
      "Model Number: 73 with model AverageValueNaive in generation 1 of 10\n",
      "Model Number: 74 with model LastValueNaive in generation 1 of 10\n",
      "Model Number: 75 with model ConstantNaive in generation 1 of 10\n",
      "Model Number: 76 with model AverageValueNaive in generation 1 of 10\n",
      "Model Number: 77 with model ConstantNaive in generation 1 of 10\n",
      "Model Number: 78 with model LastValueNaive in generation 1 of 10\n",
      "Model Number: 79 with model SectionalMotif in generation 1 of 10\n",
      "Model Number: 80 with model SeasonalNaive in generation 1 of 10\n",
      "Model Number: 81 with model GLS in generation 1 of 10\n",
      "Model Number: 82 with model SeasonalityMotif in generation 1 of 10\n",
      "Model Number: 83 with model AverageValueNaive in generation 1 of 10\n",
      "Model Number: 84 with model AverageValueNaive in generation 1 of 10\n",
      "Model Number: 85 with model SectionalMotif in generation 1 of 10\n",
      "Model Number: 86 with model AverageValueNaive in generation 1 of 10\n",
      "Model Number: 87 with model AverageValueNaive in generation 1 of 10\n",
      "Model Number: 88 with model GLS in generation 1 of 10\n",
      "Model Number: 89 with model SeasonalNaive in generation 1 of 10\n",
      "New Generation: 2 of 10\n",
      "Model Number: 90 with model SectionalMotif in generation 2 of 10\n",
      "Template Eval Error: ValueError('Model SectionalMotif returned NaN for one or more series. fail_on_forecast_nan=True') in model 90 in generation 2: SectionalMotif\n",
      "Model Number: 91 with model SectionalMotif in generation 2 of 10\n"
     ]
    },
    {
     "name": "stderr",
     "output_type": "stream",
     "text": [
      "c:\\Users\\carre\\AppData\\Local\\Programs\\Python\\Python312\\Lib\\site-packages\\sklearn\\linear_model\\_ridge.py:216: LinAlgWarning: Ill-conditioned matrix (rcond=7.79351e-26): result may not be accurate.\n",
      "  return linalg.solve(A, Xy, assume_a=\"pos\", overwrite_a=True).T\n",
      "c:\\Users\\carre\\AppData\\Local\\Programs\\Python\\Python312\\Lib\\site-packages\\autots\\tools\\anomaly_utils.py:1115: FutureWarning: Downcasting object dtype arrays on .fillna, .ffill, .bfill is deprecated and will change in a future version. Call result.infer_objects(copy=False) instead. To opt-in to the future behavior, set `pd.set_option('future.no_silent_downcasting', True)`\n",
      "  result = result + temp.where(temp.isnull(), 1).fillna(0)\n",
      "c:\\Users\\carre\\AppData\\Local\\Programs\\Python\\Python312\\Lib\\site-packages\\autots\\tools\\anomaly_utils.py:1115: FutureWarning: Downcasting object dtype arrays on .fillna, .ffill, .bfill is deprecated and will change in a future version. Call result.infer_objects(copy=False) instead. To opt-in to the future behavior, set `pd.set_option('future.no_silent_downcasting', True)`\n",
      "  result = result + temp.where(temp.isnull(), 1).fillna(0)\n",
      "c:\\Users\\carre\\AppData\\Local\\Programs\\Python\\Python312\\Lib\\site-packages\\autots\\tools\\anomaly_utils.py:1132: FutureWarning: Downcasting behavior in `replace` is deprecated and will be removed in a future version. To retain the old behavior, explicitly call `result.infer_objects(copy=False)`. To opt-in to the future behavior, set `pd.set_option('future.no_silent_downcasting', True)`\n",
      "  temp.replace(replace_dict).astype(float).fillna(0),\n",
      "c:\\Users\\carre\\AppData\\Local\\Programs\\Python\\Python312\\Lib\\site-packages\\autots\\tools\\anomaly_utils.py:1132: FutureWarning: Downcasting behavior in `replace` is deprecated and will be removed in a future version. To retain the old behavior, explicitly call `result.infer_objects(copy=False)`. To opt-in to the future behavior, set `pd.set_option('future.no_silent_downcasting', True)`\n",
      "  temp.replace(replace_dict).astype(float).fillna(0),\n",
      "c:\\Users\\carre\\AppData\\Local\\Programs\\Python\\Python312\\Lib\\site-packages\\numpy\\lib\\function_base.py:553: RuntimeWarning: invalid value encountered in divide\n",
      "  avg = avg_as_array = np.multiply(a, wgt,\n"
     ]
    },
    {
     "name": "stdout",
     "output_type": "stream",
     "text": [
      "Model Number: 92 with model AverageValueNaive in generation 2 of 10\n",
      "Model Number: 93 with model AverageValueNaive in generation 2 of 10\n"
     ]
    },
    {
     "name": "stderr",
     "output_type": "stream",
     "text": [
      "c:\\Users\\carre\\AppData\\Local\\Programs\\Python\\Python312\\Lib\\site-packages\\sklearn\\neighbors\\_classification.py:238: DataConversionWarning: A column-vector y was passed when a 1d array was expected. Please change the shape of y to (n_samples,), for example using ravel().\n",
      "  return self._fit(X, y)\n"
     ]
    },
    {
     "name": "stdout",
     "output_type": "stream",
     "text": [
      "Model Number: 94 with model GLS in generation 2 of 10\n",
      "Model Number: 95 with model GLS in generation 2 of 10\n",
      "Model Number: 96 with model SeasonalNaive in generation 2 of 10\n",
      "Model Number: 97 with model SeasonalityMotif in generation 2 of 10\n",
      "Template Eval Error: Exception(\"Transformer ReplaceConstant failed on fit from params ffill {'0': {'constant': 0, 'reintroduction_model': {'model': 'xgboost', 'model_params': {'booster': 'gbtree', 'max_depth': 6, 'eta': 0.05, 'min_child_weight': 1, 'subsample': 1, 'colsample_bylevel': 0.7, 'reg_alpha': 0, 'reg_lambda': 1, 'n_estimators': 20, 'quantile_alpha': 0.5, 'tree_method': 'hist'}, 'datepart_method': 'recurring'}, 'fillna': 'akima'}, '1': {}, '2': {'lag': 1, 'fill': 'zero'}, '3': {}, '4': {'decimals': 1, 'on_transform': True, 'on_inverse': True}}\") in model 97 in generation 2: SeasonalityMotif\n",
      "Model Number: 98 with model LastValueNaive in generation 2 of 10\n",
      "Model Number: 99 with model SeasonalNaive in generation 2 of 10\n",
      "Model Number: 100 with model SeasonalityMotif in generation 2 of 10\n",
      "Model Number: 101 with model SeasonalityMotif in generation 2 of 10\n",
      "Model Number: 102 with model SectionalMotif in generation 2 of 10\n",
      "Model Number: 103 with model SeasonalNaive in generation 2 of 10\n",
      "Model Number: 104 with model AverageValueNaive in generation 2 of 10\n",
      "Model Number: 105 with model SectionalMotif in generation 2 of 10\n",
      "Model Number: 106 with model SectionalMotif in generation 2 of 10\n",
      "Model Number: 107 with model SeasonalNaive in generation 2 of 10\n",
      "Model Number: 108 with model SeasonalityMotif in generation 2 of 10\n",
      "Model Number: 109 with model SeasonalityMotif in generation 2 of 10\n",
      "Model Number: 110 with model LastValueNaive in generation 2 of 10\n",
      "Model Number: 111 with model SeasonalNaive in generation 2 of 10\n",
      "Model Number: 112 with model SeasonalNaive in generation 2 of 10\n",
      "Model Number: 113 with model AverageValueNaive in generation 2 of 10\n",
      "Model Number: 114 with model SectionalMotif in generation 2 of 10\n",
      "Model Number: 115 with model SectionalMotif in generation 2 of 10\n",
      "Model Number: 116 with model GLS in generation 2 of 10\n",
      "Model Number: 117 with model SeasonalNaive in generation 2 of 10\n",
      "Model Number: 118 with model AverageValueNaive in generation 2 of 10\n",
      "Model Number: 119 with model ConstantNaive in generation 2 of 10\n",
      "Model Number: 120 with model SectionalMotif in generation 2 of 10\n",
      "Model Number: 121 with model SeasonalNaive in generation 2 of 10\n",
      "Model Number: 122 with model SectionalMotif in generation 2 of 10\n",
      "Model Number: 123 with model SeasonalityMotif in generation 2 of 10\n",
      "Model Number: 124 with model SeasonalityMotif in generation 2 of 10\n",
      "New Generation: 3 of 10\n",
      "Model Number: 125 with model AverageValueNaive in generation 3 of 10\n",
      "Model Number: 126 with model GLS in generation 3 of 10\n",
      "Model Number: 127 with model SeasonalityMotif in generation 3 of 10\n",
      "Model Number: 128 with model SectionalMotif in generation 3 of 10\n",
      "Model Number: 129 with model SeasonalityMotif in generation 3 of 10\n",
      "Model Number: 130 with model SectionalMotif in generation 3 of 10\n",
      "Model Number: 131 with model SectionalMotif in generation 3 of 10\n",
      "Model Number: 132 with model SectionalMotif in generation 3 of 10\n",
      "Model Number: 133 with model SeasonalityMotif in generation 3 of 10\n",
      "Model Number: 134 with model SectionalMotif in generation 3 of 10\n",
      "Model Number: 135 with model GLS in generation 3 of 10\n",
      "Model Number: 136 with model SeasonalNaive in generation 3 of 10\n",
      "Model Number: 137 with model SeasonalityMotif in generation 3 of 10\n",
      "Model Number: 138 with model AverageValueNaive in generation 3 of 10\n",
      "Model Number: 139 with model AverageValueNaive in generation 3 of 10\n",
      "Template Eval Error: Exception(\"Transformer BTCD failed on fit from params ffill {'0': {}, '1': {'regression_model': {'model': 'LinearRegression', 'model_params': {}}, 'max_lags': 2}, '2': {}, '3': {'discretization': 'lower', 'n_bins': 10}, '4': {'rows': 1, 'lag': 1, 'method': 'additive', 'strength': 1.0, 'first_value_only': False, 'threshold': None, 'threshold_method': 'mean'}}\") in model 139 in generation 3: AverageValueNaive\n",
      "Model Number: 140 with model AverageValueNaive in generation 3 of 10\n"
     ]
    },
    {
     "name": "stderr",
     "output_type": "stream",
     "text": [
      "c:\\Users\\carre\\AppData\\Local\\Programs\\Python\\Python312\\Lib\\site-packages\\autots\\tools\\transform.py:5608: FutureWarning: Downcasting object dtype arrays on .fillna, .ffill, .bfill is deprecated and will change in a future version. Call result.infer_objects(copy=False) instead. To opt-in to the future behavior, set `pd.set_option('future.no_silent_downcasting', True)`\n",
      "  df = df.fillna(0)\n",
      "c:\\Users\\carre\\AppData\\Local\\Programs\\Python\\Python312\\Lib\\site-packages\\autots\\tools\\transform.py:5608: FutureWarning: Downcasting object dtype arrays on .fillna, .ffill, .bfill is deprecated and will change in a future version. Call result.infer_objects(copy=False) instead. To opt-in to the future behavior, set `pd.set_option('future.no_silent_downcasting', True)`\n",
      "  df = df.fillna(0)\n",
      "c:\\Users\\carre\\AppData\\Local\\Programs\\Python\\Python312\\Lib\\site-packages\\sklearn\\linear_model\\_ridge.py:216: LinAlgWarning: Ill-conditioned matrix (rcond=7.79351e-26): result may not be accurate.\n",
      "  return linalg.solve(A, Xy, assume_a=\"pos\", overwrite_a=True).T\n"
     ]
    },
    {
     "name": "stdout",
     "output_type": "stream",
     "text": [
      "Model Number: 141 with model SeasonalityMotif in generation 3 of 10\n"
     ]
    },
    {
     "name": "stderr",
     "output_type": "stream",
     "text": [
      "c:\\Users\\carre\\AppData\\Local\\Programs\\Python\\Python312\\Lib\\site-packages\\autots\\tools\\fast_kalman.py:1137: RuntimeWarning: overflow encountered in cast\n",
      "  result.smoothed.states.cov[:, j, :, :] = Ps\n",
      "c:\\Users\\carre\\AppData\\Local\\Programs\\Python\\Python312\\Lib\\site-packages\\autots\\tools\\fast_kalman.py:1143: RuntimeWarning: overflow encountered in cast\n",
      "  result.smoothed.observations.cov[:, j, :, :] = obs_cov\n",
      "c:\\Users\\carre\\AppData\\Local\\Programs\\Python\\Python312\\Lib\\site-packages\\autots\\tools\\fast_kalman.py:1354: RuntimeWarning: overflow encountered in matmul\n",
      "  return np.matmul(A, np.swapaxes(B, -1, -2))\n",
      "c:\\Users\\carre\\AppData\\Local\\Programs\\Python\\Python312\\Lib\\site-packages\\autots\\tools\\fast_kalman.py:1341: RuntimeWarning: invalid value encountered in matmul\n",
      "  return np.matmul(A, B)\n"
     ]
    },
    {
     "name": "stdout",
     "output_type": "stream",
     "text": [
      "SVD did not converge, attempting more robust approach...\n",
      "Template Eval Error: Exception(\"Transformer KalmanSmoothing failed on fit from params ffill {'0': {}, '1': {'lag_1': 24, 'method': 'LastValue'}, '2': {'model_name': 'local linear hidden state with seasonal 12', 'state_transition': [[1.0, 0.0, 0.0, 0.0, 0.0, 0.0, 0.0, 0.0, 0.0, 0.0, 0.0, 0.0, 0.0], [0.0, -1.0, -1.0, -1.0, -1.0, -1.0, -1.0, -1.0, -1.0, -1.0, -1.0, -1.0, 0.0], [0.0, 1.0, 0.0, 0.0, 0.0, 0.0, 0.0, 0.0, 0.0, 0.0, 0.0, 0.0, 0.0], [0.0, 0.0, 1.0, 0.0, 0.0, 0.0, 0.0, 0.0, 0.0, 0.0, 0.0, 0.0, 0.0], [0.0, 0.0, 0.0, 1.0, 0.0, 0.0, 0.0, 0.0, 0.0, 0.0, 0.0, 0.0, 0.0], [0.0, 0.0, 0.0, 0.0, 1.0, 0.0, 0.0, 0.0, 0.0, 0.0, 0.0, 0.0, 0.0], [0.0, 0.0, 0.0, 0.0, 0.0, 1.0, 0.0, 0.0, 0.0, 0.0, 0.0, 0.0, 0.0], [0.0, 0.0, 0.0, 0.0, 0.0, 0.0, 1.0, 0.0, 0.0, 0.0, 0.0, 0.0, 0.0], [0.0, 0.0, 0.0, 0.0, 0.0, 0.0, 0.0, 1.0, 0.0, 0.0, 0.0, 0.0, 0.0], [0.0, 0.0, 0.0, 0.0, 0.0, 0.0, 0.0, 0.0, 1.0, 0.0, 0.0, 0.0, 0.0], [0.0, 0.0, 0.0, 0.0, 0.0, 0.0, 0.0, 0.0, 0.0, 1.0, 0.0, 0.0, 0.0], [0.0, 0.0, 0.0, 0.0, 0.0, 0.0, 0.0, 0.0, 0.0, 0.0, 1.0, 0.0, 0.0], [0.0, 0.0, 0.0, 0.0, 0.0, 0.0, 0.0, 0.0, 0.0, 0.0, 0.0, 1.0, 0.0]], 'process_noise': [[0.0004, 0.0, 0.0, 0.0, 0.0, 0.0, 0.0, 0.0, 0.0, 0.0, 0.0, 0.0, 0.0], [0.0, 1e-08, 0.0, 0.0, 0.0, 0.0, 0.0, 0.0, 0.0, 0.0, 0.0, 0.0, 0.0], [0.0, 0.0, 0.0, 0.0, 0.0, 0.0, 0.0, 0.0, 0.0, 0.0, 0.0, 0.0, 0.0], [0.0, 0.0, 0.0, 0.0, 0.0, 0.0, 0.0, 0.0, 0.0, 0.0, 0.0, 0.0, 0.0], [0.0, 0.0, 0.0, 0.0, 0.0, 0.0, 0.0, 0.0, 0.0, 0.0, 0.0, 0.0, 0.0], [0.0, 0.0, 0.0, 0.0, 0.0, 0.0, 0.0, 0.0, 0.0, 0.0, 0.0, 0.0, 0.0], [0.0, 0.0, 0.0, 0.0, 0.0, 0.0, 0.0, 0.0, 0.0, 0.0, 0.0, 0.0, 0.0], [0.0, 0.0, 0.0, 0.0, 0.0, 0.0, 0.0, 0.0, 0.0, 0.0, 0.0, 0.0, 0.0], [0.0, 0.0, 0.0, 0.0, 0.0, 0.0, 0.0, 0.0, 0.0, 0.0, 0.0, 0.0, 0.0], [0.0, 0.0, 0.0, 0.0, 0.0, 0.0, 0.0, 0.0, 0.0, 0.0, 0.0, 0.0, 0.0], [0.0, 0.0, 0.0, 0.0, 0.0, 0.0, 0.0, 0.0, 0.0, 0.0, 0.0, 0.0, 0.0], [0.0, 0.0, 0.0, 0.0, 0.0, 0.0, 0.0, 0.0, 0.0, 0.0, 0.0, 0.0, 0.0], [0.0, 0.0, 0.0, 0.0, 0.0, 0.0, 0.0, 0.0, 0.0, 0.0, 0.0, 0.0, 0.0]], 'observation_model': [[1, 1, 0, 0, 0, 0, 0, 0, 0, 0, 0, 0, 0]], 'observation_noise': 0.04, 'em_iter': 10, 'on_transform': True, 'on_inverse': False}}\") in model 141 in generation 3: SeasonalityMotif\n",
      "Model Number: 142 with model AverageValueNaive in generation 3 of 10\n",
      "Model Number: 143 with model SectionalMotif in generation 3 of 10\n"
     ]
    },
    {
     "name": "stderr",
     "output_type": "stream",
     "text": [
      "c:\\Users\\carre\\AppData\\Local\\Programs\\Python\\Python312\\Lib\\site-packages\\autots\\tools\\fast_kalman.py:1359: RuntimeWarning: overflow encountered in multiply\n",
      "  return a * b.transpose((0, 2, 1))\n",
      "c:\\Users\\carre\\AppData\\Local\\Programs\\Python\\Python312\\Lib\\site-packages\\autots\\tools\\fast_kalman.py:1354: RuntimeWarning: invalid value encountered in matmul\n",
      "  return np.matmul(A, np.swapaxes(B, -1, -2))\n"
     ]
    },
    {
     "name": "stdout",
     "output_type": "stream",
     "text": [
      "Model Number: 144 with model SeasonalityMotif in generation 3 of 10\n",
      "Model Number: 145 with model AverageValueNaive in generation 3 of 10\n",
      "Model Number: 146 with model SeasonalNaive in generation 3 of 10\n"
     ]
    },
    {
     "name": "stderr",
     "output_type": "stream",
     "text": [
      "c:\\Users\\carre\\AppData\\Local\\Programs\\Python\\Python312\\Lib\\site-packages\\numpy\\core\\fromnumeric.py:59: RuntimeWarning: overflow encountered in accumulate\n",
      "  return bound(*args, **kwds)\n",
      "c:\\Users\\carre\\AppData\\Local\\Programs\\Python\\Python312\\Lib\\site-packages\\numpy\\core\\fromnumeric.py:59: RuntimeWarning: overflow encountered in accumulate\n",
      "  return bound(*args, **kwds)\n"
     ]
    },
    {
     "name": "stdout",
     "output_type": "stream",
     "text": [
      "Model Number: 147 with model SectionalMotif in generation 3 of 10\n",
      "Model Number: 148 with model ConstantNaive in generation 3 of 10\n",
      "Model Number: 149 with model LastValueNaive in generation 3 of 10\n",
      "Model Number: 150 with model SectionalMotif in generation 3 of 10\n",
      "Template Eval Error: Exception(\"Transformer RobustScaler failed on inverse from params KNNImputer {'0': {'method': 'clip', 'std_threshold': 4.5, 'fillna': None}, '1': {}, '2': {'low': 6, 'high': 28, 'K': 1, 'lanczos_factor': False, 'return_diff': False, 'on_transform': False, 'on_inverse': True}} with ValueError('Shape of passed values is (174, 1), indices imply (176, 1)')\") in model 150 in generation 3: SectionalMotif\n",
      "Model Number: 151 with model SeasonalNaive in generation 3 of 10\n",
      "Model Number: 152 with model SeasonalityMotif in generation 3 of 10\n",
      "Model Number: 153 with model SeasonalNaive in generation 3 of 10\n",
      "Model Number: 154 with model ConstantNaive in generation 3 of 10\n",
      "Model Number: 155 with model SectionalMotif in generation 3 of 10\n",
      "Model Number: 156 with model SeasonalityMotif in generation 3 of 10\n",
      "Model Number: 157 with model AverageValueNaive in generation 3 of 10\n"
     ]
    },
    {
     "name": "stderr",
     "output_type": "stream",
     "text": [
      "c:\\Users\\carre\\AppData\\Local\\Programs\\Python\\Python312\\Lib\\site-packages\\autots\\tools\\transform.py:5608: FutureWarning: Downcasting object dtype arrays on .fillna, .ffill, .bfill is deprecated and will change in a future version. Call result.infer_objects(copy=False) instead. To opt-in to the future behavior, set `pd.set_option('future.no_silent_downcasting', True)`\n",
      "  df = df.fillna(0)\n",
      "c:\\Users\\carre\\AppData\\Local\\Programs\\Python\\Python312\\Lib\\site-packages\\autots\\tools\\transform.py:5608: FutureWarning: Downcasting object dtype arrays on .fillna, .ffill, .bfill is deprecated and will change in a future version. Call result.infer_objects(copy=False) instead. To opt-in to the future behavior, set `pd.set_option('future.no_silent_downcasting', True)`\n",
      "  df = df.fillna(0)\n",
      "c:\\Users\\carre\\AppData\\Local\\Programs\\Python\\Python312\\Lib\\site-packages\\sklearn\\linear_model\\_ridge.py:216: LinAlgWarning: Ill-conditioned matrix (rcond=7.79351e-26): result may not be accurate.\n",
      "  return linalg.solve(A, Xy, assume_a=\"pos\", overwrite_a=True).T\n"
     ]
    },
    {
     "name": "stdout",
     "output_type": "stream",
     "text": [
      "Model Number: 158 with model SectionalMotif in generation 3 of 10\n",
      "Model Number: 159 with model SeasonalNaive in generation 3 of 10\n",
      "New Generation: 4 of 10\n",
      "Model Number: 160 with model SectionalMotif in generation 4 of 10\n",
      "Model Number: 161 with model LastValueNaive in generation 4 of 10\n",
      "Model Number: 162 with model SeasonalityMotif in generation 4 of 10\n",
      "Model Number: 163 with model SeasonalityMotif in generation 4 of 10\n",
      "Model Number: 164 with model AverageValueNaive in generation 4 of 10\n",
      "Model Number: 165 with model SeasonalNaive in generation 4 of 10\n"
     ]
    },
    {
     "name": "stderr",
     "output_type": "stream",
     "text": [
      "c:\\Users\\carre\\AppData\\Local\\Programs\\Python\\Python312\\Lib\\site-packages\\sklearn\\linear_model\\_ridge.py:216: LinAlgWarning: Ill-conditioned matrix (rcond=7.79351e-26): result may not be accurate.\n",
      "  return linalg.solve(A, Xy, assume_a=\"pos\", overwrite_a=True).T\n"
     ]
    },
    {
     "name": "stdout",
     "output_type": "stream",
     "text": [
      "Model Number: 166 with model AverageValueNaive in generation 4 of 10\n",
      "Model Number: 167 with model ConstantNaive in generation 4 of 10\n",
      "Model Number: 168 with model ConstantNaive in generation 4 of 10\n",
      "Model Number: 169 with model SeasonalityMotif in generation 4 of 10\n",
      "Model Number: 170 with model SeasonalityMotif in generation 4 of 10\n",
      "Model Number: 171 with model SeasonalNaive in generation 4 of 10\n",
      "Model Number: 172 with model LastValueNaive in generation 4 of 10\n",
      "Model Number: 173 with model SeasonalityMotif in generation 4 of 10\n",
      "Model Number: 174 with model SeasonalityMotif in generation 4 of 10\n",
      "Model Number: 175 with model SeasonalNaive in generation 4 of 10\n"
     ]
    },
    {
     "name": "stderr",
     "output_type": "stream",
     "text": [
      "c:\\Users\\carre\\AppData\\Local\\Programs\\Python\\Python312\\Lib\\site-packages\\sklearn\\linear_model\\_ridge.py:216: LinAlgWarning: Ill-conditioned matrix (rcond=7.79351e-26): result may not be accurate.\n",
      "  return linalg.solve(A, Xy, assume_a=\"pos\", overwrite_a=True).T\n"
     ]
    },
    {
     "name": "stdout",
     "output_type": "stream",
     "text": [
      "Model Number: 176 with model SectionalMotif in generation 4 of 10\n",
      "Model Number: 177 with model SeasonalityMotif in generation 4 of 10\n",
      "Model Number: 178 with model GLS in generation 4 of 10\n"
     ]
    },
    {
     "name": "stderr",
     "output_type": "stream",
     "text": [
      "c:\\Users\\carre\\AppData\\Local\\Programs\\Python\\Python312\\Lib\\site-packages\\sklearn\\neighbors\\_classification.py:238: DataConversionWarning: A column-vector y was passed when a 1d array was expected. Please change the shape of y to (n_samples,), for example using ravel().\n",
      "  return self._fit(X, y)\n"
     ]
    },
    {
     "name": "stdout",
     "output_type": "stream",
     "text": [
      "Model Number: 179 with model SectionalMotif in generation 4 of 10\n",
      "Template Eval Error: Exception(\"Transformer ReplaceConstant failed on fit from params fake_date {'0': {'rows': 1, 'lag': 1, 'method': 'additive', 'strength': 1.0, 'first_value_only': False, 'threshold': 10, 'threshold_method': 'max'}, '1': {'method': 0.3}, '2': {'rows': 1, 'lag': 1, 'method': 'additive', 'strength': 1.0, 'first_value_only': False, 'threshold': 1, 'threshold_method': 'max'}, '3': {'rows': 1, 'lag': 28, 'method': 'additive', 'strength': 1.0, 'first_value_only': False, 'threshold': 1, 'threshold_method': 'max'}, '4': {}, '5': {'constant': 0, 'reintroduction_model': {'model': 'xgboost', 'model_params': {'booster': 'gbtree', 'max_depth': 6, 'eta': 0.3, 'min_child_weight': 1, 'subsample': 1, 'colsample_bylevel': 1, 'reg_alpha': 0, 'reg_lambda': 1}, 'datepart_method': 'simple_binarized'}, 'fillna': 'akima'}}\") in model 179 in generation 4: SectionalMotif\n",
      "Model Number: 180 with model LastValueNaive in generation 4 of 10\n",
      "Model Number: 181 with model SectionalMotif in generation 4 of 10\n",
      "Model Number: 182 with model SectionalMotif in generation 4 of 10\n",
      "Model Number: 183 with model AverageValueNaive in generation 4 of 10\n",
      "Model Number: 184 with model GLS in generation 4 of 10\n",
      "Model Number: 185 with model SeasonalityMotif in generation 4 of 10\n",
      "Model Number: 186 with model SeasonalNaive in generation 4 of 10\n",
      "Model Number: 187 with model SeasonalityMotif in generation 4 of 10\n",
      "Model Number: 188 with model SectionalMotif in generation 4 of 10\n",
      "Model Number: 189 with model SectionalMotif in generation 4 of 10\n",
      "Model Number: 190 with model SeasonalNaive in generation 4 of 10\n",
      "Template Eval Error: Exception(\"Transformer RegressionFilter failed on fit from params ffill {'0': {'rows': 1, 'lag': 1, 'method': 'additive', 'strength': 1.0, 'first_value_only': False, 'threshold': 10, 'threshold_method': 'mean'}, '1': {'rows': 1, 'lag': 1, 'method': 'additive', 'strength': 1.0, 'first_value_only': False, 'threshold': 1, 'threshold_method': 'mean'}, '2': {}, '3': {'sigma': 1, 'rolling_window': 90, 'run_order': 'season_first', 'regression_params': {'regression_model': {'model': 'ElasticNet', 'model_params': {'l1_ratio': 0.5, 'fit_intercept': False, 'selection': 'cyclic'}}, 'datepart_method': [168, 'hour'], 'polynomial_degree': None, 'transform_dict': {'fillna': 'rolling_mean', 'transformations': {'0': 'Detrend', '1': 'AlignLastValue'}, 'transformation_params': {'0': {'model': 'Linear', 'phi': 1, 'window': None, 'transform_dict': {'fillna': None, 'transformations': {'0': 'AnomalyRemoval'}, 'transformation_params': {'0': {'method': 'zscore', 'transform_dict': {'transformations': {'0': 'DatepartRegression'}, 'transformation_params': {'0': {'datepart_method': 'simple_3', 'regression_model': {'model': 'ElasticNet', 'model_params': {}}}}}, 'method_params': {'distribution': 'uniform', 'alpha': 0.05}}}}}, '1': {'rows': 1, 'lag': 1, 'method': 'additive', 'strength': 1.0, 'first_value_only': False, 'threshold': 1, 'threshold_method': 'max'}}}, 'holiday_countries_used': False, 'lags': None, 'forward_lags': None}, 'holiday_params': {'threshold': 1.0, 'splash_threshold': None, 'use_dayofmonth_holidays': True, 'use_wkdom_holidays': True, 'use_wkdeom_holidays': False, 'use_lunar_holidays': False, 'use_lunar_weekday': False, 'use_islamic_holidays': False, 'use_hebrew_holidays': False, 'anomaly_detector_params': {'method': 'zscore', 'method_params': {'distribution': 'norm', 'alpha': 0.05}, 'fillna': 'linear', 'transform_dict': {'fillna': 'mean', 'transformations': {'0': 'SeasonalDifference', '1': 'RobustScaler'}, 'transformation_params': {'0': {'lag_1': 7, 'method': 'LastValue'}, '1': {}}}, 'isolated_only': False}, 'remove_excess_anomalies': True, 'impact': 'datepart_regression', 'regression_params': {'regression_model': {'model': 'ElasticNet', 'model_params': {'l1_ratio': 0.5, 'fit_intercept': False, 'selection': 'cyclic'}}, 'datepart_method': [168, 'hour'], 'polynomial_degree': None, 'transform_dict': {'fillna': 'rolling_mean', 'transformations': {'0': 'Detrend', '1': 'AlignLastValue'}, 'transformation_params': {'0': {'model': 'Linear', 'phi': 1, 'window': None, 'transform_dict': {'fillna': None, 'transformations': {'0': 'AnomalyRemoval'}, 'transformation_params': {'0': {'method': 'zscore', 'transform_dict': {'transformations': {'0': 'DatepartRegression'}, 'transformation_params': {'0': {'datepart_method': 'simple_3', 'regression_model': {'model': 'ElasticNet', 'model_params': {}}}}}, 'method_params': {'distribution': 'uniform', 'alpha': 0.05}}}}}, '1': {'rows': 1, 'lag': 1, 'method': 'additive', 'strength': 1.0, 'first_value_only': False, 'threshold': 1, 'threshold_method': 'max'}}}, 'holiday_countries_used': False, 'lags': None, 'forward_lags': None}}, 'trend_method': 'rolling_mean'}}\") in model 190 in generation 4: SeasonalNaive\n",
      "Model Number: 191 with model AverageValueNaive in generation 4 of 10\n",
      "Model Number: 192 with model SectionalMotif in generation 4 of 10\n",
      "Model Number: 193 with model ConstantNaive in generation 4 of 10\n",
      "Model Number: 194 with model GLS in generation 4 of 10\n",
      "New Generation: 5 of 10\n",
      "Model Number: 195 with model SectionalMotif in generation 5 of 10\n",
      "Model Number: 196 with model SeasonalNaive in generation 5 of 10\n",
      "Model Number: 197 with model GLS in generation 5 of 10\n",
      "Model Number: 198 with model SectionalMotif in generation 5 of 10\n",
      "Model Number: 199 with model SeasonalityMotif in generation 5 of 10\n",
      "Template Eval Error: Exception(\"Transformer BTCD failed on fit from params zero {'0': {'output_distribution': 'uniform', 'n_quantiles': 140}, '1': {'method': 'clip', 'std_threshold': 3.5, 'fillna': None}, '2': {'method': 'butter', 'method_args': {'N': 3, 'btype': 'lowpass', 'analog': False, 'output': 'sos', 'Wn': 0.0027472527472527475}}, '3': {'n_harmonics': 'mid20', 'detrend': 'linear'}, '4': {'regression_model': {'model': 'FastRidge', 'model_params': {}}, 'max_lags': 2}, '5': {'rows': 1, 'lag': 1, 'method': 'additive', 'strength': 1.0, 'first_value_only': False, 'threshold': None, 'threshold_method': 'mean'}}\") in model 199 in generation 5: SeasonalityMotif\n",
      "Model Number: 200 with model SeasonalityMotif in generation 5 of 10\n",
      "Model Number: 201 with model SeasonalNaive in generation 5 of 10\n",
      "Model Number: 202 with model SeasonalityMotif in generation 5 of 10\n",
      "Model Number: 203 with model SectionalMotif in generation 5 of 10\n",
      "Model Number: 204 with model GLS in generation 5 of 10\n",
      "Model Number: 205 with model GLS in generation 5 of 10\n",
      "Model Number: 206 with model GLS in generation 5 of 10\n"
     ]
    },
    {
     "name": "stderr",
     "output_type": "stream",
     "text": [
      "c:\\Users\\carre\\AppData\\Local\\Programs\\Python\\Python312\\Lib\\site-packages\\sklearn\\neighbors\\_classification.py:238: DataConversionWarning: A column-vector y was passed when a 1d array was expected. Please change the shape of y to (n_samples,), for example using ravel().\n",
      "  return self._fit(X, y)\n"
     ]
    },
    {
     "name": "stdout",
     "output_type": "stream",
     "text": [
      "Model Number: 207 with model SeasonalityMotif in generation 5 of 10\n",
      "Model Number: 208 with model SectionalMotif in generation 5 of 10\n",
      "Model Number: 209 with model SectionalMotif in generation 5 of 10\n",
      "Model Number: 210 with model SeasonalityMotif in generation 5 of 10\n",
      "Model Number: 211 with model SeasonalityMotif in generation 5 of 10\n",
      "Model Number: 212 with model LastValueNaive in generation 5 of 10\n",
      "Model Number: 213 with model SeasonalityMotif in generation 5 of 10\n",
      "Model Number: 214 with model SectionalMotif in generation 5 of 10\n",
      "Model Number: 215 with model SeasonalityMotif in generation 5 of 10\n",
      "Model Number: 216 with model AverageValueNaive in generation 5 of 10\n",
      "Model Number: 217 with model SeasonalityMotif in generation 5 of 10\n",
      "Model Number: 218 with model SeasonalNaive in generation 5 of 10\n"
     ]
    },
    {
     "name": "stderr",
     "output_type": "stream",
     "text": [
      "c:\\Users\\carre\\AppData\\Local\\Programs\\Python\\Python312\\Lib\\site-packages\\sklearn\\linear_model\\_ridge.py:216: LinAlgWarning: Ill-conditioned matrix (rcond=7.79351e-26): result may not be accurate.\n",
      "  return linalg.solve(A, Xy, assume_a=\"pos\", overwrite_a=True).T\n"
     ]
    },
    {
     "name": "stdout",
     "output_type": "stream",
     "text": [
      "Model Number: 219 with model SeasonalNaive in generation 5 of 10\n",
      "Model Number: 220 with model GLS in generation 5 of 10\n",
      "Model Number: 221 with model SeasonalityMotif in generation 5 of 10\n",
      "Model Number: 222 with model SeasonalNaive in generation 5 of 10\n"
     ]
    },
    {
     "name": "stderr",
     "output_type": "stream",
     "text": [
      "c:\\Users\\carre\\AppData\\Local\\Programs\\Python\\Python312\\Lib\\site-packages\\sklearn\\linear_model\\_ridge.py:216: LinAlgWarning: Ill-conditioned matrix (rcond=7.79351e-26): result may not be accurate.\n",
      "  return linalg.solve(A, Xy, assume_a=\"pos\", overwrite_a=True).T\n"
     ]
    },
    {
     "name": "stdout",
     "output_type": "stream",
     "text": [
      "New Generation: 6 of 10\n",
      "Model Number: 223 with model SectionalMotif in generation 6 of 10\n",
      "Model Number: 224 with model SeasonalityMotif in generation 6 of 10\n",
      "Model Number: 225 with model SeasonalityMotif in generation 6 of 10\n",
      "Model Number: 226 with model SectionalMotif in generation 6 of 10\n",
      "Model Number: 227 with model SeasonalityMotif in generation 6 of 10\n",
      "Model Number: 228 with model AverageValueNaive in generation 6 of 10\n",
      "Model Number: 229 with model SeasonalityMotif in generation 6 of 10\n",
      "Model Number: 230 with model SectionalMotif in generation 6 of 10\n",
      "Model Number: 231 with model SectionalMotif in generation 6 of 10\n",
      "Model Number: 232 with model SeasonalNaive in generation 6 of 10\n",
      "Model Number: 233 with model SeasonalNaive in generation 6 of 10\n",
      "Model Number: 234 with model LastValueNaive in generation 6 of 10\n",
      "Model Number: 235 with model SeasonalityMotif in generation 6 of 10\n"
     ]
    },
    {
     "name": "stderr",
     "output_type": "stream",
     "text": [
      "c:\\Users\\carre\\AppData\\Local\\Programs\\Python\\Python312\\Lib\\site-packages\\sklearn\\linear_model\\_ridge.py:216: LinAlgWarning: Ill-conditioned matrix (rcond=7.79351e-26): result may not be accurate.\n",
      "  return linalg.solve(A, Xy, assume_a=\"pos\", overwrite_a=True).T\n",
      "c:\\Users\\carre\\AppData\\Local\\Programs\\Python\\Python312\\Lib\\site-packages\\autots\\tools\\anomaly_utils.py:1115: FutureWarning: Downcasting object dtype arrays on .fillna, .ffill, .bfill is deprecated and will change in a future version. Call result.infer_objects(copy=False) instead. To opt-in to the future behavior, set `pd.set_option('future.no_silent_downcasting', True)`\n",
      "  result = result + temp.where(temp.isnull(), 1).fillna(0)\n",
      "c:\\Users\\carre\\AppData\\Local\\Programs\\Python\\Python312\\Lib\\site-packages\\autots\\tools\\anomaly_utils.py:1115: FutureWarning: Downcasting object dtype arrays on .fillna, .ffill, .bfill is deprecated and will change in a future version. Call result.infer_objects(copy=False) instead. To opt-in to the future behavior, set `pd.set_option('future.no_silent_downcasting', True)`\n",
      "  result = result + temp.where(temp.isnull(), 1).fillna(0)\n"
     ]
    },
    {
     "name": "stdout",
     "output_type": "stream",
     "text": [
      "Model Number: 236 with model SeasonalNaive in generation 6 of 10\n",
      "Model Number: 237 with model SectionalMotif in generation 6 of 10\n",
      "Template Eval Error: ValueError(\"Model returned NaN due to a preprocessing transformer {'fillna': 'ffill', 'transformations': {'0': 'AlignLastValue', '1': 'AlignLastValue', '2': 'Log', '3': 'CumSumTransformer'}, 'transformation_params': {'0': {'rows': 1, 'lag': 28, 'method': 'additive', 'strength': 1.0, 'first_value_only': False, 'threshold': 3, 'threshold_method': 'max'}, '1': {'rows': 1, 'lag': 7, 'method': 'additive', 'strength': 1.0, 'first_value_only': False, 'threshold': None, 'threshold_method': 'max'}, '2': {}, '3': {}}}. fail_on_forecast_nan=True\") in model 237 in generation 6: SectionalMotif\n",
      "Model Number: 238 with model SeasonalityMotif in generation 6 of 10\n",
      "Model Number: 239 with model SectionalMotif in generation 6 of 10\n",
      "Model Number: 240 with model SeasonalNaive in generation 6 of 10\n"
     ]
    },
    {
     "name": "stderr",
     "output_type": "stream",
     "text": [
      "c:\\Users\\carre\\AppData\\Local\\Programs\\Python\\Python312\\Lib\\site-packages\\pandas\\core\\internals\\blocks.py:393: RuntimeWarning: overflow encountered in exp\n",
      "  result = func(self.values, **kwargs)\n",
      "c:\\Users\\carre\\AppData\\Local\\Programs\\Python\\Python312\\Lib\\site-packages\\pandas\\core\\internals\\blocks.py:393: RuntimeWarning: overflow encountered in exp\n",
      "  result = func(self.values, **kwargs)\n",
      "c:\\Users\\carre\\AppData\\Local\\Programs\\Python\\Python312\\Lib\\site-packages\\pandas\\core\\internals\\blocks.py:393: RuntimeWarning: overflow encountered in exp\n",
      "  result = func(self.values, **kwargs)\n",
      "c:\\Users\\carre\\AppData\\Local\\Programs\\Python\\Python312\\Lib\\site-packages\\autots\\tools\\transform.py:5608: FutureWarning: Downcasting object dtype arrays on .fillna, .ffill, .bfill is deprecated and will change in a future version. Call result.infer_objects(copy=False) instead. To opt-in to the future behavior, set `pd.set_option('future.no_silent_downcasting', True)`\n",
      "  df = df.fillna(0)\n",
      "c:\\Users\\carre\\AppData\\Local\\Programs\\Python\\Python312\\Lib\\site-packages\\autots\\tools\\transform.py:5608: FutureWarning: Downcasting object dtype arrays on .fillna, .ffill, .bfill is deprecated and will change in a future version. Call result.infer_objects(copy=False) instead. To opt-in to the future behavior, set `pd.set_option('future.no_silent_downcasting', True)`\n",
      "  df = df.fillna(0)\n"
     ]
    },
    {
     "name": "stdout",
     "output_type": "stream",
     "text": [
      "Model Number: 241 with model SeasonalityMotif in generation 6 of 10\n",
      "Model Number: 242 with model SectionalMotif in generation 6 of 10\n",
      "Model Number: 243 with model GLS in generation 6 of 10\n"
     ]
    },
    {
     "name": "stderr",
     "output_type": "stream",
     "text": [
      "c:\\Users\\carre\\AppData\\Local\\Programs\\Python\\Python312\\Lib\\site-packages\\sklearn\\neighbors\\_classification.py:238: DataConversionWarning: A column-vector y was passed when a 1d array was expected. Please change the shape of y to (n_samples,), for example using ravel().\n",
      "  return self._fit(X, y)\n"
     ]
    },
    {
     "name": "stdout",
     "output_type": "stream",
     "text": [
      "Model Number: 244 with model SectionalMotif in generation 6 of 10\n",
      "Model Number: 245 with model GLS in generation 6 of 10\n",
      "Model Number: 246 with model GLS in generation 6 of 10\n",
      "Model Number: 247 with model SeasonalityMotif in generation 6 of 10\n",
      "Model Number: 248 with model SeasonalityMotif in generation 6 of 10\n",
      "Model Number: 249 with model SeasonalityMotif in generation 6 of 10\n",
      "Model Number: 250 with model LastValueNaive in generation 6 of 10\n",
      "New Generation: 7 of 10\n",
      "Model Number: 251 with model SeasonalityMotif in generation 7 of 10\n",
      "Model Number: 252 with model SeasonalityMotif in generation 7 of 10\n",
      "Model Number: 253 with model SectionalMotif in generation 7 of 10\n",
      "Model Number: 254 with model SeasonalNaive in generation 7 of 10\n",
      "Model Number: 255 with model SeasonalNaive in generation 7 of 10\n",
      "Model Number: 256 with model SectionalMotif in generation 7 of 10\n",
      "Model Number: 257 with model GLS in generation 7 of 10\n",
      "Model Number: 258 with model SeasonalNaive in generation 7 of 10\n",
      "Model Number: 259 with model GLS in generation 7 of 10\n",
      "Model Number: 260 with model AverageValueNaive in generation 7 of 10\n",
      "Model Number: 261 with model LastValueNaive in generation 7 of 10\n"
     ]
    },
    {
     "name": "stderr",
     "output_type": "stream",
     "text": [
      "c:\\Users\\carre\\AppData\\Local\\Programs\\Python\\Python312\\Lib\\site-packages\\sklearn\\neighbors\\_classification.py:238: DataConversionWarning: A column-vector y was passed when a 1d array was expected. Please change the shape of y to (n_samples,), for example using ravel().\n",
      "  return self._fit(X, y)\n",
      "c:\\Users\\carre\\AppData\\Local\\Programs\\Python\\Python312\\Lib\\site-packages\\sklearn\\neighbors\\_classification.py:238: DataConversionWarning: A column-vector y was passed when a 1d array was expected. Please change the shape of y to (n_samples,), for example using ravel().\n",
      "  return self._fit(X, y)\n"
     ]
    },
    {
     "name": "stdout",
     "output_type": "stream",
     "text": [
      "Model Number: 262 with model SeasonalityMotif in generation 7 of 10\n",
      "Model Number: 263 with model SectionalMotif in generation 7 of 10\n",
      "Model Number: 264 with model SectionalMotif in generation 7 of 10\n",
      "Model Number: 265 with model SeasonalityMotif in generation 7 of 10\n",
      "Model Number: 266 with model SectionalMotif in generation 7 of 10\n",
      "Model Number: 267 with model AverageValueNaive in generation 7 of 10\n",
      "Model Number: 268 with model SeasonalNaive in generation 7 of 10\n",
      "Model Number: 269 with model SeasonalNaive in generation 7 of 10\n",
      "Model Number: 270 with model SeasonalityMotif in generation 7 of 10\n",
      "Model Number: 271 with model LastValueNaive in generation 7 of 10\n",
      "Model Number: 272 with model GLS in generation 7 of 10\n"
     ]
    },
    {
     "name": "stderr",
     "output_type": "stream",
     "text": [
      "c:\\Users\\carre\\AppData\\Local\\Programs\\Python\\Python312\\Lib\\site-packages\\sklearn\\neighbors\\_classification.py:238: DataConversionWarning: A column-vector y was passed when a 1d array was expected. Please change the shape of y to (n_samples,), for example using ravel().\n",
      "  return self._fit(X, y)\n"
     ]
    },
    {
     "name": "stdout",
     "output_type": "stream",
     "text": [
      "Model Number: 273 with model SeasonalNaive in generation 7 of 10\n",
      "Model Number: 274 with model SeasonalityMotif in generation 7 of 10\n",
      "Model Number: 275 with model LastValueNaive in generation 7 of 10\n",
      "Model Number: 276 with model SeasonalNaive in generation 7 of 10\n",
      "Model Number: 277 with model SectionalMotif in generation 7 of 10\n",
      "Model Number: 278 with model SectionalMotif in generation 7 of 10\n",
      "New Generation: 8 of 10\n",
      "Model Number: 279 with model SectionalMotif in generation 8 of 10\n",
      "Model Number: 280 with model SectionalMotif in generation 8 of 10\n",
      "Model Number: 281 with model SeasonalityMotif in generation 8 of 10\n",
      "Model Number: 282 with model SeasonalityMotif in generation 8 of 10\n",
      "Model Number: 283 with model SeasonalNaive in generation 8 of 10\n",
      "Model Number: 284 with model SectionalMotif in generation 8 of 10\n",
      "Model Number: 285 with model AverageValueNaive in generation 8 of 10\n",
      "Model Number: 286 with model SeasonalNaive in generation 8 of 10\n",
      "Model Number: 287 with model SeasonalityMotif in generation 8 of 10\n",
      "Model Number: 288 with model SeasonalNaive in generation 8 of 10\n",
      "Model Number: 289 with model SeasonalNaive in generation 8 of 10\n",
      "Model Number: 290 with model SeasonalityMotif in generation 8 of 10\n",
      "Model Number: 291 with model SeasonalityMotif in generation 8 of 10\n",
      "Model Number: 292 with model SectionalMotif in generation 8 of 10\n",
      "Model Number: 293 with model SeasonalNaive in generation 8 of 10\n",
      "Model Number: 294 with model SeasonalNaive in generation 8 of 10\n",
      "Model Number: 295 with model SeasonalityMotif in generation 8 of 10\n",
      "Model Number: 296 with model SeasonalityMotif in generation 8 of 10\n",
      "Model Number: 297 with model SeasonalNaive in generation 8 of 10\n",
      "Model Number: 298 with model GLS in generation 8 of 10\n"
     ]
    },
    {
     "name": "stderr",
     "output_type": "stream",
     "text": [
      "c:\\Users\\carre\\AppData\\Local\\Programs\\Python\\Python312\\Lib\\site-packages\\sklearn\\neighbors\\_classification.py:238: DataConversionWarning: A column-vector y was passed when a 1d array was expected. Please change the shape of y to (n_samples,), for example using ravel().\n",
      "  return self._fit(X, y)\n"
     ]
    },
    {
     "name": "stdout",
     "output_type": "stream",
     "text": [
      "Model Number: 299 with model SeasonalityMotif in generation 8 of 10\n",
      "Model Number: 300 with model SectionalMotif in generation 8 of 10\n",
      "Model Number: 301 with model SeasonalityMotif in generation 8 of 10\n",
      "Model Number: 302 with model SeasonalNaive in generation 8 of 10\n",
      "Model Number: 303 with model GLS in generation 8 of 10\n",
      "Model Number: 304 with model SeasonalityMotif in generation 8 of 10\n",
      "Model Number: 305 with model SeasonalNaive in generation 8 of 10\n",
      "Model Number: 306 with model AverageValueNaive in generation 8 of 10\n",
      "New Generation: 9 of 10\n",
      "Model Number: 307 with model AverageValueNaive in generation 9 of 10\n",
      "Model Number: 308 with model SeasonalityMotif in generation 9 of 10\n",
      "Model Number: 309 with model SectionalMotif in generation 9 of 10\n",
      "Template Eval Error: ValueError('zero-size array to reduction operation fmax which has no identity') in model 309 in generation 9: SectionalMotif\n",
      "Model Number: 310 with model SectionalMotif in generation 9 of 10\n",
      "Model Number: 311 with model SectionalMotif in generation 9 of 10\n",
      "Model Number: 312 with model SeasonalNaive in generation 9 of 10\n"
     ]
    },
    {
     "name": "stderr",
     "output_type": "stream",
     "text": [
      "c:\\Users\\carre\\AppData\\Local\\Programs\\Python\\Python312\\Lib\\site-packages\\autots\\models\\basics.py:1947: RuntimeWarning: Mean of empty slice\n",
      "  forecast = np.nanmean(results, axis=0)\n"
     ]
    },
    {
     "name": "stdout",
     "output_type": "stream",
     "text": [
      "Model Number: 313 with model GLS in generation 9 of 10\n",
      "Model Number: 314 with model SeasonalityMotif in generation 9 of 10\n",
      "Template Eval Error: Exception(\"Transformer Cointegration failed on fit from params rolling_mean {'0': {'method': 0.3}, '1': {'method': 'rolling_zscore', 'method_params': {'distribution': 'chi2', 'alpha': 0.05, 'rolling_periods': 300, 'center': False}, 'transform_dict': None, 'reverse_alignment': False, 'isolated_only': False, 'fillna': 'rolling_mean_24'}, '2': {}, '3': {'low': 6, 'high': 40, 'K': 1, 'lanczos_factor': False, 'return_diff': True, 'on_transform': True, 'on_inverse': False}, '4': {'rows': 1, 'lag': 7, 'method': 'additive', 'strength': 1.0, 'first_value_only': False, 'threshold': None, 'threshold_method': 'max'}, '5': {'det_order': 1, 'k_ar_diff': 2}}\") in model 314 in generation 9: SeasonalityMotif\n",
      "Model Number: 315 with model AverageValueNaive in generation 9 of 10\n",
      "Model Number: 316 with model SeasonalNaive in generation 9 of 10\n"
     ]
    },
    {
     "name": "stderr",
     "output_type": "stream",
     "text": [
      "c:\\Users\\carre\\AppData\\Local\\Programs\\Python\\Python312\\Lib\\site-packages\\sklearn\\neighbors\\_classification.py:238: DataConversionWarning: A column-vector y was passed when a 1d array was expected. Please change the shape of y to (n_samples,), for example using ravel().\n",
      "  return self._fit(X, y)\n"
     ]
    },
    {
     "name": "stdout",
     "output_type": "stream",
     "text": [
      "Model Number: 317 with model SeasonalityMotif in generation 9 of 10\n",
      "Template Eval Error: Exception(\"Transformer Cointegration failed on fit from params ffill {'0': {}, '1': {'method': 'rolling_zscore', 'method_params': {'distribution': 'chi2', 'alpha': 0.05, 'rolling_periods': 300, 'center': False}, 'transform_dict': None, 'reverse_alignment': False, 'isolated_only': False, 'fillna': 'rolling_mean_24'}, '2': {}, '3': {'low': 6, 'high': 40, 'K': 1, 'lanczos_factor': False, 'return_diff': True, 'on_transform': True, 'on_inverse': False}, '4': {'rows': 1, 'lag': 7, 'method': 'additive', 'strength': 1.0, 'first_value_only': False, 'threshold': None, 'threshold_method': 'max'}, '5': {'det_order': 1, 'k_ar_diff': 2}}\") in model 317 in generation 9: SeasonalityMotif\n",
      "Model Number: 318 with model LastValueNaive in generation 9 of 10\n",
      "Model Number: 319 with model SectionalMotif in generation 9 of 10\n",
      "Template Eval Error: Exception(\"Transformer BTCD failed on fit from params rolling_mean_24 {'0': {'rows': 1, 'lag': 2, 'method': 'additive', 'strength': 1.0, 'first_value_only': False, 'threshold': 1, 'threshold_method': 'mean'}, '1': {}, '2': {'regression_model': {'model': 'FastRidge', 'model_params': {}}, 'max_lags': 2}}\") in model 319 in generation 9: SectionalMotif\n",
      "Model Number: 320 with model AverageValueNaive in generation 9 of 10\n",
      "Model Number: 321 with model SectionalMotif in generation 9 of 10\n",
      "Model Number: 322 with model SectionalMotif in generation 9 of 10\n",
      "Model Number: 323 with model SectionalMotif in generation 9 of 10\n",
      "Model Number: 324 with model GLS in generation 9 of 10\n",
      "Model Number: 325 with model LastValueNaive in generation 9 of 10\n",
      "Model Number: 326 with model SectionalMotif in generation 9 of 10\n",
      "Model Number: 327 with model SeasonalNaive in generation 9 of 10\n"
     ]
    },
    {
     "name": "stderr",
     "output_type": "stream",
     "text": [
      "c:\\Users\\carre\\AppData\\Local\\Programs\\Python\\Python312\\Lib\\site-packages\\autots\\tools\\transform.py:1571: FutureWarning: Downcasting behavior in `replace` is deprecated and will be removed in a future version. To retain the old behavior, explicitly call `result.infer_objects(copy=False)`. To opt-in to the future behavior, set `pd.set_option('future.no_silent_downcasting', True)`\n",
      "  df = (df + 1).replace([0], np.nan)\n",
      "c:\\Users\\carre\\AppData\\Local\\Programs\\Python\\Python312\\Lib\\site-packages\\autots\\tools\\transform.py:1571: FutureWarning: Downcasting behavior in `replace` is deprecated and will be removed in a future version. To retain the old behavior, explicitly call `result.infer_objects(copy=False)`. To opt-in to the future behavior, set `pd.set_option('future.no_silent_downcasting', True)`\n",
      "  df = (df + 1).replace([0], np.nan)\n"
     ]
    },
    {
     "name": "stdout",
     "output_type": "stream",
     "text": [
      "Model Number: 328 with model SectionalMotif in generation 9 of 10\n",
      "Template Eval Error: Exception(\"Transformer BTCD failed on fit from params time {'0': {'regression_model': {'model': 'FastRidge', 'model_params': {}}, 'max_lags': 2}, '1': {'span': 68}, '2': {'lag_1': 96, 'method': 'LastValue'}, '3': {'rows': 1, 'lag': 28, 'method': 'additive', 'strength': 1.0, 'first_value_only': False, 'threshold': None, 'threshold_method': 'mean'}}\") in model 328 in generation 9: SectionalMotif\n",
      "Model Number: 329 with model SeasonalityMotif in generation 9 of 10\n",
      "Model Number: 330 with model AverageValueNaive in generation 9 of 10\n",
      "Model Number: 331 with model SectionalMotif in generation 9 of 10\n",
      "Model Number: 332 with model SeasonalityMotif in generation 9 of 10\n",
      "Template Eval Error: Exception(\"Transformer MinMaxScaler failed on fit from params ffill_mean_biased {'0': {'rows': 1, 'lag': 1, 'method': 'additive', 'strength': 1.0, 'first_value_only': False, 'threshold': 10, 'threshold_method': 'max'}, '1': {'low': 6, 'high': 32, 'K': 3, 'lanczos_factor': False, 'return_diff': False, 'on_transform': True, 'on_inverse': False}, '2': {}, '3': {'model': 'GLS', 'phi': 1, 'window': None, 'transform_dict': None}}\") in model 332 in generation 9: SeasonalityMotif\n",
      "Model Number: 333 with model SeasonalityMotif in generation 9 of 10\n"
     ]
    },
    {
     "name": "stderr",
     "output_type": "stream",
     "text": [
      "c:\\Users\\carre\\AppData\\Local\\Programs\\Python\\Python312\\Lib\\site-packages\\autots\\tools\\anomaly_utils.py:1115: FutureWarning: Downcasting object dtype arrays on .fillna, .ffill, .bfill is deprecated and will change in a future version. Call result.infer_objects(copy=False) instead. To opt-in to the future behavior, set `pd.set_option('future.no_silent_downcasting', True)`\n",
      "  result = result + temp.where(temp.isnull(), 1).fillna(0)\n",
      "c:\\Users\\carre\\AppData\\Local\\Programs\\Python\\Python312\\Lib\\site-packages\\autots\\tools\\anomaly_utils.py:1115: FutureWarning: Downcasting object dtype arrays on .fillna, .ffill, .bfill is deprecated and will change in a future version. Call result.infer_objects(copy=False) instead. To opt-in to the future behavior, set `pd.set_option('future.no_silent_downcasting', True)`\n",
      "  result = result + temp.where(temp.isnull(), 1).fillna(0)\n",
      "c:\\Users\\carre\\AppData\\Local\\Programs\\Python\\Python312\\Lib\\site-packages\\autots\\tools\\anomaly_utils.py:1115: FutureWarning: Downcasting object dtype arrays on .fillna, .ffill, .bfill is deprecated and will change in a future version. Call result.infer_objects(copy=False) instead. To opt-in to the future behavior, set `pd.set_option('future.no_silent_downcasting', True)`\n",
      "  result = result + temp.where(temp.isnull(), 1).fillna(0)\n",
      "c:\\Users\\carre\\AppData\\Local\\Programs\\Python\\Python312\\Lib\\site-packages\\autots\\tools\\anomaly_utils.py:1115: FutureWarning: Downcasting object dtype arrays on .fillna, .ffill, .bfill is deprecated and will change in a future version. Call result.infer_objects(copy=False) instead. To opt-in to the future behavior, set `pd.set_option('future.no_silent_downcasting', True)`\n",
      "  result = result + temp.where(temp.isnull(), 1).fillna(0)\n",
      "c:\\Users\\carre\\AppData\\Local\\Programs\\Python\\Python312\\Lib\\site-packages\\autots\\tools\\anomaly_utils.py:1132: FutureWarning: Downcasting behavior in `replace` is deprecated and will be removed in a future version. To retain the old behavior, explicitly call `result.infer_objects(copy=False)`. To opt-in to the future behavior, set `pd.set_option('future.no_silent_downcasting', True)`\n",
      "  temp.replace(replace_dict).astype(float).fillna(0),\n",
      "c:\\Users\\carre\\AppData\\Local\\Programs\\Python\\Python312\\Lib\\site-packages\\autots\\tools\\anomaly_utils.py:1132: FutureWarning: Downcasting behavior in `replace` is deprecated and will be removed in a future version. To retain the old behavior, explicitly call `result.infer_objects(copy=False)`. To opt-in to the future behavior, set `pd.set_option('future.no_silent_downcasting', True)`\n",
      "  temp.replace(replace_dict).astype(float).fillna(0),\n",
      "c:\\Users\\carre\\AppData\\Local\\Programs\\Python\\Python312\\Lib\\site-packages\\autots\\tools\\anomaly_utils.py:1132: FutureWarning: Downcasting behavior in `replace` is deprecated and will be removed in a future version. To retain the old behavior, explicitly call `result.infer_objects(copy=False)`. To opt-in to the future behavior, set `pd.set_option('future.no_silent_downcasting', True)`\n",
      "  temp.replace(replace_dict).astype(float).fillna(0),\n",
      "c:\\Users\\carre\\AppData\\Local\\Programs\\Python\\Python312\\Lib\\site-packages\\autots\\tools\\anomaly_utils.py:1132: FutureWarning: Downcasting behavior in `replace` is deprecated and will be removed in a future version. To retain the old behavior, explicitly call `result.infer_objects(copy=False)`. To opt-in to the future behavior, set `pd.set_option('future.no_silent_downcasting', True)`\n",
      "  temp.replace(replace_dict).astype(float).fillna(0),\n",
      "c:\\Users\\carre\\AppData\\Local\\Programs\\Python\\Python312\\Lib\\site-packages\\autots\\tools\\anomaly_utils.py:1132: FutureWarning: Downcasting behavior in `replace` is deprecated and will be removed in a future version. To retain the old behavior, explicitly call `result.infer_objects(copy=False)`. To opt-in to the future behavior, set `pd.set_option('future.no_silent_downcasting', True)`\n",
      "  temp.replace(replace_dict).astype(float).fillna(0),\n",
      "c:\\Users\\carre\\AppData\\Local\\Programs\\Python\\Python312\\Lib\\site-packages\\autots\\tools\\anomaly_utils.py:1132: FutureWarning: Downcasting behavior in `replace` is deprecated and will be removed in a future version. To retain the old behavior, explicitly call `result.infer_objects(copy=False)`. To opt-in to the future behavior, set `pd.set_option('future.no_silent_downcasting', True)`\n",
      "  temp.replace(replace_dict).astype(float).fillna(0),\n",
      "c:\\Users\\carre\\AppData\\Local\\Programs\\Python\\Python312\\Lib\\site-packages\\autots\\tools\\anomaly_utils.py:1132: FutureWarning: Downcasting behavior in `replace` is deprecated and will be removed in a future version. To retain the old behavior, explicitly call `result.infer_objects(copy=False)`. To opt-in to the future behavior, set `pd.set_option('future.no_silent_downcasting', True)`\n",
      "  temp.replace(replace_dict).astype(float).fillna(0),\n",
      "c:\\Users\\carre\\AppData\\Local\\Programs\\Python\\Python312\\Lib\\site-packages\\autots\\tools\\anomaly_utils.py:1132: FutureWarning: Downcasting behavior in `replace` is deprecated and will be removed in a future version. To retain the old behavior, explicitly call `result.infer_objects(copy=False)`. To opt-in to the future behavior, set `pd.set_option('future.no_silent_downcasting', True)`\n",
      "  temp.replace(replace_dict).astype(float).fillna(0),\n",
      "c:\\Users\\carre\\AppData\\Local\\Programs\\Python\\Python312\\Lib\\site-packages\\autots\\tools\\anomaly_utils.py:1132: FutureWarning: Downcasting behavior in `replace` is deprecated and will be removed in a future version. To retain the old behavior, explicitly call `result.infer_objects(copy=False)`. To opt-in to the future behavior, set `pd.set_option('future.no_silent_downcasting', True)`\n",
      "  temp.replace(replace_dict).astype(float).fillna(0),\n",
      "c:\\Users\\carre\\AppData\\Local\\Programs\\Python\\Python312\\Lib\\site-packages\\autots\\tools\\anomaly_utils.py:1132: FutureWarning: Downcasting behavior in `replace` is deprecated and will be removed in a future version. To retain the old behavior, explicitly call `result.infer_objects(copy=False)`. To opt-in to the future behavior, set `pd.set_option('future.no_silent_downcasting', True)`\n",
      "  temp.replace(replace_dict).astype(float).fillna(0),\n",
      "c:\\Users\\carre\\AppData\\Local\\Programs\\Python\\Python312\\Lib\\site-packages\\autots\\tools\\anomaly_utils.py:1132: FutureWarning: Downcasting behavior in `replace` is deprecated and will be removed in a future version. To retain the old behavior, explicitly call `result.infer_objects(copy=False)`. To opt-in to the future behavior, set `pd.set_option('future.no_silent_downcasting', True)`\n",
      "  temp.replace(replace_dict).astype(float).fillna(0),\n",
      "c:\\Users\\carre\\AppData\\Local\\Programs\\Python\\Python312\\Lib\\site-packages\\autots\\tools\\anomaly_utils.py:1132: FutureWarning: Downcasting behavior in `replace` is deprecated and will be removed in a future version. To retain the old behavior, explicitly call `result.infer_objects(copy=False)`. To opt-in to the future behavior, set `pd.set_option('future.no_silent_downcasting', True)`\n",
      "  temp.replace(replace_dict).astype(float).fillna(0),\n",
      "c:\\Users\\carre\\AppData\\Local\\Programs\\Python\\Python312\\Lib\\site-packages\\autots\\tools\\anomaly_utils.py:1132: FutureWarning: Downcasting behavior in `replace` is deprecated and will be removed in a future version. To retain the old behavior, explicitly call `result.infer_objects(copy=False)`. To opt-in to the future behavior, set `pd.set_option('future.no_silent_downcasting', True)`\n",
      "  temp.replace(replace_dict).astype(float).fillna(0),\n",
      "c:\\Users\\carre\\AppData\\Local\\Programs\\Python\\Python312\\Lib\\site-packages\\autots\\tools\\anomaly_utils.py:1132: FutureWarning: Downcasting behavior in `replace` is deprecated and will be removed in a future version. To retain the old behavior, explicitly call `result.infer_objects(copy=False)`. To opt-in to the future behavior, set `pd.set_option('future.no_silent_downcasting', True)`\n",
      "  temp.replace(replace_dict).astype(float).fillna(0),\n",
      "c:\\Users\\carre\\AppData\\Local\\Programs\\Python\\Python312\\Lib\\site-packages\\autots\\tools\\anomaly_utils.py:1132: FutureWarning: Downcasting behavior in `replace` is deprecated and will be removed in a future version. To retain the old behavior, explicitly call `result.infer_objects(copy=False)`. To opt-in to the future behavior, set `pd.set_option('future.no_silent_downcasting', True)`\n",
      "  temp.replace(replace_dict).astype(float).fillna(0),\n",
      "c:\\Users\\carre\\AppData\\Local\\Programs\\Python\\Python312\\Lib\\site-packages\\autots\\tools\\anomaly_utils.py:1132: FutureWarning: Downcasting behavior in `replace` is deprecated and will be removed in a future version. To retain the old behavior, explicitly call `result.infer_objects(copy=False)`. To opt-in to the future behavior, set `pd.set_option('future.no_silent_downcasting', True)`\n",
      "  temp.replace(replace_dict).astype(float).fillna(0),\n"
     ]
    },
    {
     "name": "stdout",
     "output_type": "stream",
     "text": [
      "Model Number: 334 with model SeasonalNaive in generation 9 of 10\n",
      "New Generation: 10 of 10\n",
      "Model Number: 335 with model SeasonalityMotif in generation 10 of 10\n",
      "Model Number: 336 with model SeasonalNaive in generation 10 of 10\n",
      "Model Number: 337 with model SeasonalityMotif in generation 10 of 10\n",
      "Model Number: 338 with model SectionalMotif in generation 10 of 10\n",
      "Template Eval Error: Exception(\"Transformer ReplaceConstant failed on fit from params ffill_mean_biased {'0': {'decomp_type': 'STL', 'part': 'trend', 'seasonal': 11}, '1': {'constant': 0, 'reintroduction_model': {'model': 'xgboost', 'model_params': {'booster': 'gblinear', 'max_depth': 6, 'eta': 0.003, 'min_child_weight': 1, 'subsample': 1, 'colsample_bylevel': 0.9, 'reg_alpha': 0, 'reg_lambda': 1, 'n_estimators': 100}, 'datepart_method': 'common_fourier'}, 'fillna': 'ffill'}}\") in model 338 in generation 10: SectionalMotif\n",
      "Model Number: 339 with model SeasonalityMotif in generation 10 of 10\n",
      "Model Number: 340 with model SectionalMotif in generation 10 of 10\n",
      "Template Eval Error: ValueError('kth(=20) out of bounds (20)') in model 340 in generation 10: SectionalMotif\n",
      "Model Number: 341 with model SeasonalNaive in generation 10 of 10\n"
     ]
    },
    {
     "name": "stderr",
     "output_type": "stream",
     "text": [
      "c:\\Users\\carre\\AppData\\Local\\Programs\\Python\\Python312\\Lib\\site-packages\\sklearn\\linear_model\\_ridge.py:216: LinAlgWarning: Ill-conditioned matrix (rcond=7.79351e-26): result may not be accurate.\n",
      "  return linalg.solve(A, Xy, assume_a=\"pos\", overwrite_a=True).T\n"
     ]
    },
    {
     "name": "stdout",
     "output_type": "stream",
     "text": [
      "Model Number: 342 with model AverageValueNaive in generation 10 of 10\n",
      "Model Number: 343 with model SeasonalityMotif in generation 10 of 10\n",
      "Model Number: 344 with model SeasonalityMotif in generation 10 of 10\n"
     ]
    },
    {
     "name": "stderr",
     "output_type": "stream",
     "text": [
      "c:\\Users\\carre\\AppData\\Local\\Programs\\Python\\Python312\\Lib\\site-packages\\sklearn\\neighbors\\_classification.py:238: DataConversionWarning: A column-vector y was passed when a 1d array was expected. Please change the shape of y to (n_samples,), for example using ravel().\n",
      "  return self._fit(X, y)\n"
     ]
    },
    {
     "name": "stdout",
     "output_type": "stream",
     "text": [
      "Model Number: 345 with model SeasonalNaive in generation 10 of 10\n",
      "Model Number: 346 with model SeasonalityMotif in generation 10 of 10\n",
      "Model Number: 347 with model SectionalMotif in generation 10 of 10\n",
      "Model Number: 348 with model GLS in generation 10 of 10\n",
      "Model Number: 349 with model SectionalMotif in generation 10 of 10\n",
      "Model Number: 350 with model AverageValueNaive in generation 10 of 10\n",
      "Model Number: 351 with model SectionalMotif in generation 10 of 10\n",
      "Model Number: 352 with model SeasonalityMotif in generation 10 of 10\n",
      "Model Number: 353 with model SeasonalNaive in generation 10 of 10\n"
     ]
    },
    {
     "name": "stderr",
     "output_type": "stream",
     "text": [
      "c:\\Users\\carre\\AppData\\Local\\Programs\\Python\\Python312\\Lib\\site-packages\\autots\\tools\\transform.py:5608: FutureWarning: Downcasting object dtype arrays on .fillna, .ffill, .bfill is deprecated and will change in a future version. Call result.infer_objects(copy=False) instead. To opt-in to the future behavior, set `pd.set_option('future.no_silent_downcasting', True)`\n",
      "  df = df.fillna(0)\n",
      "c:\\Users\\carre\\AppData\\Local\\Programs\\Python\\Python312\\Lib\\site-packages\\autots\\tools\\transform.py:5608: FutureWarning: Downcasting object dtype arrays on .fillna, .ffill, .bfill is deprecated and will change in a future version. Call result.infer_objects(copy=False) instead. To opt-in to the future behavior, set `pd.set_option('future.no_silent_downcasting', True)`\n",
      "  df = df.fillna(0)\n"
     ]
    },
    {
     "name": "stdout",
     "output_type": "stream",
     "text": [
      "Model Number: 354 with model SeasonalityMotif in generation 10 of 10\n",
      "Model Number: 355 with model SeasonalNaive in generation 10 of 10\n",
      "Validation Round: 1\n",
      "Model Number: 1 of 53 with model SeasonalityMotif for Validation 1\n",
      "📈 1 - SeasonalityMotif with avg smape 50.44: \n",
      "Model Number: 2 of 53 with model SeasonalityMotif for Validation 1\n",
      "2 - SeasonalityMotif with avg smape 50.44: \n",
      "Model Number: 3 of 53 with model SeasonalityMotif for Validation 1\n",
      "3 - SeasonalityMotif with avg smape 50.5: \n",
      "Model Number: 4 of 53 with model SeasonalityMotif for Validation 1\n",
      "4 - SeasonalityMotif with avg smape 52.98: \n",
      "Model Number: 5 of 53 with model SeasonalityMotif for Validation 1\n",
      "5 - SeasonalityMotif with avg smape 50.66: \n",
      "Model Number: 6 of 53 with model SeasonalityMotif for Validation 1\n",
      "📈 6 - SeasonalityMotif with avg smape 48.76: \n",
      "Model Number: 7 of 53 with model SeasonalityMotif for Validation 1\n",
      "7 - SeasonalityMotif with avg smape 50.44: \n",
      "Model Number: 8 of 53 with model SeasonalityMotif for Validation 1\n",
      "8 - SeasonalityMotif with avg smape 50.44: \n",
      "Model Number: 9 of 53 with model SeasonalityMotif for Validation 1\n",
      "9 - SeasonalityMotif with avg smape 50.44: \n",
      "Model Number: 10 of 53 with model SeasonalNaive for Validation 1\n",
      "10 - SeasonalNaive with avg smape 87.78: \n",
      "Model Number: 11 of 53 with model SeasonalNaive for Validation 1\n",
      "11 - SeasonalNaive with avg smape 87.78: \n",
      "Model Number: 12 of 53 with model SectionalMotif for Validation 1\n",
      "12 - SectionalMotif with avg smape 56.4: \n",
      "Model Number: 13 of 53 with model SectionalMotif for Validation 1\n",
      "13 - SectionalMotif with avg smape 56.31: \n",
      "Model Number: 14 of 53 with model SectionalMotif for Validation 1\n",
      "14 - SectionalMotif with avg smape 54.76: \n",
      "Model Number: 15 of 53 with model SectionalMotif for Validation 1\n",
      "15 - SectionalMotif with avg smape 60.21: \n",
      "Model Number: 16 of 53 with model SectionalMotif for Validation 1\n",
      "16 - SectionalMotif with avg smape 57.38: \n",
      "Model Number: 17 of 53 with model SectionalMotif for Validation 1\n",
      "17 - SectionalMotif with avg smape 55.03: \n",
      "Model Number: 18 of 53 with model SeasonalNaive for Validation 1\n",
      "18 - SeasonalNaive with avg smape 91.34: \n",
      "Model Number: 19 of 53 with model SeasonalNaive for Validation 1\n",
      "19 - SeasonalNaive with avg smape 89.66: \n",
      "Model Number: 20 of 53 with model SectionalMotif for Validation 1\n",
      "20 - SectionalMotif with avg smape 55.62: \n",
      "Model Number: 21 of 53 with model AverageValueNaive for Validation 1\n",
      "21 - AverageValueNaive with avg smape nan: \n",
      "Model Number: 22 of 53 with model SeasonalNaive for Validation 1\n"
     ]
    },
    {
     "name": "stderr",
     "output_type": "stream",
     "text": [
      "c:\\Users\\carre\\AppData\\Local\\Programs\\Python\\Python312\\Lib\\site-packages\\sklearn\\neighbors\\_classification.py:238: DataConversionWarning: A column-vector y was passed when a 1d array was expected. Please change the shape of y to (n_samples,), for example using ravel().\n",
      "  return self._fit(X, y)\n"
     ]
    },
    {
     "name": "stdout",
     "output_type": "stream",
     "text": [
      "22 - SeasonalNaive with avg smape nan: \n",
      "Model Number: 23 of 53 with model GLS for Validation 1\n"
     ]
    },
    {
     "name": "stderr",
     "output_type": "stream",
     "text": [
      "c:\\Users\\carre\\AppData\\Local\\Programs\\Python\\Python312\\Lib\\site-packages\\sklearn\\neighbors\\_classification.py:238: DataConversionWarning: A column-vector y was passed when a 1d array was expected. Please change the shape of y to (n_samples,), for example using ravel().\n",
      "  return self._fit(X, y)\n"
     ]
    },
    {
     "name": "stdout",
     "output_type": "stream",
     "text": [
      "23 - GLS with avg smape nan: \n",
      "Model Number: 24 of 53 with model SectionalMotif for Validation 1\n",
      "24 - SectionalMotif with avg smape 57.03: \n",
      "Model Number: 25 of 53 with model SectionalMotif for Validation 1\n",
      "25 - SectionalMotif with avg smape 57.03: \n",
      "Model Number: 26 of 53 with model SeasonalNaive for Validation 1\n",
      "26 - SeasonalNaive with avg smape 87.78: \n",
      "Model Number: 27 of 53 with model GLS for Validation 1\n"
     ]
    },
    {
     "name": "stderr",
     "output_type": "stream",
     "text": [
      "c:\\Users\\carre\\AppData\\Local\\Programs\\Python\\Python312\\Lib\\site-packages\\sklearn\\neighbors\\_classification.py:238: DataConversionWarning: A column-vector y was passed when a 1d array was expected. Please change the shape of y to (n_samples,), for example using ravel().\n",
      "  return self._fit(X, y)\n"
     ]
    },
    {
     "name": "stdout",
     "output_type": "stream",
     "text": [
      "27 - GLS with avg smape nan: \n",
      "Model Number: 28 of 53 with model GLS for Validation 1\n"
     ]
    },
    {
     "name": "stderr",
     "output_type": "stream",
     "text": [
      "c:\\Users\\carre\\AppData\\Local\\Programs\\Python\\Python312\\Lib\\site-packages\\sklearn\\neighbors\\_classification.py:238: DataConversionWarning: A column-vector y was passed when a 1d array was expected. Please change the shape of y to (n_samples,), for example using ravel().\n",
      "  return self._fit(X, y)\n"
     ]
    },
    {
     "name": "stdout",
     "output_type": "stream",
     "text": [
      "28 - GLS with avg smape nan: \n",
      "Model Number: 29 of 53 with model SeasonalNaive for Validation 1\n",
      "29 - SeasonalNaive with avg smape 96.08: \n",
      "Model Number: 30 of 53 with model SeasonalNaive for Validation 1\n",
      "30 - SeasonalNaive with avg smape nan: \n",
      "Model Number: 31 of 53 with model SeasonalNaive for Validation 1\n",
      "31 - SeasonalNaive with avg smape 92.32: \n",
      "Model Number: 32 of 53 with model AverageValueNaive for Validation 1\n",
      "32 - AverageValueNaive with avg smape nan: \n",
      "Model Number: 33 of 53 with model AverageValueNaive for Validation 1\n",
      "33 - AverageValueNaive with avg smape 89.19: \n",
      "Model Number: 34 of 53 with model AverageValueNaive for Validation 1\n",
      "34 - AverageValueNaive with avg smape 88.9: \n",
      "Model Number: 35 of 53 with model LastValueNaive for Validation 1\n",
      "35 - LastValueNaive with avg smape 88.02: \n",
      "Model Number: 36 of 53 with model LastValueNaive for Validation 1\n",
      "36 - LastValueNaive with avg smape 88.02: \n",
      "Model Number: 37 of 53 with model LastValueNaive for Validation 1\n"
     ]
    },
    {
     "name": "stderr",
     "output_type": "stream",
     "text": [
      "c:\\Users\\carre\\AppData\\Local\\Programs\\Python\\Python312\\Lib\\site-packages\\sklearn\\neighbors\\_classification.py:238: DataConversionWarning: A column-vector y was passed when a 1d array was expected. Please change the shape of y to (n_samples,), for example using ravel().\n",
      "  return self._fit(X, y)\n"
     ]
    },
    {
     "name": "stdout",
     "output_type": "stream",
     "text": [
      "37 - LastValueNaive with avg smape 88.02: \n",
      "Model Number: 38 of 53 with model LastValueNaive for Validation 1\n",
      "38 - LastValueNaive with avg smape 88.02: \n",
      "Model Number: 39 of 53 with model LastValueNaive for Validation 1\n",
      "39 - LastValueNaive with avg smape 88.02: \n",
      "Model Number: 40 of 53 with model LastValueNaive for Validation 1\n",
      "40 - LastValueNaive with avg smape 88.02: \n",
      "Model Number: 41 of 53 with model LastValueNaive for Validation 1\n",
      "41 - LastValueNaive with avg smape 88.02: \n",
      "Model Number: 42 of 53 with model LastValueNaive for Validation 1\n",
      "42 - LastValueNaive with avg smape 88.02: \n",
      "Model Number: 43 of 53 with model LastValueNaive for Validation 1\n",
      "43 - LastValueNaive with avg smape 88.68: \n",
      "Model Number: 44 of 53 with model AverageValueNaive for Validation 1\n",
      "44 - AverageValueNaive with avg smape 88.02: \n",
      "Model Number: 45 of 53 with model AverageValueNaive for Validation 1\n",
      "45 - AverageValueNaive with avg smape 88.81: \n",
      "Model Number: 46 of 53 with model AverageValueNaive for Validation 1\n",
      "46 - AverageValueNaive with avg smape 89.3: \n",
      "Model Number: 47 of 53 with model GLS for Validation 1\n",
      "47 - GLS with avg smape 87.75: \n",
      "Model Number: 48 of 53 with model GLS for Validation 1\n",
      "48 - GLS with avg smape 84.84: \n",
      "Model Number: 49 of 53 with model GLS for Validation 1\n",
      "49 - GLS with avg smape 84.28: \n",
      "Model Number: 50 of 53 with model GLS for Validation 1\n",
      "50 - GLS with avg smape 84.28: \n",
      "Model Number: 51 of 53 with model GLS for Validation 1\n",
      "51 - GLS with avg smape 84.28: \n",
      "Model Number: 52 of 53 with model AverageValueNaive for Validation 1\n",
      "52 - AverageValueNaive with avg smape 84.27: \n",
      "Model Number: 53 of 53 with model AverageValueNaive for Validation 1\n",
      "53 - AverageValueNaive with avg smape 84.27: \n",
      "Validation Round: 2\n",
      "Model Number: 1 of 53 with model SeasonalityMotif for Validation 2\n",
      "📈 1 - SeasonalityMotif with avg smape 50.53: \n",
      "Model Number: 2 of 53 with model SeasonalityMotif for Validation 2\n",
      "2 - SeasonalityMotif with avg smape 50.53: \n",
      "Model Number: 3 of 53 with model SeasonalityMotif for Validation 2\n",
      "3 - SeasonalityMotif with avg smape 51.14: \n",
      "Model Number: 4 of 53 with model SeasonalityMotif for Validation 2\n",
      "4 - SeasonalityMotif with avg smape 63.07: \n",
      "Model Number: 5 of 53 with model SeasonalityMotif for Validation 2\n",
      "5 - SeasonalityMotif with avg smape 54.27: \n",
      "Model Number: 6 of 53 with model SeasonalityMotif for Validation 2\n",
      "6 - SeasonalityMotif with avg smape 57.75: \n",
      "Model Number: 7 of 53 with model SeasonalityMotif for Validation 2\n",
      "7 - SeasonalityMotif with avg smape 53.62: \n",
      "Model Number: 8 of 53 with model SeasonalityMotif for Validation 2\n",
      "8 - SeasonalityMotif with avg smape 53.62: \n",
      "Model Number: 9 of 53 with model SeasonalityMotif for Validation 2\n",
      "9 - SeasonalityMotif with avg smape 53.62: \n",
      "Model Number: 10 of 53 with model SeasonalNaive for Validation 2\n",
      "10 - SeasonalNaive with avg smape 78.17: \n",
      "Model Number: 11 of 53 with model SeasonalNaive for Validation 2\n",
      "11 - SeasonalNaive with avg smape 78.76: \n",
      "Model Number: 12 of 53 with model SectionalMotif for Validation 2\n",
      "12 - SectionalMotif with avg smape 51.54: \n",
      "Model Number: 13 of 53 with model SectionalMotif for Validation 2\n",
      "13 - SectionalMotif with avg smape 51.87: \n",
      "Model Number: 14 of 53 with model SectionalMotif for Validation 2\n",
      "📈 14 - SectionalMotif with avg smape 47.99: \n",
      "Model Number: 15 of 53 with model SectionalMotif for Validation 2\n",
      "15 - SectionalMotif with avg smape nan: \n",
      "Model Number: 16 of 53 with model SectionalMotif for Validation 2\n",
      "16 - SectionalMotif with avg smape 51.63: \n",
      "Model Number: 17 of 53 with model SectionalMotif for Validation 2\n",
      "17 - SectionalMotif with avg smape 53.57: \n",
      "Model Number: 18 of 53 with model SeasonalNaive for Validation 2\n",
      "18 - SeasonalNaive with avg smape 78.71: \n",
      "Model Number: 19 of 53 with model SeasonalNaive for Validation 2\n",
      "19 - SeasonalNaive with avg smape 86.79: \n",
      "Model Number: 20 of 53 with model SectionalMotif for Validation 2\n",
      "20 - SectionalMotif with avg smape 49.19: \n",
      "Model Number: 21 of 53 with model AverageValueNaive for Validation 2\n",
      "21 - AverageValueNaive with avg smape 75.92: \n",
      "Model Number: 22 of 53 with model SeasonalNaive for Validation 2\n"
     ]
    },
    {
     "name": "stderr",
     "output_type": "stream",
     "text": [
      "c:\\Users\\carre\\AppData\\Local\\Programs\\Python\\Python312\\Lib\\site-packages\\sklearn\\neighbors\\_classification.py:238: DataConversionWarning: A column-vector y was passed when a 1d array was expected. Please change the shape of y to (n_samples,), for example using ravel().\n",
      "  return self._fit(X, y)\n"
     ]
    },
    {
     "name": "stdout",
     "output_type": "stream",
     "text": [
      "22 - SeasonalNaive with avg smape 89.4: \n",
      "Model Number: 23 of 53 with model GLS for Validation 2\n"
     ]
    },
    {
     "name": "stderr",
     "output_type": "stream",
     "text": [
      "c:\\Users\\carre\\AppData\\Local\\Programs\\Python\\Python312\\Lib\\site-packages\\sklearn\\neighbors\\_classification.py:238: DataConversionWarning: A column-vector y was passed when a 1d array was expected. Please change the shape of y to (n_samples,), for example using ravel().\n",
      "  return self._fit(X, y)\n"
     ]
    },
    {
     "name": "stdout",
     "output_type": "stream",
     "text": [
      "23 - GLS with avg smape nan: \n",
      "Model Number: 24 of 53 with model SectionalMotif for Validation 2\n",
      "24 - SectionalMotif with avg smape 53.67: \n",
      "Model Number: 25 of 53 with model SectionalMotif for Validation 2\n",
      "25 - SectionalMotif with avg smape 53.67: \n",
      "Model Number: 26 of 53 with model SeasonalNaive for Validation 2\n",
      "26 - SeasonalNaive with avg smape 77.3: \n",
      "Model Number: 27 of 53 with model GLS for Validation 2\n"
     ]
    },
    {
     "name": "stderr",
     "output_type": "stream",
     "text": [
      "c:\\Users\\carre\\AppData\\Local\\Programs\\Python\\Python312\\Lib\\site-packages\\sklearn\\neighbors\\_classification.py:238: DataConversionWarning: A column-vector y was passed when a 1d array was expected. Please change the shape of y to (n_samples,), for example using ravel().\n",
      "  return self._fit(X, y)\n"
     ]
    },
    {
     "name": "stdout",
     "output_type": "stream",
     "text": [
      "27 - GLS with avg smape nan: \n",
      "Model Number: 28 of 53 with model GLS for Validation 2\n"
     ]
    },
    {
     "name": "stderr",
     "output_type": "stream",
     "text": [
      "c:\\Users\\carre\\AppData\\Local\\Programs\\Python\\Python312\\Lib\\site-packages\\sklearn\\neighbors\\_classification.py:238: DataConversionWarning: A column-vector y was passed when a 1d array was expected. Please change the shape of y to (n_samples,), for example using ravel().\n",
      "  return self._fit(X, y)\n"
     ]
    },
    {
     "name": "stdout",
     "output_type": "stream",
     "text": [
      "28 - GLS with avg smape nan: \n",
      "Model Number: 29 of 53 with model SeasonalNaive for Validation 2\n",
      "29 - SeasonalNaive with avg smape 85.97: \n",
      "Model Number: 30 of 53 with model SeasonalNaive for Validation 2\n",
      "30 - SeasonalNaive with avg smape 95.44: \n",
      "Model Number: 31 of 53 with model SeasonalNaive for Validation 2\n",
      "31 - SeasonalNaive with avg smape 81.25: \n",
      "Model Number: 32 of 53 with model AverageValueNaive for Validation 2\n",
      "32 - AverageValueNaive with avg smape nan: \n",
      "Model Number: 33 of 53 with model AverageValueNaive for Validation 2\n",
      "33 - AverageValueNaive with avg smape 75.43: \n",
      "Model Number: 34 of 53 with model AverageValueNaive for Validation 2\n",
      "34 - AverageValueNaive with avg smape 75.56: \n",
      "Model Number: 35 of 53 with model LastValueNaive for Validation 2\n",
      "35 - LastValueNaive with avg smape 75.21: \n",
      "Model Number: 36 of 53 with model LastValueNaive for Validation 2\n"
     ]
    },
    {
     "name": "stderr",
     "output_type": "stream",
     "text": [
      "c:\\Users\\carre\\AppData\\Local\\Programs\\Python\\Python312\\Lib\\site-packages\\sklearn\\neighbors\\_classification.py:238: DataConversionWarning: A column-vector y was passed when a 1d array was expected. Please change the shape of y to (n_samples,), for example using ravel().\n",
      "  return self._fit(X, y)\n"
     ]
    },
    {
     "name": "stdout",
     "output_type": "stream",
     "text": [
      "36 - LastValueNaive with avg smape 75.21: \n",
      "Model Number: 37 of 53 with model LastValueNaive for Validation 2\n",
      "37 - LastValueNaive with avg smape 75.21: \n",
      "Model Number: 38 of 53 with model LastValueNaive for Validation 2\n",
      "38 - LastValueNaive with avg smape 75.21: \n",
      "Model Number: 39 of 53 with model LastValueNaive for Validation 2\n",
      "39 - LastValueNaive with avg smape 75.21: \n",
      "Model Number: 40 of 53 with model LastValueNaive for Validation 2\n",
      "40 - LastValueNaive with avg smape 75.21: \n",
      "Model Number: 41 of 53 with model LastValueNaive for Validation 2\n",
      "41 - LastValueNaive with avg smape 75.21: \n",
      "Model Number: 42 of 53 with model LastValueNaive for Validation 2\n",
      "42 - LastValueNaive with avg smape 75.21: \n",
      "Model Number: 43 of 53 with model LastValueNaive for Validation 2\n",
      "43 - LastValueNaive with avg smape 75.38: \n",
      "Model Number: 44 of 53 with model AverageValueNaive for Validation 2\n",
      "44 - AverageValueNaive with avg smape 75.21: \n",
      "Model Number: 45 of 53 with model AverageValueNaive for Validation 2\n",
      "45 - AverageValueNaive with avg smape 75.33: \n",
      "Model Number: 46 of 53 with model AverageValueNaive for Validation 2\n",
      "46 - AverageValueNaive with avg smape 75.59: \n",
      "Model Number: 47 of 53 with model GLS for Validation 2\n",
      "47 - GLS with avg smape 75.22: \n",
      "Model Number: 48 of 53 with model GLS for Validation 2\n",
      "48 - GLS with avg smape 75.55: \n",
      "Model Number: 49 of 53 with model GLS for Validation 2\n",
      "49 - GLS with avg smape 75.33: \n",
      "Model Number: 50 of 53 with model GLS for Validation 2\n",
      "50 - GLS with avg smape 75.33: \n",
      "Model Number: 51 of 53 with model GLS for Validation 2\n",
      "51 - GLS with avg smape 75.33: \n",
      "Model Number: 52 of 53 with model AverageValueNaive for Validation 2\n",
      "52 - AverageValueNaive with avg smape 75.33: \n",
      "Model Number: 53 of 53 with model AverageValueNaive for Validation 2\n",
      "53 - AverageValueNaive with avg smape 75.33: \n",
      "Validation Round: 3\n",
      "Model Number: 1 of 53 with model SeasonalityMotif for Validation 3\n",
      "📈 1 - SeasonalityMotif with avg smape 50.89: \n",
      "Model Number: 2 of 53 with model SeasonalityMotif for Validation 3\n",
      "2 - SeasonalityMotif with avg smape 57.05: \n",
      "Model Number: 3 of 53 with model SeasonalityMotif for Validation 3\n",
      "📈 3 - SeasonalityMotif with avg smape 46.56: \n",
      "Model Number: 4 of 53 with model SeasonalityMotif for Validation 3\n",
      "4 - SeasonalityMotif with avg smape 56.12: \n",
      "Model Number: 5 of 53 with model SeasonalityMotif for Validation 3\n",
      "📈 5 - SeasonalityMotif with avg smape 46.49: \n",
      "Model Number: 6 of 53 with model SeasonalityMotif for Validation 3\n",
      "6 - SeasonalityMotif with avg smape 54.5: \n",
      "Model Number: 7 of 53 with model SeasonalityMotif for Validation 3\n",
      "7 - SeasonalityMotif with avg smape 49.44: \n",
      "Model Number: 8 of 53 with model SeasonalityMotif for Validation 3\n",
      "8 - SeasonalityMotif with avg smape 49.44: \n",
      "Model Number: 9 of 53 with model SeasonalityMotif for Validation 3\n",
      "9 - SeasonalityMotif with avg smape 50.14: \n",
      "Model Number: 10 of 53 with model SeasonalNaive for Validation 3\n",
      "10 - SeasonalNaive with avg smape 81.95: \n",
      "Model Number: 11 of 53 with model SeasonalNaive for Validation 3\n",
      "11 - SeasonalNaive with avg smape 81.95: \n",
      "Model Number: 12 of 53 with model SectionalMotif for Validation 3\n",
      "12 - SectionalMotif with avg smape 53.87: \n",
      "Model Number: 13 of 53 with model SectionalMotif for Validation 3\n",
      "13 - SectionalMotif with avg smape 54.24: \n",
      "Model Number: 14 of 53 with model SectionalMotif for Validation 3\n",
      "14 - SectionalMotif with avg smape 48.1: \n",
      "Model Number: 15 of 53 with model SectionalMotif for Validation 3\n",
      "15 - SectionalMotif with avg smape nan: \n",
      "Model Number: 16 of 53 with model SectionalMotif for Validation 3\n",
      "16 - SectionalMotif with avg smape 51.55: \n",
      "Model Number: 17 of 53 with model SectionalMotif for Validation 3\n",
      "17 - SectionalMotif with avg smape 51.52: \n",
      "Model Number: 18 of 53 with model SeasonalNaive for Validation 3\n",
      "18 - SeasonalNaive with avg smape 83.89: \n",
      "Model Number: 19 of 53 with model SeasonalNaive for Validation 3\n",
      "19 - SeasonalNaive with avg smape nan: \n",
      "Model Number: 20 of 53 with model SectionalMotif for Validation 3\n",
      "20 - SectionalMotif with avg smape 51.78: \n",
      "Model Number: 21 of 53 with model AverageValueNaive for Validation 3\n",
      "21 - AverageValueNaive with avg smape nan: \n",
      "Model Number: 22 of 53 with model SeasonalNaive for Validation 3\n"
     ]
    },
    {
     "name": "stderr",
     "output_type": "stream",
     "text": [
      "c:\\Users\\carre\\AppData\\Local\\Programs\\Python\\Python312\\Lib\\site-packages\\sklearn\\neighbors\\_classification.py:238: DataConversionWarning: A column-vector y was passed when a 1d array was expected. Please change the shape of y to (n_samples,), for example using ravel().\n",
      "  return self._fit(X, y)\n"
     ]
    },
    {
     "name": "stdout",
     "output_type": "stream",
     "text": [
      "22 - SeasonalNaive with avg smape 86.83: \n",
      "Model Number: 23 of 53 with model GLS for Validation 3\n"
     ]
    },
    {
     "name": "stderr",
     "output_type": "stream",
     "text": [
      "c:\\Users\\carre\\AppData\\Local\\Programs\\Python\\Python312\\Lib\\site-packages\\sklearn\\neighbors\\_classification.py:238: DataConversionWarning: A column-vector y was passed when a 1d array was expected. Please change the shape of y to (n_samples,), for example using ravel().\n",
      "  return self._fit(X, y)\n"
     ]
    },
    {
     "name": "stdout",
     "output_type": "stream",
     "text": [
      "23 - GLS with avg smape nan: \n",
      "Model Number: 24 of 53 with model SectionalMotif for Validation 3\n",
      "24 - SectionalMotif with avg smape 48.07: \n",
      "Model Number: 25 of 53 with model SectionalMotif for Validation 3\n",
      "25 - SectionalMotif with avg smape 48.07: \n",
      "Model Number: 26 of 53 with model SeasonalNaive for Validation 3\n",
      "26 - SeasonalNaive with avg smape 109.93: \n",
      "Model Number: 27 of 53 with model GLS for Validation 3\n"
     ]
    },
    {
     "name": "stderr",
     "output_type": "stream",
     "text": [
      "c:\\Users\\carre\\AppData\\Local\\Programs\\Python\\Python312\\Lib\\site-packages\\sklearn\\neighbors\\_classification.py:238: DataConversionWarning: A column-vector y was passed when a 1d array was expected. Please change the shape of y to (n_samples,), for example using ravel().\n",
      "  return self._fit(X, y)\n"
     ]
    },
    {
     "name": "stdout",
     "output_type": "stream",
     "text": [
      "27 - GLS with avg smape nan: \n",
      "Model Number: 28 of 53 with model GLS for Validation 3\n"
     ]
    },
    {
     "name": "stderr",
     "output_type": "stream",
     "text": [
      "c:\\Users\\carre\\AppData\\Local\\Programs\\Python\\Python312\\Lib\\site-packages\\sklearn\\neighbors\\_classification.py:238: DataConversionWarning: A column-vector y was passed when a 1d array was expected. Please change the shape of y to (n_samples,), for example using ravel().\n",
      "  return self._fit(X, y)\n"
     ]
    },
    {
     "name": "stdout",
     "output_type": "stream",
     "text": [
      "28 - GLS with avg smape nan: \n",
      "Model Number: 29 of 53 with model SeasonalNaive for Validation 3\n",
      "29 - SeasonalNaive with avg smape 89.61: \n",
      "Model Number: 30 of 53 with model SeasonalNaive for Validation 3\n",
      "30 - SeasonalNaive with avg smape nan: \n",
      "Model Number: 31 of 53 with model SeasonalNaive for Validation 3\n",
      "31 - SeasonalNaive with avg smape 84.0: \n",
      "Model Number: 32 of 53 with model AverageValueNaive for Validation 3\n",
      "32 - AverageValueNaive with avg smape nan: \n",
      "Model Number: 33 of 53 with model AverageValueNaive for Validation 3\n",
      "33 - AverageValueNaive with avg smape 77.02: \n",
      "Model Number: 34 of 53 with model AverageValueNaive for Validation 3\n",
      "34 - AverageValueNaive with avg smape 75.96: \n",
      "Model Number: 35 of 53 with model LastValueNaive for Validation 3\n",
      "35 - LastValueNaive with avg smape 76.46: \n",
      "Model Number: 36 of 53 with model LastValueNaive for Validation 3\n"
     ]
    },
    {
     "name": "stderr",
     "output_type": "stream",
     "text": [
      "c:\\Users\\carre\\AppData\\Local\\Programs\\Python\\Python312\\Lib\\site-packages\\sklearn\\neighbors\\_classification.py:238: DataConversionWarning: A column-vector y was passed when a 1d array was expected. Please change the shape of y to (n_samples,), for example using ravel().\n",
      "  return self._fit(X, y)\n"
     ]
    },
    {
     "name": "stdout",
     "output_type": "stream",
     "text": [
      "36 - LastValueNaive with avg smape 76.46: \n",
      "Model Number: 37 of 53 with model LastValueNaive for Validation 3\n",
      "37 - LastValueNaive with avg smape 76.46: \n",
      "Model Number: 38 of 53 with model LastValueNaive for Validation 3\n",
      "38 - LastValueNaive with avg smape 76.46: \n",
      "Model Number: 39 of 53 with model LastValueNaive for Validation 3\n",
      "39 - LastValueNaive with avg smape 76.46: \n",
      "Model Number: 40 of 53 with model LastValueNaive for Validation 3\n",
      "40 - LastValueNaive with avg smape 76.46: \n",
      "Model Number: 41 of 53 with model LastValueNaive for Validation 3\n",
      "41 - LastValueNaive with avg smape 76.46: \n",
      "Model Number: 42 of 53 with model LastValueNaive for Validation 3\n",
      "42 - LastValueNaive with avg smape 76.46: \n",
      "Model Number: 43 of 53 with model LastValueNaive for Validation 3\n",
      "43 - LastValueNaive with avg smape 75.76: \n",
      "Model Number: 44 of 53 with model AverageValueNaive for Validation 3\n",
      "44 - AverageValueNaive with avg smape 76.46: \n",
      "Model Number: 45 of 53 with model AverageValueNaive for Validation 3\n",
      "45 - AverageValueNaive with avg smape 76.86: \n",
      "Model Number: 46 of 53 with model AverageValueNaive for Validation 3\n",
      "46 - AverageValueNaive with avg smape 76.86: \n",
      "Model Number: 47 of 53 with model GLS for Validation 3\n",
      "47 - GLS with avg smape 77.27: \n",
      "Model Number: 48 of 53 with model GLS for Validation 3\n",
      "48 - GLS with avg smape 76.78: \n",
      "Model Number: 49 of 53 with model GLS for Validation 3\n",
      "49 - GLS with avg smape 76.44: \n",
      "Model Number: 50 of 53 with model GLS for Validation 3\n",
      "50 - GLS with avg smape 76.44: \n",
      "Model Number: 51 of 53 with model GLS for Validation 3\n",
      "51 - GLS with avg smape 76.44: \n",
      "Model Number: 52 of 53 with model AverageValueNaive for Validation 3\n",
      "52 - AverageValueNaive with avg smape 76.45: \n",
      "Model Number: 53 of 53 with model AverageValueNaive for Validation 3\n",
      "53 - AverageValueNaive with avg smape 76.45: \n",
      "Using 3 cpus for n_jobs.\n",
      "Data frequency is: B, used frequency is: B\n",
      "Model Number: 1 with model AverageValueNaive in generation 0 of 10\n",
      "Model Number: 2 with model AverageValueNaive in generation 0 of 10\n"
     ]
    },
    {
     "name": "stderr",
     "output_type": "stream",
     "text": [
      "c:\\Users\\carre\\AppData\\Local\\Programs\\Python\\Python312\\Lib\\site-packages\\autots\\evaluator\\auto_model.py:2462: FutureWarning: Downcasting behavior in `replace` is deprecated and will be removed in a future version. To retain the old behavior, explicitly call `result.infer_objects(copy=False)`. To opt-in to the future behavior, set `pd.set_option('future.no_silent_downcasting', True)`\n",
      "  validation_results.model_results = validation_results.model_results.replace(\n",
      "c:\\Users\\carre\\AppData\\Local\\Programs\\Python\\Python312\\Lib\\site-packages\\autots\\evaluator\\auto_model.py:2462: FutureWarning: Downcasting behavior in `replace` is deprecated and will be removed in a future version. To retain the old behavior, explicitly call `result.infer_objects(copy=False)`. To opt-in to the future behavior, set `pd.set_option('future.no_silent_downcasting', True)`\n",
      "  validation_results.model_results = validation_results.model_results.replace(\n"
     ]
    },
    {
     "name": "stdout",
     "output_type": "stream",
     "text": [
      "Model Number: 3 with model AverageValueNaive in generation 0 of 10\n",
      "Model Number: 4 with model GLS in generation 0 of 10\n",
      "Model Number: 5 with model GLS in generation 0 of 10\n",
      "Model Number: 6 with model LastValueNaive in generation 0 of 10\n",
      "Model Number: 7 with model LastValueNaive in generation 0 of 10\n",
      "Model Number: 8 with model LastValueNaive in generation 0 of 10\n",
      "Model Number: 9 with model LastValueNaive in generation 0 of 10\n",
      "Model Number: 10 with model SeasonalNaive in generation 0 of 10\n",
      "Model Number: 11 with model SeasonalNaive in generation 0 of 10\n",
      "Model Number: 12 with model SeasonalNaive in generation 0 of 10\n",
      "Model Number: 13 with model ConstantNaive in generation 0 of 10\n",
      "Model Number: 14 with model SeasonalNaive in generation 0 of 10\n",
      "Model Number: 15 with model SectionalMotif in generation 0 of 10\n",
      "Model Number: 16 with model SectionalMotif in generation 0 of 10\n",
      "Model Number: 17 with model SeasonalNaive in generation 0 of 10\n",
      "Model Number: 18 with model SeasonalityMotif in generation 0 of 10\n",
      "Model Number: 19 with model SectionalMotif in generation 0 of 10\n",
      "Model Number: 20 with model ConstantNaive in generation 0 of 10\n",
      "Model Number: 21 with model LastValueNaive in generation 0 of 10\n",
      "Model Number: 22 with model AverageValueNaive in generation 0 of 10\n",
      "Model Number: 23 with model GLS in generation 0 of 10\n"
     ]
    },
    {
     "name": "stderr",
     "output_type": "stream",
     "text": [
      "c:\\Users\\carre\\AppData\\Local\\Programs\\Python\\Python312\\Lib\\site-packages\\autots\\tools\\transform.py:5608: FutureWarning: Downcasting object dtype arrays on .fillna, .ffill, .bfill is deprecated and will change in a future version. Call result.infer_objects(copy=False) instead. To opt-in to the future behavior, set `pd.set_option('future.no_silent_downcasting', True)`\n",
      "  df = df.fillna(0)\n",
      "c:\\Users\\carre\\AppData\\Local\\Programs\\Python\\Python312\\Lib\\site-packages\\autots\\tools\\transform.py:5608: FutureWarning: Downcasting object dtype arrays on .fillna, .ffill, .bfill is deprecated and will change in a future version. Call result.infer_objects(copy=False) instead. To opt-in to the future behavior, set `pd.set_option('future.no_silent_downcasting', True)`\n",
      "  df = df.fillna(0)\n"
     ]
    },
    {
     "name": "stdout",
     "output_type": "stream",
     "text": [
      "Model Number: 24 with model SeasonalNaive in generation 0 of 10\n",
      "Model Number: 25 with model SeasonalityMotif in generation 0 of 10\n",
      "Model Number: 26 with model SectionalMotif in generation 0 of 10\n",
      "Model Number: 27 with model LastValueNaive in generation 0 of 10\n",
      "Model Number: 28 with model SectionalMotif in generation 0 of 10\n",
      "Model Number: 29 with model SectionalMotif in generation 0 of 10\n"
     ]
    },
    {
     "name": "stderr",
     "output_type": "stream",
     "text": [
      "c:\\Users\\carre\\AppData\\Local\\Programs\\Python\\Python312\\Lib\\site-packages\\autots\\tools\\transform.py:5608: FutureWarning: Downcasting object dtype arrays on .fillna, .ffill, .bfill is deprecated and will change in a future version. Call result.infer_objects(copy=False) instead. To opt-in to the future behavior, set `pd.set_option('future.no_silent_downcasting', True)`\n",
      "  df = df.fillna(0)\n",
      "c:\\Users\\carre\\AppData\\Local\\Programs\\Python\\Python312\\Lib\\site-packages\\autots\\tools\\transform.py:5608: FutureWarning: Downcasting object dtype arrays on .fillna, .ffill, .bfill is deprecated and will change in a future version. Call result.infer_objects(copy=False) instead. To opt-in to the future behavior, set `pd.set_option('future.no_silent_downcasting', True)`\n",
      "  df = df.fillna(0)\n"
     ]
    },
    {
     "name": "stdout",
     "output_type": "stream",
     "text": [
      "Template Eval Error: Exception(\"Transformer SinTrend failed on fit from params fake_date {'0': {}, '1': {}, '2': {}, '3': {'lag_1': 12, 'method': 'LastValue'}, '4': {'sigma': 0.5, 'rolling_window': 90, 'run_order': 'season_first', 'regression_params': {'regression_model': {'model': 'DecisionTree', 'model_params': {'max_depth': 3, 'min_samples_split': 2}}, 'datepart_method': 'simple', 'polynomial_degree': 2, 'transform_dict': None, 'holiday_countries_used': False, 'lags': None, 'forward_lags': None}, 'holiday_params': None, 'trend_method': 'rolling_mean'}}\") in model 29 in generation 0: SectionalMotif\n",
      "Model Number: 30 with model ConstantNaive in generation 0 of 10\n",
      "Model Number: 31 with model SeasonalityMotif in generation 0 of 10\n",
      "Model Number: 32 with model SectionalMotif in generation 0 of 10\n",
      "Model Number: 33 with model SeasonalityMotif in generation 0 of 10\n",
      "Model Number: 34 with model SeasonalityMotif in generation 0 of 10\n",
      "Model Number: 35 with model LastValueNaive in generation 0 of 10\n",
      "Model Number: 36 with model ConstantNaive in generation 0 of 10\n",
      "Model Number: 37 with model SeasonalNaive in generation 0 of 10\n",
      "Model Number: 38 with model SectionalMotif in generation 0 of 10\n",
      "Model Number: 39 with model SectionalMotif in generation 0 of 10\n",
      "Model Number: 40 with model ConstantNaive in generation 0 of 10\n",
      "Model Number: 41 with model AverageValueNaive in generation 0 of 10\n",
      "Model Number: 42 with model SectionalMotif in generation 0 of 10\n",
      "Template Eval Error: ValueError('zero-size array to reduction operation fmax which has no identity') in model 42 in generation 0: SectionalMotif\n",
      "Model Number: 43 with model SeasonalityMotif in generation 0 of 10\n",
      "Model Number: 44 with model SectionalMotif in generation 0 of 10\n",
      "Template Eval Error: ValueError(\"regression_type=='User' but no future_regressor supplied\") in model 44 in generation 0: SectionalMotif\n",
      "Model Number: 45 with model GLS in generation 0 of 10\n"
     ]
    },
    {
     "name": "stderr",
     "output_type": "stream",
     "text": [
      "c:\\Users\\carre\\AppData\\Local\\Programs\\Python\\Python312\\Lib\\site-packages\\numpy\\lib\\nanfunctions.py:1215: RuntimeWarning: Mean of empty slice\n",
      "  return np.nanmean(a, axis, out=out, keepdims=keepdims)\n"
     ]
    },
    {
     "name": "stdout",
     "output_type": "stream",
     "text": [
      "Model Number: 46 with model ConstantNaive in generation 0 of 10\n",
      "Model Number: 47 with model AverageValueNaive in generation 0 of 10\n",
      "Model Number: 48 with model SeasonalityMotif in generation 0 of 10\n",
      "Model Number: 49 with model GLS in generation 0 of 10\n",
      "Model Number: 50 with model AverageValueNaive in generation 0 of 10\n",
      "Model Number: 51 with model SectionalMotif in generation 0 of 10\n",
      "Model Number: 52 with model SectionalMotif in generation 0 of 10\n",
      "Template Eval Error: ValueError(\"regression_type=='User' but no future_regressor supplied\") in model 52 in generation 0: SectionalMotif\n",
      "Model Number: 53 with model ConstantNaive in generation 0 of 10\n",
      "Model Number: 54 with model SeasonalityMotif in generation 0 of 10\n",
      "New Generation: 1 of 10\n",
      "Model Number: 55 with model SectionalMotif in generation 1 of 10\n",
      "Model Number: 56 with model ConstantNaive in generation 1 of 10\n",
      "Model Number: 57 with model GLS in generation 1 of 10\n",
      "Model Number: 58 with model AverageValueNaive in generation 1 of 10\n",
      "Model Number: 59 with model SeasonalityMotif in generation 1 of 10\n",
      "Template Eval Error: Exception(\"Transformer BTCD failed on fit from params ffill {'0': {'regression_model': {'model': 'FastRidge', 'model_params': {}}, 'max_lags': 2}, '1': {}}\") in model 59 in generation 1: SeasonalityMotif\n",
      "Model Number: 60 with model LastValueNaive in generation 1 of 10\n",
      "Model Number: 61 with model LastValueNaive in generation 1 of 10\n",
      "Model Number: 62 with model SeasonalNaive in generation 1 of 10\n",
      "Model Number: 63 with model SeasonalityMotif in generation 1 of 10\n",
      "Template Eval Error: Exception(\"Transformer BTCD failed on fit from params mean {'0': {'regression_model': {'model': 'FastRidge', 'model_params': {}}, 'max_lags': 2}, '1': {'decimals': 0, 'on_transform': False, 'on_inverse': True}}\") in model 63 in generation 1: SeasonalityMotif\n",
      "Model Number: 64 with model SeasonalNaive in generation 1 of 10\n",
      "Model Number: 65 with model LastValueNaive in generation 1 of 10\n",
      "Model Number: 66 with model LastValueNaive in generation 1 of 10\n",
      "Model Number: 67 with model GLS in generation 1 of 10\n",
      "Template Eval Error: Exception(\"Transformer Cointegration failed on fit from params fake_date {'0': {'output_distribution': 'uniform', 'n_quantiles': 1000}, '1': {'part': 'trend', 'lamb': 129600}, '2': {}, '3': {}, '4': {'det_order': 1, 'k_ar_diff': 1}}\") in model 67 in generation 1: GLS\n",
      "Model Number: 68 with model SeasonalNaive in generation 1 of 10\n"
     ]
    },
    {
     "name": "stderr",
     "output_type": "stream",
     "text": [
      "c:\\Users\\carre\\AppData\\Local\\Programs\\Python\\Python312\\Lib\\site-packages\\sklearn\\decomposition\\_fastica.py:589: UserWarning: Ignoring n_components with whiten=False.\n",
      "  warnings.warn(\"Ignoring n_components with whiten=False.\")\n"
     ]
    },
    {
     "name": "stdout",
     "output_type": "stream",
     "text": [
      "Model Number: 69 with model SectionalMotif in generation 1 of 10\n",
      "Model Number: 70 with model SectionalMotif in generation 1 of 10\n",
      "Model Number: 71 with model SeasonalNaive in generation 1 of 10\n",
      "Model Number: 72 with model LastValueNaive in generation 1 of 10\n",
      "Model Number: 73 with model SeasonalNaive in generation 1 of 10\n",
      "Model Number: 74 with model SectionalMotif in generation 1 of 10\n",
      "Model Number: 75 with model SeasonalityMotif in generation 1 of 10\n",
      "Model Number: 76 with model SectionalMotif in generation 1 of 10\n",
      "Model Number: 77 with model SectionalMotif in generation 1 of 10\n",
      "Model Number: 78 with model SectionalMotif in generation 1 of 10\n",
      "Model Number: 79 with model AverageValueNaive in generation 1 of 10\n",
      "Model Number: 80 with model SeasonalityMotif in generation 1 of 10\n",
      "Model Number: 81 with model ConstantNaive in generation 1 of 10\n",
      "Model Number: 82 with model GLS in generation 1 of 10\n",
      "Model Number: 83 with model SeasonalityMotif in generation 1 of 10\n",
      "Model Number: 84 with model SectionalMotif in generation 1 of 10\n",
      "Model Number: 85 with model SeasonalNaive in generation 1 of 10\n",
      "Model Number: 86 with model SectionalMotif in generation 1 of 10\n",
      "Model Number: 87 with model LastValueNaive in generation 1 of 10\n",
      "Model Number: 88 with model AverageValueNaive in generation 1 of 10\n",
      "Model Number: 89 with model SeasonalNaive in generation 1 of 10\n"
     ]
    },
    {
     "name": "stderr",
     "output_type": "stream",
     "text": [
      "c:\\Users\\carre\\AppData\\Local\\Programs\\Python\\Python312\\Lib\\site-packages\\autots\\tools\\transform.py:5608: FutureWarning: Downcasting object dtype arrays on .fillna, .ffill, .bfill is deprecated and will change in a future version. Call result.infer_objects(copy=False) instead. To opt-in to the future behavior, set `pd.set_option('future.no_silent_downcasting', True)`\n",
      "  df = df.fillna(0)\n",
      "c:\\Users\\carre\\AppData\\Local\\Programs\\Python\\Python312\\Lib\\site-packages\\autots\\tools\\transform.py:5608: FutureWarning: Downcasting object dtype arrays on .fillna, .ffill, .bfill is deprecated and will change in a future version. Call result.infer_objects(copy=False) instead. To opt-in to the future behavior, set `pd.set_option('future.no_silent_downcasting', True)`\n",
      "  df = df.fillna(0)\n"
     ]
    },
    {
     "name": "stdout",
     "output_type": "stream",
     "text": [
      "New Generation: 2 of 10\n",
      "Model Number: 90 with model SeasonalNaive in generation 2 of 10\n",
      "Model Number: 91 with model SeasonalityMotif in generation 2 of 10\n",
      "Model Number: 92 with model SeasonalityMotif in generation 2 of 10\n",
      "Model Number: 93 with model AverageValueNaive in generation 2 of 10\n",
      "Model Number: 94 with model LastValueNaive in generation 2 of 10\n",
      "Model Number: 95 with model SeasonalNaive in generation 2 of 10\n",
      "Model Number: 96 with model SectionalMotif in generation 2 of 10\n",
      "Model Number: 97 with model LastValueNaive in generation 2 of 10\n",
      "Model Number: 98 with model SeasonalNaive in generation 2 of 10\n"
     ]
    },
    {
     "name": "stderr",
     "output_type": "stream",
     "text": [
      "c:\\Users\\carre\\AppData\\Local\\Programs\\Python\\Python312\\Lib\\site-packages\\sklearn\\neighbors\\_classification.py:238: DataConversionWarning: A column-vector y was passed when a 1d array was expected. Please change the shape of y to (n_samples,), for example using ravel().\n",
      "  return self._fit(X, y)\n"
     ]
    },
    {
     "name": "stdout",
     "output_type": "stream",
     "text": [
      "Model Number: 99 with model SectionalMotif in generation 2 of 10\n",
      "Model Number: 100 with model SectionalMotif in generation 2 of 10\n",
      "Model Number: 101 with model SeasonalNaive in generation 2 of 10\n",
      "Model Number: 102 with model SectionalMotif in generation 2 of 10\n",
      "Model Number: 103 with model SeasonalNaive in generation 2 of 10\n",
      "Model Number: 104 with model SeasonalNaive in generation 2 of 10\n",
      "Model Number: 105 with model LastValueNaive in generation 2 of 10\n",
      "Model Number: 106 with model SectionalMotif in generation 2 of 10\n",
      "Model Number: 107 with model ConstantNaive in generation 2 of 10\n",
      "Model Number: 108 with model GLS in generation 2 of 10\n",
      "Model Number: 109 with model SeasonalityMotif in generation 2 of 10\n",
      "Model Number: 110 with model GLS in generation 2 of 10\n",
      "Model Number: 111 with model LastValueNaive in generation 2 of 10\n",
      "Model Number: 112 with model AverageValueNaive in generation 2 of 10\n",
      "Model Number: 113 with model LastValueNaive in generation 2 of 10\n",
      "Model Number: 114 with model AverageValueNaive in generation 2 of 10\n",
      "Model Number: 115 with model SectionalMotif in generation 2 of 10\n",
      "Model Number: 116 with model AverageValueNaive in generation 2 of 10\n",
      "Model Number: 117 with model SectionalMotif in generation 2 of 10\n",
      "Model Number: 118 with model AverageValueNaive in generation 2 of 10\n",
      "Model Number: 119 with model AverageValueNaive in generation 2 of 10\n",
      "Model Number: 120 with model GLS in generation 2 of 10\n",
      "Model Number: 121 with model GLS in generation 2 of 10\n",
      "Model Number: 122 with model SeasonalNaive in generation 2 of 10\n",
      "Model Number: 123 with model AverageValueNaive in generation 2 of 10\n",
      "Model Number: 124 with model AverageValueNaive in generation 2 of 10\n",
      "New Generation: 3 of 10\n",
      "Model Number: 125 with model LastValueNaive in generation 3 of 10\n",
      "Model Number: 126 with model SectionalMotif in generation 3 of 10\n",
      "Model Number: 127 with model SectionalMotif in generation 3 of 10\n",
      "Model Number: 128 with model GLS in generation 3 of 10\n",
      "Model Number: 129 with model AverageValueNaive in generation 3 of 10\n",
      "Model Number: 130 with model SeasonalityMotif in generation 3 of 10\n",
      "Model Number: 131 with model LastValueNaive in generation 3 of 10\n",
      "Model Number: 132 with model GLS in generation 3 of 10\n",
      "Model Number: 133 with model ConstantNaive in generation 3 of 10\n",
      "Model Number: 134 with model SectionalMotif in generation 3 of 10\n",
      "Model Number: 135 with model SeasonalNaive in generation 3 of 10\n",
      "Model Number: 136 with model SectionalMotif in generation 3 of 10\n",
      "Model Number: 137 with model SectionalMotif in generation 3 of 10\n",
      "Model Number: 138 with model LastValueNaive in generation 3 of 10\n",
      "Model Number: 139 with model LastValueNaive in generation 3 of 10\n",
      "Model Number: 140 with model SeasonalNaive in generation 3 of 10\n",
      "Model Number: 141 with model SectionalMotif in generation 3 of 10\n",
      "Template Eval Error: ValueError(\"regression_type=='User' but no future_regressor supplied\") in model 141 in generation 3: SectionalMotif\n",
      "Model Number: 142 with model SeasonalNaive in generation 3 of 10\n",
      "Model Number: 143 with model SectionalMotif in generation 3 of 10\n",
      "Model Number: 144 with model SeasonalityMotif in generation 3 of 10\n",
      "Model Number: 145 with model SeasonalNaive in generation 3 of 10\n",
      "Model Number: 146 with model GLS in generation 3 of 10\n",
      "Template Eval Error: Exception('Transformer RobustScaler failed on inverse from params ffill {\\'0\\': {\\'rows\\': 4, \\'lag\\': 1, \\'method\\': \\'additive\\', \\'strength\\': 0.2, \\'first_value_only\\': False, \\'threshold\\': 1, \\'threshold_method\\': \\'max\\'}, \\'1\\': {}, \\'2\\': {\\'rows\\': 1, \\'lag\\': 1, \\'method\\': \\'additive\\', \\'strength\\': 1.0, \\'first_value_only\\': False, \\'threshold\\': 10, \\'threshold_method\\': \\'mean\\'}, \\'3\\': {\\'rows\\': 1, \\'displacement_rows\\': 1, \\'quantile\\': 1.0, \\'decay_span\\': None}, \\'4\\': {}} with ValueError(\"Input contains infinity or a value too large for dtype(\\'float64\\').\")') in model 146 in generation 3: GLS\n",
      "Model Number: 147 with model SectionalMotif in generation 3 of 10\n",
      "Model Number: 148 with model LastValueNaive in generation 3 of 10\n"
     ]
    },
    {
     "name": "stderr",
     "output_type": "stream",
     "text": [
      "c:\\Users\\carre\\AppData\\Local\\Programs\\Python\\Python312\\Lib\\site-packages\\numpy\\core\\fromnumeric.py:59: RuntimeWarning: overflow encountered in accumulate\n",
      "  return bound(*args, **kwds)\n",
      "c:\\Users\\carre\\AppData\\Local\\Programs\\Python\\Python312\\Lib\\site-packages\\numpy\\core\\fromnumeric.py:88: RuntimeWarning: invalid value encountered in reduce\n",
      "  return ufunc.reduce(obj, axis, dtype, out, **passkwargs)\n"
     ]
    },
    {
     "name": "stdout",
     "output_type": "stream",
     "text": [
      "Model Number: 149 with model ConstantNaive in generation 3 of 10\n",
      "Model Number: 150 with model SectionalMotif in generation 3 of 10\n",
      "Model Number: 151 with model AverageValueNaive in generation 3 of 10\n",
      "Model Number: 152 with model ConstantNaive in generation 3 of 10\n",
      "Model Number: 153 with model SeasonalityMotif in generation 3 of 10\n",
      "Model Number: 154 with model LastValueNaive in generation 3 of 10\n",
      "Model Number: 155 with model SeasonalityMotif in generation 3 of 10\n",
      "Model Number: 156 with model SeasonalNaive in generation 3 of 10\n",
      "Model Number: 157 with model SectionalMotif in generation 3 of 10\n",
      "Model Number: 158 with model SectionalMotif in generation 3 of 10\n",
      "Model Number: 159 with model SectionalMotif in generation 3 of 10\n",
      "New Generation: 4 of 10\n",
      "Model Number: 160 with model SectionalMotif in generation 4 of 10\n",
      "Model Number: 161 with model SectionalMotif in generation 4 of 10\n",
      "Template Eval Error: ValueError('zero-size array to reduction operation fmax which has no identity') in model 161 in generation 4: SectionalMotif\n",
      "Model Number: 162 with model AverageValueNaive in generation 4 of 10\n",
      "Model Number: 163 with model SectionalMotif in generation 4 of 10\n",
      "Model Number: 164 with model GLS in generation 4 of 10\n",
      "Model Number: 165 with model SeasonalNaive in generation 4 of 10\n",
      "Template Eval Error: Exception(\"Transformer Cointegration failed on fit from params ffill {'0': {'method': 'remove', 'std_threshold': 4, 'fillna': 'rolling_mean_24'}, '1': {'model': 'middle', 'decimals': 2, 'on_transform': False, 'on_inverse': True}, '2': {'det_order': 0, 'k_ar_diff': 0}}\") in model 165 in generation 4: SeasonalNaive\n",
      "Model Number: 166 with model SeasonalityMotif in generation 4 of 10\n",
      "Model Number: 167 with model SeasonalNaive in generation 4 of 10\n",
      "Model Number: 168 with model LastValueNaive in generation 4 of 10\n",
      "Model Number: 169 with model AverageValueNaive in generation 4 of 10\n",
      "Model Number: 170 with model SeasonalNaive in generation 4 of 10\n"
     ]
    },
    {
     "name": "stderr",
     "output_type": "stream",
     "text": [
      "c:\\Users\\carre\\AppData\\Local\\Programs\\Python\\Python312\\Lib\\site-packages\\autots\\tools\\transform.py:5608: FutureWarning: Downcasting object dtype arrays on .fillna, .ffill, .bfill is deprecated and will change in a future version. Call result.infer_objects(copy=False) instead. To opt-in to the future behavior, set `pd.set_option('future.no_silent_downcasting', True)`\n",
      "  df = df.fillna(0)\n",
      "c:\\Users\\carre\\AppData\\Local\\Programs\\Python\\Python312\\Lib\\site-packages\\autots\\tools\\transform.py:5608: FutureWarning: Downcasting object dtype arrays on .fillna, .ffill, .bfill is deprecated and will change in a future version. Call result.infer_objects(copy=False) instead. To opt-in to the future behavior, set `pd.set_option('future.no_silent_downcasting', True)`\n",
      "  df = df.fillna(0)\n"
     ]
    },
    {
     "name": "stdout",
     "output_type": "stream",
     "text": [
      "Model Number: 171 with model GLS in generation 4 of 10\n",
      "Model Number: 172 with model AverageValueNaive in generation 4 of 10\n",
      "Model Number: 173 with model LastValueNaive in generation 4 of 10\n",
      "Model Number: 174 with model SectionalMotif in generation 4 of 10\n"
     ]
    },
    {
     "name": "stderr",
     "output_type": "stream",
     "text": [
      "c:\\Users\\carre\\AppData\\Local\\Programs\\Python\\Python312\\Lib\\site-packages\\autots\\tools\\transform.py:5608: FutureWarning: Downcasting object dtype arrays on .fillna, .ffill, .bfill is deprecated and will change in a future version. Call result.infer_objects(copy=False) instead. To opt-in to the future behavior, set `pd.set_option('future.no_silent_downcasting', True)`\n",
      "  df = df.fillna(0)\n",
      "c:\\Users\\carre\\AppData\\Local\\Programs\\Python\\Python312\\Lib\\site-packages\\autots\\tools\\transform.py:5608: FutureWarning: Downcasting object dtype arrays on .fillna, .ffill, .bfill is deprecated and will change in a future version. Call result.infer_objects(copy=False) instead. To opt-in to the future behavior, set `pd.set_option('future.no_silent_downcasting', True)`\n",
      "  df = df.fillna(0)\n"
     ]
    },
    {
     "name": "stdout",
     "output_type": "stream",
     "text": [
      "Model Number: 175 with model GLS in generation 4 of 10\n",
      "Model Number: 176 with model GLS in generation 4 of 10\n",
      "Model Number: 177 with model SeasonalityMotif in generation 4 of 10\n"
     ]
    },
    {
     "name": "stderr",
     "output_type": "stream",
     "text": [
      "c:\\Users\\carre\\AppData\\Local\\Programs\\Python\\Python312\\Lib\\site-packages\\sklearn\\linear_model\\_ridge.py:216: LinAlgWarning: Ill-conditioned matrix (rcond=6.19129e-26): result may not be accurate.\n",
      "  return linalg.solve(A, Xy, assume_a=\"pos\", overwrite_a=True).T\n"
     ]
    },
    {
     "name": "stdout",
     "output_type": "stream",
     "text": [
      "Model Number: 178 with model SectionalMotif in generation 4 of 10\n",
      "Model Number: 179 with model AverageValueNaive in generation 4 of 10\n",
      "Model Number: 180 with model SeasonalNaive in generation 4 of 10\n",
      "Model Number: 181 with model SectionalMotif in generation 4 of 10\n",
      "Model Number: 182 with model SectionalMotif in generation 4 of 10\n",
      "Model Number: 183 with model AverageValueNaive in generation 4 of 10\n",
      "Model Number: 184 with model GLS in generation 4 of 10\n",
      "Model Number: 185 with model SeasonalNaive in generation 4 of 10\n"
     ]
    },
    {
     "name": "stderr",
     "output_type": "stream",
     "text": [
      "c:\\Users\\carre\\AppData\\Local\\Programs\\Python\\Python312\\Lib\\site-packages\\autots\\tools\\fast_kalman.py:1091: RuntimeWarning: overflow encountered in cast\n",
      "  filtered_states.cov[:, j, :, :] = P\n"
     ]
    },
    {
     "name": "stdout",
     "output_type": "stream",
     "text": [
      "SVD did not converge, attempting more robust approach...\n",
      "Template Eval Error: Exception(\"Transformer KalmanSmoothing failed on fit from params linear {'0': {'span': 10}, '1': {'lag': 7, 'fill': 'bfill'}, '2': {'method': 'clip', 'std_threshold': 4, 'fillna': None}, '3': {'model_name': 'factor', 'state_transition': [[1, 1, 0, 0, 0, 0], [0, 1, 0, 0, 0, 0], [0, 0, 1, 0, 0, 0], [0, 0, 0, 1, 1, 0], [0, 0, 0, 0, 1, 0], [0, 0, 0, 0, 0, 1]], 'process_noise': [[1, 0, 0, 0, 0, 0], [0, 1, 0, 0, 0, 0], [0, 0, 0, 0, 0, 0], [0, 0, 1, 0, 0, 0], [0, 0, 0, 1, 0, 0], [0, 0, 0, 0, 0, 0]], 'observation_model': [[1, 0, 0, 0, 0, 0]], 'observation_noise': 0.04, 'em_iter': 30, 'on_transform': True, 'on_inverse': False}, '4': {'output_distribution': 'normal', 'n_quantiles': 1000}}\") in model 185 in generation 4: SeasonalNaive\n",
      "Model Number: 186 with model LastValueNaive in generation 4 of 10\n",
      "Model Number: 187 with model AverageValueNaive in generation 4 of 10\n"
     ]
    },
    {
     "name": "stderr",
     "output_type": "stream",
     "text": [
      "c:\\Users\\carre\\AppData\\Local\\Programs\\Python\\Python312\\Lib\\site-packages\\autots\\tools\\fast_kalman.py:1354: RuntimeWarning: invalid value encountered in matmul\n",
      "  return np.matmul(A, np.swapaxes(B, -1, -2))\n",
      "c:\\Users\\carre\\AppData\\Local\\Programs\\Python\\Python312\\Lib\\site-packages\\autots\\tools\\fast_kalman.py:1341: RuntimeWarning: invalid value encountered in matmul\n",
      "  return np.matmul(A, B)\n"
     ]
    },
    {
     "name": "stdout",
     "output_type": "stream",
     "text": [
      "Model Number: 188 with model GLS in generation 4 of 10\n",
      "Model Number: 189 with model AverageValueNaive in generation 4 of 10\n",
      "Model Number: 190 with model SectionalMotif in generation 4 of 10\n",
      "Model Number: 191 with model SeasonalityMotif in generation 4 of 10\n",
      "Model Number: 192 with model LastValueNaive in generation 4 of 10\n",
      "Model Number: 193 with model SeasonalNaive in generation 4 of 10\n",
      "Model Number: 194 with model GLS in generation 4 of 10\n",
      "New Generation: 5 of 10\n",
      "Model Number: 195 with model GLS in generation 5 of 10\n",
      "Model Number: 196 with model LastValueNaive in generation 5 of 10\n",
      "Model Number: 197 with model SeasonalNaive in generation 5 of 10\n",
      "Model Number: 198 with model SeasonalNaive in generation 5 of 10\n",
      "Model Number: 199 with model SeasonalityMotif in generation 5 of 10\n",
      "Model Number: 200 with model SeasonalNaive in generation 5 of 10\n",
      "Model Number: 201 with model SeasonalNaive in generation 5 of 10\n",
      "Model Number: 202 with model SeasonalityMotif in generation 5 of 10\n",
      "Model Number: 203 with model AverageValueNaive in generation 5 of 10\n",
      "Model Number: 204 with model SectionalMotif in generation 5 of 10\n",
      "Model Number: 205 with model SeasonalityMotif in generation 5 of 10\n",
      "Model Number: 206 with model SeasonalityMotif in generation 5 of 10\n",
      "Model Number: 207 with model SeasonalNaive in generation 5 of 10\n",
      "Model Number: 208 with model SectionalMotif in generation 5 of 10\n",
      "Template Eval Error: ValueError(\"regression_type=='User' but no future_regressor supplied\") in model 208 in generation 5: SectionalMotif\n",
      "Model Number: 209 with model GLS in generation 5 of 10\n",
      "Template Eval Error: Exception(\"Transformer SinTrend failed on fit from params rolling_mean {'0': {}, '1': {}, '2': {}, '3': {'constant': 0, 'reintroduction_model': None, 'fillna': None}}\") in model 209 in generation 5: GLS\n",
      "Model Number: 210 with model SeasonalityMotif in generation 5 of 10\n",
      "Model Number: 211 with model SectionalMotif in generation 5 of 10\n",
      "Model Number: 212 with model AverageValueNaive in generation 5 of 10\n",
      "Model Number: 213 with model SeasonalityMotif in generation 5 of 10\n",
      "Model Number: 214 with model LastValueNaive in generation 5 of 10\n",
      "Model Number: 215 with model SectionalMotif in generation 5 of 10\n",
      "Model Number: 216 with model SectionalMotif in generation 5 of 10\n",
      "Model Number: 217 with model LastValueNaive in generation 5 of 10\n",
      "Model Number: 218 with model SeasonalNaive in generation 5 of 10\n",
      "Model Number: 219 with model SeasonalNaive in generation 5 of 10\n",
      "Model Number: 220 with model SectionalMotif in generation 5 of 10\n",
      "Model Number: 221 with model GLS in generation 5 of 10\n",
      "Model Number: 222 with model SectionalMotif in generation 5 of 10\n",
      "New Generation: 6 of 10\n",
      "Model Number: 223 with model GLS in generation 6 of 10\n",
      "Model Number: 224 with model AverageValueNaive in generation 6 of 10\n",
      "Model Number: 225 with model SectionalMotif in generation 6 of 10\n",
      "Model Number: 226 with model GLS in generation 6 of 10\n",
      "Model Number: 227 with model SectionalMotif in generation 6 of 10\n",
      "Model Number: 228 with model SeasonalNaive in generation 6 of 10\n",
      "Model Number: 229 with model SeasonalityMotif in generation 6 of 10\n"
     ]
    },
    {
     "name": "stderr",
     "output_type": "stream",
     "text": [
      "c:\\Users\\carre\\AppData\\Local\\Programs\\Python\\Python312\\Lib\\site-packages\\sklearn\\neighbors\\_classification.py:238: DataConversionWarning: A column-vector y was passed when a 1d array was expected. Please change the shape of y to (n_samples,), for example using ravel().\n",
      "  return self._fit(X, y)\n"
     ]
    },
    {
     "name": "stdout",
     "output_type": "stream",
     "text": [
      "Model Number: 230 with model SeasonalityMotif in generation 6 of 10\n",
      "Model Number: 231 with model SectionalMotif in generation 6 of 10\n",
      "Model Number: 232 with model GLS in generation 6 of 10\n",
      "Model Number: 233 with model SeasonalityMotif in generation 6 of 10\n",
      "Model Number: 234 with model LastValueNaive in generation 6 of 10\n",
      "Template Eval Error: Exception(\"Transformer ReplaceConstant failed on fit from params fake_date {'0': {'method': 'IsolationForest', 'method_params': {'contamination': 0.05, 'n_estimators': 50, 'max_features': 1.0, 'bootstrap': False}, 'fillna': 'ffill', 'transform_dict': None, 'isolated_only': False}, '1': {'constant': 0, 'reintroduction_model': {'model': 'xgboost', 'model_params': {'booster': 'gbtree', 'max_depth': 3, 'eta': 0.03, 'min_child_weight': 1, 'subsample': 1, 'colsample_bylevel': 1, 'reg_alpha': 0, 'reg_lambda': 1, 'n_estimators': 100}, 'datepart_method': 'expanded'}, 'fillna': 'ffill'}, '2': {'lag_1': 24, 'method': 'LastValue'}}\") in model 234 in generation 6: LastValueNaive\n",
      "Model Number: 235 with model AverageValueNaive in generation 6 of 10\n",
      "Model Number: 236 with model GLS in generation 6 of 10\n",
      "Model Number: 237 with model SectionalMotif in generation 6 of 10\n",
      "Model Number: 238 with model AverageValueNaive in generation 6 of 10\n",
      "Model Number: 239 with model GLS in generation 6 of 10\n",
      "Model Number: 240 with model SectionalMotif in generation 6 of 10\n",
      "Template Eval Error: Exception(\"Transformer BTCD failed on fit from params fake_date {'0': {'sigma': 2, 'rolling_window': 90, 'run_order': 'season_first', 'regression_params': {'regression_model': {'model': 'KNN', 'model_params': {'n_neighbors': 5, 'weights': 'uniform', 'p': 2, 'leaf_size': 30}}, 'datepart_method': 'simple', 'polynomial_degree': None, 'transform_dict': {'fillna': None, 'transformations': {'0': 'EWMAFilter'}, 'transformation_params': {'0': {'span': 7}}}, 'holiday_countries_used': False, 'lags': 1, 'forward_lags': None}, 'holiday_params': None, 'trend_method': 'local_linear'}, '1': {'rows': 1, 'lag': 2, 'method': 'additive', 'strength': 1.0, 'first_value_only': False}, '2': {}, '3': {'regression_model': {'model': 'LinearRegression', 'model_params': {}}, 'max_lags': 1}}\") in model 240 in generation 6: SectionalMotif\n",
      "Model Number: 241 with model LastValueNaive in generation 6 of 10\n",
      "Model Number: 242 with model SeasonalityMotif in generation 6 of 10\n",
      "Model Number: 243 with model AverageValueNaive in generation 6 of 10\n",
      "Model Number: 244 with model GLS in generation 6 of 10\n",
      "Model Number: 245 with model AverageValueNaive in generation 6 of 10\n",
      "Model Number: 246 with model SectionalMotif in generation 6 of 10\n",
      "Model Number: 247 with model GLS in generation 6 of 10\n"
     ]
    },
    {
     "name": "stderr",
     "output_type": "stream",
     "text": [
      "c:\\Users\\carre\\AppData\\Local\\Programs\\Python\\Python312\\Lib\\site-packages\\autots\\tools\\transform.py:5608: FutureWarning: Downcasting object dtype arrays on .fillna, .ffill, .bfill is deprecated and will change in a future version. Call result.infer_objects(copy=False) instead. To opt-in to the future behavior, set `pd.set_option('future.no_silent_downcasting', True)`\n",
      "  df = df.fillna(0)\n",
      "c:\\Users\\carre\\AppData\\Local\\Programs\\Python\\Python312\\Lib\\site-packages\\autots\\tools\\transform.py:5608: FutureWarning: Downcasting object dtype arrays on .fillna, .ffill, .bfill is deprecated and will change in a future version. Call result.infer_objects(copy=False) instead. To opt-in to the future behavior, set `pd.set_option('future.no_silent_downcasting', True)`\n",
      "  df = df.fillna(0)\n"
     ]
    },
    {
     "name": "stdout",
     "output_type": "stream",
     "text": [
      "Model Number: 248 with model GLS in generation 6 of 10\n",
      "Model Number: 249 with model SectionalMotif in generation 6 of 10\n",
      "Model Number: 250 with model SeasonalNaive in generation 6 of 10\n",
      "New Generation: 7 of 10\n",
      "Model Number: 251 with model SeasonalNaive in generation 7 of 10\n",
      "Model Number: 252 with model SeasonalityMotif in generation 7 of 10\n",
      "Model Number: 253 with model LastValueNaive in generation 7 of 10\n",
      "Model Number: 254 with model SeasonalNaive in generation 7 of 10\n"
     ]
    },
    {
     "name": "stderr",
     "output_type": "stream",
     "text": [
      "c:\\Users\\carre\\AppData\\Local\\Programs\\Python\\Python312\\Lib\\site-packages\\autots\\tools\\transform.py:5608: FutureWarning: Downcasting object dtype arrays on .fillna, .ffill, .bfill is deprecated and will change in a future version. Call result.infer_objects(copy=False) instead. To opt-in to the future behavior, set `pd.set_option('future.no_silent_downcasting', True)`\n",
      "  df = df.fillna(0)\n",
      "c:\\Users\\carre\\AppData\\Local\\Programs\\Python\\Python312\\Lib\\site-packages\\autots\\tools\\transform.py:5608: FutureWarning: Downcasting object dtype arrays on .fillna, .ffill, .bfill is deprecated and will change in a future version. Call result.infer_objects(copy=False) instead. To opt-in to the future behavior, set `pd.set_option('future.no_silent_downcasting', True)`\n",
      "  df = df.fillna(0)\n"
     ]
    },
    {
     "name": "stdout",
     "output_type": "stream",
     "text": [
      "Model Number: 255 with model GLS in generation 7 of 10\n",
      "Template Eval Error: Exception(\"Transformer BTCD failed on fit from params ffill {'0': {'lag_1': 24, 'method': 'LastValue'}, '1': {'regression_model': {'model': 'FastRidge', 'model_params': {}}, 'max_lags': 2}, '2': {}, '3': {'lag': 1, 'fill': 'bfill'}}\") in model 255 in generation 7: GLS\n",
      "Model Number: 256 with model SectionalMotif in generation 7 of 10\n",
      "Model Number: 257 with model SeasonalNaive in generation 7 of 10\n",
      "Model Number: 258 with model SeasonalityMotif in generation 7 of 10\n",
      "Model Number: 259 with model SeasonalityMotif in generation 7 of 10\n",
      "Model Number: 260 with model AverageValueNaive in generation 7 of 10\n",
      "Model Number: 261 with model SeasonalityMotif in generation 7 of 10\n",
      "Model Number: 262 with model SeasonalityMotif in generation 7 of 10\n",
      "Model Number: 263 with model SectionalMotif in generation 7 of 10\n",
      "Model Number: 264 with model SectionalMotif in generation 7 of 10\n",
      "Model Number: 265 with model SeasonalityMotif in generation 7 of 10\n",
      "Model Number: 266 with model GLS in generation 7 of 10\n",
      "Model Number: 267 with model SeasonalNaive in generation 7 of 10\n",
      "Model Number: 268 with model SectionalMotif in generation 7 of 10\n",
      "Model Number: 269 with model SectionalMotif in generation 7 of 10\n",
      "Model Number: 270 with model LastValueNaive in generation 7 of 10\n"
     ]
    },
    {
     "name": "stderr",
     "output_type": "stream",
     "text": [
      "c:\\Users\\carre\\AppData\\Local\\Programs\\Python\\Python312\\Lib\\site-packages\\autots\\tools\\anomaly_utils.py:1115: FutureWarning: Downcasting object dtype arrays on .fillna, .ffill, .bfill is deprecated and will change in a future version. Call result.infer_objects(copy=False) instead. To opt-in to the future behavior, set `pd.set_option('future.no_silent_downcasting', True)`\n",
      "  result = result + temp.where(temp.isnull(), 1).fillna(0)\n",
      "c:\\Users\\carre\\AppData\\Local\\Programs\\Python\\Python312\\Lib\\site-packages\\autots\\tools\\anomaly_utils.py:1115: FutureWarning: Downcasting object dtype arrays on .fillna, .ffill, .bfill is deprecated and will change in a future version. Call result.infer_objects(copy=False) instead. To opt-in to the future behavior, set `pd.set_option('future.no_silent_downcasting', True)`\n",
      "  result = result + temp.where(temp.isnull(), 1).fillna(0)\n",
      "c:\\Users\\carre\\AppData\\Local\\Programs\\Python\\Python312\\Lib\\site-packages\\autots\\tools\\anomaly_utils.py:1115: FutureWarning: Downcasting object dtype arrays on .fillna, .ffill, .bfill is deprecated and will change in a future version. Call result.infer_objects(copy=False) instead. To opt-in to the future behavior, set `pd.set_option('future.no_silent_downcasting', True)`\n",
      "  result = result + temp.where(temp.isnull(), 1).fillna(0)\n",
      "c:\\Users\\carre\\AppData\\Local\\Programs\\Python\\Python312\\Lib\\site-packages\\autots\\tools\\anomaly_utils.py:1132: FutureWarning: Downcasting behavior in `replace` is deprecated and will be removed in a future version. To retain the old behavior, explicitly call `result.infer_objects(copy=False)`. To opt-in to the future behavior, set `pd.set_option('future.no_silent_downcasting', True)`\n",
      "  temp.replace(replace_dict).astype(float).fillna(0),\n",
      "c:\\Users\\carre\\AppData\\Local\\Programs\\Python\\Python312\\Lib\\site-packages\\autots\\tools\\anomaly_utils.py:1132: FutureWarning: Downcasting behavior in `replace` is deprecated and will be removed in a future version. To retain the old behavior, explicitly call `result.infer_objects(copy=False)`. To opt-in to the future behavior, set `pd.set_option('future.no_silent_downcasting', True)`\n",
      "  temp.replace(replace_dict).astype(float).fillna(0),\n",
      "c:\\Users\\carre\\AppData\\Local\\Programs\\Python\\Python312\\Lib\\site-packages\\autots\\tools\\anomaly_utils.py:1132: FutureWarning: Downcasting behavior in `replace` is deprecated and will be removed in a future version. To retain the old behavior, explicitly call `result.infer_objects(copy=False)`. To opt-in to the future behavior, set `pd.set_option('future.no_silent_downcasting', True)`\n",
      "  temp.replace(replace_dict).astype(float).fillna(0),\n",
      "c:\\Users\\carre\\AppData\\Local\\Programs\\Python\\Python312\\Lib\\site-packages\\autots\\tools\\thresholding.py:204: RuntimeWarning: overflow encountered in scalar power\n",
      "  (1 + mean_perc_decrease) ** self.mean_weight\n",
      "c:\\Users\\carre\\AppData\\Local\\Programs\\Python\\Python312\\Lib\\site-packages\\autots\\tools\\anomaly_utils.py:1132: FutureWarning: Downcasting behavior in `replace` is deprecated and will be removed in a future version. To retain the old behavior, explicitly call `result.infer_objects(copy=False)`. To opt-in to the future behavior, set `pd.set_option('future.no_silent_downcasting', True)`\n",
      "  temp.replace(replace_dict).astype(float).fillna(0),\n",
      "c:\\Users\\carre\\AppData\\Local\\Programs\\Python\\Python312\\Lib\\site-packages\\autots\\tools\\anomaly_utils.py:1132: FutureWarning: Downcasting behavior in `replace` is deprecated and will be removed in a future version. To retain the old behavior, explicitly call `result.infer_objects(copy=False)`. To opt-in to the future behavior, set `pd.set_option('future.no_silent_downcasting', True)`\n",
      "  temp.replace(replace_dict).astype(float).fillna(0),\n",
      "c:\\Users\\carre\\AppData\\Local\\Programs\\Python\\Python312\\Lib\\site-packages\\autots\\tools\\anomaly_utils.py:1132: FutureWarning: Downcasting behavior in `replace` is deprecated and will be removed in a future version. To retain the old behavior, explicitly call `result.infer_objects(copy=False)`. To opt-in to the future behavior, set `pd.set_option('future.no_silent_downcasting', True)`\n",
      "  temp.replace(replace_dict).astype(float).fillna(0),\n",
      "c:\\Users\\carre\\AppData\\Local\\Programs\\Python\\Python312\\Lib\\site-packages\\autots\\tools\\anomaly_utils.py:1132: FutureWarning: Downcasting behavior in `replace` is deprecated and will be removed in a future version. To retain the old behavior, explicitly call `result.infer_objects(copy=False)`. To opt-in to the future behavior, set `pd.set_option('future.no_silent_downcasting', True)`\n",
      "  temp.replace(replace_dict).astype(float).fillna(0),\n",
      "c:\\Users\\carre\\AppData\\Local\\Programs\\Python\\Python312\\Lib\\site-packages\\autots\\tools\\anomaly_utils.py:1132: FutureWarning: Downcasting behavior in `replace` is deprecated and will be removed in a future version. To retain the old behavior, explicitly call `result.infer_objects(copy=False)`. To opt-in to the future behavior, set `pd.set_option('future.no_silent_downcasting', True)`\n",
      "  temp.replace(replace_dict).astype(float).fillna(0),\n",
      "c:\\Users\\carre\\AppData\\Local\\Programs\\Python\\Python312\\Lib\\site-packages\\autots\\tools\\anomaly_utils.py:1132: FutureWarning: Downcasting behavior in `replace` is deprecated and will be removed in a future version. To retain the old behavior, explicitly call `result.infer_objects(copy=False)`. To opt-in to the future behavior, set `pd.set_option('future.no_silent_downcasting', True)`\n",
      "  temp.replace(replace_dict).astype(float).fillna(0),\n",
      "c:\\Users\\carre\\AppData\\Local\\Programs\\Python\\Python312\\Lib\\site-packages\\autots\\tools\\anomaly_utils.py:1132: FutureWarning: Downcasting behavior in `replace` is deprecated and will be removed in a future version. To retain the old behavior, explicitly call `result.infer_objects(copy=False)`. To opt-in to the future behavior, set `pd.set_option('future.no_silent_downcasting', True)`\n",
      "  temp.replace(replace_dict).astype(float).fillna(0),\n",
      "c:\\Users\\carre\\AppData\\Local\\Programs\\Python\\Python312\\Lib\\site-packages\\autots\\tools\\anomaly_utils.py:1132: FutureWarning: Downcasting behavior in `replace` is deprecated and will be removed in a future version. To retain the old behavior, explicitly call `result.infer_objects(copy=False)`. To opt-in to the future behavior, set `pd.set_option('future.no_silent_downcasting', True)`\n",
      "  temp.replace(replace_dict).astype(float).fillna(0),\n"
     ]
    },
    {
     "name": "stdout",
     "output_type": "stream",
     "text": [
      "Model Number: 271 with model SectionalMotif in generation 7 of 10\n",
      "Template Eval Error: Exception(\"Transformer BTCD failed on fit from params rolling_mean {'0': {'regression_model': {'model': 'FastRidge', 'model_params': {}}, 'max_lags': 1}, '1': {}, '2': {'rows': 3}, '3': {'lag': 1, 'fill': 'bfill'}, '4': {'span': 2}}\") in model 271 in generation 7: SectionalMotif\n",
      "Model Number: 272 with model SectionalMotif in generation 7 of 10\n",
      "Model Number: 273 with model AverageValueNaive in generation 7 of 10\n",
      "Template Eval Error: Exception(\"Transformer Cointegration failed on fit from params rolling_mean_24 {'0': {}, '1': {'rows': 1, 'lag': 2, 'method': 'additive', 'strength': 1.0, 'first_value_only': False, 'threshold': 10, 'threshold_method': 'max'}, '2': {'lag': 1, 'fill': 'bfill'}, '3': {'det_order': 1, 'k_ar_diff': 2}, '4': {'rows': 1, 'lag': 28, 'method': 'multiplicative', 'strength': 1.0, 'first_value_only': False, 'threshold': 10, 'threshold_method': 'max'}}\") in model 273 in generation 7: AverageValueNaive\n",
      "Model Number: 274 with model SectionalMotif in generation 7 of 10\n"
     ]
    },
    {
     "name": "stderr",
     "output_type": "stream",
     "text": [
      "c:\\Users\\carre\\AppData\\Local\\Programs\\Python\\Python312\\Lib\\site-packages\\autots\\tools\\anomaly_utils.py:1132: FutureWarning: Downcasting behavior in `replace` is deprecated and will be removed in a future version. To retain the old behavior, explicitly call `result.infer_objects(copy=False)`. To opt-in to the future behavior, set `pd.set_option('future.no_silent_downcasting', True)`\n",
      "  temp.replace(replace_dict).astype(float).fillna(0),\n"
     ]
    },
    {
     "name": "stdout",
     "output_type": "stream",
     "text": [
      "Model Number: 275 with model SeasonalityMotif in generation 7 of 10\n",
      "Model Number: 276 with model AverageValueNaive in generation 7 of 10\n",
      "Model Number: 277 with model SectionalMotif in generation 7 of 10\n",
      "Model Number: 278 with model SeasonalNaive in generation 7 of 10\n",
      "Template Eval Error: Exception(\"Transformer BTCD failed on fit from params nearest {'0': {'method': 'IQR', 'method_params': {'iqr_threshold': 1.5, 'iqr_quantiles': [0.25, 0.75]}, 'fillna': 'ffill', 'transform_dict': {'fillna': 'SeasonalityMotifImputer1K', 'transformations': {'0': 'HistoricValues', '1': 'AlignLastValue'}, 'transformation_params': {'0': {'window': 28}, '1': {'rows': 1, 'lag': 1, 'method': 'additive', 'strength': 0.7, 'first_value_only': True, 'threshold': 10, 'threshold_method': 'max'}}}, 'isolated_only': False}, '1': {'method': 'EE', 'method_params': {'contamination': 0.1, 'assume_centered': False, 'support_fraction': None}, 'fillna': 'rolling_mean_24', 'transform_dict': None, 'isolated_only': False}, '2': {'constant': 0, 'reintroduction_model': {'model': 'KNN', 'model_params': {'n_neighbors': 14, 'weights': 'uniform', 'p': 2, 'leaf_size': 30}, 'datepart_method': 'common_fourier'}, 'fillna': 'akima'}, '3': {'regression_model': {'model': 'LinearRegression', 'model_params': {}}, 'max_lags': 2}, '4': {'output_distribution': 'normal', 'n_quantiles': 1000}, '5': {'det_order': -1, 'k_ar_diff': 2}}\") in model 278 in generation 7: SeasonalNaive\n",
      "New Generation: 8 of 10\n",
      "Model Number: 279 with model GLS in generation 8 of 10\n",
      "Template Eval Error: Exception(\"Transformer Cointegration failed on fit from params mean {'0': {}, '1': {'det_order': -1, 'k_ar_diff': 2}, '2': {'constant': 0, 'reintroduction_model': None, 'fillna': 'linear'}}\") in model 279 in generation 8: GLS\n",
      "Model Number: 280 with model SeasonalityMotif in generation 8 of 10\n",
      "Model Number: 281 with model SectionalMotif in generation 8 of 10\n",
      "Model Number: 282 with model GLS in generation 8 of 10\n"
     ]
    },
    {
     "name": "stderr",
     "output_type": "stream",
     "text": [
      "c:\\Users\\carre\\AppData\\Local\\Programs\\Python\\Python312\\Lib\\site-packages\\sklearn\\neighbors\\_classification.py:238: DataConversionWarning: A column-vector y was passed when a 1d array was expected. Please change the shape of y to (n_samples,), for example using ravel().\n",
      "  return self._fit(X, y)\n",
      "c:\\Users\\carre\\AppData\\Local\\Programs\\Python\\Python312\\Lib\\site-packages\\sklearn\\linear_model\\_coordinate_descent.py:697: ConvergenceWarning: Objective did not converge. You might want to increase the number of iterations, check the scale of the features or consider increasing regularisation. Duality gap: 1.111e+15, tolerance: 2.871e+11\n",
      "  model = cd_fast.enet_coordinate_descent(\n"
     ]
    },
    {
     "name": "stdout",
     "output_type": "stream",
     "text": [
      "Model Number: 283 with model GLS in generation 8 of 10\n",
      "Model Number: 284 with model SectionalMotif in generation 8 of 10\n",
      "Model Number: 285 with model SeasonalNaive in generation 8 of 10\n",
      "Model Number: 286 with model SectionalMotif in generation 8 of 10\n",
      "Model Number: 287 with model GLS in generation 8 of 10\n",
      "Model Number: 288 with model AverageValueNaive in generation 8 of 10\n",
      "Model Number: 289 with model SectionalMotif in generation 8 of 10\n",
      "Model Number: 290 with model GLS in generation 8 of 10\n",
      "Model Number: 291 with model SeasonalityMotif in generation 8 of 10\n",
      "Model Number: 292 with model SeasonalNaive in generation 8 of 10\n",
      "Model Number: 293 with model AverageValueNaive in generation 8 of 10\n",
      "Model Number: 294 with model SeasonalityMotif in generation 8 of 10\n",
      "Model Number: 295 with model SeasonalNaive in generation 8 of 10\n",
      "Template Eval Error: Exception(\"Transformer Cointegration failed on fit from params rolling_mean {'0': {'lag_1': 84, 'method': 'LastValue'}, '1': {'det_order': 0, 'k_ar_diff': 0}, '2': {}, '3': {}}\") in model 295 in generation 8: SeasonalNaive\n",
      "Model Number: 296 with model AverageValueNaive in generation 8 of 10\n",
      "Model Number: 297 with model SeasonalNaive in generation 8 of 10\n",
      "Model Number: 298 with model AverageValueNaive in generation 8 of 10\n",
      "Template Eval Error: Exception(\"Transformer Cointegration failed on fit from params ffill {'0': {}, '1': {'det_order': 1, 'k_ar_diff': 0}, '2': {}, '3': {}}\") in model 298 in generation 8: AverageValueNaive\n",
      "Model Number: 299 with model GLS in generation 8 of 10\n",
      "Model Number: 300 with model LastValueNaive in generation 8 of 10\n",
      "Model Number: 301 with model SectionalMotif in generation 8 of 10\n",
      "Model Number: 302 with model SectionalMotif in generation 8 of 10\n",
      "Model Number: 303 with model SeasonalityMotif in generation 8 of 10\n",
      "Template Eval Error: Exception(\"Transformer PCA failed on fit from params rolling_mean {'0': {'lag_1': 12, 'method': 5}, '1': {'whiten': False, 'n_components': 100}}\") in model 303 in generation 8: SeasonalityMotif\n",
      "Model Number: 304 with model AverageValueNaive in generation 8 of 10\n",
      "Model Number: 305 with model LastValueNaive in generation 8 of 10\n",
      "Model Number: 306 with model GLS in generation 8 of 10\n",
      "Template Eval Error: Exception(\"Transformer Cointegration failed on fit from params time {'0': {'decomp_type': 'STL', 'part': 'trend', 'seasonal': 27}, '1': {'det_order': -1, 'k_ar_diff': 2}}\") in model 306 in generation 8: GLS\n"
     ]
    },
    {
     "name": "stderr",
     "output_type": "stream",
     "text": [
      "c:\\Users\\carre\\AppData\\Local\\Programs\\Python\\Python312\\Lib\\site-packages\\sklearn\\neighbors\\_classification.py:238: DataConversionWarning: A column-vector y was passed when a 1d array was expected. Please change the shape of y to (n_samples,), for example using ravel().\n",
      "  return self._fit(X, y)\n"
     ]
    },
    {
     "name": "stdout",
     "output_type": "stream",
     "text": [
      "New Generation: 9 of 10\n",
      "Model Number: 307 with model SectionalMotif in generation 9 of 10\n",
      "Model Number: 308 with model GLS in generation 9 of 10\n",
      "Model Number: 309 with model GLS in generation 9 of 10\n",
      "Model Number: 310 with model SectionalMotif in generation 9 of 10\n",
      "Template Eval Error: Exception(\"Transformer ReplaceConstant failed on fit from params linear {'0': {'constant': 0, 'reintroduction_model': {'model': 'xgboost', 'model_params': {'booster': 'gbtree', 'colsample_bylevel': 0.54, 'learning_rate': 0.0125, 'max_depth': 11, 'min_child_weight': 0.0127203, 'n_estimators': 319}, 'datepart_method': 'simple'}, 'fillna': 'linear'}}\") in model 310 in generation 9: SectionalMotif\n",
      "Model Number: 311 with model SeasonalityMotif in generation 9 of 10\n",
      "Model Number: 312 with model SectionalMotif in generation 9 of 10\n",
      "Model Number: 313 with model SectionalMotif in generation 9 of 10\n",
      "Model Number: 314 with model GLS in generation 9 of 10\n"
     ]
    },
    {
     "name": "stderr",
     "output_type": "stream",
     "text": [
      "c:\\Users\\carre\\AppData\\Local\\Programs\\Python\\Python312\\Lib\\site-packages\\autots\\tools\\transform.py:1637: FutureWarning: The behavior of DataFrame concatenation with empty or all-NA entries is deprecated. In a future version, this will no longer exclude empty or all-NA columns when determining the result dtypes. To retain the old behavior, exclude the relevant entries before the concat operation.\n",
      "  df = pd.concat([self.last_values, df], axis=0)\n",
      "c:\\Users\\carre\\AppData\\Local\\Programs\\Python\\Python312\\Lib\\site-packages\\autots\\tools\\transform.py:1637: FutureWarning: The behavior of DataFrame concatenation with empty or all-NA entries is deprecated. In a future version, this will no longer exclude empty or all-NA columns when determining the result dtypes. To retain the old behavior, exclude the relevant entries before the concat operation.\n",
      "  df = pd.concat([self.last_values, df], axis=0)\n"
     ]
    },
    {
     "name": "stdout",
     "output_type": "stream",
     "text": [
      "Model Number: 315 with model GLS in generation 9 of 10\n",
      "Model Number: 316 with model SeasonalityMotif in generation 9 of 10\n",
      "Model Number: 317 with model GLS in generation 9 of 10\n",
      "Template Eval Error: Exception(\"Transformer DatepartRegression failed on fit from params nearest {'0': {'cutoff': 0.2, 'reverse': False}, '1': {'regression_model': {'model': 'ElasticNet', 'model_params': {'l1_ratio': 0.1, 'fit_intercept': True, 'selection': 'cyclic'}}, 'datepart_method': 'common_fourier', 'polynomial_degree': None, 'transform_dict': {'fillna': None, 'transformations': {'0': 'AnomalyRemoval'}, 'transformation_params': {'0': {'method': 'zscore', 'transform_dict': {'transformations': {'0': 'DatepartRegression'}, 'transformation_params': {'0': {'datepart_method': 'simple_3', 'regression_model': {'model': 'ElasticNet', 'model_params': {}}}}}, 'method_params': {'distribution': 'uniform', 'alpha': 0.05}}}}, 'holiday_countries_used': False, 'lags': None, 'forward_lags': None}, '2': {'fillna': 'ffill', 'center': 'zero'}}\") in model 317 in generation 9: GLS\n",
      "Model Number: 318 with model SeasonalNaive in generation 9 of 10\n",
      "Model Number: 319 with model SeasonalityMotif in generation 9 of 10\n",
      "Model Number: 320 with model SeasonalityMotif in generation 9 of 10\n",
      "Model Number: 321 with model SeasonalNaive in generation 9 of 10\n",
      "Model Number: 322 with model AverageValueNaive in generation 9 of 10\n",
      "Model Number: 323 with model SectionalMotif in generation 9 of 10\n",
      "Model Number: 324 with model GLS in generation 9 of 10\n",
      "Model Number: 325 with model GLS in generation 9 of 10\n",
      "Model Number: 326 with model SectionalMotif in generation 9 of 10\n",
      "Model Number: 327 with model SeasonalityMotif in generation 9 of 10\n",
      "Model Number: 328 with model SeasonalNaive in generation 9 of 10\n",
      "Model Number: 329 with model SectionalMotif in generation 9 of 10\n",
      "Model Number: 330 with model SectionalMotif in generation 9 of 10\n",
      "Model Number: 331 with model SectionalMotif in generation 9 of 10\n",
      "Model Number: 332 with model GLS in generation 9 of 10\n",
      "Model Number: 333 with model SeasonalityMotif in generation 9 of 10\n",
      "Model Number: 334 with model LastValueNaive in generation 9 of 10\n",
      "New Generation: 10 of 10\n",
      "Model Number: 335 with model SectionalMotif in generation 10 of 10\n",
      "Model Number: 336 with model SectionalMotif in generation 10 of 10\n",
      "Model Number: 337 with model SectionalMotif in generation 10 of 10\n",
      "Model Number: 338 with model SectionalMotif in generation 10 of 10\n",
      "Model Number: 339 with model SeasonalityMotif in generation 10 of 10\n",
      "Model Number: 340 with model GLS in generation 10 of 10\n",
      "Model Number: 341 with model SeasonalityMotif in generation 10 of 10\n",
      "Model Number: 342 with model GLS in generation 10 of 10\n",
      "Model Number: 343 with model SeasonalityMotif in generation 10 of 10\n",
      "Model Number: 344 with model SeasonalNaive in generation 10 of 10\n",
      "Model Number: 345 with model SeasonalityMotif in generation 10 of 10\n",
      "Model Number: 346 with model SectionalMotif in generation 10 of 10\n",
      "Model Number: 347 with model GLS in generation 10 of 10\n",
      "Model Number: 348 with model LastValueNaive in generation 10 of 10\n",
      "Model Number: 349 with model SectionalMotif in generation 10 of 10\n",
      "Model Number: 350 with model SectionalMotif in generation 10 of 10\n",
      "Model Number: 351 with model SectionalMotif in generation 10 of 10\n",
      "Template Eval Error: Exception(\"Transformer PCA failed on fit from params ffill {'0': {'whiten': False, 'n_components': 100}, '1': {}}\") in model 351 in generation 10: SectionalMotif\n",
      "Model Number: 352 with model SectionalMotif in generation 10 of 10\n",
      "Model Number: 353 with model SeasonalNaive in generation 10 of 10\n",
      "Model Number: 354 with model GLS in generation 10 of 10\n",
      "Model Number: 355 with model GLS in generation 10 of 10\n"
     ]
    },
    {
     "name": "stderr",
     "output_type": "stream",
     "text": [
      "c:\\Users\\carre\\AppData\\Local\\Programs\\Python\\Python312\\Lib\\site-packages\\sklearn\\linear_model\\_coordinate_descent.py:697: ConvergenceWarning: Objective did not converge. You might want to increase the number of iterations, check the scale of the features or consider increasing regularisation. Duality gap: 1.111e+15, tolerance: 2.871e+11\n",
      "  model = cd_fast.enet_coordinate_descent(\n"
     ]
    },
    {
     "name": "stdout",
     "output_type": "stream",
     "text": [
      "Validation Round: 1\n",
      "Model Number: 1 of 54 with model SectionalMotif for Validation 1\n",
      "1 - SectionalMotif with avg smape nan: \n",
      "Model Number: 2 of 54 with model SectionalMotif for Validation 1\n",
      "📈 2 - SectionalMotif with avg smape 90.91: \n",
      "Model Number: 3 of 54 with model SectionalMotif for Validation 1\n",
      "3 - SectionalMotif with avg smape nan: \n",
      "Model Number: 4 of 54 with model SectionalMotif for Validation 1\n",
      "4 - SectionalMotif with avg smape nan: \n",
      "Model Number: 5 of 54 with model SectionalMotif for Validation 1\n",
      "5 - SectionalMotif with avg smape nan: \n",
      "Model Number: 6 of 54 with model SectionalMotif for Validation 1\n",
      "6 - SectionalMotif with avg smape nan: \n",
      "Model Number: 7 of 54 with model SectionalMotif for Validation 1\n",
      "7 - SectionalMotif with avg smape nan: \n",
      "Model Number: 8 of 54 with model SectionalMotif for Validation 1\n",
      "8 - SectionalMotif with avg smape nan: \n",
      "Model Number: 9 of 54 with model SectionalMotif for Validation 1\n",
      "9 - SectionalMotif with avg smape nan: \n",
      "Model Number: 10 of 54 with model GLS for Validation 1\n"
     ]
    },
    {
     "name": "stderr",
     "output_type": "stream",
     "text": [
      "c:\\Users\\carre\\AppData\\Local\\Programs\\Python\\Python312\\Lib\\site-packages\\sklearn\\linear_model\\_coordinate_descent.py:697: ConvergenceWarning: Objective did not converge. You might want to increase the number of iterations, check the scale of the features or consider increasing regularisation. Duality gap: 9.631e+14, tolerance: 2.520e+11\n",
      "  model = cd_fast.enet_coordinate_descent(\n"
     ]
    },
    {
     "name": "stdout",
     "output_type": "stream",
     "text": [
      "10 - GLS with avg smape nan: \n",
      "Model Number: 11 of 54 with model SeasonalityMotif for Validation 1\n",
      "11 - SeasonalityMotif with avg smape nan: \n",
      "Model Number: 12 of 54 with model GLS for Validation 1\n"
     ]
    },
    {
     "name": "stderr",
     "output_type": "stream",
     "text": [
      "c:\\Users\\carre\\AppData\\Local\\Programs\\Python\\Python312\\Lib\\site-packages\\sklearn\\linear_model\\_coordinate_descent.py:697: ConvergenceWarning: Objective did not converge. You might want to increase the number of iterations, check the scale of the features or consider increasing regularisation. Duality gap: 9.631e+14, tolerance: 2.520e+11\n",
      "  model = cd_fast.enet_coordinate_descent(\n"
     ]
    },
    {
     "name": "stdout",
     "output_type": "stream",
     "text": [
      "12 - GLS with avg smape nan: \n",
      "Model Number: 13 of 54 with model SeasonalityMotif for Validation 1\n",
      "13 - SeasonalityMotif with avg smape nan: \n",
      "Model Number: 14 of 54 with model SeasonalityMotif for Validation 1\n",
      "14 - SeasonalityMotif with avg smape nan: \n",
      "Model Number: 15 of 54 with model GLS for Validation 1\n",
      "15 - GLS with avg smape nan: \n",
      "Model Number: 16 of 54 with model GLS for Validation 1\n",
      "📈 16 - GLS with avg smape 85.61: \n",
      "Model Number: 17 of 54 with model SeasonalNaive for Validation 1\n",
      "17 - SeasonalNaive with avg smape nan: \n",
      "Model Number: 18 of 54 with model GLS for Validation 1\n",
      "📈 18 - GLS with avg smape 81.22: \n",
      "Model Number: 19 of 54 with model LastValueNaive for Validation 1\n",
      "19 - LastValueNaive with avg smape nan: \n",
      "Model Number: 20 of 54 with model GLS for Validation 1\n",
      "20 - GLS with avg smape nan: \n",
      "Model Number: 21 of 54 with model SeasonalityMotif for Validation 1\n",
      "21 - SeasonalityMotif with avg smape 90.66: \n",
      "Model Number: 22 of 54 with model SeasonalityMotif for Validation 1\n",
      "22 - SeasonalityMotif with avg smape 98.19: \n",
      "Model Number: 23 of 54 with model SeasonalNaive for Validation 1\n",
      "23 - SeasonalNaive with avg smape nan: \n",
      "Model Number: 24 of 54 with model SeasonalityMotif for Validation 1\n",
      "📈 24 - SeasonalityMotif with avg smape 76.55: \n",
      "Model Number: 25 of 54 with model SeasonalityMotif for Validation 1\n",
      "25 - SeasonalityMotif with avg smape 76.55: \n",
      "Model Number: 26 of 54 with model SeasonalityMotif for Validation 1\n",
      "26 - SeasonalityMotif with avg smape 76.55: \n",
      "Model Number: 27 of 54 with model SeasonalityMotif for Validation 1\n",
      "📈 27 - SeasonalityMotif with avg smape 64.78: \n",
      "Model Number: 28 of 54 with model GLS for Validation 1\n",
      "28 - GLS with avg smape 96.02: \n",
      "Model Number: 29 of 54 with model GLS for Validation 1\n",
      "29 - GLS with avg smape 96.02: \n",
      "Model Number: 30 of 54 with model GLS for Validation 1\n",
      "30 - GLS with avg smape 95.15: \n",
      "Model Number: 31 of 54 with model SeasonalNaive for Validation 1\n",
      "31 - SeasonalNaive with avg smape 81.2: \n",
      "Model Number: 32 of 54 with model SeasonalNaive for Validation 1\n",
      "32 - SeasonalNaive with avg smape 74.53: \n",
      "Model Number: 33 of 54 with model AverageValueNaive for Validation 1\n",
      "33 - AverageValueNaive with avg smape 81.47: \n",
      "Model Number: 34 of 54 with model LastValueNaive for Validation 1\n",
      "34 - LastValueNaive with avg smape nan: \n",
      "Model Number: 35 of 54 with model AverageValueNaive for Validation 1\n",
      "35 - AverageValueNaive with avg smape 74.66: \n",
      "Model Number: 36 of 54 with model AverageValueNaive for Validation 1\n",
      "36 - AverageValueNaive with avg smape 74.66: \n",
      "Model Number: 37 of 54 with model AverageValueNaive for Validation 1\n",
      "37 - AverageValueNaive with avg smape 74.42: \n",
      "Model Number: 38 of 54 with model AverageValueNaive for Validation 1\n",
      "38 - AverageValueNaive with avg smape 74.42: \n",
      "Model Number: 39 of 54 with model AverageValueNaive for Validation 1\n",
      "39 - AverageValueNaive with avg smape 74.26: \n",
      "Model Number: 40 of 54 with model AverageValueNaive for Validation 1\n",
      "40 - AverageValueNaive with avg smape 74.67: \n",
      "Model Number: 41 of 54 with model AverageValueNaive for Validation 1\n",
      "41 - AverageValueNaive with avg smape 74.67: \n",
      "Model Number: 42 of 54 with model SeasonalNaive for Validation 1\n",
      "42 - SeasonalNaive with avg smape 77.2: \n",
      "Model Number: 43 of 54 with model AverageValueNaive for Validation 1\n",
      "43 - AverageValueNaive with avg smape 74.5: \n",
      "Model Number: 44 of 54 with model LastValueNaive for Validation 1\n",
      "44 - LastValueNaive with avg smape 75.48: \n",
      "Model Number: 45 of 54 with model SeasonalNaive for Validation 1\n",
      "45 - SeasonalNaive with avg smape 79.04: \n",
      "Model Number: 46 of 54 with model SeasonalNaive for Validation 1\n",
      "46 - SeasonalNaive with avg smape 76.22: \n",
      "Model Number: 47 of 54 with model SeasonalNaive for Validation 1\n",
      "47 - SeasonalNaive with avg smape 82.16: \n",
      "Model Number: 48 of 54 with model SeasonalNaive for Validation 1\n",
      "48 - SeasonalNaive with avg smape 78.83: \n",
      "Model Number: 49 of 54 with model LastValueNaive for Validation 1\n",
      "49 - LastValueNaive with avg smape 76.1: \n",
      "Model Number: 50 of 54 with model LastValueNaive for Validation 1\n",
      "50 - LastValueNaive with avg smape 75.46: \n",
      "Model Number: 51 of 54 with model LastValueNaive for Validation 1\n",
      "51 - LastValueNaive with avg smape 75.68: \n",
      "Model Number: 52 of 54 with model LastValueNaive for Validation 1\n",
      "52 - LastValueNaive with avg smape 87.77: \n",
      "Model Number: 53 of 54 with model LastValueNaive for Validation 1\n",
      "53 - LastValueNaive with avg smape 76.14: \n",
      "Model Number: 54 of 54 with model LastValueNaive for Validation 1\n",
      "54 - LastValueNaive with avg smape 76.1: \n",
      "Validation Round: 2\n",
      "Model Number: 1 of 54 with model SectionalMotif for Validation 2\n",
      "1 - SectionalMotif with avg smape nan: \n",
      "Model Number: 2 of 54 with model SectionalMotif for Validation 2\n",
      "2 - SectionalMotif with avg smape nan: \n",
      "Model Number: 3 of 54 with model SectionalMotif for Validation 2\n",
      "3 - SectionalMotif with avg smape nan: \n",
      "Model Number: 4 of 54 with model SectionalMotif for Validation 2\n",
      "📈 4 - SectionalMotif with avg smape 81.57: \n",
      "Model Number: 5 of 54 with model SectionalMotif for Validation 2\n",
      "5 - SectionalMotif with avg smape nan: \n",
      "Model Number: 6 of 54 with model SectionalMotif for Validation 2\n",
      "6 - SectionalMotif with avg smape nan: \n",
      "Model Number: 7 of 54 with model SectionalMotif for Validation 2\n",
      "7 - SectionalMotif with avg smape nan: \n",
      "Model Number: 8 of 54 with model SectionalMotif for Validation 2\n",
      "8 - SectionalMotif with avg smape 96.36: \n",
      "Model Number: 9 of 54 with model SectionalMotif for Validation 2\n",
      "9 - SectionalMotif with avg smape 96.36: \n",
      "Model Number: 10 of 54 with model GLS for Validation 2\n"
     ]
    },
    {
     "name": "stderr",
     "output_type": "stream",
     "text": [
      "c:\\Users\\carre\\AppData\\Local\\Programs\\Python\\Python312\\Lib\\site-packages\\sklearn\\linear_model\\_coordinate_descent.py:697: ConvergenceWarning: Objective did not converge. You might want to increase the number of iterations, check the scale of the features or consider increasing regularisation. Duality gap: 8.450e+14, tolerance: 2.230e+11\n",
      "  model = cd_fast.enet_coordinate_descent(\n"
     ]
    },
    {
     "name": "stdout",
     "output_type": "stream",
     "text": [
      "10 - GLS with avg smape nan: \n",
      "Model Number: 11 of 54 with model SeasonalityMotif for Validation 2\n",
      "📈 11 - SeasonalityMotif with avg smape 67.77: \n",
      "Model Number: 12 of 54 with model GLS for Validation 2\n"
     ]
    },
    {
     "name": "stderr",
     "output_type": "stream",
     "text": [
      "c:\\Users\\carre\\AppData\\Local\\Programs\\Python\\Python312\\Lib\\site-packages\\sklearn\\linear_model\\_coordinate_descent.py:697: ConvergenceWarning: Objective did not converge. You might want to increase the number of iterations, check the scale of the features or consider increasing regularisation. Duality gap: 8.450e+14, tolerance: 2.230e+11\n",
      "  model = cd_fast.enet_coordinate_descent(\n"
     ]
    },
    {
     "name": "stdout",
     "output_type": "stream",
     "text": [
      "12 - GLS with avg smape nan: \n",
      "Model Number: 13 of 54 with model SeasonalityMotif for Validation 2\n",
      "13 - SeasonalityMotif with avg smape nan: \n",
      "Model Number: 14 of 54 with model SeasonalityMotif for Validation 2\n",
      "14 - SeasonalityMotif with avg smape nan: \n",
      "Model Number: 15 of 54 with model GLS for Validation 2\n",
      "15 - GLS with avg smape nan: \n",
      "Model Number: 16 of 54 with model GLS for Validation 2\n",
      "16 - GLS with avg smape nan: \n",
      "Model Number: 17 of 54 with model SeasonalNaive for Validation 2\n",
      "17 - SeasonalNaive with avg smape 70.68: \n",
      "Model Number: 18 of 54 with model GLS for Validation 2\n",
      "18 - GLS with avg smape 84.11: \n",
      "Model Number: 19 of 54 with model LastValueNaive for Validation 2\n",
      "19 - LastValueNaive with avg smape nan: \n",
      "Model Number: 20 of 54 with model GLS for Validation 2\n",
      "20 - GLS with avg smape nan: \n",
      "Model Number: 21 of 54 with model SeasonalityMotif for Validation 2\n",
      "21 - SeasonalityMotif with avg smape nan: \n",
      "Model Number: 22 of 54 with model SeasonalityMotif for Validation 2\n",
      "22 - SeasonalityMotif with avg smape nan: \n",
      "Model Number: 23 of 54 with model SeasonalNaive for Validation 2\n",
      "23 - SeasonalNaive with avg smape nan: \n",
      "Model Number: 24 of 54 with model SeasonalityMotif for Validation 2\n",
      "24 - SeasonalityMotif with avg smape 89.33: \n",
      "Model Number: 25 of 54 with model SeasonalityMotif for Validation 2\n",
      "25 - SeasonalityMotif with avg smape 89.33: \n",
      "Model Number: 26 of 54 with model SeasonalityMotif for Validation 2\n",
      "26 - SeasonalityMotif with avg smape 89.33: \n",
      "Model Number: 27 of 54 with model SeasonalityMotif for Validation 2\n",
      "📈 27 - SeasonalityMotif with avg smape 58.97: \n",
      "Model Number: 28 of 54 with model GLS for Validation 2\n",
      "28 - GLS with avg smape nan: \n",
      "Model Number: 29 of 54 with model GLS for Validation 2\n",
      "29 - GLS with avg smape nan: \n",
      "Model Number: 30 of 54 with model GLS for Validation 2\n",
      "30 - GLS with avg smape 91.63: \n",
      "Model Number: 31 of 54 with model SeasonalNaive for Validation 2\n",
      "31 - SeasonalNaive with avg smape 81.47: \n",
      "Model Number: 32 of 54 with model SeasonalNaive for Validation 2\n",
      "32 - SeasonalNaive with avg smape 68.6: \n",
      "Model Number: 33 of 54 with model AverageValueNaive for Validation 2\n",
      "33 - AverageValueNaive with avg smape 68.88: \n",
      "Model Number: 34 of 54 with model LastValueNaive for Validation 2\n",
      "34 - LastValueNaive with avg smape nan: \n",
      "Model Number: 35 of 54 with model AverageValueNaive for Validation 2\n",
      "35 - AverageValueNaive with avg smape 68.43: \n",
      "Model Number: 36 of 54 with model AverageValueNaive for Validation 2\n",
      "36 - AverageValueNaive with avg smape 68.43: \n",
      "Model Number: 37 of 54 with model AverageValueNaive for Validation 2\n",
      "37 - AverageValueNaive with avg smape 68.4: \n",
      "Model Number: 38 of 54 with model AverageValueNaive for Validation 2\n",
      "38 - AverageValueNaive with avg smape 68.4: \n",
      "Model Number: 39 of 54 with model AverageValueNaive for Validation 2\n",
      "39 - AverageValueNaive with avg smape 68.36: \n",
      "Model Number: 40 of 54 with model AverageValueNaive for Validation 2\n",
      "40 - AverageValueNaive with avg smape 68.43: \n",
      "Model Number: 41 of 54 with model AverageValueNaive for Validation 2\n",
      "41 - AverageValueNaive with avg smape 68.43: \n",
      "Model Number: 42 of 54 with model SeasonalNaive for Validation 2\n",
      "42 - SeasonalNaive with avg smape 81.15: \n",
      "Model Number: 43 of 54 with model AverageValueNaive for Validation 2\n",
      "43 - AverageValueNaive with avg smape 68.82: \n",
      "Model Number: 44 of 54 with model LastValueNaive for Validation 2\n",
      "44 - LastValueNaive with avg smape 96.83: \n",
      "Model Number: 45 of 54 with model SeasonalNaive for Validation 2\n",
      "45 - SeasonalNaive with avg smape 99.36: \n",
      "Model Number: 46 of 54 with model SeasonalNaive for Validation 2\n",
      "46 - SeasonalNaive with avg smape 108.57: \n",
      "Model Number: 47 of 54 with model SeasonalNaive for Validation 2\n",
      "47 - SeasonalNaive with avg smape 102.64: \n",
      "Model Number: 48 of 54 with model SeasonalNaive for Validation 2\n",
      "48 - SeasonalNaive with avg smape 88.29: \n",
      "Model Number: 49 of 54 with model LastValueNaive for Validation 2\n",
      "49 - LastValueNaive with avg smape 110.66: \n",
      "Model Number: 50 of 54 with model LastValueNaive for Validation 2\n",
      "50 - LastValueNaive with avg smape 95.85: \n",
      "Model Number: 51 of 54 with model LastValueNaive for Validation 2\n",
      "51 - LastValueNaive with avg smape 99.06: \n",
      "Model Number: 52 of 54 with model LastValueNaive for Validation 2\n",
      "52 - LastValueNaive with avg smape 72.91: \n",
      "Model Number: 53 of 54 with model LastValueNaive for Validation 2\n",
      "53 - LastValueNaive with avg smape 110.27: \n",
      "Model Number: 54 of 54 with model LastValueNaive for Validation 2\n",
      "54 - LastValueNaive with avg smape 110.66: \n",
      "Validation Round: 3\n",
      "Model Number: 1 of 54 with model SectionalMotif for Validation 3\n",
      "1 - SectionalMotif with avg smape nan: \n",
      "Model Number: 2 of 54 with model SectionalMotif for Validation 3\n",
      "2 - SectionalMotif with avg smape nan: \n",
      "Model Number: 3 of 54 with model SectionalMotif for Validation 3\n",
      "3 - SectionalMotif with avg smape nan: \n",
      "Model Number: 4 of 54 with model SectionalMotif for Validation 3\n",
      "4 - SectionalMotif with avg smape nan: \n",
      "Model Number: 5 of 54 with model SectionalMotif for Validation 3\n",
      "📈 5 - SectionalMotif with avg smape 92.23: \n",
      "Model Number: 6 of 54 with model SectionalMotif for Validation 3\n",
      "6 - SectionalMotif with avg smape 92.34: \n",
      "Model Number: 7 of 54 with model SectionalMotif for Validation 3\n",
      "📈 7 - SectionalMotif with avg smape 90.05: \n",
      "Model Number: 8 of 54 with model SectionalMotif for Validation 3\n",
      "8 - SectionalMotif with avg smape 92.78: \n",
      "Model Number: 9 of 54 with model SectionalMotif for Validation 3\n",
      "9 - SectionalMotif with avg smape 92.78: \n",
      "Model Number: 10 of 54 with model GLS for Validation 3\n"
     ]
    },
    {
     "name": "stderr",
     "output_type": "stream",
     "text": [
      "c:\\Users\\carre\\AppData\\Local\\Programs\\Python\\Python312\\Lib\\site-packages\\sklearn\\linear_model\\_coordinate_descent.py:697: ConvergenceWarning: Objective did not converge. You might want to increase the number of iterations, check the scale of the features or consider increasing regularisation. Duality gap: 7.632e+14, tolerance: 2.015e+11\n",
      "  model = cd_fast.enet_coordinate_descent(\n"
     ]
    },
    {
     "name": "stdout",
     "output_type": "stream",
     "text": [
      "10 - GLS with avg smape nan: \n",
      "Model Number: 11 of 54 with model SeasonalityMotif for Validation 3\n",
      "📈 11 - SeasonalityMotif with avg smape 68.88: \n",
      "Model Number: 12 of 54 with model GLS for Validation 3\n"
     ]
    },
    {
     "name": "stderr",
     "output_type": "stream",
     "text": [
      "c:\\Users\\carre\\AppData\\Local\\Programs\\Python\\Python312\\Lib\\site-packages\\sklearn\\linear_model\\_coordinate_descent.py:697: ConvergenceWarning: Objective did not converge. You might want to increase the number of iterations, check the scale of the features or consider increasing regularisation. Duality gap: 7.632e+14, tolerance: 2.015e+11\n",
      "  model = cd_fast.enet_coordinate_descent(\n"
     ]
    },
    {
     "name": "stdout",
     "output_type": "stream",
     "text": [
      "12 - GLS with avg smape nan: \n",
      "Model Number: 13 of 54 with model SeasonalityMotif for Validation 3\n",
      "13 - SeasonalityMotif with avg smape nan: \n",
      "Model Number: 14 of 54 with model SeasonalityMotif for Validation 3\n",
      "14 - SeasonalityMotif with avg smape nan: \n",
      "Model Number: 15 of 54 with model GLS for Validation 3\n",
      "15 - GLS with avg smape 109.59: \n",
      "Model Number: 16 of 54 with model GLS for Validation 3\n",
      "16 - GLS with avg smape nan: \n",
      "Model Number: 17 of 54 with model SeasonalNaive for Validation 3\n",
      "17 - SeasonalNaive with avg smape nan: \n",
      "Model Number: 18 of 54 with model GLS for Validation 3\n",
      "18 - GLS with avg smape 106.86: \n",
      "Model Number: 19 of 54 with model LastValueNaive for Validation 3\n",
      "19 - LastValueNaive with avg smape nan: \n",
      "Model Number: 20 of 54 with model GLS for Validation 3\n",
      "20 - GLS with avg smape 89.68: \n",
      "Model Number: 21 of 54 with model SeasonalityMotif for Validation 3\n",
      "21 - SeasonalityMotif with avg smape nan: \n",
      "Model Number: 22 of 54 with model SeasonalityMotif for Validation 3\n",
      "22 - SeasonalityMotif with avg smape nan: \n",
      "Model Number: 23 of 54 with model SeasonalNaive for Validation 3\n",
      "23 - SeasonalNaive with avg smape nan: \n",
      "Model Number: 24 of 54 with model SeasonalityMotif for Validation 3\n",
      "24 - SeasonalityMotif with avg smape nan: \n",
      "Model Number: 25 of 54 with model SeasonalityMotif for Validation 3\n",
      "25 - SeasonalityMotif with avg smape nan: \n",
      "Model Number: 26 of 54 with model SeasonalityMotif for Validation 3\n",
      "26 - SeasonalityMotif with avg smape nan: \n",
      "Model Number: 27 of 54 with model SeasonalityMotif for Validation 3\n",
      "📈 27 - SeasonalityMotif with avg smape 62.95: \n",
      "Model Number: 28 of 54 with model GLS for Validation 3\n",
      "28 - GLS with avg smape 84.9: \n",
      "Model Number: 29 of 54 with model GLS for Validation 3\n",
      "29 - GLS with avg smape 84.9: \n",
      "Model Number: 30 of 54 with model GLS for Validation 3\n",
      "30 - GLS with avg smape 84.44: \n",
      "Model Number: 31 of 54 with model SeasonalNaive for Validation 3\n",
      "31 - SeasonalNaive with avg smape 73.18: \n",
      "Model Number: 32 of 54 with model SeasonalNaive for Validation 3\n",
      "32 - SeasonalNaive with avg smape 73.22: \n",
      "Model Number: 33 of 54 with model AverageValueNaive for Validation 3\n",
      "33 - AverageValueNaive with avg smape 84.87: \n",
      "Model Number: 34 of 54 with model LastValueNaive for Validation 3\n",
      "34 - LastValueNaive with avg smape nan: \n",
      "Model Number: 35 of 54 with model AverageValueNaive for Validation 3\n",
      "35 - AverageValueNaive with avg smape 73.13: \n",
      "Model Number: 36 of 54 with model AverageValueNaive for Validation 3\n",
      "36 - AverageValueNaive with avg smape 73.13: \n",
      "Model Number: 37 of 54 with model AverageValueNaive for Validation 3\n",
      "37 - AverageValueNaive with avg smape 73.13: \n",
      "Model Number: 38 of 54 with model AverageValueNaive for Validation 3\n",
      "38 - AverageValueNaive with avg smape 73.13: \n",
      "Model Number: 39 of 54 with model AverageValueNaive for Validation 3\n",
      "39 - AverageValueNaive with avg smape 73.24: \n",
      "Model Number: 40 of 54 with model AverageValueNaive for Validation 3\n",
      "40 - AverageValueNaive with avg smape 73.13: \n",
      "Model Number: 41 of 54 with model AverageValueNaive for Validation 3\n",
      "41 - AverageValueNaive with avg smape 73.13: \n",
      "Model Number: 42 of 54 with model SeasonalNaive for Validation 3\n",
      "42 - SeasonalNaive with avg smape 76.11: \n",
      "Model Number: 43 of 54 with model AverageValueNaive for Validation 3\n",
      "43 - AverageValueNaive with avg smape 73.25: \n",
      "Model Number: 44 of 54 with model LastValueNaive for Validation 3\n",
      "44 - LastValueNaive with avg smape 73.05: \n",
      "Model Number: 45 of 54 with model SeasonalNaive for Validation 3\n",
      "45 - SeasonalNaive with avg smape 83.01: \n",
      "Model Number: 46 of 54 with model SeasonalNaive for Validation 3\n",
      "46 - SeasonalNaive with avg smape 124.66: \n",
      "Model Number: 47 of 54 with model SeasonalNaive for Validation 3\n",
      "47 - SeasonalNaive with avg smape 76.02: \n",
      "Model Number: 48 of 54 with model SeasonalNaive for Validation 3\n",
      "48 - SeasonalNaive with avg smape 90.27: \n",
      "Model Number: 49 of 54 with model LastValueNaive for Validation 3\n",
      "49 - LastValueNaive with avg smape 120.27: \n",
      "Model Number: 50 of 54 with model LastValueNaive for Validation 3\n",
      "50 - LastValueNaive with avg smape 73.06: \n",
      "Model Number: 51 of 54 with model LastValueNaive for Validation 3\n",
      "51 - LastValueNaive with avg smape 73.01: \n",
      "Model Number: 52 of 54 with model LastValueNaive for Validation 3\n",
      "52 - LastValueNaive with avg smape 73.14: \n",
      "Model Number: 53 of 54 with model LastValueNaive for Validation 3\n",
      "53 - LastValueNaive with avg smape 119.1: \n",
      "Model Number: 54 of 54 with model LastValueNaive for Validation 3\n",
      "54 - LastValueNaive with avg smape 120.27: \n"
     ]
    },
    {
     "name": "stderr",
     "output_type": "stream",
     "text": [
      "c:\\Users\\carre\\AppData\\Local\\Programs\\Python\\Python312\\Lib\\site-packages\\autots\\evaluator\\auto_model.py:2462: FutureWarning: Downcasting behavior in `replace` is deprecated and will be removed in a future version. To retain the old behavior, explicitly call `result.infer_objects(copy=False)`. To opt-in to the future behavior, set `pd.set_option('future.no_silent_downcasting', True)`\n",
      "  validation_results.model_results = validation_results.model_results.replace(\n",
      "c:\\Users\\carre\\AppData\\Local\\Programs\\Python\\Python312\\Lib\\site-packages\\autots\\evaluator\\auto_model.py:2462: FutureWarning: Downcasting behavior in `replace` is deprecated and will be removed in a future version. To retain the old behavior, explicitly call `result.infer_objects(copy=False)`. To opt-in to the future behavior, set `pd.set_option('future.no_silent_downcasting', True)`\n",
      "  validation_results.model_results = validation_results.model_results.replace(\n",
      "c:\\Users\\carre\\AppData\\Local\\Programs\\Python\\Python312\\Lib\\site-packages\\sklearn\\linear_model\\_coordinate_descent.py:697: ConvergenceWarning: Objective did not converge. You might want to increase the number of iterations, check the scale of the features or consider increasing regularisation. Duality gap: 1.267e+15, tolerance: 3.273e+11\n",
      "  model = cd_fast.enet_coordinate_descent(\n"
     ]
    },
    {
     "name": "stdout",
     "output_type": "stream",
     "text": [
      "Using 3 cpus for n_jobs.\n",
      "Data frequency is: B, used frequency is: B\n",
      "Model Number: 1 with model AverageValueNaive in generation 0 of 10\n",
      "Model Number: 2 with model AverageValueNaive in generation 0 of 10\n",
      "Model Number: 3 with model AverageValueNaive in generation 0 of 10\n",
      "Model Number: 4 with model GLS in generation 0 of 10\n",
      "Model Number: 5 with model GLS in generation 0 of 10\n",
      "Model Number: 6 with model LastValueNaive in generation 0 of 10\n",
      "Model Number: 7 with model LastValueNaive in generation 0 of 10\n",
      "Model Number: 8 with model LastValueNaive in generation 0 of 10\n",
      "Model Number: 9 with model LastValueNaive in generation 0 of 10\n",
      "Model Number: 10 with model SeasonalNaive in generation 0 of 10\n",
      "Model Number: 11 with model SeasonalNaive in generation 0 of 10\n",
      "Model Number: 12 with model SeasonalNaive in generation 0 of 10\n",
      "Model Number: 13 with model ConstantNaive in generation 0 of 10\n",
      "Model Number: 14 with model SeasonalNaive in generation 0 of 10\n",
      "Model Number: 15 with model SectionalMotif in generation 0 of 10\n",
      "Model Number: 16 with model SectionalMotif in generation 0 of 10\n",
      "Model Number: 17 with model SeasonalNaive in generation 0 of 10\n",
      "Model Number: 18 with model SeasonalityMotif in generation 0 of 10\n",
      "Model Number: 19 with model SectionalMotif in generation 0 of 10\n",
      "Model Number: 20 with model ConstantNaive in generation 0 of 10\n",
      "Model Number: 21 with model LastValueNaive in generation 0 of 10\n",
      "Model Number: 22 with model AverageValueNaive in generation 0 of 10\n",
      "Model Number: 23 with model GLS in generation 0 of 10\n"
     ]
    },
    {
     "name": "stderr",
     "output_type": "stream",
     "text": [
      "c:\\Users\\carre\\AppData\\Local\\Programs\\Python\\Python312\\Lib\\site-packages\\autots\\tools\\transform.py:5608: FutureWarning: Downcasting object dtype arrays on .fillna, .ffill, .bfill is deprecated and will change in a future version. Call result.infer_objects(copy=False) instead. To opt-in to the future behavior, set `pd.set_option('future.no_silent_downcasting', True)`\n",
      "  df = df.fillna(0)\n",
      "c:\\Users\\carre\\AppData\\Local\\Programs\\Python\\Python312\\Lib\\site-packages\\autots\\tools\\transform.py:5608: FutureWarning: Downcasting object dtype arrays on .fillna, .ffill, .bfill is deprecated and will change in a future version. Call result.infer_objects(copy=False) instead. To opt-in to the future behavior, set `pd.set_option('future.no_silent_downcasting', True)`\n",
      "  df = df.fillna(0)\n"
     ]
    },
    {
     "name": "stdout",
     "output_type": "stream",
     "text": [
      "Model Number: 24 with model SeasonalNaive in generation 0 of 10\n",
      "Model Number: 25 with model SeasonalityMotif in generation 0 of 10\n",
      "Model Number: 26 with model SectionalMotif in generation 0 of 10\n",
      "Model Number: 27 with model LastValueNaive in generation 0 of 10\n",
      "Model Number: 28 with model SectionalMotif in generation 0 of 10\n",
      "Model Number: 29 with model SectionalMotif in generation 0 of 10\n",
      "Model Number: 30 with model ConstantNaive in generation 0 of 10\n"
     ]
    },
    {
     "name": "stderr",
     "output_type": "stream",
     "text": [
      "c:\\Users\\carre\\AppData\\Local\\Programs\\Python\\Python312\\Lib\\site-packages\\autots\\tools\\transform.py:5608: FutureWarning: Downcasting object dtype arrays on .fillna, .ffill, .bfill is deprecated and will change in a future version. Call result.infer_objects(copy=False) instead. To opt-in to the future behavior, set `pd.set_option('future.no_silent_downcasting', True)`\n",
      "  df = df.fillna(0)\n",
      "c:\\Users\\carre\\AppData\\Local\\Programs\\Python\\Python312\\Lib\\site-packages\\autots\\tools\\transform.py:5608: FutureWarning: Downcasting object dtype arrays on .fillna, .ffill, .bfill is deprecated and will change in a future version. Call result.infer_objects(copy=False) instead. To opt-in to the future behavior, set `pd.set_option('future.no_silent_downcasting', True)`\n",
      "  df = df.fillna(0)\n"
     ]
    },
    {
     "name": "stdout",
     "output_type": "stream",
     "text": [
      "Model Number: 31 with model SeasonalityMotif in generation 0 of 10\n",
      "Model Number: 32 with model SectionalMotif in generation 0 of 10\n",
      "Model Number: 33 with model SeasonalityMotif in generation 0 of 10\n",
      "Model Number: 34 with model SeasonalityMotif in generation 0 of 10\n",
      "Model Number: 35 with model LastValueNaive in generation 0 of 10\n",
      "Model Number: 36 with model ConstantNaive in generation 0 of 10\n",
      "Model Number: 37 with model SeasonalNaive in generation 0 of 10\n",
      "Model Number: 38 with model SectionalMotif in generation 0 of 10\n",
      "Model Number: 39 with model SectionalMotif in generation 0 of 10\n",
      "Model Number: 40 with model ConstantNaive in generation 0 of 10\n",
      "Model Number: 41 with model AverageValueNaive in generation 0 of 10\n",
      "Model Number: 42 with model SectionalMotif in generation 0 of 10\n",
      "Template Eval Error: ValueError('zero-size array to reduction operation fmax which has no identity') in model 42 in generation 0: SectionalMotif\n",
      "Model Number: 43 with model SeasonalityMotif in generation 0 of 10\n",
      "Model Number: 44 with model SectionalMotif in generation 0 of 10\n",
      "Template Eval Error: ValueError(\"regression_type=='User' but no future_regressor supplied\") in model 44 in generation 0: SectionalMotif\n",
      "Model Number: 45 with model GLS in generation 0 of 10\n"
     ]
    },
    {
     "name": "stderr",
     "output_type": "stream",
     "text": [
      "c:\\Users\\carre\\AppData\\Local\\Programs\\Python\\Python312\\Lib\\site-packages\\numpy\\lib\\nanfunctions.py:1215: RuntimeWarning: Mean of empty slice\n",
      "  return np.nanmean(a, axis, out=out, keepdims=keepdims)\n"
     ]
    },
    {
     "name": "stdout",
     "output_type": "stream",
     "text": [
      "Model Number: 46 with model ConstantNaive in generation 0 of 10\n",
      "Model Number: 47 with model AverageValueNaive in generation 0 of 10\n",
      "Model Number: 48 with model SeasonalityMotif in generation 0 of 10\n",
      "Model Number: 49 with model GLS in generation 0 of 10\n",
      "Model Number: 50 with model AverageValueNaive in generation 0 of 10\n",
      "Model Number: 51 with model SectionalMotif in generation 0 of 10\n",
      "Model Number: 52 with model SectionalMotif in generation 0 of 10\n",
      "Template Eval Error: ValueError(\"regression_type=='User' but no future_regressor supplied\") in model 52 in generation 0: SectionalMotif\n",
      "Model Number: 53 with model ConstantNaive in generation 0 of 10\n",
      "Model Number: 54 with model SeasonalityMotif in generation 0 of 10\n",
      "New Generation: 1 of 10\n",
      "Model Number: 55 with model SectionalMotif in generation 1 of 10\n",
      "Model Number: 56 with model LastValueNaive in generation 1 of 10\n",
      "Model Number: 57 with model GLS in generation 1 of 10\n",
      "Model Number: 58 with model AverageValueNaive in generation 1 of 10\n",
      "Model Number: 59 with model SeasonalityMotif in generation 1 of 10\n",
      "Model Number: 60 with model SeasonalNaive in generation 1 of 10\n",
      "Model Number: 61 with model SeasonalityMotif in generation 1 of 10\n",
      "Model Number: 62 with model SeasonalityMotif in generation 1 of 10\n",
      "Model Number: 63 with model SectionalMotif in generation 1 of 10\n",
      "Model Number: 64 with model GLS in generation 1 of 10\n",
      "Model Number: 65 with model LastValueNaive in generation 1 of 10\n",
      "Model Number: 66 with model SectionalMotif in generation 1 of 10\n",
      "Model Number: 67 with model LastValueNaive in generation 1 of 10\n",
      "Model Number: 68 with model AverageValueNaive in generation 1 of 10\n",
      "Model Number: 69 with model SectionalMotif in generation 1 of 10\n",
      "Model Number: 70 with model GLS in generation 1 of 10\n"
     ]
    },
    {
     "name": "stderr",
     "output_type": "stream",
     "text": [
      "c:\\Users\\carre\\AppData\\Local\\Programs\\Python\\Python312\\Lib\\site-packages\\autots\\tools\\anomaly_utils.py:1115: FutureWarning: Downcasting object dtype arrays on .fillna, .ffill, .bfill is deprecated and will change in a future version. Call result.infer_objects(copy=False) instead. To opt-in to the future behavior, set `pd.set_option('future.no_silent_downcasting', True)`\n",
      "  result = result + temp.where(temp.isnull(), 1).fillna(0)\n",
      "c:\\Users\\carre\\AppData\\Local\\Programs\\Python\\Python312\\Lib\\site-packages\\autots\\tools\\anomaly_utils.py:1115: FutureWarning: Downcasting object dtype arrays on .fillna, .ffill, .bfill is deprecated and will change in a future version. Call result.infer_objects(copy=False) instead. To opt-in to the future behavior, set `pd.set_option('future.no_silent_downcasting', True)`\n",
      "  result = result + temp.where(temp.isnull(), 1).fillna(0)\n",
      "c:\\Users\\carre\\AppData\\Local\\Programs\\Python\\Python312\\Lib\\site-packages\\autots\\tools\\impute.py:60: RuntimeWarning: Mean of empty slice\n",
      "  arr = np.nan_to_num(arr) + np.isnan(arr) * np.nan_to_num(np.nanmean(arr, axis=0))\n"
     ]
    },
    {
     "name": "stdout",
     "output_type": "stream",
     "text": [
      "Model Number: 71 with model AverageValueNaive in generation 1 of 10\n",
      "Template Eval Error: Exception(\"Transformer ReplaceConstant failed on fit from params pchip {'0': {}, '1': {'constant': 0, 'reintroduction_model': {'model': 'SGD', 'model_params': {}, 'datepart_method': 'simple_poly'}, 'fillna': 'mean'}, '2': {}, '3': {'center': 'median'}, '4': {}}\") in model 71 in generation 1: AverageValueNaive\n",
      "Model Number: 72 with model SeasonalityMotif in generation 1 of 10\n",
      "Model Number: 73 with model SectionalMotif in generation 1 of 10\n"
     ]
    },
    {
     "name": "stderr",
     "output_type": "stream",
     "text": [
      "c:\\Users\\carre\\AppData\\Local\\Programs\\Python\\Python312\\Lib\\site-packages\\sklearn\\utils\\validation.py:1339: DataConversionWarning: A column-vector y was passed when a 1d array was expected. Please change the shape of y to (n_samples, ), for example using ravel().\n",
      "  y = column_or_1d(y, warn=True)\n"
     ]
    },
    {
     "name": "stdout",
     "output_type": "stream",
     "text": [
      "Model Number: 74 with model AverageValueNaive in generation 1 of 10\n",
      "Model Number: 75 with model SeasonalNaive in generation 1 of 10\n",
      "Model Number: 76 with model SectionalMotif in generation 1 of 10\n",
      "Model Number: 77 with model SectionalMotif in generation 1 of 10\n",
      "Model Number: 78 with model SeasonalityMotif in generation 1 of 10\n",
      "Model Number: 79 with model ConstantNaive in generation 1 of 10\n",
      "Model Number: 80 with model AverageValueNaive in generation 1 of 10\n",
      "Model Number: 81 with model LastValueNaive in generation 1 of 10\n",
      "Model Number: 82 with model LastValueNaive in generation 1 of 10\n",
      "Model Number: 83 with model GLS in generation 1 of 10\n",
      "Template Eval Error: Exception(\"Transformer BTCD failed on fit from params ffill {'0': {'method': 'zscore', 'method_params': {'distribution': 'chi2', 'alpha': 0.05}, 'fillna': 'ffill', 'transform_dict': {'transformations': {'0': 'DifferencedTransformer'}, 'transformation_params': {'0': {}}}, 'isolated_only': False}, '1': {}, '2': {'rows': 1}, '3': {'regression_model': {'model': 'FastRidge', 'model_params': {}}, 'max_lags': 2}}\") in model 83 in generation 1: GLS\n",
      "Model Number: 84 with model SeasonalityMotif in generation 1 of 10\n",
      "Model Number: 85 with model ConstantNaive in generation 1 of 10\n",
      "Model Number: 86 with model LastValueNaive in generation 1 of 10\n",
      "Model Number: 87 with model LastValueNaive in generation 1 of 10\n",
      "Model Number: 88 with model GLS in generation 1 of 10\n",
      "Template Eval Error: Exception(\"Transformer BTCD failed on fit from params ffill {'0': {'cutoff': 0.01, 'reverse': False}, '1': {'regression_model': {'model': 'FastRidge', 'model_params': {}}, 'max_lags': 2}}\") in model 88 in generation 1: GLS\n",
      "Model Number: 89 with model SectionalMotif in generation 1 of 10\n",
      "New Generation: 2 of 10\n",
      "Model Number: 90 with model SeasonalNaive in generation 2 of 10\n"
     ]
    },
    {
     "name": "stderr",
     "output_type": "stream",
     "text": [
      "c:\\Users\\carre\\AppData\\Local\\Programs\\Python\\Python312\\Lib\\site-packages\\autots\\tools\\transform.py:5608: FutureWarning: Downcasting object dtype arrays on .fillna, .ffill, .bfill is deprecated and will change in a future version. Call result.infer_objects(copy=False) instead. To opt-in to the future behavior, set `pd.set_option('future.no_silent_downcasting', True)`\n",
      "  df = df.fillna(0)\n",
      "c:\\Users\\carre\\AppData\\Local\\Programs\\Python\\Python312\\Lib\\site-packages\\autots\\tools\\transform.py:5608: FutureWarning: Downcasting object dtype arrays on .fillna, .ffill, .bfill is deprecated and will change in a future version. Call result.infer_objects(copy=False) instead. To opt-in to the future behavior, set `pd.set_option('future.no_silent_downcasting', True)`\n",
      "  df = df.fillna(0)\n"
     ]
    },
    {
     "name": "stdout",
     "output_type": "stream",
     "text": [
      "Model Number: 91 with model SeasonalityMotif in generation 2 of 10\n",
      "Model Number: 92 with model SectionalMotif in generation 2 of 10\n",
      "Model Number: 93 with model LastValueNaive in generation 2 of 10\n",
      "Model Number: 94 with model SectionalMotif in generation 2 of 10\n",
      "Model Number: 95 with model GLS in generation 2 of 10\n",
      "Model Number: 96 with model AverageValueNaive in generation 2 of 10\n",
      "Model Number: 97 with model LastValueNaive in generation 2 of 10\n",
      "Model Number: 98 with model ConstantNaive in generation 2 of 10\n",
      "Model Number: 99 with model SectionalMotif in generation 2 of 10\n",
      "Model Number: 100 with model SeasonalityMotif in generation 2 of 10\n",
      "Model Number: 101 with model LastValueNaive in generation 2 of 10\n",
      "Template Eval Error: Exception(\"Transformer BTCD failed on fit from params mean {'0': {'regression_model': {'model': 'FastRidge', 'model_params': {}}, 'max_lags': 2}, '1': {}, '2': {'model': 'Linear'}}\") in model 101 in generation 2: LastValueNaive\n",
      "Model Number: 102 with model SectionalMotif in generation 2 of 10\n",
      "Model Number: 103 with model SeasonalNaive in generation 2 of 10\n",
      "Model Number: 104 with model LastValueNaive in generation 2 of 10\n",
      "Model Number: 105 with model SeasonalityMotif in generation 2 of 10\n",
      "Model Number: 106 with model SectionalMotif in generation 2 of 10\n",
      "Template Eval Error: Exception(\"Transformer AnomalyRemoval failed on fit from params ffill {'0': {'method': 'EE', 'method_params': {'contamination': 0.1, 'assume_centered': False, 'support_fraction': None}, 'fillna': 'ffill', 'transform_dict': None, 'isolated_only': False}, '1': {'rows': 1, 'lag': 1, 'method': 'additive', 'strength': 1.0, 'first_value_only': False, 'threshold': None, 'threshold_method': 'max'}, '2': {'decimals': 1, 'on_transform': False, 'on_inverse': True}, '3': {}}\") in model 106 in generation 2: SectionalMotif\n",
      "Model Number: 107 with model GLS in generation 2 of 10\n",
      "Model Number: 108 with model AverageValueNaive in generation 2 of 10\n",
      "Model Number: 109 with model SeasonalityMotif in generation 2 of 10\n",
      "Model Number: 110 with model AverageValueNaive in generation 2 of 10\n",
      "Model Number: 111 with model SeasonalityMotif in generation 2 of 10\n",
      "Model Number: 112 with model SectionalMotif in generation 2 of 10\n",
      "Model Number: 113 with model SectionalMotif in generation 2 of 10\n",
      "Template Eval Error: Exception(\"Transformer AnomalyRemoval failed on fit from params akima {'0': {'method': 'EE', 'method_params': {'contamination': 0.1, 'assume_centered': False, 'support_fraction': None}, 'fillna': 'ffill', 'transform_dict': None, 'isolated_only': False}, '1': {'rows': 1, 'lag': 1, 'method': 'additive', 'strength': 1.0, 'first_value_only': False, 'threshold': 10, 'threshold_method': 'max'}, '2': {'decimals': 1, 'on_transform': False, 'on_inverse': True}, '3': {}}\") in model 113 in generation 2: SectionalMotif\n",
      "Model Number: 114 with model GLS in generation 2 of 10\n",
      "Template Eval Error: Exception(\"Transformer Cointegration failed on fit from params median {'0': {'method': 'clip', 'std_threshold': 3.5, 'fillna': None}, '1': {'det_order': -1, 'k_ar_diff': 2}, '2': {}, '3': {'model': 'middle', 'decimals': 2, 'on_transform': True, 'on_inverse': True}, '4': {}}\") in model 114 in generation 2: GLS\n",
      "Model Number: 115 with model SectionalMotif in generation 2 of 10\n",
      "Model Number: 116 with model SeasonalNaive in generation 2 of 10\n",
      "Model Number: 117 with model ConstantNaive in generation 2 of 10\n",
      "Model Number: 118 with model LastValueNaive in generation 2 of 10\n",
      "Model Number: 119 with model SeasonalNaive in generation 2 of 10\n",
      "Model Number: 120 with model LastValueNaive in generation 2 of 10\n",
      "Model Number: 121 with model SeasonalityMotif in generation 2 of 10\n",
      "Model Number: 122 with model SeasonalityMotif in generation 2 of 10\n",
      "Model Number: 123 with model SeasonalityMotif in generation 2 of 10\n",
      "Model Number: 124 with model SectionalMotif in generation 2 of 10\n",
      "New Generation: 3 of 10\n",
      "Model Number: 125 with model SeasonalNaive in generation 3 of 10\n",
      "Model Number: 126 with model SeasonalNaive in generation 3 of 10\n",
      "Model Number: 127 with model SeasonalityMotif in generation 3 of 10\n",
      "Model Number: 128 with model SeasonalityMotif in generation 3 of 10\n",
      "Model Number: 129 with model LastValueNaive in generation 3 of 10\n",
      "Model Number: 130 with model SectionalMotif in generation 3 of 10\n",
      "Model Number: 131 with model SectionalMotif in generation 3 of 10\n",
      "Template Eval Error: Exception(\"Transformer PCA failed on fit from params ffill {'0': {'whiten': False, 'n_components': 100}, '1': {'lag_1': 7, 'method': 'Mean'}, '2': {'lag_1': 12, 'method': 'Mean'}}\") in model 131 in generation 3: SectionalMotif\n",
      "Model Number: 132 with model ConstantNaive in generation 3 of 10\n",
      "Model Number: 133 with model SectionalMotif in generation 3 of 10\n",
      "Template Eval Error: Exception(\"Transformer PCA failed on fit from params ffill {'0': {'whiten': False, 'n_components': 100}, '1': {'rows': 4, 'lag': 1, 'method': 'additive', 'strength': 1.0, 'first_value_only': False, 'threshold': None, 'threshold_method': 'max'}}\") in model 133 in generation 3: SectionalMotif\n",
      "Model Number: 134 with model SectionalMotif in generation 3 of 10\n",
      "Model Number: 135 with model LastValueNaive in generation 3 of 10\n",
      "Model Number: 136 with model SectionalMotif in generation 3 of 10\n",
      "Model Number: 137 with model SectionalMotif in generation 3 of 10\n",
      "Model Number: 138 with model SeasonalityMotif in generation 3 of 10\n",
      "Model Number: 139 with model SeasonalityMotif in generation 3 of 10\n",
      "Model Number: 140 with model SeasonalityMotif in generation 3 of 10\n",
      "Model Number: 141 with model SectionalMotif in generation 3 of 10\n",
      "Model Number: 142 with model SectionalMotif in generation 3 of 10\n",
      "Model Number: 143 with model SeasonalityMotif in generation 3 of 10\n",
      "Model Number: 144 with model LastValueNaive in generation 3 of 10\n",
      "Model Number: 145 with model GLS in generation 3 of 10\n",
      "Model Number: 146 with model SeasonalNaive in generation 3 of 10\n",
      "Model Number: 147 with model GLS in generation 3 of 10\n",
      "Model Number: 148 with model SectionalMotif in generation 3 of 10\n",
      "Model Number: 149 with model SeasonalityMotif in generation 3 of 10\n",
      "Model Number: 150 with model AverageValueNaive in generation 3 of 10\n",
      "Model Number: 151 with model SectionalMotif in generation 3 of 10\n",
      "Model Number: 152 with model LastValueNaive in generation 3 of 10\n",
      "Model Number: 153 with model SectionalMotif in generation 3 of 10\n",
      "Model Number: 154 with model SeasonalityMotif in generation 3 of 10\n",
      "Model Number: 155 with model GLS in generation 3 of 10\n",
      "Model Number: 156 with model ConstantNaive in generation 3 of 10\n",
      "Model Number: 157 with model AverageValueNaive in generation 3 of 10\n",
      "Model Number: 158 with model GLS in generation 3 of 10\n",
      "Model Number: 159 with model GLS in generation 3 of 10\n",
      "New Generation: 4 of 10\n",
      "Model Number: 160 with model SeasonalityMotif in generation 4 of 10\n",
      "Model Number: 161 with model SeasonalityMotif in generation 4 of 10\n",
      "Model Number: 162 with model AverageValueNaive in generation 4 of 10\n",
      "Model Number: 163 with model GLS in generation 4 of 10\n"
     ]
    },
    {
     "name": "stderr",
     "output_type": "stream",
     "text": [
      "c:\\Users\\carre\\AppData\\Local\\Programs\\Python\\Python312\\Lib\\site-packages\\sklearn\\neighbors\\_classification.py:238: DataConversionWarning: A column-vector y was passed when a 1d array was expected. Please change the shape of y to (n_samples,), for example using ravel().\n",
      "  return self._fit(X, y)\n"
     ]
    },
    {
     "name": "stdout",
     "output_type": "stream",
     "text": [
      "Model Number: 164 with model SectionalMotif in generation 4 of 10\n",
      "Model Number: 165 with model AverageValueNaive in generation 4 of 10\n",
      "Model Number: 166 with model LastValueNaive in generation 4 of 10\n",
      "Model Number: 167 with model LastValueNaive in generation 4 of 10\n",
      "Model Number: 168 with model SeasonalityMotif in generation 4 of 10\n",
      "Model Number: 169 with model SectionalMotif in generation 4 of 10\n",
      "Model Number: 170 with model SeasonalityMotif in generation 4 of 10\n",
      "Model Number: 171 with model GLS in generation 4 of 10\n",
      "Model Number: 172 with model AverageValueNaive in generation 4 of 10\n",
      "Model Number: 173 with model SeasonalityMotif in generation 4 of 10\n",
      "Model Number: 174 with model SeasonalNaive in generation 4 of 10\n",
      "Model Number: 175 with model ConstantNaive in generation 4 of 10\n",
      "Model Number: 176 with model SectionalMotif in generation 4 of 10\n",
      "Model Number: 177 with model SeasonalityMotif in generation 4 of 10\n",
      "Model Number: 178 with model SectionalMotif in generation 4 of 10\n",
      "Model Number: 179 with model SectionalMotif in generation 4 of 10\n",
      "Model Number: 180 with model SectionalMotif in generation 4 of 10\n",
      "Model Number: 181 with model AverageValueNaive in generation 4 of 10\n",
      "Model Number: 182 with model LastValueNaive in generation 4 of 10\n",
      "Model Number: 183 with model SeasonalityMotif in generation 4 of 10\n",
      "Model Number: 184 with model SeasonalityMotif in generation 4 of 10\n",
      "Model Number: 185 with model LastValueNaive in generation 4 of 10\n",
      "Model Number: 186 with model AverageValueNaive in generation 4 of 10\n",
      "Model Number: 187 with model SeasonalNaive in generation 4 of 10\n",
      "Model Number: 188 with model ConstantNaive in generation 4 of 10\n",
      "Model Number: 189 with model SeasonalNaive in generation 4 of 10\n",
      "Model Number: 190 with model SeasonalityMotif in generation 4 of 10\n",
      "Model Number: 191 with model AverageValueNaive in generation 4 of 10\n",
      "Model Number: 192 with model SeasonalNaive in generation 4 of 10\n",
      "Model Number: 193 with model AverageValueNaive in generation 4 of 10\n",
      "Model Number: 194 with model GLS in generation 4 of 10\n",
      "New Generation: 5 of 10\n",
      "Model Number: 195 with model SeasonalityMotif in generation 5 of 10\n",
      "Model Number: 196 with model SectionalMotif in generation 5 of 10\n",
      "Model Number: 197 with model LastValueNaive in generation 5 of 10\n",
      "Model Number: 198 with model SectionalMotif in generation 5 of 10\n",
      "Model Number: 199 with model SeasonalityMotif in generation 5 of 10\n",
      "Template Eval Error: ValueError(\"Model returned NaN due to a preprocessing transformer {'fillna': 'ffill', 'transformations': {'0': 'PctChangeTransformer'}, 'transformation_params': {'0': {}}}. fail_on_forecast_nan=True\") in model 199 in generation 5: SeasonalityMotif\n",
      "Model Number: 200 with model SeasonalityMotif in generation 5 of 10\n",
      "Model Number: 201 with model SectionalMotif in generation 5 of 10\n"
     ]
    },
    {
     "name": "stderr",
     "output_type": "stream",
     "text": [
      "c:\\Users\\carre\\AppData\\Local\\Programs\\Python\\Python312\\Lib\\site-packages\\numpy\\core\\fromnumeric.py:59: RuntimeWarning: overflow encountered in accumulate\n",
      "  return bound(*args, **kwds)\n",
      "c:\\Users\\carre\\AppData\\Local\\Programs\\Python\\Python312\\Lib\\site-packages\\numpy\\core\\fromnumeric.py:59: RuntimeWarning: overflow encountered in accumulate\n",
      "  return bound(*args, **kwds)\n"
     ]
    },
    {
     "name": "stdout",
     "output_type": "stream",
     "text": [
      "Model Number: 202 with model SectionalMotif in generation 5 of 10\n",
      "Model Number: 203 with model SectionalMotif in generation 5 of 10\n",
      "Model Number: 204 with model SeasonalityMotif in generation 5 of 10\n",
      "Model Number: 205 with model SeasonalNaive in generation 5 of 10\n",
      "Model Number: 206 with model SectionalMotif in generation 5 of 10\n",
      "Model Number: 207 with model SectionalMotif in generation 5 of 10\n",
      "Model Number: 208 with model SectionalMotif in generation 5 of 10\n",
      "Model Number: 209 with model SeasonalityMotif in generation 5 of 10\n",
      "Model Number: 210 with model GLS in generation 5 of 10\n",
      "Model Number: 211 with model SeasonalityMotif in generation 5 of 10\n",
      "Template Eval Error: ValueError(\"Model returned NaN due to a preprocessing transformer {'fillna': 'nearest', 'transformations': {'0': 'PctChangeTransformer', '1': 'StandardScaler'}, 'transformation_params': {'0': {}, '1': {}}}. fail_on_forecast_nan=True\") in model 211 in generation 5: SeasonalityMotif\n",
      "Model Number: 212 with model GLS in generation 5 of 10\n"
     ]
    },
    {
     "name": "stderr",
     "output_type": "stream",
     "text": [
      "c:\\Users\\carre\\AppData\\Local\\Programs\\Python\\Python312\\Lib\\site-packages\\numpy\\core\\fromnumeric.py:59: RuntimeWarning: overflow encountered in accumulate\n",
      "  return bound(*args, **kwds)\n",
      "c:\\Users\\carre\\AppData\\Local\\Programs\\Python\\Python312\\Lib\\site-packages\\numpy\\core\\fromnumeric.py:59: RuntimeWarning: overflow encountered in accumulate\n",
      "  return bound(*args, **kwds)\n"
     ]
    },
    {
     "name": "stdout",
     "output_type": "stream",
     "text": [
      "Model Number: 213 with model SeasonalityMotif in generation 5 of 10\n",
      "Model Number: 214 with model SeasonalNaive in generation 5 of 10\n",
      "Model Number: 215 with model GLS in generation 5 of 10\n",
      "Model Number: 216 with model SectionalMotif in generation 5 of 10\n",
      "Model Number: 217 with model SectionalMotif in generation 5 of 10\n",
      "Model Number: 218 with model SeasonalNaive in generation 5 of 10\n",
      "Model Number: 219 with model SeasonalityMotif in generation 5 of 10\n",
      "Model Number: 220 with model SeasonalityMotif in generation 5 of 10\n",
      "Template Eval Error: ValueError(\"Model returned NaN due to a preprocessing transformer {'fillna': 'nearest', 'transformations': {'0': 'PctChangeTransformer', '1': 'bkfilter'}, 'transformation_params': {'0': {}, '1': {}}}. fail_on_forecast_nan=True\") in model 220 in generation 5: SeasonalityMotif\n",
      "Model Number: 221 with model SectionalMotif in generation 5 of 10\n",
      "Model Number: 222 with model SeasonalNaive in generation 5 of 10\n"
     ]
    },
    {
     "name": "stderr",
     "output_type": "stream",
     "text": [
      "c:\\Users\\carre\\AppData\\Local\\Programs\\Python\\Python312\\Lib\\site-packages\\numpy\\core\\fromnumeric.py:59: RuntimeWarning: overflow encountered in accumulate\n",
      "  return bound(*args, **kwds)\n",
      "c:\\Users\\carre\\AppData\\Local\\Programs\\Python\\Python312\\Lib\\site-packages\\numpy\\core\\fromnumeric.py:59: RuntimeWarning: overflow encountered in accumulate\n",
      "  return bound(*args, **kwds)\n",
      "c:\\Users\\carre\\AppData\\Local\\Programs\\Python\\Python312\\Lib\\site-packages\\numpy\\core\\fromnumeric.py:59: RuntimeWarning: overflow encountered in accumulate\n",
      "  return bound(*args, **kwds)\n"
     ]
    },
    {
     "name": "stdout",
     "output_type": "stream",
     "text": [
      "Template Eval Error: ValueError('Model SeasonalNaive returned improper forecast_length. Returned: 197 and requested: 221') in model 222 in generation 5: SeasonalNaive\n",
      "New Generation: 6 of 10\n",
      "Model Number: 223 with model SeasonalityMotif in generation 6 of 10\n",
      "Model Number: 224 with model SeasonalityMotif in generation 6 of 10\n",
      "Model Number: 225 with model SectionalMotif in generation 6 of 10\n",
      "Model Number: 226 with model SeasonalityMotif in generation 6 of 10\n",
      "Model Number: 227 with model SectionalMotif in generation 6 of 10\n",
      "Model Number: 228 with model GLS in generation 6 of 10\n",
      "Model Number: 229 with model SeasonalityMotif in generation 6 of 10\n",
      "Model Number: 230 with model SectionalMotif in generation 6 of 10\n",
      "Model Number: 231 with model LastValueNaive in generation 6 of 10\n",
      "Model Number: 232 with model SectionalMotif in generation 6 of 10\n",
      "Model Number: 233 with model LastValueNaive in generation 6 of 10\n",
      "Model Number: 234 with model SeasonalNaive in generation 6 of 10\n",
      "Model Number: 235 with model SeasonalNaive in generation 6 of 10\n",
      "Model Number: 236 with model LastValueNaive in generation 6 of 10\n",
      "Model Number: 237 with model SeasonalNaive in generation 6 of 10\n"
     ]
    },
    {
     "name": "stderr",
     "output_type": "stream",
     "text": [
      "c:\\Users\\carre\\AppData\\Local\\Programs\\Python\\Python312\\Lib\\site-packages\\autots\\tools\\transform.py:5608: FutureWarning: Downcasting object dtype arrays on .fillna, .ffill, .bfill is deprecated and will change in a future version. Call result.infer_objects(copy=False) instead. To opt-in to the future behavior, set `pd.set_option('future.no_silent_downcasting', True)`\n",
      "  df = df.fillna(0)\n",
      "c:\\Users\\carre\\AppData\\Local\\Programs\\Python\\Python312\\Lib\\site-packages\\autots\\tools\\transform.py:5608: FutureWarning: Downcasting object dtype arrays on .fillna, .ffill, .bfill is deprecated and will change in a future version. Call result.infer_objects(copy=False) instead. To opt-in to the future behavior, set `pd.set_option('future.no_silent_downcasting', True)`\n",
      "  df = df.fillna(0)\n"
     ]
    },
    {
     "name": "stdout",
     "output_type": "stream",
     "text": [
      "Model Number: 238 with model SeasonalNaive in generation 6 of 10\n",
      "Model Number: 239 with model SectionalMotif in generation 6 of 10\n",
      "Model Number: 240 with model GLS in generation 6 of 10\n",
      "Model Number: 241 with model AverageValueNaive in generation 6 of 10\n",
      "Model Number: 242 with model GLS in generation 6 of 10\n",
      "Model Number: 243 with model GLS in generation 6 of 10\n",
      "Template Eval Error: Exception(\"Transformer DatepartRegression failed on fit from params ffill {'0': {'rows': 1, 'lag': 1, 'method': 'additive', 'strength': 1.0, 'first_value_only': False, 'threshold': None, 'threshold_method': 'max'}, '1': {'regression_model': {'model': 'MLP', 'model_params': {'hidden_layer_sizes': [2560], 'max_iter': 250, 'activation': 'relu', 'solver': 'lbfgs', 'early_stopping': False, 'learning_rate_init': 0.001, 'alpha': None}}, 'datepart_method': 'simple_binarized', 'polynomial_degree': None, 'transform_dict': None, 'holiday_countries_used': False, 'lags': None, 'forward_lags': None}, '2': {}}\") in model 243 in generation 6: GLS\n",
      "Model Number: 244 with model SeasonalityMotif in generation 6 of 10\n",
      "Model Number: 245 with model LastValueNaive in generation 6 of 10\n",
      "Model Number: 246 with model SeasonalityMotif in generation 6 of 10\n",
      "Model Number: 247 with model LastValueNaive in generation 6 of 10\n",
      "Model Number: 248 with model SeasonalityMotif in generation 6 of 10\n",
      "Model Number: 249 with model SectionalMotif in generation 6 of 10\n",
      "Model Number: 250 with model SeasonalNaive in generation 6 of 10\n",
      "New Generation: 7 of 10\n",
      "Model Number: 251 with model SeasonalityMotif in generation 7 of 10\n",
      "Model Number: 252 with model GLS in generation 7 of 10\n",
      "Model Number: 253 with model LastValueNaive in generation 7 of 10\n",
      "Model Number: 254 with model SeasonalNaive in generation 7 of 10\n",
      "Model Number: 255 with model SectionalMotif in generation 7 of 10\n",
      "Template Eval Error: Exception(\"Transformer ReplaceConstant failed on fit from params akima {'0': {'constant': 1, 'reintroduction_model': {'model': 'SGD', 'model_params': {}, 'datepart_method': 'expanded_binarized'}, 'fillna': 'pchip'}, '1': {'rows': 1, 'displacement_rows': 1, 'quantile': 1.0, 'decay_span': 3}}\") in model 255 in generation 7: SectionalMotif\n",
      "Model Number: 256 with model SectionalMotif in generation 7 of 10\n",
      "Model Number: 257 with model LastValueNaive in generation 7 of 10\n",
      "Model Number: 258 with model SectionalMotif in generation 7 of 10\n",
      "Model Number: 259 with model LastValueNaive in generation 7 of 10\n",
      "Model Number: 260 with model SeasonalityMotif in generation 7 of 10\n",
      "Model Number: 261 with model AverageValueNaive in generation 7 of 10\n",
      "Model Number: 262 with model SeasonalityMotif in generation 7 of 10\n"
     ]
    },
    {
     "name": "stderr",
     "output_type": "stream",
     "text": [
      "c:\\Users\\carre\\AppData\\Local\\Programs\\Python\\Python312\\Lib\\site-packages\\sklearn\\utils\\validation.py:1339: DataConversionWarning: A column-vector y was passed when a 1d array was expected. Please change the shape of y to (n_samples, ), for example using ravel().\n",
      "  y = column_or_1d(y, warn=True)\n"
     ]
    },
    {
     "name": "stdout",
     "output_type": "stream",
     "text": [
      "Model Number: 263 with model SectionalMotif in generation 7 of 10\n",
      "Model Number: 264 with model AverageValueNaive in generation 7 of 10\n",
      "Model Number: 265 with model SeasonalityMotif in generation 7 of 10\n",
      "Model Number: 266 with model SectionalMotif in generation 7 of 10\n",
      "Template Eval Error: Exception(\"Transformer DatepartRegression failed on fit from params linear {'0': {}, '1': {'rows': 1, 'lag': 1, 'method': 'additive', 'strength': 1.0, 'first_value_only': False, 'threshold': 10, 'threshold_method': 'max'}, '2': {'regression_model': {'model': 'DecisionTree', 'model_params': {'max_depth': None, 'min_samples_split': 0.05}}, 'datepart_method': 'expanded', 'polynomial_degree': None, 'transform_dict': {'fillna': None, 'transformations': {'0': 'AnomalyRemoval'}, 'transformation_params': {'0': {'method': 'zscore', 'transform_dict': {'transformations': {'0': 'DatepartRegression'}, 'transformation_params': {'0': {'datepart_method': 'simple_3', 'regression_model': {'model': 'ElasticNet', 'model_params': {}}}}}, 'method_params': {'distribution': 'uniform', 'alpha': 0.05}}}}, 'holiday_countries_used': True, 'lags': None, 'forward_lags': None}}\") in model 266 in generation 7: SectionalMotif\n",
      "Model Number: 267 with model SeasonalNaive in generation 7 of 10\n",
      "Model Number: 268 with model SeasonalityMotif in generation 7 of 10\n",
      "Model Number: 269 with model AverageValueNaive in generation 7 of 10\n",
      "Model Number: 270 with model SeasonalityMotif in generation 7 of 10\n",
      "Model Number: 271 with model LastValueNaive in generation 7 of 10\n",
      "Model Number: 272 with model SeasonalityMotif in generation 7 of 10\n",
      "Model Number: 273 with model LastValueNaive in generation 7 of 10\n",
      "Model Number: 274 with model SeasonalityMotif in generation 7 of 10\n",
      "Model Number: 275 with model SectionalMotif in generation 7 of 10\n",
      "Model Number: 276 with model LastValueNaive in generation 7 of 10\n",
      "Model Number: 277 with model AverageValueNaive in generation 7 of 10\n",
      "Model Number: 278 with model SectionalMotif in generation 7 of 10\n",
      "New Generation: 8 of 10\n",
      "Model Number: 279 with model AverageValueNaive in generation 8 of 10\n",
      "Model Number: 280 with model AverageValueNaive in generation 8 of 10\n",
      "Model Number: 281 with model SeasonalityMotif in generation 8 of 10\n",
      "Model Number: 282 with model SeasonalityMotif in generation 8 of 10\n",
      "Model Number: 283 with model SeasonalNaive in generation 8 of 10\n",
      "Template Eval Error: ValueError(\"Model returned NaN due to a preprocessing transformer {'fillna': 'ffill', 'transformations': {'0': 'AlignLastValue', '1': 'AlignLastValue'}, 'transformation_params': {'0': {'rows': 4, 'lag': 1, 'method': 'multiplicative', 'strength': 1.0, 'first_value_only': False, 'threshold': None, 'threshold_method': 'max'}, '1': {'rows': 1, 'lag': 1, 'method': 'additive', 'strength': 0.2, 'first_value_only': False, 'threshold': 10, 'threshold_method': 'mean'}}}. fail_on_forecast_nan=True\") in model 283 in generation 8: SeasonalNaive\n",
      "Model Number: 284 with model SeasonalityMotif in generation 8 of 10\n",
      "Model Number: 285 with model SectionalMotif in generation 8 of 10\n",
      "Model Number: 286 with model SeasonalityMotif in generation 8 of 10\n",
      "Model Number: 287 with model SeasonalityMotif in generation 8 of 10\n"
     ]
    },
    {
     "name": "stderr",
     "output_type": "stream",
     "text": [
      "c:\\Users\\carre\\AppData\\Local\\Programs\\Python\\Python312\\Lib\\site-packages\\autots\\tools\\transform.py:5608: FutureWarning: Downcasting object dtype arrays on .fillna, .ffill, .bfill is deprecated and will change in a future version. Call result.infer_objects(copy=False) instead. To opt-in to the future behavior, set `pd.set_option('future.no_silent_downcasting', True)`\n",
      "  df = df.fillna(0)\n",
      "c:\\Users\\carre\\AppData\\Local\\Programs\\Python\\Python312\\Lib\\site-packages\\autots\\tools\\transform.py:5608: FutureWarning: Downcasting object dtype arrays on .fillna, .ffill, .bfill is deprecated and will change in a future version. Call result.infer_objects(copy=False) instead. To opt-in to the future behavior, set `pd.set_option('future.no_silent_downcasting', True)`\n",
      "  df = df.fillna(0)\n"
     ]
    },
    {
     "name": "stdout",
     "output_type": "stream",
     "text": [
      "Model Number: 288 with model SeasonalityMotif in generation 8 of 10\n",
      "Model Number: 289 with model SectionalMotif in generation 8 of 10\n",
      "Model Number: 290 with model SeasonalityMotif in generation 8 of 10\n",
      "Model Number: 291 with model SeasonalNaive in generation 8 of 10\n",
      "Model Number: 292 with model SectionalMotif in generation 8 of 10\n",
      "Model Number: 293 with model SeasonalityMotif in generation 8 of 10\n",
      "Model Number: 294 with model SeasonalityMotif in generation 8 of 10\n",
      "Model Number: 295 with model SectionalMotif in generation 8 of 10\n",
      "Template Eval Error: ValueError(\"regression_type=='User' but no future_regressor supplied\") in model 295 in generation 8: SectionalMotif\n",
      "Model Number: 296 with model SectionalMotif in generation 8 of 10\n",
      "Model Number: 297 with model GLS in generation 8 of 10\n",
      "Template Eval Error: Exception(\"Transformer Detrend failed on fit from params quadratic {'0': {'model': 'Gamma', 'phi': 1, 'window': 90, 'transform_dict': None}, '1': {}}\") in model 297 in generation 8: GLS\n",
      "Model Number: 298 with model SeasonalityMotif in generation 8 of 10\n",
      "Model Number: 299 with model AverageValueNaive in generation 8 of 10\n",
      "Model Number: 300 with model SectionalMotif in generation 8 of 10\n",
      "Model Number: 301 with model SectionalMotif in generation 8 of 10\n",
      "Model Number: 302 with model LastValueNaive in generation 8 of 10\n",
      "Model Number: 303 with model SeasonalNaive in generation 8 of 10\n",
      "Model Number: 304 with model SeasonalityMotif in generation 8 of 10\n",
      "Model Number: 305 with model LastValueNaive in generation 8 of 10\n",
      "Model Number: 306 with model GLS in generation 8 of 10\n",
      "New Generation: 9 of 10\n",
      "Model Number: 307 with model SeasonalNaive in generation 9 of 10\n",
      "Model Number: 308 with model SeasonalityMotif in generation 9 of 10\n",
      "Model Number: 309 with model LastValueNaive in generation 9 of 10\n",
      "Model Number: 310 with model SeasonalityMotif in generation 9 of 10\n"
     ]
    },
    {
     "name": "stderr",
     "output_type": "stream",
     "text": [
      "c:\\Users\\carre\\AppData\\Local\\Programs\\Python\\Python312\\Lib\\site-packages\\autots\\tools\\transform.py:5608: FutureWarning: Downcasting object dtype arrays on .fillna, .ffill, .bfill is deprecated and will change in a future version. Call result.infer_objects(copy=False) instead. To opt-in to the future behavior, set `pd.set_option('future.no_silent_downcasting', True)`\n",
      "  df = df.fillna(0)\n",
      "c:\\Users\\carre\\AppData\\Local\\Programs\\Python\\Python312\\Lib\\site-packages\\autots\\tools\\transform.py:5608: FutureWarning: Downcasting object dtype arrays on .fillna, .ffill, .bfill is deprecated and will change in a future version. Call result.infer_objects(copy=False) instead. To opt-in to the future behavior, set `pd.set_option('future.no_silent_downcasting', True)`\n",
      "  df = df.fillna(0)\n"
     ]
    },
    {
     "name": "stdout",
     "output_type": "stream",
     "text": [
      "Model Number: 311 with model GLS in generation 9 of 10\n",
      "Model Number: 312 with model SectionalMotif in generation 9 of 10\n",
      "Model Number: 313 with model GLS in generation 9 of 10\n",
      "Model Number: 314 with model SectionalMotif in generation 9 of 10\n",
      "Model Number: 315 with model SectionalMotif in generation 9 of 10\n",
      "Model Number: 316 with model SectionalMotif in generation 9 of 10\n",
      "Model Number: 317 with model SeasonalityMotif in generation 9 of 10\n",
      "Model Number: 318 with model SeasonalityMotif in generation 9 of 10\n",
      "Model Number: 319 with model GLS in generation 9 of 10\n",
      "Model Number: 320 with model SectionalMotif in generation 9 of 10\n",
      "Model Number: 321 with model LastValueNaive in generation 9 of 10\n",
      "Model Number: 322 with model SeasonalityMotif in generation 9 of 10\n",
      "Model Number: 323 with model LastValueNaive in generation 9 of 10\n"
     ]
    },
    {
     "name": "stderr",
     "output_type": "stream",
     "text": [
      "c:\\Users\\carre\\AppData\\Local\\Programs\\Python\\Python312\\Lib\\site-packages\\autots\\tools\\anomaly_utils.py:1115: FutureWarning: Downcasting object dtype arrays on .fillna, .ffill, .bfill is deprecated and will change in a future version. Call result.infer_objects(copy=False) instead. To opt-in to the future behavior, set `pd.set_option('future.no_silent_downcasting', True)`\n",
      "  result = result + temp.where(temp.isnull(), 1).fillna(0)\n",
      "c:\\Users\\carre\\AppData\\Local\\Programs\\Python\\Python312\\Lib\\site-packages\\autots\\tools\\anomaly_utils.py:1115: FutureWarning: Downcasting object dtype arrays on .fillna, .ffill, .bfill is deprecated and will change in a future version. Call result.infer_objects(copy=False) instead. To opt-in to the future behavior, set `pd.set_option('future.no_silent_downcasting', True)`\n",
      "  result = result + temp.where(temp.isnull(), 1).fillna(0)\n",
      "c:\\Users\\carre\\AppData\\Local\\Programs\\Python\\Python312\\Lib\\site-packages\\autots\\tools\\anomaly_utils.py:1132: FutureWarning: Downcasting behavior in `replace` is deprecated and will be removed in a future version. To retain the old behavior, explicitly call `result.infer_objects(copy=False)`. To opt-in to the future behavior, set `pd.set_option('future.no_silent_downcasting', True)`\n",
      "  temp.replace(replace_dict).astype(float).fillna(0),\n",
      "c:\\Users\\carre\\AppData\\Local\\Programs\\Python\\Python312\\Lib\\site-packages\\autots\\tools\\anomaly_utils.py:1132: FutureWarning: Downcasting behavior in `replace` is deprecated and will be removed in a future version. To retain the old behavior, explicitly call `result.infer_objects(copy=False)`. To opt-in to the future behavior, set `pd.set_option('future.no_silent_downcasting', True)`\n",
      "  temp.replace(replace_dict).astype(float).fillna(0),\n",
      "c:\\Users\\carre\\AppData\\Local\\Programs\\Python\\Python312\\Lib\\site-packages\\autots\\tools\\anomaly_utils.py:1132: FutureWarning: Downcasting behavior in `replace` is deprecated and will be removed in a future version. To retain the old behavior, explicitly call `result.infer_objects(copy=False)`. To opt-in to the future behavior, set `pd.set_option('future.no_silent_downcasting', True)`\n",
      "  temp.replace(replace_dict).astype(float).fillna(0),\n",
      "c:\\Users\\carre\\AppData\\Local\\Programs\\Python\\Python312\\Lib\\site-packages\\autots\\tools\\anomaly_utils.py:1132: FutureWarning: Downcasting behavior in `replace` is deprecated and will be removed in a future version. To retain the old behavior, explicitly call `result.infer_objects(copy=False)`. To opt-in to the future behavior, set `pd.set_option('future.no_silent_downcasting', True)`\n",
      "  temp.replace(replace_dict).astype(float).fillna(0),\n",
      "c:\\Users\\carre\\AppData\\Local\\Programs\\Python\\Python312\\Lib\\site-packages\\autots\\tools\\anomaly_utils.py:1132: FutureWarning: Downcasting behavior in `replace` is deprecated and will be removed in a future version. To retain the old behavior, explicitly call `result.infer_objects(copy=False)`. To opt-in to the future behavior, set `pd.set_option('future.no_silent_downcasting', True)`\n",
      "  temp.replace(replace_dict).astype(float).fillna(0),\n",
      "c:\\Users\\carre\\AppData\\Local\\Programs\\Python\\Python312\\Lib\\site-packages\\autots\\tools\\anomaly_utils.py:1132: FutureWarning: Downcasting behavior in `replace` is deprecated and will be removed in a future version. To retain the old behavior, explicitly call `result.infer_objects(copy=False)`. To opt-in to the future behavior, set `pd.set_option('future.no_silent_downcasting', True)`\n",
      "  temp.replace(replace_dict).astype(float).fillna(0),\n",
      "c:\\Users\\carre\\AppData\\Local\\Programs\\Python\\Python312\\Lib\\site-packages\\autots\\tools\\anomaly_utils.py:1132: FutureWarning: Downcasting behavior in `replace` is deprecated and will be removed in a future version. To retain the old behavior, explicitly call `result.infer_objects(copy=False)`. To opt-in to the future behavior, set `pd.set_option('future.no_silent_downcasting', True)`\n",
      "  temp.replace(replace_dict).astype(float).fillna(0),\n",
      "c:\\Users\\carre\\AppData\\Local\\Programs\\Python\\Python312\\Lib\\site-packages\\autots\\tools\\anomaly_utils.py:1132: FutureWarning: Downcasting behavior in `replace` is deprecated and will be removed in a future version. To retain the old behavior, explicitly call `result.infer_objects(copy=False)`. To opt-in to the future behavior, set `pd.set_option('future.no_silent_downcasting', True)`\n",
      "  temp.replace(replace_dict).astype(float).fillna(0),\n"
     ]
    },
    {
     "name": "stdout",
     "output_type": "stream",
     "text": [
      "Model Number: 324 with model SeasonalityMotif in generation 9 of 10\n",
      "Model Number: 325 with model SeasonalNaive in generation 9 of 10\n",
      "Model Number: 326 with model LastValueNaive in generation 9 of 10\n",
      "Model Number: 327 with model SectionalMotif in generation 9 of 10\n",
      "Model Number: 328 with model SectionalMotif in generation 9 of 10\n",
      "Model Number: 329 with model SeasonalNaive in generation 9 of 10\n",
      "Model Number: 330 with model LastValueNaive in generation 9 of 10\n",
      "Model Number: 331 with model SectionalMotif in generation 9 of 10\n",
      "Model Number: 332 with model LastValueNaive in generation 9 of 10\n",
      "Model Number: 333 with model SectionalMotif in generation 9 of 10\n",
      "Model Number: 334 with model AverageValueNaive in generation 9 of 10\n",
      "New Generation: 10 of 10\n",
      "Model Number: 335 with model GLS in generation 10 of 10\n",
      "Model Number: 336 with model SeasonalityMotif in generation 10 of 10\n",
      "Model Number: 337 with model SectionalMotif in generation 10 of 10\n",
      "Model Number: 338 with model SeasonalityMotif in generation 10 of 10\n",
      "Model Number: 339 with model SeasonalityMotif in generation 10 of 10\n",
      "Model Number: 340 with model SeasonalityMotif in generation 10 of 10\n",
      "Model Number: 341 with model SectionalMotif in generation 10 of 10\n",
      "Model Number: 342 with model SeasonalityMotif in generation 10 of 10\n",
      "Model Number: 343 with model LastValueNaive in generation 10 of 10\n",
      "Model Number: 344 with model SectionalMotif in generation 10 of 10\n",
      "Model Number: 345 with model LastValueNaive in generation 10 of 10\n",
      "Model Number: 346 with model SeasonalityMotif in generation 10 of 10\n",
      "Model Number: 347 with model LastValueNaive in generation 10 of 10\n",
      "Model Number: 348 with model SeasonalityMotif in generation 10 of 10\n",
      "Model Number: 349 with model SeasonalityMotif in generation 10 of 10\n",
      "Model Number: 350 with model GLS in generation 10 of 10\n"
     ]
    },
    {
     "name": "stderr",
     "output_type": "stream",
     "text": [
      "c:\\Users\\carre\\AppData\\Local\\Programs\\Python\\Python312\\Lib\\site-packages\\sklearn\\neighbors\\_classification.py:238: DataConversionWarning: A column-vector y was passed when a 1d array was expected. Please change the shape of y to (n_samples,), for example using ravel().\n",
      "  return self._fit(X, y)\n"
     ]
    },
    {
     "name": "stdout",
     "output_type": "stream",
     "text": [
      "Model Number: 351 with model SeasonalityMotif in generation 10 of 10\n",
      "Model Number: 352 with model GLS in generation 10 of 10\n",
      "Model Number: 353 with model SectionalMotif in generation 10 of 10\n",
      "Model Number: 354 with model SeasonalNaive in generation 10 of 10\n"
     ]
    },
    {
     "name": "stderr",
     "output_type": "stream",
     "text": [
      "c:\\Users\\carre\\AppData\\Local\\Programs\\Python\\Python312\\Lib\\site-packages\\autots\\tools\\transform.py:1571: FutureWarning: Downcasting behavior in `replace` is deprecated and will be removed in a future version. To retain the old behavior, explicitly call `result.infer_objects(copy=False)`. To opt-in to the future behavior, set `pd.set_option('future.no_silent_downcasting', True)`\n",
      "  df = (df + 1).replace([0], np.nan)\n",
      "c:\\Users\\carre\\AppData\\Local\\Programs\\Python\\Python312\\Lib\\site-packages\\autots\\tools\\transform.py:1571: FutureWarning: Downcasting behavior in `replace` is deprecated and will be removed in a future version. To retain the old behavior, explicitly call `result.infer_objects(copy=False)`. To opt-in to the future behavior, set `pd.set_option('future.no_silent_downcasting', True)`\n",
      "  df = (df + 1).replace([0], np.nan)\n"
     ]
    },
    {
     "name": "stdout",
     "output_type": "stream",
     "text": [
      "Model Number: 355 with model SeasonalityMotif in generation 10 of 10\n",
      "Validation Round: 1\n",
      "Model Number: 1 of 53 with model SeasonalityMotif for Validation 1\n",
      "1 - SeasonalityMotif with avg smape nan: \n",
      "Model Number: 2 of 53 with model SeasonalityMotif for Validation 1\n",
      "2 - SeasonalityMotif with avg smape nan: \n",
      "Model Number: 3 of 53 with model SeasonalityMotif for Validation 1\n",
      "3 - SeasonalityMotif with avg smape nan: \n",
      "Model Number: 4 of 53 with model SeasonalityMotif for Validation 1\n",
      "4 - SeasonalityMotif with avg smape nan: \n",
      "Model Number: 5 of 53 with model SeasonalityMotif for Validation 1\n",
      "5 - SeasonalityMotif with avg smape nan: \n",
      "Model Number: 6 of 53 with model SeasonalityMotif for Validation 1\n",
      "6 - SeasonalityMotif with avg smape nan: \n",
      "Model Number: 7 of 53 with model SeasonalityMotif for Validation 1\n",
      "7 - SeasonalityMotif with avg smape nan: \n",
      "Model Number: 8 of 53 with model SeasonalityMotif for Validation 1\n",
      "8 - SeasonalityMotif with avg smape nan: \n",
      "Model Number: 9 of 53 with model SeasonalityMotif for Validation 1\n",
      "9 - SeasonalityMotif with avg smape nan: \n",
      "Model Number: 10 of 53 with model SectionalMotif for Validation 1\n",
      "10 - SectionalMotif with avg smape nan: \n",
      "Model Number: 11 of 53 with model SectionalMotif for Validation 1\n",
      "11 - SectionalMotif with avg smape nan: \n",
      "Model Number: 12 of 53 with model SectionalMotif for Validation 1\n",
      "12 - SectionalMotif with avg smape nan: \n",
      "Model Number: 13 of 53 with model SectionalMotif for Validation 1\n",
      "📈 13 - SectionalMotif with avg smape 183.97: \n",
      "Model Number: 14 of 53 with model SectionalMotif for Validation 1\n",
      "14 - SectionalMotif with avg smape nan: \n",
      "Model Number: 15 of 53 with model SectionalMotif for Validation 1\n",
      "15 - SectionalMotif with avg smape nan: \n",
      "Model Number: 16 of 53 with model SectionalMotif for Validation 1\n",
      "16 - SectionalMotif with avg smape 184.34: \n",
      "Model Number: 17 of 53 with model SectionalMotif for Validation 1\n",
      "17 - SectionalMotif with avg smape nan: \n",
      "Model Number: 18 of 53 with model SectionalMotif for Validation 1\n",
      "18 - SectionalMotif with avg smape nan: \n",
      "Model Number: 19 of 53 with model AverageValueNaive for Validation 1\n",
      "19 - AverageValueNaive with avg smape nan: \n",
      "Model Number: 20 of 53 with model AverageValueNaive for Validation 1\n",
      "20 - AverageValueNaive with avg smape nan: \n",
      "Model Number: 21 of 53 with model AverageValueNaive for Validation 1\n",
      "21 - AverageValueNaive with avg smape nan: \n",
      "Model Number: 22 of 53 with model AverageValueNaive for Validation 1\n",
      "22 - AverageValueNaive with avg smape nan: \n",
      "Model Number: 23 of 53 with model AverageValueNaive for Validation 1\n",
      "23 - AverageValueNaive with avg smape nan: \n",
      "Model Number: 24 of 53 with model GLS for Validation 1\n",
      "24 - GLS with avg smape nan: \n",
      "Model Number: 25 of 53 with model AverageValueNaive for Validation 1\n",
      "25 - AverageValueNaive with avg smape nan: \n",
      "Model Number: 26 of 53 with model AverageValueNaive for Validation 1\n",
      "26 - AverageValueNaive with avg smape nan: \n",
      "Model Number: 27 of 53 with model SeasonalNaive for Validation 1\n",
      "27 - SeasonalNaive with avg smape nan: \n",
      "Model Number: 28 of 53 with model GLS for Validation 1\n",
      "28 - GLS with avg smape nan: \n",
      "Model Number: 29 of 53 with model GLS for Validation 1\n",
      "29 - GLS with avg smape nan: \n",
      "Model Number: 30 of 53 with model LastValueNaive for Validation 1\n",
      "30 - LastValueNaive with avg smape nan: \n",
      "Model Number: 31 of 53 with model LastValueNaive for Validation 1\n",
      "31 - LastValueNaive with avg smape nan: \n",
      "Model Number: 32 of 53 with model LastValueNaive for Validation 1\n",
      "32 - LastValueNaive with avg smape nan: \n",
      "Model Number: 33 of 53 with model LastValueNaive for Validation 1\n",
      "33 - LastValueNaive with avg smape nan: \n",
      "Model Number: 34 of 53 with model LastValueNaive for Validation 1\n",
      "34 - LastValueNaive with avg smape nan: \n",
      "Model Number: 35 of 53 with model LastValueNaive for Validation 1\n",
      "35 - LastValueNaive with avg smape nan: \n",
      "Model Number: 36 of 53 with model LastValueNaive for Validation 1\n",
      "36 - LastValueNaive with avg smape nan: \n",
      "Model Number: 37 of 53 with model LastValueNaive for Validation 1\n",
      "37 - LastValueNaive with avg smape nan: \n",
      "Model Number: 38 of 53 with model LastValueNaive for Validation 1\n",
      "38 - LastValueNaive with avg smape nan: \n",
      "Model Number: 39 of 53 with model SeasonalNaive for Validation 1\n",
      "39 - SeasonalNaive with avg smape nan: \n",
      "Model Number: 40 of 53 with model SeasonalNaive for Validation 1\n",
      "40 - SeasonalNaive with avg smape nan: \n",
      "Model Number: 41 of 53 with model SeasonalNaive for Validation 1\n",
      "41 - SeasonalNaive with avg smape nan: \n",
      "Model Number: 42 of 53 with model SeasonalNaive for Validation 1\n",
      "42 - SeasonalNaive with avg smape nan: \n",
      "Model Number: 43 of 53 with model SeasonalNaive for Validation 1\n",
      "43 - SeasonalNaive with avg smape nan: \n",
      "Model Number: 44 of 53 with model GLS for Validation 1\n",
      "44 - GLS with avg smape nan: \n",
      "Model Number: 45 of 53 with model GLS for Validation 1\n",
      "45 - GLS with avg smape nan: \n",
      "Model Number: 46 of 53 with model SeasonalNaive for Validation 1\n",
      "46 - SeasonalNaive with avg smape nan: \n",
      "Model Number: 47 of 53 with model GLS for Validation 1\n",
      "47 - GLS with avg smape nan: \n",
      "Model Number: 48 of 53 with model SeasonalNaive for Validation 1\n",
      "48 - SeasonalNaive with avg smape nan: \n",
      "Model Number: 49 of 53 with model SeasonalNaive for Validation 1\n",
      "49 - SeasonalNaive with avg smape nan: \n",
      "Model Number: 50 of 53 with model AverageValueNaive for Validation 1\n",
      "50 - AverageValueNaive with avg smape nan: \n",
      "Model Number: 51 of 53 with model GLS for Validation 1\n",
      "51 - GLS with avg smape nan: \n",
      "Model Number: 52 of 53 with model GLS for Validation 1\n",
      "52 - GLS with avg smape nan: \n",
      "Model Number: 53 of 53 with model AverageValueNaive for Validation 1\n",
      "53 - AverageValueNaive with avg smape nan: \n",
      "Validation Round: 2\n",
      "Model Number: 1 of 53 with model SeasonalityMotif for Validation 2\n",
      "📈 1 - SeasonalityMotif with avg smape 187.92: \n",
      "Model Number: 2 of 53 with model SeasonalityMotif for Validation 2\n",
      "2 - SeasonalityMotif with avg smape 187.92: \n",
      "Model Number: 3 of 53 with model SeasonalityMotif for Validation 2\n",
      "3 - SeasonalityMotif with avg smape 187.92: \n",
      "Model Number: 4 of 53 with model SeasonalityMotif for Validation 2\n",
      "4 - SeasonalityMotif with avg smape nan: \n",
      "Model Number: 5 of 53 with model SeasonalityMotif for Validation 2\n",
      "5 - SeasonalityMotif with avg smape nan: \n",
      "Model Number: 6 of 53 with model SeasonalityMotif for Validation 2\n",
      "6 - SeasonalityMotif with avg smape 187.92: \n",
      "Model Number: 7 of 53 with model SeasonalityMotif for Validation 2\n",
      "7 - SeasonalityMotif with avg smape 187.92: \n",
      "Model Number: 8 of 53 with model SeasonalityMotif for Validation 2\n",
      "8 - SeasonalityMotif with avg smape 187.92: \n",
      "Model Number: 9 of 53 with model SeasonalityMotif for Validation 2\n",
      "📈 9 - SeasonalityMotif with avg smape 187.8: \n",
      "Model Number: 10 of 53 with model SectionalMotif for Validation 2\n",
      "📈 10 - SectionalMotif with avg smape 184.47: \n",
      "Model Number: 11 of 53 with model SectionalMotif for Validation 2\n",
      "📈 11 - SectionalMotif with avg smape 184.46: \n",
      "Model Number: 12 of 53 with model SectionalMotif for Validation 2\n",
      "12 - SectionalMotif with avg smape nan: \n",
      "Model Number: 13 of 53 with model SectionalMotif for Validation 2\n",
      "13 - SectionalMotif with avg smape nan: \n",
      "Model Number: 14 of 53 with model SectionalMotif for Validation 2\n",
      "14 - SectionalMotif with avg smape nan: \n",
      "Model Number: 15 of 53 with model SectionalMotif for Validation 2\n",
      "15 - SectionalMotif with avg smape 187.57: \n",
      "Model Number: 16 of 53 with model SectionalMotif for Validation 2\n",
      "16 - SectionalMotif with avg smape nan: \n",
      "Model Number: 17 of 53 with model SectionalMotif for Validation 2\n",
      "17 - SectionalMotif with avg smape nan: \n",
      "Model Number: 18 of 53 with model SectionalMotif for Validation 2\n",
      "18 - SectionalMotif with avg smape nan: \n",
      "Model Number: 19 of 53 with model AverageValueNaive for Validation 2\n",
      "19 - AverageValueNaive with avg smape nan: \n",
      "Model Number: 20 of 53 with model AverageValueNaive for Validation 2\n",
      "20 - AverageValueNaive with avg smape nan: \n",
      "Model Number: 21 of 53 with model AverageValueNaive for Validation 2\n",
      "21 - AverageValueNaive with avg smape 186.69: \n",
      "Model Number: 22 of 53 with model AverageValueNaive for Validation 2\n",
      "22 - AverageValueNaive with avg smape 186.69: \n",
      "Model Number: 23 of 53 with model AverageValueNaive for Validation 2\n",
      "23 - AverageValueNaive with avg smape nan: \n",
      "Model Number: 24 of 53 with model GLS for Validation 2\n",
      "24 - GLS with avg smape 186.69: \n",
      "Model Number: 25 of 53 with model AverageValueNaive for Validation 2\n",
      "25 - AverageValueNaive with avg smape nan: \n",
      "Model Number: 26 of 53 with model AverageValueNaive for Validation 2\n",
      "26 - AverageValueNaive with avg smape nan: \n",
      "Model Number: 27 of 53 with model SeasonalNaive for Validation 2\n",
      "27 - SeasonalNaive with avg smape 185.36: \n",
      "Model Number: 28 of 53 with model GLS for Validation 2\n",
      "28 - GLS with avg smape 186.69: \n",
      "Model Number: 29 of 53 with model GLS for Validation 2\n",
      "29 - GLS with avg smape 186.65: \n",
      "Model Number: 30 of 53 with model LastValueNaive for Validation 2\n",
      "30 - LastValueNaive with avg smape 186.69: \n",
      "Model Number: 31 of 53 with model LastValueNaive for Validation 2\n",
      "31 - LastValueNaive with avg smape 186.69: \n",
      "Model Number: 32 of 53 with model LastValueNaive for Validation 2\n",
      "32 - LastValueNaive with avg smape 186.69: \n",
      "Model Number: 33 of 53 with model LastValueNaive for Validation 2\n",
      "33 - LastValueNaive with avg smape 186.69: \n",
      "Model Number: 34 of 53 with model LastValueNaive for Validation 2\n",
      "34 - LastValueNaive with avg smape 186.69: \n",
      "Model Number: 35 of 53 with model LastValueNaive for Validation 2\n",
      "35 - LastValueNaive with avg smape 186.69: \n",
      "Model Number: 36 of 53 with model LastValueNaive for Validation 2\n",
      "36 - LastValueNaive with avg smape 186.69: \n",
      "Model Number: 37 of 53 with model LastValueNaive for Validation 2\n",
      "37 - LastValueNaive with avg smape 186.69: \n",
      "Model Number: 38 of 53 with model LastValueNaive for Validation 2\n",
      "38 - LastValueNaive with avg smape 185.75: \n",
      "Model Number: 39 of 53 with model SeasonalNaive for Validation 2\n",
      "39 - SeasonalNaive with avg smape 186.69: \n",
      "Model Number: 40 of 53 with model SeasonalNaive for Validation 2\n",
      "40 - SeasonalNaive with avg smape 186.69: \n",
      "Model Number: 41 of 53 with model SeasonalNaive for Validation 2\n",
      "41 - SeasonalNaive with avg smape 186.69: \n",
      "Model Number: 42 of 53 with model SeasonalNaive for Validation 2\n",
      "42 - SeasonalNaive with avg smape 186.7: \n",
      "Model Number: 43 of 53 with model SeasonalNaive for Validation 2\n",
      "43 - SeasonalNaive with avg smape 185.79: \n",
      "Model Number: 44 of 53 with model GLS for Validation 2\n",
      "44 - GLS with avg smape 191.6: \n",
      "Model Number: 45 of 53 with model GLS for Validation 2\n",
      "45 - GLS with avg smape 186.69: \n",
      "Model Number: 46 of 53 with model SeasonalNaive for Validation 2\n",
      "46 - SeasonalNaive with avg smape 186.05: \n",
      "Model Number: 47 of 53 with model GLS for Validation 2\n",
      "47 - GLS with avg smape 186.7: \n",
      "Model Number: 48 of 53 with model SeasonalNaive for Validation 2\n",
      "48 - SeasonalNaive with avg smape 188.5: \n",
      "Model Number: 49 of 53 with model SeasonalNaive for Validation 2\n",
      "49 - SeasonalNaive with avg smape nan: \n",
      "Model Number: 50 of 53 with model AverageValueNaive for Validation 2\n",
      "50 - AverageValueNaive with avg smape nan: \n",
      "Model Number: 51 of 53 with model GLS for Validation 2\n",
      "51 - GLS with avg smape 186.69: \n",
      "Model Number: 52 of 53 with model GLS for Validation 2\n",
      "52 - GLS with avg smape 186.69: \n",
      "Model Number: 53 of 53 with model AverageValueNaive for Validation 2\n",
      "53 - AverageValueNaive with avg smape 186.69: \n",
      "Validation Round: 3\n",
      "Model Number: 1 of 53 with model SeasonalityMotif for Validation 3\n",
      "1 - SeasonalityMotif with avg smape nan: \n",
      "Model Number: 2 of 53 with model SeasonalityMotif for Validation 3\n",
      "2 - SeasonalityMotif with avg smape nan: \n",
      "Model Number: 3 of 53 with model SeasonalityMotif for Validation 3\n",
      "3 - SeasonalityMotif with avg smape nan: \n",
      "Model Number: 4 of 53 with model SeasonalityMotif for Validation 3\n",
      "4 - SeasonalityMotif with avg smape nan: \n",
      "Model Number: 5 of 53 with model SeasonalityMotif for Validation 3\n",
      "5 - SeasonalityMotif with avg smape nan: \n",
      "Model Number: 6 of 53 with model SeasonalityMotif for Validation 3\n",
      "6 - SeasonalityMotif with avg smape nan: \n",
      "Model Number: 7 of 53 with model SeasonalityMotif for Validation 3\n",
      "7 - SeasonalityMotif with avg smape nan: \n",
      "Model Number: 8 of 53 with model SeasonalityMotif for Validation 3\n",
      "8 - SeasonalityMotif with avg smape nan: \n",
      "Model Number: 9 of 53 with model SeasonalityMotif for Validation 3\n",
      "9 - SeasonalityMotif with avg smape nan: \n",
      "Model Number: 10 of 53 with model SectionalMotif for Validation 3\n",
      "📈 10 - SectionalMotif with avg smape 185.66: \n",
      "Model Number: 11 of 53 with model SectionalMotif for Validation 3\n",
      "📈 11 - SectionalMotif with avg smape 184.75: \n",
      "Model Number: 12 of 53 with model SectionalMotif for Validation 3\n",
      "12 - SectionalMotif with avg smape nan: \n",
      "Model Number: 13 of 53 with model SectionalMotif for Validation 3\n",
      "13 - SectionalMotif with avg smape 185.66: \n",
      "Model Number: 14 of 53 with model SectionalMotif for Validation 3\n",
      "14 - SectionalMotif with avg smape nan: \n",
      "Model Number: 15 of 53 with model SectionalMotif for Validation 3\n",
      "15 - SectionalMotif with avg smape nan: \n",
      "Model Number: 16 of 53 with model SectionalMotif for Validation 3\n",
      "16 - SectionalMotif with avg smape 184.75: \n",
      "Model Number: 17 of 53 with model SectionalMotif for Validation 3\n",
      "17 - SectionalMotif with avg smape nan: \n",
      "Model Number: 18 of 53 with model SectionalMotif for Validation 3\n",
      "18 - SectionalMotif with avg smape nan: \n",
      "Model Number: 19 of 53 with model AverageValueNaive for Validation 3\n",
      "19 - AverageValueNaive with avg smape nan: \n",
      "Model Number: 20 of 53 with model AverageValueNaive for Validation 3\n",
      "20 - AverageValueNaive with avg smape nan: \n",
      "Model Number: 21 of 53 with model AverageValueNaive for Validation 3\n",
      "21 - AverageValueNaive with avg smape nan: \n",
      "Model Number: 22 of 53 with model AverageValueNaive for Validation 3\n",
      "22 - AverageValueNaive with avg smape nan: \n",
      "Model Number: 23 of 53 with model AverageValueNaive for Validation 3\n",
      "23 - AverageValueNaive with avg smape nan: \n",
      "Model Number: 24 of 53 with model GLS for Validation 3\n",
      "24 - GLS with avg smape nan: \n",
      "Model Number: 25 of 53 with model AverageValueNaive for Validation 3\n",
      "25 - AverageValueNaive with avg smape nan: \n",
      "Model Number: 26 of 53 with model AverageValueNaive for Validation 3\n",
      "26 - AverageValueNaive with avg smape nan: \n",
      "Model Number: 27 of 53 with model SeasonalNaive for Validation 3\n",
      "27 - SeasonalNaive with avg smape nan: \n",
      "Model Number: 28 of 53 with model GLS for Validation 3\n",
      "28 - GLS with avg smape nan: \n",
      "Model Number: 29 of 53 with model GLS for Validation 3\n",
      "29 - GLS with avg smape nan: \n",
      "Model Number: 30 of 53 with model LastValueNaive for Validation 3\n",
      "30 - LastValueNaive with avg smape nan: \n",
      "Model Number: 31 of 53 with model LastValueNaive for Validation 3\n",
      "31 - LastValueNaive with avg smape nan: \n",
      "Model Number: 32 of 53 with model LastValueNaive for Validation 3\n",
      "32 - LastValueNaive with avg smape nan: \n",
      "Model Number: 33 of 53 with model LastValueNaive for Validation 3\n",
      "33 - LastValueNaive with avg smape nan: \n",
      "Model Number: 34 of 53 with model LastValueNaive for Validation 3\n",
      "34 - LastValueNaive with avg smape nan: \n",
      "Model Number: 35 of 53 with model LastValueNaive for Validation 3\n",
      "35 - LastValueNaive with avg smape nan: \n",
      "Model Number: 36 of 53 with model LastValueNaive for Validation 3\n",
      "36 - LastValueNaive with avg smape nan: \n",
      "Model Number: 37 of 53 with model LastValueNaive for Validation 3\n",
      "37 - LastValueNaive with avg smape nan: \n",
      "Model Number: 38 of 53 with model LastValueNaive for Validation 3\n",
      "38 - LastValueNaive with avg smape nan: \n",
      "Model Number: 39 of 53 with model SeasonalNaive for Validation 3\n",
      "39 - SeasonalNaive with avg smape nan: \n",
      "Model Number: 40 of 53 with model SeasonalNaive for Validation 3\n",
      "40 - SeasonalNaive with avg smape nan: \n",
      "Model Number: 41 of 53 with model SeasonalNaive for Validation 3\n",
      "41 - SeasonalNaive with avg smape nan: \n",
      "Model Number: 42 of 53 with model SeasonalNaive for Validation 3\n",
      "42 - SeasonalNaive with avg smape nan: \n",
      "Model Number: 43 of 53 with model SeasonalNaive for Validation 3\n",
      "43 - SeasonalNaive with avg smape nan: \n",
      "Model Number: 44 of 53 with model GLS for Validation 3\n",
      "44 - GLS with avg smape nan: \n",
      "Model Number: 45 of 53 with model GLS for Validation 3\n",
      "45 - GLS with avg smape nan: \n",
      "Model Number: 46 of 53 with model SeasonalNaive for Validation 3\n",
      "46 - SeasonalNaive with avg smape nan: \n",
      "Model Number: 47 of 53 with model GLS for Validation 3\n",
      "47 - GLS with avg smape nan: \n",
      "Model Number: 48 of 53 with model SeasonalNaive for Validation 3\n",
      "48 - SeasonalNaive with avg smape nan: \n",
      "Model Number: 49 of 53 with model SeasonalNaive for Validation 3\n",
      "49 - SeasonalNaive with avg smape nan: \n",
      "Model Number: 50 of 53 with model AverageValueNaive for Validation 3\n",
      "50 - AverageValueNaive with avg smape nan: \n",
      "Model Number: 51 of 53 with model GLS for Validation 3\n",
      "51 - GLS with avg smape nan: \n",
      "Model Number: 52 of 53 with model GLS for Validation 3\n",
      "52 - GLS with avg smape nan: \n",
      "Model Number: 53 of 53 with model AverageValueNaive for Validation 3\n",
      "53 - AverageValueNaive with avg smape nan: \n"
     ]
    },
    {
     "name": "stderr",
     "output_type": "stream",
     "text": [
      "c:\\Users\\carre\\AppData\\Local\\Programs\\Python\\Python312\\Lib\\site-packages\\autots\\evaluator\\auto_model.py:2462: FutureWarning: Downcasting behavior in `replace` is deprecated and will be removed in a future version. To retain the old behavior, explicitly call `result.infer_objects(copy=False)`. To opt-in to the future behavior, set `pd.set_option('future.no_silent_downcasting', True)`\n",
      "  validation_results.model_results = validation_results.model_results.replace(\n",
      "c:\\Users\\carre\\AppData\\Local\\Programs\\Python\\Python312\\Lib\\site-packages\\autots\\evaluator\\auto_model.py:2462: FutureWarning: Downcasting behavior in `replace` is deprecated and will be removed in a future version. To retain the old behavior, explicitly call `result.infer_objects(copy=False)`. To opt-in to the future behavior, set `pd.set_option('future.no_silent_downcasting', True)`\n",
      "  validation_results.model_results = validation_results.model_results.replace(\n"
     ]
    }
   ],
   "source": [
    "results_train_test = []\n",
    "predictions_test = []\n",
    "for i, df in enumerate(dataframes_train):\n",
    "    df_train = df\n",
    "    df_test = dataframes_test[i]\n",
    "    \n",
    "    model = AutoTS(\n",
    "        forecast_length=len(dataframes_test[i]),\n",
    "        frequency=\"B\",\n",
    "        prediction_interval=0.95,\n",
    "        ensemble=None,\n",
    "        models_mode='deep',\n",
    "        model_list = 'superfast',\n",
    "        max_generations=10,   # intenta optimizar el modelo a traves de 10 iteraciones de ajuste.\n",
    "        num_validations=3,\n",
    "        no_negatives=True,\n",
    "        n_jobs='auto')\n",
    "    modelAutoTS = model.fit(df_train)\n",
    "    # Find the best parameters\n",
    "    \n",
    "    fechas = pd.date_range(start=df_test.index.min(), end=df_test.index.max(), freq='B')\n",
    "    pred_test = model.predict(forecast_length=len(fechas)).forecast\n",
    "    predictions_test.append(pred_test)\n",
    "    # Cálculo del MSE en el conjunto de prueba\n",
    "    mape_test = mean_absolute_percentage_error(df_test, pred_test)\n",
    "    mape_mean = mean_absolute_percentage_error(df_test, [df_test.mean()] * len(df_test))\n",
    "    mse_test = mean_absolute_percentage_error(df_test, pred_test)\n",
    "    mae_test = mean_absolute_error(df_test, pred_test)\n",
    "    rmse = np.sqrt(mean_squared_error(df_test, pred_test))\n",
    "    results_train_test.append({\n",
    "        \"model\": modelAutoTS,\n",
    "        \"name\": df_train.name,\n",
    "        \"len_train\": len(df_train),\n",
    "        \"len_test\": len(df_test),\n",
    "        \"mape_test\": mape_test,\n",
    "        \"mse_test\":mse_test,\n",
    "        \"mape_mean\": mape_mean,\n",
    "        \"mae_test\": mae_test,\n",
    "        \"rmse\": rmse\n",
    "    })\n",
    "\n"
   ]
  },
  {
   "cell_type": "code",
   "execution_count": 5,
   "metadata": {},
   "outputs": [
    {
     "data": {
      "text/html": [
       "<div>\n",
       "<style scoped>\n",
       "    .dataframe tbody tr th:only-of-type {\n",
       "        vertical-align: middle;\n",
       "    }\n",
       "\n",
       "    .dataframe tbody tr th {\n",
       "        vertical-align: top;\n",
       "    }\n",
       "\n",
       "    .dataframe thead th {\n",
       "        text-align: right;\n",
       "    }\n",
       "</style>\n",
       "<table border=\"1\" class=\"dataframe\">\n",
       "  <thead>\n",
       "    <tr style=\"text-align: right;\">\n",
       "      <th></th>\n",
       "      <th>model</th>\n",
       "      <th>name</th>\n",
       "      <th>len_train</th>\n",
       "      <th>len_test</th>\n",
       "      <th>mape_test</th>\n",
       "      <th>mse_test</th>\n",
       "      <th>mape_mean</th>\n",
       "      <th>mae_test</th>\n",
       "      <th>rmse</th>\n",
       "    </tr>\n",
       "  </thead>\n",
       "  <tbody>\n",
       "    <tr>\n",
       "      <th>0</th>\n",
       "      <td>Initiated AutoTS object with best model: \\nSec...</td>\n",
       "      <td>CHU_COPA_AJUST</td>\n",
       "      <td>1584</td>\n",
       "      <td>176</td>\n",
       "      <td>929,537,275,196,434,153,472.00</td>\n",
       "      <td>929,537,275,196,434,153,472.00</td>\n",
       "      <td>758,549,686,672,395,206,656.00</td>\n",
       "      <td>1,362,336.54</td>\n",
       "      <td>2,034,437.83</td>\n",
       "    </tr>\n",
       "    <tr>\n",
       "      <th>1</th>\n",
       "      <td>Initiated AutoTS object with best model: \\nGLS...</td>\n",
       "      <td>CHU_REC_PROPIOS_AJUST</td>\n",
       "      <td>1995</td>\n",
       "      <td>222</td>\n",
       "      <td>476,620,172,305,521,311,744.00</td>\n",
       "      <td>476,620,172,305,521,311,744.00</td>\n",
       "      <td>584,990,421,138,727,370,752.00</td>\n",
       "      <td>1,165,779.05</td>\n",
       "      <td>1,503,377.11</td>\n",
       "    </tr>\n",
       "    <tr>\n",
       "      <th>2</th>\n",
       "      <td>Initiated AutoTS object with best model: \\nSea...</td>\n",
       "      <td>CHU_REGALIAS_AJUST</td>\n",
       "      <td>1985</td>\n",
       "      <td>221</td>\n",
       "      <td>2,174,434,595,027,651,395,584.00</td>\n",
       "      <td>2,174,434,595,027,651,395,584.00</td>\n",
       "      <td>5,891,392,032,994,430,550,016.00</td>\n",
       "      <td>2,100,315.90</td>\n",
       "      <td>6,109,901.51</td>\n",
       "    </tr>\n",
       "  </tbody>\n",
       "</table>\n",
       "</div>"
      ],
      "text/plain": [
       "                                               model                   name  \\\n",
       "0  Initiated AutoTS object with best model: \\nSec...         CHU_COPA_AJUST   \n",
       "1  Initiated AutoTS object with best model: \\nGLS...  CHU_REC_PROPIOS_AJUST   \n",
       "2  Initiated AutoTS object with best model: \\nSea...     CHU_REGALIAS_AJUST   \n",
       "\n",
       "   len_train  len_test                        mape_test  \\\n",
       "0       1584       176   929,537,275,196,434,153,472.00   \n",
       "1       1995       222   476,620,172,305,521,311,744.00   \n",
       "2       1985       221 2,174,434,595,027,651,395,584.00   \n",
       "\n",
       "                          mse_test                        mape_mean  \\\n",
       "0   929,537,275,196,434,153,472.00   758,549,686,672,395,206,656.00   \n",
       "1   476,620,172,305,521,311,744.00   584,990,421,138,727,370,752.00   \n",
       "2 2,174,434,595,027,651,395,584.00 5,891,392,032,994,430,550,016.00   \n",
       "\n",
       "      mae_test         rmse  \n",
       "0 1,362,336.54 2,034,437.83  \n",
       "1 1,165,779.05 1,503,377.11  \n",
       "2 2,100,315.90 6,109,901.51  "
      ]
     },
     "metadata": {},
     "output_type": "display_data"
    },
    {
     "data": {
      "image/png": "[encoded data removed]",
      "text/plain": [
       "<Figure size 2000x600 with 3 Axes>"
      ]
     },
     "metadata": {},
     "output_type": "display_data"
    },
    {
     "data": {
      "text/plain": [
       "None"
      ]
     },
     "metadata": {},
     "output_type": "display_data"
    }
   ],
   "source": [
    "pd.options.display.float_format = '{:,.2f}'.format\n",
    "display(pd.DataFrame(results_train_test))\n",
    "\n",
    "display(funciones.plot_train_test_predictions(\n",
    "    dataframes_train=dataframes_train,\n",
    "    dataframes_test=dataframes_test,\n",
    "    predictions_test=predictions_test,\n",
    "    series_names=titulos,\n",
    "    start_date='2023-10-01'\n",
    "))"
   ]
  },
  {
   "cell_type": "code",
   "execution_count": 14,
   "metadata": {},
   "outputs": [
    {
     "data": {
      "text/plain": [
       "'CHU_COPA_AJUST'"
      ]
     },
     "metadata": {},
     "output_type": "display_data"
    },
    {
     "name": "stdout",
     "output_type": "stream",
     "text": [
      "Initiated AutoTS object with best model: \n",
      "SectionalMotif\n",
      "{'fillna': 'linear', 'transformations': {'0': 'SeasonalDifference', '1': 'CenterSplit', '2': 'Detrend', '3': 'AlignLastValue'}, 'transformation_params': {'0': {'lag_1': 28, 'method': 'Median'}, '1': {'fillna': 'one', 'center': 'zero'}, '2': {'model': 'GLS', 'phi': 1, 'window': None, 'transform_dict': None}, '3': {'rows': 1, 'lag': 7, 'method': 'additive', 'strength': 1.0, 'first_value_only': False, 'threshold': None, 'threshold_method': 'mean'}}}\n",
      "{'window': 50, 'point_method': 'mean', 'distance_metric': 'minkowski', 'include_differenced': True, 'k': 20, 'stride_size': 1, 'regression_type': None}\n",
      "Validation: 0, 1, 2, 3\n",
      "SMAPE: nan, 60.20765790477592, nan, nan\n",
      "MAE: 1847405.690919374, 1366103.4608636051, 1906272.9332919044, 1470428.7738451858\n",
      "SPL: 0.36143052000473025, 0.24805101396719537, 0.4950561302157644, 0.4350852547129367\n"
     ]
    },
    {
     "data": {
      "text/plain": [
       "'CHU_REC_PROPIOS_AJUST'"
      ]
     },
     "metadata": {},
     "output_type": "display_data"
    },
    {
     "name": "stdout",
     "output_type": "stream",
     "text": [
      "Initiated AutoTS object with best model: \n",
      "GLS\n",
      "{'fillna': 'ffill', 'transformations': {'0': 'DatepartRegression', '1': 'HistoricValues', '2': 'SeasonalDifference'}, 'transformation_params': {'0': {'regression_model': {'model': 'ElasticNet', 'model_params': {'l1_ratio': 0.1, 'fit_intercept': True, 'selection': 'cyclic'}}, 'datepart_method': 'simple_2', 'polynomial_degree': 2, 'transform_dict': {'fillna': None, 'transformations': {'0': 'ClipOutliers'}, 'transformation_params': {'0': {'method': 'clip', 'std_threshold': 4}}}, 'holiday_countries_used': False, 'lags': None, 'forward_lags': None}, '1': {'window': 730}, '2': {'lag_1': 24, 'method': 2}}}\n",
      "{}\n",
      "Validation: 0, 1, 2, 3\n",
      "SMAPE: nan, nan, nan, nan\n",
      "MAE: 1226828.4737256807, 958627.634529741, 872269.9874219908, 777486.4746628217\n",
      "SPL: 0.2207936109057398, 0.20243127261189903, 0.1972549963009233, 0.17844552344385997\n"
     ]
    },
    {
     "data": {
      "text/plain": [
       "'CHU_REGALIAS_AJUST'"
      ]
     },
     "metadata": {},
     "output_type": "display_data"
    },
    {
     "name": "stdout",
     "output_type": "stream",
     "text": [
      "Initiated AutoTS object with best model: \n",
      "SeasonalityMotif\n",
      "{'fillna': 'pchip', 'transformations': {'0': 'PositiveShift', '1': 'HistoricValues'}, 'transformation_params': {'0': {}, '1': {'window': None}}}\n",
      "{'window': 10, 'point_method': 'midhinge', 'distance_metric': 'minkowski', 'k': 10, 'datepart_method': 'recurring', 'independent': True}\n",
      "Validation: 0, 1, 2, 3\n",
      "SMAPE: nan, nan, nan, nan\n",
      "MAE: 1399081.8144796381, 1430369.8235294118, 1441480.6425339365, 1386704.180995475\n",
      "SPL: 0.13252659123779703, 0.11893795878406024, 0.09366669094475673, 0.20322019724881865\n"
     ]
    }
   ],
   "source": [
    "results = pd.DataFrame(results_train_test)\n",
    "\n",
    "for i, row in results.iterrows():\n",
    "    display(row[\"name\"])\n",
    "    print(row.model)"
   ]
  },
  {
   "cell_type": "code",
   "execution_count": null,
   "metadata": {},
   "outputs": [],
   "source": []
  }
 ],
 "metadata": {
  "kernelspec": {
   "display_name": "Python 3",
   "language": "python",
   "name": "python3"
  },
  "language_info": {
   "codemirror_mode": {
    "name": "ipython",
    "version": 3
   },
   "file_extension": ".py",
   "mimetype": "text/x-python",
   "name": "python",
   "nbconvert_exporter": "python",
   "pygments_lexer": "ipython3",
   "version": "3.12.6"
  }
 },
 "nbformat": 4,
 "nbformat_minor": 2
}
