{
  "nbformat": 4,
  "nbformat_minor": 0,
  "metadata": {
    "colab": {
      "provenance": [],
      "toc_visible": true
    },
    "kernelspec": {
      "name": "python3",
      "display_name": "Python 3"
    },
    "language_info": {
      "name": "python"
    }
  },
  "cells": [
    {
      "cell_type": "markdown",
      "source": [
        "<div class=\"alert alert-block alert-info\">\n",
        "    <h1>Análisis de Series Temporales - 2023</h1>\n",
        "    <h3>Clase 4</h3>\n",
        "    <h5>Ejercitacion asincronica</h5>\n",
        "        <p>Docente: Rodrigo Del Rosso<p>\n",
        "        <p>Asistentes: Sebastián Calcagno y Braian Drago <p>\n",
        "</div>"
      ],
      "metadata": {
        "id": "KEAUugDV25y8"
      }
    },
    {
      "cell_type": "markdown",
      "source": [
        "*La actividad de hoy se divide en dos secciones distintas. La primera sección consta de varias preguntas que deben responderse. En la segunda sección, encontrará dos ejercicios específicos que servirán como base para futuras aplicaciones. Es importante destacar que en la segunda sección existe un ejercicio opcional.*\n",
        "\n",
        "\n",
        "*Recuerdo que la bibliografia consta de los siguientese autores =*\n",
        "*1- Enders. Applied Econometric Time Series. Fourth Edition. Wiley Series.*\n",
        "*2- Hyndman. Forecasting: Principles and Practice. Second Edition. Monash*\n",
        "*University, Australia.*\n",
        "*3- Uriel. Análisis de Series Temporales.*\n",
        "*4- Peña. Análisis de Series Temporales. Alianza Editorial.*"
      ],
      "metadata": {
        "id": "Um_aVkfLFZDo"
      }
    },
    {
      "cell_type": "markdown",
      "source": [
        "# # Primera Seccion - Conteste las siguientes preguntas"
      ],
      "metadata": {
        "id": "svaOUE8TFjgP"
      }
    },
    {
      "cell_type": "markdown",
      "source": [
        "- Pregunta 1 = ¿Qué es la estacionariedad en una serie temporal y por qué es importante en el análisis de datos temporales?"
      ],
      "metadata": {
        "id": "McW6lI7uFnfT"
      }
    },
    {
      "cell_type": "code",
      "execution_count": null,
      "metadata": {
        "id": "aRAEr6-w20hJ"
      },
      "outputs": [],
      "source": [
        "''' ESCRIBA AQUI SU RESPUESTA 1=\n",
        "\n",
        "\n",
        "\n",
        "\n",
        "\n",
        "\n",
        "\n",
        "\n",
        "\n",
        "\n",
        "\n",
        "\n",
        "\n",
        "'''"
      ]
    },
    {
      "cell_type": "markdown",
      "source": [
        "- Pregunta 2 = ¿Cómo funciona el test de Dickey-Fuller y cuál es su objetivo principal en el análisis de series temporales?"
      ],
      "metadata": {
        "id": "macQqHOLF5BN"
      }
    },
    {
      "cell_type": "code",
      "source": [
        "''' ESCRIBA AQUI SU RESPUESTA 2=\n",
        "\n",
        "\n",
        "\n",
        "\n",
        "\n",
        "\n",
        "\n",
        "\n",
        "\n",
        "\n",
        "\n",
        "\n",
        "\n",
        "'''"
      ],
      "metadata": {
        "id": "w-bki4PVF9ev"
      },
      "execution_count": null,
      "outputs": []
    },
    {
      "cell_type": "markdown",
      "source": [
        "# Segunda Seccion - Ejercicio teorico-practico. <br>\n",
        "Tema = Raices unitarias - Test de estacionariedad"
      ],
      "metadata": {
        "id": "0M0-bicFGBrR"
      }
    },
    {
      "cell_type": "code",
      "source": [
        "# Importe la serie temporal de su elección y realice una prueba de raíz unitaria en la serie original. Posteriormente, proporcione una interpretación de los resultados obtenidos.\n",
        "# Completar con codigo a continuacion =\n",
        "\n",
        "\n",
        "\n",
        "\n",
        "\n",
        "\n",
        "\n",
        "\n",
        "\n",
        "\n",
        "\n",
        "\n",
        "\n",
        "\n"
      ],
      "metadata": {
        "id": "SmbJ_73xG0rt"
      },
      "execution_count": null,
      "outputs": []
    },
    {
      "cell_type": "markdown",
      "source": [
        "Ejercicio opcional 1="
      ],
      "metadata": {
        "id": "_jl_GAGxHO34"
      }
    },
    {
      "cell_type": "code",
      "source": [
        "# En caso de que su serie no presente estacionariedad, le recomiendo aplicar una transformación apropiada y luego realizar un nuevo análisis de la serie transformada.\n",
        "# Una vez completado este proceso, asegúrese de aplicar la inversa de la transformación seleccionada para restaurar la serie a su forma original.\n",
        "# Completar con codigo a continuacion =\n",
        "\n",
        "\n",
        "\n",
        "\n",
        "\n",
        "\n"
      ],
      "metadata": {
        "id": "GqVaM6xXHQUP"
      },
      "execution_count": null,
      "outputs": []
    },
    {
      "cell_type": "markdown",
      "source": [
        "Ejercicio opcional 2="
      ],
      "metadata": {
        "id": "yxNC7IO0fT9O"
      }
    },
    {
      "cell_type": "code",
      "source": [
        "# Simulo datos =\n",
        "\n",
        "import numpy as np\n",
        "import pandas as pd\n",
        "import matplotlib.pyplot as plt\n",
        "from statsmodels.tsa.api import VAR\n",
        "\n",
        "np.random.seed(42)\n",
        "n = 200\n",
        "\n",
        "x1 = np.cumsum(np.random.normal(0, 1, n))\n",
        "x2 = 0.5 * x1 + np.random.normal(0, 1, n)\n",
        "\n",
        "data = pd.DataFrame({'Product_A': x1, 'Product_B': x2})\n"
      ],
      "metadata": {
        "id": "82Mn9cI2d9eb"
      },
      "execution_count": null,
      "outputs": []
    },
    {
      "cell_type": "markdown",
      "source": [
        "Divido en Entrenamiento y testeo"
      ],
      "metadata": {
        "id": "lfIp9tOWffWG"
      }
    },
    {
      "cell_type": "code",
      "source": [
        "train_size = int(0.8 * len(data))\n",
        "train, test = data[:train_size], data[train_size:]"
      ],
      "metadata": {
        "id": "0tLHbCrnfd7-"
      },
      "execution_count": null,
      "outputs": []
    },
    {
      "cell_type": "markdown",
      "source": [
        "Corro el test de causalidad de Granger"
      ],
      "metadata": {
        "id": "4EktQe22fqzC"
      }
    },
    {
      "cell_type": "code",
      "source": [
        "from statsmodels.tsa.stattools import grangercausalitytests"
      ],
      "metadata": {
        "id": "b3jMhy_2exta"
      },
      "execution_count": null,
      "outputs": []
    },
    {
      "cell_type": "code",
      "source": [
        "def grangers_causation_matrix(data, variables, maxlag, testgr='ssr_chi2test', verbose=False):\n",
        "\n",
        "\n",
        "    df = pd.DataFrame(np.zeros((len(variables), len(variables))), columns=variables, index=variables)\n",
        "    for c in df.columns:\n",
        "        for r in df.index:\n",
        "            test_result = grangercausalitytests(data[[r, c]], maxlag=maxlag, verbose=False)\n",
        "            p_values = [(test_result[i+1][0][testgr][1],4) for i in range(maxlag)]\n",
        "            if verbose: print(f'Y = {r}, X = {c}, P Values = {p_values}')\n",
        "            min_p_value = np.min(p_values)\n",
        "            df.loc[r, c] = min_p_value\n",
        "    df.columns = [var + '_x' for var in variables]\n",
        "    df.index = [var + '_y' for var in variables]\n",
        "    return df"
      ],
      "metadata": {
        "id": "NE_Rt-gheZWK"
      },
      "execution_count": null,
      "outputs": []
    },
    {
      "cell_type": "code",
      "source": [
        "testgr = 'ssr_chi2test'\n",
        "grangers_causation_matrix(train, variables = train.columns, maxlag=20)"
      ],
      "metadata": {
        "id": "0pd4WerteeCh"
      },
      "execution_count": null,
      "outputs": []
    },
    {
      "cell_type": "code",
      "source": [
        "# Que significan estos resultados ? ( escriba aqui su respuesta )\n",
        "\n",
        "'''\n",
        "\n",
        "\n",
        "\n",
        "\n",
        "\n",
        "\n",
        "\n",
        "'''"
      ],
      "metadata": {
        "id": "hdulHPo5fuZG"
      },
      "execution_count": null,
      "outputs": []
    },
    {
      "cell_type": "code",
      "source": [
        "# Por ultimo, ¿ cual seria el orden optimo del modelo VAR a ejecutar? ( escriba aqui el codigo )\n",
        "\n",
        "\n",
        "\n",
        "\n",
        "\n",
        "\n",
        "\n",
        "\n",
        "\n"
      ],
      "metadata": {
        "id": "Qt7jAss5f2gH"
      },
      "execution_count": null,
      "outputs": []
    },
    {
      "cell_type": "code",
      "source": [
        "# Escribe aqui comentarios extras\n",
        "'''\n",
        "\n",
        "\n",
        "\n",
        "\n",
        "\n",
        "\n",
        "\n",
        "\n",
        "\n",
        "'''"
      ],
      "metadata": {
        "id": "8kLUZXULgEg2"
      },
      "execution_count": null,
      "outputs": []
    },
    {
      "cell_type": "markdown",
      "source": [
        "Fin del ejercicio Asincronico 4"
      ],
      "metadata": {
        "id": "-BtpI7BWJSfD"
      }
    }
  ]
}