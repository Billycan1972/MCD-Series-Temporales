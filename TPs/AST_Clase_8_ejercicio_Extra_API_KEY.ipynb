{
  "nbformat": 4,
  "nbformat_minor": 0,
  "metadata": {
    "colab": {
      "provenance": []
    },
    "kernelspec": {
      "name": "python3",
      "display_name": "Python 3"
    },
    "language_info": {
      "name": "python"
    }
  },
  "cells": [
    {
      "cell_type": "markdown",
      "source": [
        "<div class=\"alert alert-block alert-info\">\n",
        "    <h1>Análisis de Series Temporales</h1>\n",
        "    <h3>Clase 8</h3>\n",
        "    <h3>EXTRA - Ejercicio - API KEY</h3>\n",
        "        <p>Docente: Rodrigo Del Rosso<p>\n",
        "        <p>Asistentes: Sebastián Calcagno y Braian Drago<p>\n",
        "</div>\n"
      ],
      "metadata": {
        "id": "qjPl3be2tMuh"
      }
    },
    {
      "cell_type": "markdown",
      "source": [
        "[Enlace 1 documentacion general a considerar](https://docs.nixtla.io/)\n",
        "\n",
        "[Enlace 2 documentacion particular a considerar](https://docs.nixtla.io/docs/getting-started-setting_up_your_api_key)\n",
        "\n"
      ],
      "metadata": {
        "id": "i0cSw9IMB8zH"
      }
    },
    {
      "cell_type": "markdown",
      "source": [
        "Pasos para obtener la API KEY =\n",
        "\n",
        "## Paso 1: Crear una cuenta en TimeGPT y generar la API key\n",
        "\n",
        "* Ir a [dashboard.nixtla.io](https://dashboard.nixtla.io/sign_in)\n",
        "* Loguearse con Google, GitHub\n",
        "* Crear tu API key yendo a 'API Keys' en el menu y haciendo click en 'Create New API Key'\n",
        "* Tu nueva key aparecera. Copiarla usando el boton de la derecha.\n",
        "\n",
        "<img src=\"https://github.com/Nixtla/nixtla/blob/main/nbs/img/dashboard.png?raw=true\" alt=\"Dashboard for TimeGPT API keys. Keys is in the middle, with trash and copy buttons on the right.\" width=\"700\" />\n",
        "\n",
        "\n",
        "Fuente = https://docs.nixtla.io/docs/getting-started-timegpt_quickstart"
      ],
      "metadata": {
        "id": "ATE4reLXRi2v"
      }
    },
    {
      "cell_type": "markdown",
      "source": [
        "## Paso 2: Instalar la API KEY"
      ],
      "metadata": {
        "id": "whcWYOIVR6JQ"
      }
    },
    {
      "cell_type": "code",
      "source": [
        "!pip install nixtla"
      ],
      "metadata": {
        "id": "IE_3JPvESIW5",
        "colab": {
          "base_uri": "https://localhost:8080/"
        },
        "outputId": "dbb9123d-61b0-4bbf-de64-c77772f8a01c"
      },
      "execution_count": null,
      "outputs": [
        {
          "output_type": "stream",
          "name": "stdout",
          "text": [
            "Collecting nixtla\n",
            "  Downloading nixtla-0.6.3-py3-none-any.whl.metadata (14 kB)\n",
            "Requirement already satisfied: annotated-types in /usr/local/lib/python3.10/dist-packages (from nixtla) (0.7.0)\n",
            "Requirement already satisfied: httpx in /usr/local/lib/python3.10/dist-packages (from nixtla) (0.27.2)\n",
            "Requirement already satisfied: orjson in /usr/local/lib/python3.10/dist-packages (from nixtla) (3.10.11)\n",
            "Requirement already satisfied: pandas in /usr/local/lib/python3.10/dist-packages (from nixtla) (2.2.2)\n",
            "Requirement already satisfied: tenacity in /usr/local/lib/python3.10/dist-packages (from nixtla) (9.0.0)\n",
            "Requirement already satisfied: tqdm in /usr/local/lib/python3.10/dist-packages (from nixtla) (4.66.6)\n",
            "Collecting utilsforecast>=0.2.7 (from nixtla)\n",
            "  Downloading utilsforecast-0.2.8-py3-none-any.whl.metadata (7.4 kB)\n",
            "Requirement already satisfied: numpy in /usr/local/lib/python3.10/dist-packages (from utilsforecast>=0.2.7->nixtla) (1.26.4)\n",
            "Requirement already satisfied: packaging in /usr/local/lib/python3.10/dist-packages (from utilsforecast>=0.2.7->nixtla) (24.2)\n",
            "Requirement already satisfied: python-dateutil>=2.8.2 in /usr/local/lib/python3.10/dist-packages (from pandas->nixtla) (2.8.2)\n",
            "Requirement already satisfied: pytz>=2020.1 in /usr/local/lib/python3.10/dist-packages (from pandas->nixtla) (2024.2)\n",
            "Requirement already satisfied: tzdata>=2022.7 in /usr/local/lib/python3.10/dist-packages (from pandas->nixtla) (2024.2)\n",
            "Requirement already satisfied: anyio in /usr/local/lib/python3.10/dist-packages (from httpx->nixtla) (3.7.1)\n",
            "Requirement already satisfied: certifi in /usr/local/lib/python3.10/dist-packages (from httpx->nixtla) (2024.8.30)\n",
            "Requirement already satisfied: httpcore==1.* in /usr/local/lib/python3.10/dist-packages (from httpx->nixtla) (1.0.6)\n",
            "Requirement already satisfied: idna in /usr/local/lib/python3.10/dist-packages (from httpx->nixtla) (3.10)\n",
            "Requirement already satisfied: sniffio in /usr/local/lib/python3.10/dist-packages (from httpx->nixtla) (1.3.1)\n",
            "Requirement already satisfied: h11<0.15,>=0.13 in /usr/local/lib/python3.10/dist-packages (from httpcore==1.*->httpx->nixtla) (0.14.0)\n",
            "Requirement already satisfied: six>=1.5 in /usr/local/lib/python3.10/dist-packages (from python-dateutil>=2.8.2->pandas->nixtla) (1.16.0)\n",
            "Requirement already satisfied: exceptiongroup in /usr/local/lib/python3.10/dist-packages (from anyio->httpx->nixtla) (1.2.2)\n",
            "Downloading nixtla-0.6.3-py3-none-any.whl (29 kB)\n",
            "Downloading utilsforecast-0.2.8-py3-none-any.whl (41 kB)\n",
            "\u001b[2K   \u001b[90m━━━━━━━━━━━━━━━━━━━━━━━━━━━━━━━━━━━━━━━━\u001b[0m \u001b[32m41.4/41.4 kB\u001b[0m \u001b[31m1.8 MB/s\u001b[0m eta \u001b[36m0:00:00\u001b[0m\n",
            "\u001b[?25hInstalling collected packages: utilsforecast, nixtla\n",
            "Successfully installed nixtla-0.6.3 utilsforecast-0.2.8\n"
          ]
        }
      ]
    },
    {
      "cell_type": "code",
      "source": [
        "from nixtla import NixtlaClient"
      ],
      "metadata": {
        "id": "xqaTfA-hSMOm"
      },
      "execution_count": null,
      "outputs": []
    },
    {
      "cell_type": "code",
      "source": [
        "nixtla_client = NixtlaClient(\n",
        "    api_key = 'nixak-h8iV80neQevJ6Zea6Vvw5QtyhIK6ADThKjuvDgp8jVZJiqlnO8C9PyKydKrMxRokzGynSddzUG30T4rc'\n",
        ")"
      ],
      "metadata": {
        "id": "3jCwR2f3N698"
      },
      "execution_count": null,
      "outputs": []
    },
    {
      "cell_type": "markdown",
      "source": [
        "## Paso 3:\n",
        "\n",
        "Validar la API key"
      ],
      "metadata": {
        "id": "wurt4rLPsI2S"
      }
    },
    {
      "cell_type": "code",
      "source": [
        "#  Este método devolverá Verdadero si la clave API es válida y Falso en caso contrario.\n",
        "\n",
        "nixtla_client.validate_api_key()\n",
        "\n",
        "\n",
        "\n",
        "# Para tener acceso completo a las funcionalidades de TimeGPT, además de una clave API válida, también necesita créditos suficientes en su cuenta.\n",
        "# Puede consultar sus créditos y funcionalidades disponibles en la sección Uso de su panel de control.\n"
      ],
      "metadata": {
        "colab": {
          "base_uri": "https://localhost:8080/"
        },
        "id": "7tROcOANAnig",
        "outputId": "8f67f04f-06bf-46b6-eb86-e81c93d74e74"
      },
      "execution_count": null,
      "outputs": [
        {
          "output_type": "execute_result",
          "data": {
            "text/plain": [
              "True"
            ]
          },
          "metadata": {},
          "execution_count": 11
        }
      ]
    },
    {
      "cell_type": "markdown",
      "source": [
        "https://docs.nixtla.io/docs/capabilities-anomaly-detection-quickstart"
      ],
      "metadata": {
        "id": "iN4X3spNBOAV"
      }
    }
  ]
}