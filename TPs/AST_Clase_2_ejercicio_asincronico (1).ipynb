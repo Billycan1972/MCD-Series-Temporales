{
  "nbformat": 4,
  "nbformat_minor": 0,
  "metadata": {
    "colab": {
      "provenance": []
    },
    "kernelspec": {
      "name": "python3",
      "display_name": "Python 3"
    },
    "language_info": {
      "name": "python"
    }
  },
  "cells": [
    {
      "cell_type": "markdown",
      "source": [
        "<div class=\"alert alert-block alert-info\">\n",
        "    <h1>Análisis de Series Temporales - 2024</h1>\n",
        "    <h3>Clase 2</h3>\n",
        "    <h5>Ejercitacion asincronica</h5>\n",
        "        <p>Docente: Rodrigo Del Rosso<p>\n",
        "        <p>Asistente: Sebastián Calcagno y Braian Drago<p>\n",
        "</div>"
      ],
      "metadata": {
        "id": "xpkzE8M4twBd"
      }
    },
    {
      "cell_type": "markdown",
      "source": [
        " <h1>Esta actividad asincrónica se segmentará en dos partes. La primera implicará la interpretación de gráficos de autocorrelación, mientras que en la segunda abordaremos un ejemplo seleccionado por usted, en el cual trabajarán con algunos enunciados.</h1>"
      ],
      "metadata": {
        "id": "yV7u6FGCprpe"
      }
    },
    {
      "cell_type": "code",
      "source": [
        "# IMPORTAR\n",
        "import numpy as np\n",
        "import pandas as pd\n",
        "import matplotlib.pyplot as plt\n",
        "from statsmodels.tsa.stattools import acf\n",
        "from statsmodels.tsa.stattools import adfuller"
      ],
      "metadata": {
        "id": "sw8p7DoAzWIX"
      },
      "execution_count": null,
      "outputs": []
    },
    {
      "cell_type": "markdown",
      "source": [
        " <h2> PRIMERA PARTE</h2>"
      ],
      "metadata": {
        "id": "aLB2Bpm9yCw5"
      }
    },
    {
      "cell_type": "markdown",
      "source": [
        "<li type=\"square\">Primera parte - ej - 1) Ejecutar los dos códigos a continuación y luego determinar en cada caso, en base a la grafica de autocorrelación, si las series son o no estacionarias. ( RECORDANDO QUE: En este ejercicio sera \"unicamente\" la interpretacion mediante graficos, pero completo y que se abordara en la proxima clase es confirmar mediante tests las interpretaciones graficas. )</li>"
      ],
      "metadata": {
        "id": "BQ5sPQoryHrf"
      }
    },
    {
      "cell_type": "markdown",
      "source": [
        " <h3> CODIGO 1 </h3>"
      ],
      "metadata": {
        "id": "a0HRexqTymGM"
      }
    },
    {
      "cell_type": "code",
      "source": [
        "# CORRER EL CODIGO\n",
        "\n",
        "# Simulacion de serie 1\n",
        "np.random.seed(0)\n",
        "tiempo = np.arange(0, 100)\n",
        "estacionalidad = 10 * np.sin(2 * np.pi * tiempo / 12)\n",
        "data_codigo_1 = 2 * tiempo + estacionalidad + np.random.randn(100) * 5\n",
        "\n",
        "# Calculo de la función de autocorrelación\n",
        "lags_maximos = 20\n",
        "autocorr = acf(data_codigo_1, nlags=lags_maximos)\n",
        "\n",
        "# Graficar de la función de autocorrelación\n",
        "plt.bar(range(lags_maximos+1), autocorr)\n",
        "plt.xlabel('Lags')\n",
        "plt.ylabel('Autocorrelacion')\n",
        "plt.title('Funcion de autocorrelacion')\n",
        "plt.show()"
      ],
      "metadata": {
        "id": "fNasdhbbyn1F"
      },
      "execution_count": null,
      "outputs": []
    },
    {
      "cell_type": "code",
      "source": [
        "''' Escribir aqui la respuesta (¿ es o no es estacionaria? - JUSTIFICAR)\n",
        "\n",
        "\n",
        "\n",
        "\n",
        "\n",
        "\n",
        "'''"
      ],
      "metadata": {
        "id": "cZ7aRRZZyumL"
      },
      "execution_count": null,
      "outputs": []
    },
    {
      "cell_type": "markdown",
      "source": [
        " <h3> CODIGO 2 </h3>"
      ],
      "metadata": {
        "id": "OxxNpefq0J2V"
      }
    },
    {
      "cell_type": "code",
      "source": [
        "# CORRER EL CODIGO\n",
        "\n",
        "# Simulacion de serie 2\n",
        "np.random.seed(0)\n",
        "data = np.random.randn(100)\n",
        "\n",
        "# Calculo de la función de autocorrelación\n",
        "autocorr = acf(data, nlags=lags_maximos)\n",
        "\n",
        "# Graficar de la función de autocorrelación\n",
        "plt.bar(range(lags_maximos+1), autocorr)\n",
        "plt.xlabel('Lags')\n",
        "plt.ylabel('Autocorrelacion')\n",
        "plt.title('Funcion de autocorrelacion')\n",
        "plt.show()"
      ],
      "metadata": {
        "id": "cJZrt8lm0Nn1",
        "colab": {
          "base_uri": "https://localhost:8080/",
          "height": 472
        },
        "outputId": "74a433ff-d0cb-4a8f-835b-52a4f86e3ce0"
      },
      "execution_count": null,
      "outputs": [
        {
          "output_type": "display_data",
          "data": {
            "text/plain": [
              "<Figure size 640x480 with 1 Axes>"
            ],
            "image/png": "[encoded data removed]"
          },
          "metadata": {}
        }
      ]
    },
    {
      "cell_type": "code",
      "source": [
        "''' Escribir aqui la respuesta (¿ es o no es estacionaria? - JUSTIFICAR)\n",
        "\n",
        "\n",
        "\n",
        "\n",
        "\n",
        "\n",
        "'''"
      ],
      "metadata": {
        "id": "khNu0kh20N9y"
      },
      "execution_count": null,
      "outputs": []
    },
    {
      "cell_type": "markdown",
      "source": [
        " <h2> SEGUNDA PARTE</h2>\n",
        "\n",
        " Buscar un data set público de interés, descargarlo, importarlo y seguir las consignas."
      ],
      "metadata": {
        "id": "Na3yv5S_03Yc"
      }
    },
    {
      "cell_type": "markdown",
      "source": [
        "<li type=\"square\">1) Leer la base y configurar la/s variables de interes como serie/s de tiempo.</li>"
      ],
      "metadata": {
        "id": "J5Sb0mrduvff"
      }
    },
    {
      "cell_type": "code",
      "execution_count": null,
      "metadata": {
        "id": "qkgd_VzYttUk"
      },
      "outputs": [],
      "source": [
        "# escriba aqui su codigo\n",
        "\n",
        "\n"
      ]
    },
    {
      "cell_type": "markdown",
      "source": [
        "\n",
        "\n",
        "<li type=\"square\">2) Graficar la/s variable/s en el tiempo.</li>"
      ],
      "metadata": {
        "id": "7WJrmchop8sQ"
      }
    },
    {
      "cell_type": "code",
      "source": [
        "# escriba aqui su codigo\n",
        "\n",
        "\n",
        "\n",
        "\n"
      ],
      "metadata": {
        "id": "Ktm1GqEOs1Le"
      },
      "execution_count": null,
      "outputs": []
    },
    {
      "cell_type": "markdown",
      "source": [
        "<li type=\"square\">3) Graficar el Correlograma y analizar su comportamiento.</li>"
      ],
      "metadata": {
        "id": "YQtps4CRs1X5"
      }
    },
    {
      "cell_type": "code",
      "source": [
        "# escriba aqui su codigo\n",
        "\n",
        "\n",
        "\n"
      ],
      "metadata": {
        "id": "U2rHaqx7s14W"
      },
      "execution_count": null,
      "outputs": []
    },
    {
      "cell_type": "code",
      "source": [
        "'''\n",
        "Analize brevemente aqui el comportamiento\n",
        "\n",
        "\n",
        "\n",
        "\n",
        "\n",
        "\n",
        "\n",
        "\n",
        "\n",
        "'''"
      ],
      "metadata": {
        "id": "hEyJGNHJ1UME"
      },
      "execution_count": null,
      "outputs": []
    },
    {
      "cell_type": "markdown",
      "source": [
        "\n",
        "<li type=\"square\">4) Realizar Estadística Descriptiva de la/s variable/s.</li>"
      ],
      "metadata": {
        "id": "jNpTq3E6s2Aa"
      }
    },
    {
      "cell_type": "code",
      "source": [
        "# escriba aqui su codigo\n",
        "\n",
        "\n",
        "\n"
      ],
      "metadata": {
        "id": "U36jcZWCtJr0"
      },
      "execution_count": null,
      "outputs": []
    },
    {
      "cell_type": "code",
      "source": [
        "'''\n",
        "Escriba aqui los analisis\n",
        "\n",
        "\n",
        "\n",
        "\n",
        "\n",
        "\n",
        "\n",
        "'''"
      ],
      "metadata": {
        "id": "qPPkyuGe1Mby"
      },
      "execution_count": null,
      "outputs": []
    },
    {
      "cell_type": "markdown",
      "source": [
        "FIN DEL EJERCICIO - GRACIAS"
      ],
      "metadata": {
        "id": "xZNeu5tr5tGw"
      }
    }
  ]
}